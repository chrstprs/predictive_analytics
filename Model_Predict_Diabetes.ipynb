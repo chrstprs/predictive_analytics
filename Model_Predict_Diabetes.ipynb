{
  "cells": [
    {
      "cell_type": "markdown",
      "metadata": {
        "id": "5L6Ili8oGZ_c"
      },
      "source": [
        "## Import Library"
      ]
    },
    {
      "cell_type": "code",
      "execution_count": null,
      "metadata": {
        "id": "5EcQqsDxGeiv"
      },
      "outputs": [],
      "source": [
        "# Import Library yang akan digunakan\n",
        "import pandas as pd\n",
        "import numpy as np\n",
        "import matplotlib.pyplot as plt\n",
        "import seaborn as sns\n",
        "import os\n",
        "import gdown\n",
        "import plotly.graph_objects as go\n",
        "import plotly.offline as py\n",
        "import joblib\n",
        "from sklearn.feature_selection import RFE\n",
        "from sklearn.ensemble import RandomForestClassifier\n",
        "from sklearn.naive_bayes import GaussianNB\n",
        "from sklearn.tree import DecisionTreeClassifier\n",
        "from sklearn.model_selection import train_test_split, cross_val_score, RepeatedStratifiedKFold, GridSearchCV\n",
        "from sklearn.metrics import classification_report, confusion_matrix, f1_score, precision_score, recall_score, roc_curve, auc"
      ]
    },
    {
      "cell_type": "markdown",
      "metadata": {
        "id": "PZ0uRAfMGrNS"
      },
      "source": [
        "## Pre Processing Data"
      ]
    },
    {
      "cell_type": "markdown",
      "metadata": {
        "id": "nppZ7C77G0Ys"
      },
      "source": [
        "### Gathering Data"
      ]
    },
    {
      "cell_type": "code",
      "execution_count": null,
      "metadata": {
        "colab": {
          "base_uri": "https://localhost:8080/",
          "height": 444
        },
        "id": "UBqKnaAkG-oY",
        "outputId": "44b95cf6-ab2c-47ff-8a51-f0c9db70fc21"
      },
      "outputs": [
        {
          "output_type": "execute_result",
          "data": {
            "text/plain": [
              "     Pregnancies  Glucose  BloodPressure  SkinThickness  Insulin   BMI  \\\n",
              "0              6      148             72             35        0  33.6   \n",
              "1              1       85             66             29        0  26.6   \n",
              "2              8      183             64              0        0  23.3   \n",
              "3              1       89             66             23       94  28.1   \n",
              "4              0      137             40             35      168  43.1   \n",
              "..           ...      ...            ...            ...      ...   ...   \n",
              "763           10      101             76             48      180  32.9   \n",
              "764            2      122             70             27        0  36.8   \n",
              "765            5      121             72             23      112  26.2   \n",
              "766            1      126             60              0        0  30.1   \n",
              "767            1       93             70             31        0  30.4   \n",
              "\n",
              "     DiabetesPedigreeFunction  Age  Outcome  \n",
              "0                       0.627   50        1  \n",
              "1                       0.351   31        0  \n",
              "2                       0.672   32        1  \n",
              "3                       0.167   21        0  \n",
              "4                       2.288   33        1  \n",
              "..                        ...  ...      ...  \n",
              "763                     0.171   63        0  \n",
              "764                     0.340   27        0  \n",
              "765                     0.245   30        0  \n",
              "766                     0.349   47        1  \n",
              "767                     0.315   23        0  \n",
              "\n",
              "[768 rows x 9 columns]"
            ],
            "text/html": [
              "\n",
              "  <div id=\"df-e7bf55ce-3153-4894-95da-03727d5b1cbb\" class=\"colab-df-container\">\n",
              "    <div>\n",
              "<style scoped>\n",
              "    .dataframe tbody tr th:only-of-type {\n",
              "        vertical-align: middle;\n",
              "    }\n",
              "\n",
              "    .dataframe tbody tr th {\n",
              "        vertical-align: top;\n",
              "    }\n",
              "\n",
              "    .dataframe thead th {\n",
              "        text-align: right;\n",
              "    }\n",
              "</style>\n",
              "<table border=\"1\" class=\"dataframe\">\n",
              "  <thead>\n",
              "    <tr style=\"text-align: right;\">\n",
              "      <th></th>\n",
              "      <th>Pregnancies</th>\n",
              "      <th>Glucose</th>\n",
              "      <th>BloodPressure</th>\n",
              "      <th>SkinThickness</th>\n",
              "      <th>Insulin</th>\n",
              "      <th>BMI</th>\n",
              "      <th>DiabetesPedigreeFunction</th>\n",
              "      <th>Age</th>\n",
              "      <th>Outcome</th>\n",
              "    </tr>\n",
              "  </thead>\n",
              "  <tbody>\n",
              "    <tr>\n",
              "      <th>0</th>\n",
              "      <td>6</td>\n",
              "      <td>148</td>\n",
              "      <td>72</td>\n",
              "      <td>35</td>\n",
              "      <td>0</td>\n",
              "      <td>33.6</td>\n",
              "      <td>0.627</td>\n",
              "      <td>50</td>\n",
              "      <td>1</td>\n",
              "    </tr>\n",
              "    <tr>\n",
              "      <th>1</th>\n",
              "      <td>1</td>\n",
              "      <td>85</td>\n",
              "      <td>66</td>\n",
              "      <td>29</td>\n",
              "      <td>0</td>\n",
              "      <td>26.6</td>\n",
              "      <td>0.351</td>\n",
              "      <td>31</td>\n",
              "      <td>0</td>\n",
              "    </tr>\n",
              "    <tr>\n",
              "      <th>2</th>\n",
              "      <td>8</td>\n",
              "      <td>183</td>\n",
              "      <td>64</td>\n",
              "      <td>0</td>\n",
              "      <td>0</td>\n",
              "      <td>23.3</td>\n",
              "      <td>0.672</td>\n",
              "      <td>32</td>\n",
              "      <td>1</td>\n",
              "    </tr>\n",
              "    <tr>\n",
              "      <th>3</th>\n",
              "      <td>1</td>\n",
              "      <td>89</td>\n",
              "      <td>66</td>\n",
              "      <td>23</td>\n",
              "      <td>94</td>\n",
              "      <td>28.1</td>\n",
              "      <td>0.167</td>\n",
              "      <td>21</td>\n",
              "      <td>0</td>\n",
              "    </tr>\n",
              "    <tr>\n",
              "      <th>4</th>\n",
              "      <td>0</td>\n",
              "      <td>137</td>\n",
              "      <td>40</td>\n",
              "      <td>35</td>\n",
              "      <td>168</td>\n",
              "      <td>43.1</td>\n",
              "      <td>2.288</td>\n",
              "      <td>33</td>\n",
              "      <td>1</td>\n",
              "    </tr>\n",
              "    <tr>\n",
              "      <th>...</th>\n",
              "      <td>...</td>\n",
              "      <td>...</td>\n",
              "      <td>...</td>\n",
              "      <td>...</td>\n",
              "      <td>...</td>\n",
              "      <td>...</td>\n",
              "      <td>...</td>\n",
              "      <td>...</td>\n",
              "      <td>...</td>\n",
              "    </tr>\n",
              "    <tr>\n",
              "      <th>763</th>\n",
              "      <td>10</td>\n",
              "      <td>101</td>\n",
              "      <td>76</td>\n",
              "      <td>48</td>\n",
              "      <td>180</td>\n",
              "      <td>32.9</td>\n",
              "      <td>0.171</td>\n",
              "      <td>63</td>\n",
              "      <td>0</td>\n",
              "    </tr>\n",
              "    <tr>\n",
              "      <th>764</th>\n",
              "      <td>2</td>\n",
              "      <td>122</td>\n",
              "      <td>70</td>\n",
              "      <td>27</td>\n",
              "      <td>0</td>\n",
              "      <td>36.8</td>\n",
              "      <td>0.340</td>\n",
              "      <td>27</td>\n",
              "      <td>0</td>\n",
              "    </tr>\n",
              "    <tr>\n",
              "      <th>765</th>\n",
              "      <td>5</td>\n",
              "      <td>121</td>\n",
              "      <td>72</td>\n",
              "      <td>23</td>\n",
              "      <td>112</td>\n",
              "      <td>26.2</td>\n",
              "      <td>0.245</td>\n",
              "      <td>30</td>\n",
              "      <td>0</td>\n",
              "    </tr>\n",
              "    <tr>\n",
              "      <th>766</th>\n",
              "      <td>1</td>\n",
              "      <td>126</td>\n",
              "      <td>60</td>\n",
              "      <td>0</td>\n",
              "      <td>0</td>\n",
              "      <td>30.1</td>\n",
              "      <td>0.349</td>\n",
              "      <td>47</td>\n",
              "      <td>1</td>\n",
              "    </tr>\n",
              "    <tr>\n",
              "      <th>767</th>\n",
              "      <td>1</td>\n",
              "      <td>93</td>\n",
              "      <td>70</td>\n",
              "      <td>31</td>\n",
              "      <td>0</td>\n",
              "      <td>30.4</td>\n",
              "      <td>0.315</td>\n",
              "      <td>23</td>\n",
              "      <td>0</td>\n",
              "    </tr>\n",
              "  </tbody>\n",
              "</table>\n",
              "<p>768 rows × 9 columns</p>\n",
              "</div>\n",
              "    <div class=\"colab-df-buttons\">\n",
              "\n",
              "  <div class=\"colab-df-container\">\n",
              "    <button class=\"colab-df-convert\" onclick=\"convertToInteractive('df-e7bf55ce-3153-4894-95da-03727d5b1cbb')\"\n",
              "            title=\"Convert this dataframe to an interactive table.\"\n",
              "            style=\"display:none;\">\n",
              "\n",
              "  <svg xmlns=\"http://www.w3.org/2000/svg\" height=\"24px\" viewBox=\"0 -960 960 960\">\n",
              "    <path d=\"M120-120v-720h720v720H120Zm60-500h600v-160H180v160Zm220 220h160v-160H400v160Zm0 220h160v-160H400v160ZM180-400h160v-160H180v160Zm440 0h160v-160H620v160ZM180-180h160v-160H180v160Zm440 0h160v-160H620v160Z\"/>\n",
              "  </svg>\n",
              "    </button>\n",
              "\n",
              "  <style>\n",
              "    .colab-df-container {\n",
              "      display:flex;\n",
              "      gap: 12px;\n",
              "    }\n",
              "\n",
              "    .colab-df-convert {\n",
              "      background-color: #E8F0FE;\n",
              "      border: none;\n",
              "      border-radius: 50%;\n",
              "      cursor: pointer;\n",
              "      display: none;\n",
              "      fill: #1967D2;\n",
              "      height: 32px;\n",
              "      padding: 0 0 0 0;\n",
              "      width: 32px;\n",
              "    }\n",
              "\n",
              "    .colab-df-convert:hover {\n",
              "      background-color: #E2EBFA;\n",
              "      box-shadow: 0px 1px 2px rgba(60, 64, 67, 0.3), 0px 1px 3px 1px rgba(60, 64, 67, 0.15);\n",
              "      fill: #174EA6;\n",
              "    }\n",
              "\n",
              "    .colab-df-buttons div {\n",
              "      margin-bottom: 4px;\n",
              "    }\n",
              "\n",
              "    [theme=dark] .colab-df-convert {\n",
              "      background-color: #3B4455;\n",
              "      fill: #D2E3FC;\n",
              "    }\n",
              "\n",
              "    [theme=dark] .colab-df-convert:hover {\n",
              "      background-color: #434B5C;\n",
              "      box-shadow: 0px 1px 3px 1px rgba(0, 0, 0, 0.15);\n",
              "      filter: drop-shadow(0px 1px 2px rgba(0, 0, 0, 0.3));\n",
              "      fill: #FFFFFF;\n",
              "    }\n",
              "  </style>\n",
              "\n",
              "    <script>\n",
              "      const buttonEl =\n",
              "        document.querySelector('#df-e7bf55ce-3153-4894-95da-03727d5b1cbb button.colab-df-convert');\n",
              "      buttonEl.style.display =\n",
              "        google.colab.kernel.accessAllowed ? 'block' : 'none';\n",
              "\n",
              "      async function convertToInteractive(key) {\n",
              "        const element = document.querySelector('#df-e7bf55ce-3153-4894-95da-03727d5b1cbb');\n",
              "        const dataTable =\n",
              "          await google.colab.kernel.invokeFunction('convertToInteractive',\n",
              "                                                    [key], {});\n",
              "        if (!dataTable) return;\n",
              "\n",
              "        const docLinkHtml = 'Like what you see? Visit the ' +\n",
              "          '<a target=\"_blank\" href=https://colab.research.google.com/notebooks/data_table.ipynb>data table notebook</a>'\n",
              "          + ' to learn more about interactive tables.';\n",
              "        element.innerHTML = '';\n",
              "        dataTable['output_type'] = 'display_data';\n",
              "        await google.colab.output.renderOutput(dataTable, element);\n",
              "        const docLink = document.createElement('div');\n",
              "        docLink.innerHTML = docLinkHtml;\n",
              "        element.appendChild(docLink);\n",
              "      }\n",
              "    </script>\n",
              "  </div>\n",
              "\n",
              "\n",
              "    <div id=\"df-3860d0af-e22d-4e73-9607-8b481fc0a410\">\n",
              "      <button class=\"colab-df-quickchart\" onclick=\"quickchart('df-3860d0af-e22d-4e73-9607-8b481fc0a410')\"\n",
              "                title=\"Suggest charts\"\n",
              "                style=\"display:none;\">\n",
              "\n",
              "<svg xmlns=\"http://www.w3.org/2000/svg\" height=\"24px\"viewBox=\"0 0 24 24\"\n",
              "     width=\"24px\">\n",
              "    <g>\n",
              "        <path d=\"M19 3H5c-1.1 0-2 .9-2 2v14c0 1.1.9 2 2 2h14c1.1 0 2-.9 2-2V5c0-1.1-.9-2-2-2zM9 17H7v-7h2v7zm4 0h-2V7h2v10zm4 0h-2v-4h2v4z\"/>\n",
              "    </g>\n",
              "</svg>\n",
              "      </button>\n",
              "\n",
              "<style>\n",
              "  .colab-df-quickchart {\n",
              "      --bg-color: #E8F0FE;\n",
              "      --fill-color: #1967D2;\n",
              "      --hover-bg-color: #E2EBFA;\n",
              "      --hover-fill-color: #174EA6;\n",
              "      --disabled-fill-color: #AAA;\n",
              "      --disabled-bg-color: #DDD;\n",
              "  }\n",
              "\n",
              "  [theme=dark] .colab-df-quickchart {\n",
              "      --bg-color: #3B4455;\n",
              "      --fill-color: #D2E3FC;\n",
              "      --hover-bg-color: #434B5C;\n",
              "      --hover-fill-color: #FFFFFF;\n",
              "      --disabled-bg-color: #3B4455;\n",
              "      --disabled-fill-color: #666;\n",
              "  }\n",
              "\n",
              "  .colab-df-quickchart {\n",
              "    background-color: var(--bg-color);\n",
              "    border: none;\n",
              "    border-radius: 50%;\n",
              "    cursor: pointer;\n",
              "    display: none;\n",
              "    fill: var(--fill-color);\n",
              "    height: 32px;\n",
              "    padding: 0;\n",
              "    width: 32px;\n",
              "  }\n",
              "\n",
              "  .colab-df-quickchart:hover {\n",
              "    background-color: var(--hover-bg-color);\n",
              "    box-shadow: 0 1px 2px rgba(60, 64, 67, 0.3), 0 1px 3px 1px rgba(60, 64, 67, 0.15);\n",
              "    fill: var(--button-hover-fill-color);\n",
              "  }\n",
              "\n",
              "  .colab-df-quickchart-complete:disabled,\n",
              "  .colab-df-quickchart-complete:disabled:hover {\n",
              "    background-color: var(--disabled-bg-color);\n",
              "    fill: var(--disabled-fill-color);\n",
              "    box-shadow: none;\n",
              "  }\n",
              "\n",
              "  .colab-df-spinner {\n",
              "    border: 2px solid var(--fill-color);\n",
              "    border-color: transparent;\n",
              "    border-bottom-color: var(--fill-color);\n",
              "    animation:\n",
              "      spin 1s steps(1) infinite;\n",
              "  }\n",
              "\n",
              "  @keyframes spin {\n",
              "    0% {\n",
              "      border-color: transparent;\n",
              "      border-bottom-color: var(--fill-color);\n",
              "      border-left-color: var(--fill-color);\n",
              "    }\n",
              "    20% {\n",
              "      border-color: transparent;\n",
              "      border-left-color: var(--fill-color);\n",
              "      border-top-color: var(--fill-color);\n",
              "    }\n",
              "    30% {\n",
              "      border-color: transparent;\n",
              "      border-left-color: var(--fill-color);\n",
              "      border-top-color: var(--fill-color);\n",
              "      border-right-color: var(--fill-color);\n",
              "    }\n",
              "    40% {\n",
              "      border-color: transparent;\n",
              "      border-right-color: var(--fill-color);\n",
              "      border-top-color: var(--fill-color);\n",
              "    }\n",
              "    60% {\n",
              "      border-color: transparent;\n",
              "      border-right-color: var(--fill-color);\n",
              "    }\n",
              "    80% {\n",
              "      border-color: transparent;\n",
              "      border-right-color: var(--fill-color);\n",
              "      border-bottom-color: var(--fill-color);\n",
              "    }\n",
              "    90% {\n",
              "      border-color: transparent;\n",
              "      border-bottom-color: var(--fill-color);\n",
              "    }\n",
              "  }\n",
              "</style>\n",
              "\n",
              "      <script>\n",
              "        async function quickchart(key) {\n",
              "          const quickchartButtonEl =\n",
              "            document.querySelector('#' + key + ' button');\n",
              "          quickchartButtonEl.disabled = true;  // To prevent multiple clicks.\n",
              "          quickchartButtonEl.classList.add('colab-df-spinner');\n",
              "          try {\n",
              "            const charts = await google.colab.kernel.invokeFunction(\n",
              "                'suggestCharts', [key], {});\n",
              "          } catch (error) {\n",
              "            console.error('Error during call to suggestCharts:', error);\n",
              "          }\n",
              "          quickchartButtonEl.classList.remove('colab-df-spinner');\n",
              "          quickchartButtonEl.classList.add('colab-df-quickchart-complete');\n",
              "        }\n",
              "        (() => {\n",
              "          let quickchartButtonEl =\n",
              "            document.querySelector('#df-3860d0af-e22d-4e73-9607-8b481fc0a410 button');\n",
              "          quickchartButtonEl.style.display =\n",
              "            google.colab.kernel.accessAllowed ? 'block' : 'none';\n",
              "        })();\n",
              "      </script>\n",
              "    </div>\n",
              "\n",
              "  <div id=\"id_e42c8bc3-2d91-4c0e-804e-46102d176da7\">\n",
              "    <style>\n",
              "      .colab-df-generate {\n",
              "        background-color: #E8F0FE;\n",
              "        border: none;\n",
              "        border-radius: 50%;\n",
              "        cursor: pointer;\n",
              "        display: none;\n",
              "        fill: #1967D2;\n",
              "        height: 32px;\n",
              "        padding: 0 0 0 0;\n",
              "        width: 32px;\n",
              "      }\n",
              "\n",
              "      .colab-df-generate:hover {\n",
              "        background-color: #E2EBFA;\n",
              "        box-shadow: 0px 1px 2px rgba(60, 64, 67, 0.3), 0px 1px 3px 1px rgba(60, 64, 67, 0.15);\n",
              "        fill: #174EA6;\n",
              "      }\n",
              "\n",
              "      [theme=dark] .colab-df-generate {\n",
              "        background-color: #3B4455;\n",
              "        fill: #D2E3FC;\n",
              "      }\n",
              "\n",
              "      [theme=dark] .colab-df-generate:hover {\n",
              "        background-color: #434B5C;\n",
              "        box-shadow: 0px 1px 3px 1px rgba(0, 0, 0, 0.15);\n",
              "        filter: drop-shadow(0px 1px 2px rgba(0, 0, 0, 0.3));\n",
              "        fill: #FFFFFF;\n",
              "      }\n",
              "    </style>\n",
              "    <button class=\"colab-df-generate\" onclick=\"generateWithVariable('df')\"\n",
              "            title=\"Generate code using this dataframe.\"\n",
              "            style=\"display:none;\">\n",
              "\n",
              "  <svg xmlns=\"http://www.w3.org/2000/svg\" height=\"24px\"viewBox=\"0 0 24 24\"\n",
              "       width=\"24px\">\n",
              "    <path d=\"M7,19H8.4L18.45,9,17,7.55,7,17.6ZM5,21V16.75L18.45,3.32a2,2,0,0,1,2.83,0l1.4,1.43a1.91,1.91,0,0,1,.58,1.4,1.91,1.91,0,0,1-.58,1.4L9.25,21ZM18.45,9,17,7.55Zm-12,3A5.31,5.31,0,0,0,4.9,8.1,5.31,5.31,0,0,0,1,6.5,5.31,5.31,0,0,0,4.9,4.9,5.31,5.31,0,0,0,6.5,1,5.31,5.31,0,0,0,8.1,4.9,5.31,5.31,0,0,0,12,6.5,5.46,5.46,0,0,0,6.5,12Z\"/>\n",
              "  </svg>\n",
              "    </button>\n",
              "    <script>\n",
              "      (() => {\n",
              "      const buttonEl =\n",
              "        document.querySelector('#id_e42c8bc3-2d91-4c0e-804e-46102d176da7 button.colab-df-generate');\n",
              "      buttonEl.style.display =\n",
              "        google.colab.kernel.accessAllowed ? 'block' : 'none';\n",
              "\n",
              "      buttonEl.onclick = () => {\n",
              "        google.colab.notebook.generateWithVariable('df');\n",
              "      }\n",
              "      })();\n",
              "    </script>\n",
              "  </div>\n",
              "\n",
              "    </div>\n",
              "  </div>\n"
            ],
            "application/vnd.google.colaboratory.intrinsic+json": {
              "type": "dataframe",
              "variable_name": "df",
              "summary": "{\n  \"name\": \"df\",\n  \"rows\": 768,\n  \"fields\": [\n    {\n      \"column\": \"Pregnancies\",\n      \"properties\": {\n        \"dtype\": \"number\",\n        \"std\": 3,\n        \"min\": 0,\n        \"max\": 17,\n        \"num_unique_values\": 17,\n        \"samples\": [\n          6,\n          1,\n          3\n        ],\n        \"semantic_type\": \"\",\n        \"description\": \"\"\n      }\n    },\n    {\n      \"column\": \"Glucose\",\n      \"properties\": {\n        \"dtype\": \"number\",\n        \"std\": 31,\n        \"min\": 0,\n        \"max\": 199,\n        \"num_unique_values\": 136,\n        \"samples\": [\n          151,\n          101,\n          112\n        ],\n        \"semantic_type\": \"\",\n        \"description\": \"\"\n      }\n    },\n    {\n      \"column\": \"BloodPressure\",\n      \"properties\": {\n        \"dtype\": \"number\",\n        \"std\": 19,\n        \"min\": 0,\n        \"max\": 122,\n        \"num_unique_values\": 47,\n        \"samples\": [\n          86,\n          46,\n          85\n        ],\n        \"semantic_type\": \"\",\n        \"description\": \"\"\n      }\n    },\n    {\n      \"column\": \"SkinThickness\",\n      \"properties\": {\n        \"dtype\": \"number\",\n        \"std\": 15,\n        \"min\": 0,\n        \"max\": 99,\n        \"num_unique_values\": 51,\n        \"samples\": [\n          7,\n          12,\n          48\n        ],\n        \"semantic_type\": \"\",\n        \"description\": \"\"\n      }\n    },\n    {\n      \"column\": \"Insulin\",\n      \"properties\": {\n        \"dtype\": \"number\",\n        \"std\": 115,\n        \"min\": 0,\n        \"max\": 846,\n        \"num_unique_values\": 186,\n        \"samples\": [\n          52,\n          41,\n          183\n        ],\n        \"semantic_type\": \"\",\n        \"description\": \"\"\n      }\n    },\n    {\n      \"column\": \"BMI\",\n      \"properties\": {\n        \"dtype\": \"number\",\n        \"std\": 7.8841603203754405,\n        \"min\": 0.0,\n        \"max\": 67.1,\n        \"num_unique_values\": 248,\n        \"samples\": [\n          19.9,\n          31.0,\n          38.1\n        ],\n        \"semantic_type\": \"\",\n        \"description\": \"\"\n      }\n    },\n    {\n      \"column\": \"DiabetesPedigreeFunction\",\n      \"properties\": {\n        \"dtype\": \"number\",\n        \"std\": 0.33132859501277484,\n        \"min\": 0.078,\n        \"max\": 2.42,\n        \"num_unique_values\": 517,\n        \"samples\": [\n          1.731,\n          0.426,\n          0.138\n        ],\n        \"semantic_type\": \"\",\n        \"description\": \"\"\n      }\n    },\n    {\n      \"column\": \"Age\",\n      \"properties\": {\n        \"dtype\": \"number\",\n        \"std\": 11,\n        \"min\": 21,\n        \"max\": 81,\n        \"num_unique_values\": 52,\n        \"samples\": [\n          60,\n          47,\n          72\n        ],\n        \"semantic_type\": \"\",\n        \"description\": \"\"\n      }\n    },\n    {\n      \"column\": \"Outcome\",\n      \"properties\": {\n        \"dtype\": \"number\",\n        \"std\": 0,\n        \"min\": 0,\n        \"max\": 1,\n        \"num_unique_values\": 2,\n        \"samples\": [\n          0,\n          1\n        ],\n        \"semantic_type\": \"\",\n        \"description\": \"\"\n      }\n    }\n  ]\n}"
            }
          },
          "metadata": {},
          "execution_count": 311
        }
      ],
      "source": [
        "# Baca Dataset\n",
        "df = pd.read_csv(\"/content/diabetes.csv\")\n",
        "df"
      ]
    },
    {
      "cell_type": "markdown",
      "metadata": {
        "id": "7CAV5WEP-Dww"
      },
      "source": [
        "**Insight**\n",
        "\n",
        "Pada tahapan Gathering Data ini kami mengambil dataset dari Kaggle yang kemudian kmi upload ke Gdrive, untuk memudahkan akses dan pengelolaan. Dataset yang digunakan adalah dataset Pima Indians Diabetes Database, yang merupakan dataset populer untuk analisis prediksi penyakit diabetes."
      ]
    },
    {
      "cell_type": "markdown",
      "metadata": {
        "id": "epLWrQ7bHEVq"
      },
      "source": [
        "### Asessing Data"
      ]
    },
    {
      "cell_type": "code",
      "execution_count": null,
      "metadata": {
        "colab": {
          "base_uri": "https://localhost:8080/"
        },
        "id": "-HLgsNeAHHgC",
        "outputId": "ceec43bd-3f87-4716-b972-ab17762cc69f"
      },
      "outputs": [
        {
          "output_type": "stream",
          "name": "stdout",
          "text": [
            "<class 'pandas.core.frame.DataFrame'>\n",
            "RangeIndex: 768 entries, 0 to 767\n",
            "Data columns (total 9 columns):\n",
            " #   Column                    Non-Null Count  Dtype  \n",
            "---  ------                    --------------  -----  \n",
            " 0   Pregnancies               768 non-null    int64  \n",
            " 1   Glucose                   768 non-null    int64  \n",
            " 2   BloodPressure             768 non-null    int64  \n",
            " 3   SkinThickness             768 non-null    int64  \n",
            " 4   Insulin                   768 non-null    int64  \n",
            " 5   BMI                       768 non-null    float64\n",
            " 6   DiabetesPedigreeFunction  768 non-null    float64\n",
            " 7   Age                       768 non-null    int64  \n",
            " 8   Outcome                   768 non-null    int64  \n",
            "dtypes: float64(2), int64(7)\n",
            "memory usage: 54.1 KB\n"
          ]
        }
      ],
      "source": [
        "#Infromasi Dataset\n",
        "df.info()"
      ]
    },
    {
      "cell_type": "code",
      "execution_count": null,
      "metadata": {
        "colab": {
          "base_uri": "https://localhost:8080/",
          "height": 366
        },
        "id": "cpjGFtioHLxg",
        "outputId": "6de2c120-ea11-4c97-9ea9-4c4caf8ba300"
      },
      "outputs": [
        {
          "output_type": "execute_result",
          "data": {
            "text/plain": [
              "Pregnancies                 0\n",
              "Glucose                     0\n",
              "BloodPressure               0\n",
              "SkinThickness               0\n",
              "Insulin                     0\n",
              "BMI                         0\n",
              "DiabetesPedigreeFunction    0\n",
              "Age                         0\n",
              "Outcome                     0\n",
              "dtype: int64"
            ],
            "text/html": [
              "<div>\n",
              "<style scoped>\n",
              "    .dataframe tbody tr th:only-of-type {\n",
              "        vertical-align: middle;\n",
              "    }\n",
              "\n",
              "    .dataframe tbody tr th {\n",
              "        vertical-align: top;\n",
              "    }\n",
              "\n",
              "    .dataframe thead th {\n",
              "        text-align: right;\n",
              "    }\n",
              "</style>\n",
              "<table border=\"1\" class=\"dataframe\">\n",
              "  <thead>\n",
              "    <tr style=\"text-align: right;\">\n",
              "      <th></th>\n",
              "      <th>0</th>\n",
              "    </tr>\n",
              "  </thead>\n",
              "  <tbody>\n",
              "    <tr>\n",
              "      <th>Pregnancies</th>\n",
              "      <td>0</td>\n",
              "    </tr>\n",
              "    <tr>\n",
              "      <th>Glucose</th>\n",
              "      <td>0</td>\n",
              "    </tr>\n",
              "    <tr>\n",
              "      <th>BloodPressure</th>\n",
              "      <td>0</td>\n",
              "    </tr>\n",
              "    <tr>\n",
              "      <th>SkinThickness</th>\n",
              "      <td>0</td>\n",
              "    </tr>\n",
              "    <tr>\n",
              "      <th>Insulin</th>\n",
              "      <td>0</td>\n",
              "    </tr>\n",
              "    <tr>\n",
              "      <th>BMI</th>\n",
              "      <td>0</td>\n",
              "    </tr>\n",
              "    <tr>\n",
              "      <th>DiabetesPedigreeFunction</th>\n",
              "      <td>0</td>\n",
              "    </tr>\n",
              "    <tr>\n",
              "      <th>Age</th>\n",
              "      <td>0</td>\n",
              "    </tr>\n",
              "    <tr>\n",
              "      <th>Outcome</th>\n",
              "      <td>0</td>\n",
              "    </tr>\n",
              "  </tbody>\n",
              "</table>\n",
              "</div><br><label><b>dtype:</b> int64</label>"
            ]
          },
          "metadata": {},
          "execution_count": 313
        }
      ],
      "source": [
        "#Cek Data Null\n",
        "df.isnull().sum()"
      ]
    },
    {
      "cell_type": "code",
      "execution_count": null,
      "metadata": {
        "colab": {
          "base_uri": "https://localhost:8080/",
          "height": 320
        },
        "id": "CCW152cxHONm",
        "outputId": "60688c3c-3c64-4abe-9ae6-f34da24c660e"
      },
      "outputs": [
        {
          "output_type": "execute_result",
          "data": {
            "text/plain": [
              "       Pregnancies     Glucose  BloodPressure  SkinThickness     Insulin  \\\n",
              "count   768.000000  768.000000     768.000000     768.000000  768.000000   \n",
              "mean      3.845052  120.894531      69.105469      20.536458   79.799479   \n",
              "std       3.369578   31.972618      19.355807      15.952218  115.244002   \n",
              "min       0.000000    0.000000       0.000000       0.000000    0.000000   \n",
              "25%       1.000000   99.000000      62.000000       0.000000    0.000000   \n",
              "50%       3.000000  117.000000      72.000000      23.000000   30.500000   \n",
              "75%       6.000000  140.250000      80.000000      32.000000  127.250000   \n",
              "max      17.000000  199.000000     122.000000      99.000000  846.000000   \n",
              "\n",
              "              BMI  DiabetesPedigreeFunction         Age     Outcome  \n",
              "count  768.000000                768.000000  768.000000  768.000000  \n",
              "mean    31.992578                  0.471876   33.240885    0.348958  \n",
              "std      7.884160                  0.331329   11.760232    0.476951  \n",
              "min      0.000000                  0.078000   21.000000    0.000000  \n",
              "25%     27.300000                  0.243750   24.000000    0.000000  \n",
              "50%     32.000000                  0.372500   29.000000    0.000000  \n",
              "75%     36.600000                  0.626250   41.000000    1.000000  \n",
              "max     67.100000                  2.420000   81.000000    1.000000  "
            ],
            "text/html": [
              "\n",
              "  <div id=\"df-6c7e1084-f757-44e0-b15e-9dcdef499922\" class=\"colab-df-container\">\n",
              "    <div>\n",
              "<style scoped>\n",
              "    .dataframe tbody tr th:only-of-type {\n",
              "        vertical-align: middle;\n",
              "    }\n",
              "\n",
              "    .dataframe tbody tr th {\n",
              "        vertical-align: top;\n",
              "    }\n",
              "\n",
              "    .dataframe thead th {\n",
              "        text-align: right;\n",
              "    }\n",
              "</style>\n",
              "<table border=\"1\" class=\"dataframe\">\n",
              "  <thead>\n",
              "    <tr style=\"text-align: right;\">\n",
              "      <th></th>\n",
              "      <th>Pregnancies</th>\n",
              "      <th>Glucose</th>\n",
              "      <th>BloodPressure</th>\n",
              "      <th>SkinThickness</th>\n",
              "      <th>Insulin</th>\n",
              "      <th>BMI</th>\n",
              "      <th>DiabetesPedigreeFunction</th>\n",
              "      <th>Age</th>\n",
              "      <th>Outcome</th>\n",
              "    </tr>\n",
              "  </thead>\n",
              "  <tbody>\n",
              "    <tr>\n",
              "      <th>count</th>\n",
              "      <td>768.000000</td>\n",
              "      <td>768.000000</td>\n",
              "      <td>768.000000</td>\n",
              "      <td>768.000000</td>\n",
              "      <td>768.000000</td>\n",
              "      <td>768.000000</td>\n",
              "      <td>768.000000</td>\n",
              "      <td>768.000000</td>\n",
              "      <td>768.000000</td>\n",
              "    </tr>\n",
              "    <tr>\n",
              "      <th>mean</th>\n",
              "      <td>3.845052</td>\n",
              "      <td>120.894531</td>\n",
              "      <td>69.105469</td>\n",
              "      <td>20.536458</td>\n",
              "      <td>79.799479</td>\n",
              "      <td>31.992578</td>\n",
              "      <td>0.471876</td>\n",
              "      <td>33.240885</td>\n",
              "      <td>0.348958</td>\n",
              "    </tr>\n",
              "    <tr>\n",
              "      <th>std</th>\n",
              "      <td>3.369578</td>\n",
              "      <td>31.972618</td>\n",
              "      <td>19.355807</td>\n",
              "      <td>15.952218</td>\n",
              "      <td>115.244002</td>\n",
              "      <td>7.884160</td>\n",
              "      <td>0.331329</td>\n",
              "      <td>11.760232</td>\n",
              "      <td>0.476951</td>\n",
              "    </tr>\n",
              "    <tr>\n",
              "      <th>min</th>\n",
              "      <td>0.000000</td>\n",
              "      <td>0.000000</td>\n",
              "      <td>0.000000</td>\n",
              "      <td>0.000000</td>\n",
              "      <td>0.000000</td>\n",
              "      <td>0.000000</td>\n",
              "      <td>0.078000</td>\n",
              "      <td>21.000000</td>\n",
              "      <td>0.000000</td>\n",
              "    </tr>\n",
              "    <tr>\n",
              "      <th>25%</th>\n",
              "      <td>1.000000</td>\n",
              "      <td>99.000000</td>\n",
              "      <td>62.000000</td>\n",
              "      <td>0.000000</td>\n",
              "      <td>0.000000</td>\n",
              "      <td>27.300000</td>\n",
              "      <td>0.243750</td>\n",
              "      <td>24.000000</td>\n",
              "      <td>0.000000</td>\n",
              "    </tr>\n",
              "    <tr>\n",
              "      <th>50%</th>\n",
              "      <td>3.000000</td>\n",
              "      <td>117.000000</td>\n",
              "      <td>72.000000</td>\n",
              "      <td>23.000000</td>\n",
              "      <td>30.500000</td>\n",
              "      <td>32.000000</td>\n",
              "      <td>0.372500</td>\n",
              "      <td>29.000000</td>\n",
              "      <td>0.000000</td>\n",
              "    </tr>\n",
              "    <tr>\n",
              "      <th>75%</th>\n",
              "      <td>6.000000</td>\n",
              "      <td>140.250000</td>\n",
              "      <td>80.000000</td>\n",
              "      <td>32.000000</td>\n",
              "      <td>127.250000</td>\n",
              "      <td>36.600000</td>\n",
              "      <td>0.626250</td>\n",
              "      <td>41.000000</td>\n",
              "      <td>1.000000</td>\n",
              "    </tr>\n",
              "    <tr>\n",
              "      <th>max</th>\n",
              "      <td>17.000000</td>\n",
              "      <td>199.000000</td>\n",
              "      <td>122.000000</td>\n",
              "      <td>99.000000</td>\n",
              "      <td>846.000000</td>\n",
              "      <td>67.100000</td>\n",
              "      <td>2.420000</td>\n",
              "      <td>81.000000</td>\n",
              "      <td>1.000000</td>\n",
              "    </tr>\n",
              "  </tbody>\n",
              "</table>\n",
              "</div>\n",
              "    <div class=\"colab-df-buttons\">\n",
              "\n",
              "  <div class=\"colab-df-container\">\n",
              "    <button class=\"colab-df-convert\" onclick=\"convertToInteractive('df-6c7e1084-f757-44e0-b15e-9dcdef499922')\"\n",
              "            title=\"Convert this dataframe to an interactive table.\"\n",
              "            style=\"display:none;\">\n",
              "\n",
              "  <svg xmlns=\"http://www.w3.org/2000/svg\" height=\"24px\" viewBox=\"0 -960 960 960\">\n",
              "    <path d=\"M120-120v-720h720v720H120Zm60-500h600v-160H180v160Zm220 220h160v-160H400v160Zm0 220h160v-160H400v160ZM180-400h160v-160H180v160Zm440 0h160v-160H620v160ZM180-180h160v-160H180v160Zm440 0h160v-160H620v160Z\"/>\n",
              "  </svg>\n",
              "    </button>\n",
              "\n",
              "  <style>\n",
              "    .colab-df-container {\n",
              "      display:flex;\n",
              "      gap: 12px;\n",
              "    }\n",
              "\n",
              "    .colab-df-convert {\n",
              "      background-color: #E8F0FE;\n",
              "      border: none;\n",
              "      border-radius: 50%;\n",
              "      cursor: pointer;\n",
              "      display: none;\n",
              "      fill: #1967D2;\n",
              "      height: 32px;\n",
              "      padding: 0 0 0 0;\n",
              "      width: 32px;\n",
              "    }\n",
              "\n",
              "    .colab-df-convert:hover {\n",
              "      background-color: #E2EBFA;\n",
              "      box-shadow: 0px 1px 2px rgba(60, 64, 67, 0.3), 0px 1px 3px 1px rgba(60, 64, 67, 0.15);\n",
              "      fill: #174EA6;\n",
              "    }\n",
              "\n",
              "    .colab-df-buttons div {\n",
              "      margin-bottom: 4px;\n",
              "    }\n",
              "\n",
              "    [theme=dark] .colab-df-convert {\n",
              "      background-color: #3B4455;\n",
              "      fill: #D2E3FC;\n",
              "    }\n",
              "\n",
              "    [theme=dark] .colab-df-convert:hover {\n",
              "      background-color: #434B5C;\n",
              "      box-shadow: 0px 1px 3px 1px rgba(0, 0, 0, 0.15);\n",
              "      filter: drop-shadow(0px 1px 2px rgba(0, 0, 0, 0.3));\n",
              "      fill: #FFFFFF;\n",
              "    }\n",
              "  </style>\n",
              "\n",
              "    <script>\n",
              "      const buttonEl =\n",
              "        document.querySelector('#df-6c7e1084-f757-44e0-b15e-9dcdef499922 button.colab-df-convert');\n",
              "      buttonEl.style.display =\n",
              "        google.colab.kernel.accessAllowed ? 'block' : 'none';\n",
              "\n",
              "      async function convertToInteractive(key) {\n",
              "        const element = document.querySelector('#df-6c7e1084-f757-44e0-b15e-9dcdef499922');\n",
              "        const dataTable =\n",
              "          await google.colab.kernel.invokeFunction('convertToInteractive',\n",
              "                                                    [key], {});\n",
              "        if (!dataTable) return;\n",
              "\n",
              "        const docLinkHtml = 'Like what you see? Visit the ' +\n",
              "          '<a target=\"_blank\" href=https://colab.research.google.com/notebooks/data_table.ipynb>data table notebook</a>'\n",
              "          + ' to learn more about interactive tables.';\n",
              "        element.innerHTML = '';\n",
              "        dataTable['output_type'] = 'display_data';\n",
              "        await google.colab.output.renderOutput(dataTable, element);\n",
              "        const docLink = document.createElement('div');\n",
              "        docLink.innerHTML = docLinkHtml;\n",
              "        element.appendChild(docLink);\n",
              "      }\n",
              "    </script>\n",
              "  </div>\n",
              "\n",
              "\n",
              "    <div id=\"df-7917c77f-ce23-4fc4-90c7-4204fcf2f5ac\">\n",
              "      <button class=\"colab-df-quickchart\" onclick=\"quickchart('df-7917c77f-ce23-4fc4-90c7-4204fcf2f5ac')\"\n",
              "                title=\"Suggest charts\"\n",
              "                style=\"display:none;\">\n",
              "\n",
              "<svg xmlns=\"http://www.w3.org/2000/svg\" height=\"24px\"viewBox=\"0 0 24 24\"\n",
              "     width=\"24px\">\n",
              "    <g>\n",
              "        <path d=\"M19 3H5c-1.1 0-2 .9-2 2v14c0 1.1.9 2 2 2h14c1.1 0 2-.9 2-2V5c0-1.1-.9-2-2-2zM9 17H7v-7h2v7zm4 0h-2V7h2v10zm4 0h-2v-4h2v4z\"/>\n",
              "    </g>\n",
              "</svg>\n",
              "      </button>\n",
              "\n",
              "<style>\n",
              "  .colab-df-quickchart {\n",
              "      --bg-color: #E8F0FE;\n",
              "      --fill-color: #1967D2;\n",
              "      --hover-bg-color: #E2EBFA;\n",
              "      --hover-fill-color: #174EA6;\n",
              "      --disabled-fill-color: #AAA;\n",
              "      --disabled-bg-color: #DDD;\n",
              "  }\n",
              "\n",
              "  [theme=dark] .colab-df-quickchart {\n",
              "      --bg-color: #3B4455;\n",
              "      --fill-color: #D2E3FC;\n",
              "      --hover-bg-color: #434B5C;\n",
              "      --hover-fill-color: #FFFFFF;\n",
              "      --disabled-bg-color: #3B4455;\n",
              "      --disabled-fill-color: #666;\n",
              "  }\n",
              "\n",
              "  .colab-df-quickchart {\n",
              "    background-color: var(--bg-color);\n",
              "    border: none;\n",
              "    border-radius: 50%;\n",
              "    cursor: pointer;\n",
              "    display: none;\n",
              "    fill: var(--fill-color);\n",
              "    height: 32px;\n",
              "    padding: 0;\n",
              "    width: 32px;\n",
              "  }\n",
              "\n",
              "  .colab-df-quickchart:hover {\n",
              "    background-color: var(--hover-bg-color);\n",
              "    box-shadow: 0 1px 2px rgba(60, 64, 67, 0.3), 0 1px 3px 1px rgba(60, 64, 67, 0.15);\n",
              "    fill: var(--button-hover-fill-color);\n",
              "  }\n",
              "\n",
              "  .colab-df-quickchart-complete:disabled,\n",
              "  .colab-df-quickchart-complete:disabled:hover {\n",
              "    background-color: var(--disabled-bg-color);\n",
              "    fill: var(--disabled-fill-color);\n",
              "    box-shadow: none;\n",
              "  }\n",
              "\n",
              "  .colab-df-spinner {\n",
              "    border: 2px solid var(--fill-color);\n",
              "    border-color: transparent;\n",
              "    border-bottom-color: var(--fill-color);\n",
              "    animation:\n",
              "      spin 1s steps(1) infinite;\n",
              "  }\n",
              "\n",
              "  @keyframes spin {\n",
              "    0% {\n",
              "      border-color: transparent;\n",
              "      border-bottom-color: var(--fill-color);\n",
              "      border-left-color: var(--fill-color);\n",
              "    }\n",
              "    20% {\n",
              "      border-color: transparent;\n",
              "      border-left-color: var(--fill-color);\n",
              "      border-top-color: var(--fill-color);\n",
              "    }\n",
              "    30% {\n",
              "      border-color: transparent;\n",
              "      border-left-color: var(--fill-color);\n",
              "      border-top-color: var(--fill-color);\n",
              "      border-right-color: var(--fill-color);\n",
              "    }\n",
              "    40% {\n",
              "      border-color: transparent;\n",
              "      border-right-color: var(--fill-color);\n",
              "      border-top-color: var(--fill-color);\n",
              "    }\n",
              "    60% {\n",
              "      border-color: transparent;\n",
              "      border-right-color: var(--fill-color);\n",
              "    }\n",
              "    80% {\n",
              "      border-color: transparent;\n",
              "      border-right-color: var(--fill-color);\n",
              "      border-bottom-color: var(--fill-color);\n",
              "    }\n",
              "    90% {\n",
              "      border-color: transparent;\n",
              "      border-bottom-color: var(--fill-color);\n",
              "    }\n",
              "  }\n",
              "</style>\n",
              "\n",
              "      <script>\n",
              "        async function quickchart(key) {\n",
              "          const quickchartButtonEl =\n",
              "            document.querySelector('#' + key + ' button');\n",
              "          quickchartButtonEl.disabled = true;  // To prevent multiple clicks.\n",
              "          quickchartButtonEl.classList.add('colab-df-spinner');\n",
              "          try {\n",
              "            const charts = await google.colab.kernel.invokeFunction(\n",
              "                'suggestCharts', [key], {});\n",
              "          } catch (error) {\n",
              "            console.error('Error during call to suggestCharts:', error);\n",
              "          }\n",
              "          quickchartButtonEl.classList.remove('colab-df-spinner');\n",
              "          quickchartButtonEl.classList.add('colab-df-quickchart-complete');\n",
              "        }\n",
              "        (() => {\n",
              "          let quickchartButtonEl =\n",
              "            document.querySelector('#df-7917c77f-ce23-4fc4-90c7-4204fcf2f5ac button');\n",
              "          quickchartButtonEl.style.display =\n",
              "            google.colab.kernel.accessAllowed ? 'block' : 'none';\n",
              "        })();\n",
              "      </script>\n",
              "    </div>\n",
              "\n",
              "    </div>\n",
              "  </div>\n"
            ],
            "application/vnd.google.colaboratory.intrinsic+json": {
              "type": "dataframe",
              "summary": "{\n  \"name\": \"df\",\n  \"rows\": 8,\n  \"fields\": [\n    {\n      \"column\": \"Pregnancies\",\n      \"properties\": {\n        \"dtype\": \"number\",\n        \"std\": 269.85223453356366,\n        \"min\": 0.0,\n        \"max\": 768.0,\n        \"num_unique_values\": 8,\n        \"samples\": [\n          3.8450520833333335,\n          3.0,\n          768.0\n        ],\n        \"semantic_type\": \"\",\n        \"description\": \"\"\n      }\n    },\n    {\n      \"column\": \"Glucose\",\n      \"properties\": {\n        \"dtype\": \"number\",\n        \"std\": 243.73802348295857,\n        \"min\": 0.0,\n        \"max\": 768.0,\n        \"num_unique_values\": 8,\n        \"samples\": [\n          120.89453125,\n          117.0,\n          768.0\n        ],\n        \"semantic_type\": \"\",\n        \"description\": \"\"\n      }\n    },\n    {\n      \"column\": \"BloodPressure\",\n      \"properties\": {\n        \"dtype\": \"number\",\n        \"std\": 252.85250535810619,\n        \"min\": 0.0,\n        \"max\": 768.0,\n        \"num_unique_values\": 8,\n        \"samples\": [\n          69.10546875,\n          72.0,\n          768.0\n        ],\n        \"semantic_type\": \"\",\n        \"description\": \"\"\n      }\n    },\n    {\n      \"column\": \"SkinThickness\",\n      \"properties\": {\n        \"dtype\": \"number\",\n        \"std\": 263.7684730531098,\n        \"min\": 0.0,\n        \"max\": 768.0,\n        \"num_unique_values\": 7,\n        \"samples\": [\n          768.0,\n          20.536458333333332,\n          32.0\n        ],\n        \"semantic_type\": \"\",\n        \"description\": \"\"\n      }\n    },\n    {\n      \"column\": \"Insulin\",\n      \"properties\": {\n        \"dtype\": \"number\",\n        \"std\": 350.26059167945886,\n        \"min\": 0.0,\n        \"max\": 846.0,\n        \"num_unique_values\": 7,\n        \"samples\": [\n          768.0,\n          79.79947916666667,\n          127.25\n        ],\n        \"semantic_type\": \"\",\n        \"description\": \"\"\n      }\n    },\n    {\n      \"column\": \"BMI\",\n      \"properties\": {\n        \"dtype\": \"number\",\n        \"std\": 262.05117817552093,\n        \"min\": 0.0,\n        \"max\": 768.0,\n        \"num_unique_values\": 8,\n        \"samples\": [\n          31.992578124999998,\n          32.0,\n          768.0\n        ],\n        \"semantic_type\": \"\",\n        \"description\": \"\"\n      }\n    },\n    {\n      \"column\": \"DiabetesPedigreeFunction\",\n      \"properties\": {\n        \"dtype\": \"number\",\n        \"std\": 271.3005221658502,\n        \"min\": 0.078,\n        \"max\": 768.0,\n        \"num_unique_values\": 8,\n        \"samples\": [\n          0.47187630208333325,\n          0.3725,\n          768.0\n        ],\n        \"semantic_type\": \"\",\n        \"description\": \"\"\n      }\n    },\n    {\n      \"column\": \"Age\",\n      \"properties\": {\n        \"dtype\": \"number\",\n        \"std\": 260.1941178528413,\n        \"min\": 11.76023154067868,\n        \"max\": 768.0,\n        \"num_unique_values\": 8,\n        \"samples\": [\n          33.240885416666664,\n          29.0,\n          768.0\n        ],\n        \"semantic_type\": \"\",\n        \"description\": \"\"\n      }\n    },\n    {\n      \"column\": \"Outcome\",\n      \"properties\": {\n        \"dtype\": \"number\",\n        \"std\": 271.3865920388932,\n        \"min\": 0.0,\n        \"max\": 768.0,\n        \"num_unique_values\": 5,\n        \"samples\": [\n          0.3489583333333333,\n          1.0,\n          0.4769513772427971\n        ],\n        \"semantic_type\": \"\",\n        \"description\": \"\"\n      }\n    }\n  ]\n}"
            }
          },
          "metadata": {},
          "execution_count": 314
        }
      ],
      "source": [
        "# Describe Fitur Numerik\n",
        "df.describe()"
      ]
    },
    {
      "cell_type": "code",
      "execution_count": null,
      "metadata": {
        "colab": {
          "base_uri": "https://localhost:8080/"
        },
        "id": "xSCsAAbQHRXd",
        "outputId": "3dbbc1d4-61c7-49c0-e644-e6c7fa9de42a"
      },
      "outputs": [
        {
          "output_type": "stream",
          "name": "stdout",
          "text": [
            "Rows   : 768\n",
            "Columns: 9\n"
          ]
        }
      ],
      "source": [
        "# Cek Jumlah Kolom\n",
        "rows = df.shape[0]\n",
        "cols = df.shape[1]\n",
        "print(\"Rows   : \" + str(rows))\n",
        "print(\"Columns: \" + str(cols))"
      ]
    },
    {
      "cell_type": "code",
      "execution_count": null,
      "metadata": {
        "colab": {
          "base_uri": "https://localhost:8080/"
        },
        "id": "aYz0ltMQHUZX",
        "outputId": "3a80761f-d305-4f28-fd9f-a4f066e5649a"
      },
      "outputs": [
        {
          "output_type": "stream",
          "name": "stdout",
          "text": [
            "Number of duplicates: 0\n"
          ]
        }
      ],
      "source": [
        "# Check duplicate data\n",
        "print(\"Number of duplicates: \" + str(df.duplicated().sum()))"
      ]
    },
    {
      "cell_type": "code",
      "execution_count": null,
      "metadata": {
        "colab": {
          "base_uri": "https://localhost:8080/",
          "height": 366
        },
        "id": "OiLf8MrgHWWC",
        "outputId": "1a64f9f4-8b93-4f75-84b1-78f4228d040e"
      },
      "outputs": [
        {
          "output_type": "execute_result",
          "data": {
            "text/plain": [
              "Pregnancies                  17\n",
              "Glucose                     136\n",
              "BloodPressure                47\n",
              "SkinThickness                51\n",
              "Insulin                     186\n",
              "BMI                         248\n",
              "DiabetesPedigreeFunction    517\n",
              "Age                          52\n",
              "Outcome                       2\n",
              "dtype: int64"
            ],
            "text/html": [
              "<div>\n",
              "<style scoped>\n",
              "    .dataframe tbody tr th:only-of-type {\n",
              "        vertical-align: middle;\n",
              "    }\n",
              "\n",
              "    .dataframe tbody tr th {\n",
              "        vertical-align: top;\n",
              "    }\n",
              "\n",
              "    .dataframe thead th {\n",
              "        text-align: right;\n",
              "    }\n",
              "</style>\n",
              "<table border=\"1\" class=\"dataframe\">\n",
              "  <thead>\n",
              "    <tr style=\"text-align: right;\">\n",
              "      <th></th>\n",
              "      <th>0</th>\n",
              "    </tr>\n",
              "  </thead>\n",
              "  <tbody>\n",
              "    <tr>\n",
              "      <th>Pregnancies</th>\n",
              "      <td>17</td>\n",
              "    </tr>\n",
              "    <tr>\n",
              "      <th>Glucose</th>\n",
              "      <td>136</td>\n",
              "    </tr>\n",
              "    <tr>\n",
              "      <th>BloodPressure</th>\n",
              "      <td>47</td>\n",
              "    </tr>\n",
              "    <tr>\n",
              "      <th>SkinThickness</th>\n",
              "      <td>51</td>\n",
              "    </tr>\n",
              "    <tr>\n",
              "      <th>Insulin</th>\n",
              "      <td>186</td>\n",
              "    </tr>\n",
              "    <tr>\n",
              "      <th>BMI</th>\n",
              "      <td>248</td>\n",
              "    </tr>\n",
              "    <tr>\n",
              "      <th>DiabetesPedigreeFunction</th>\n",
              "      <td>517</td>\n",
              "    </tr>\n",
              "    <tr>\n",
              "      <th>Age</th>\n",
              "      <td>52</td>\n",
              "    </tr>\n",
              "    <tr>\n",
              "      <th>Outcome</th>\n",
              "      <td>2</td>\n",
              "    </tr>\n",
              "  </tbody>\n",
              "</table>\n",
              "</div><br><label><b>dtype:</b> int64</label>"
            ]
          },
          "metadata": {},
          "execution_count": 317
        }
      ],
      "source": [
        "# Number of unique values per column.\n",
        "df.nunique()"
      ]
    },
    {
      "cell_type": "code",
      "execution_count": null,
      "metadata": {
        "colab": {
          "base_uri": "https://localhost:8080/"
        },
        "id": "Q4bA-TW_HbQc",
        "outputId": "69f1986d-e793-4c43-c4a5-acf085d4d5b3"
      },
      "outputs": [
        {
          "output_type": "execute_result",
          "data": {
            "text/plain": [
              "Counter({1: 268, 0: 500})"
            ]
          },
          "metadata": {},
          "execution_count": 323
        }
      ],
      "source": [
        "Counter(df['Outcome'])"
      ]
    },
    {
      "cell_type": "markdown",
      "metadata": {
        "id": "mP6giBBU-6wv"
      },
      "source": [
        "**Insight**\n",
        "\n",
        "Pada bagian Asesing Data ini kami menemukan bahwa dataset yang terdiri dari 768 baris dan 9 kolom (8 fitur dan 1 target Outcome) tampak lengkap tanpa nilai NaN, namun mengandung nilai 0 pada fitur seperti `Glucose`, `BloodPressure`, `SkinThickness`, `Insulin`, dan `BMI` yang secara medis tidak realistis, sehingga perlu dianggap sebagai missing values terselubung. Kami juga menemukan bahwa dataset ini tidak meimiliki redundansi, kemudian variasi nilai unik yang tinggi pada fitur kontinu seperti Glucose menawarkan informasi kaya untuk modeling.\n"
      ]
    },
    {
      "cell_type": "markdown",
      "metadata": {
        "id": "t9jGdU9CHeCR"
      },
      "source": [
        "### Cleaning Data"
      ]
    },
    {
      "cell_type": "markdown",
      "metadata": {
        "id": "ZmWwvwX5HlES"
      },
      "source": [
        "#### Replace 0 to NaN\n",
        "\n",
        "Pada Dataset ini ditemukan bahwa banyak data yang 0, yang mana hal itu tidak mungkin terjadi, karena data seperti Tekanan Darah, Insulin, tidak mungkin bernilai 0.\n",
        "Oleh karena itu, data ini adalah missing values dan akan diganti dengan NaN. Pada dataset ini kami mengganti nilai 0 dalam kolom Glucose, BloodPressure, SkinThickness, Insulin, dan BMI dengan NaN."
      ]
    },
    {
      "cell_type": "code",
      "execution_count": null,
      "metadata": {
        "id": "uVkikslXHhxM"
      },
      "outputs": [],
      "source": [
        "# Replace 0 with np.nan (lowercase 'nan') to treat them as missing values\n",
        "cols = ['Glucose', 'BloodPressure', 'SkinThickness', 'Insulin', 'BMI']\n",
        "df[cols] = df[cols].where(df[cols] != 0, np.nan)\n"
      ]
    },
    {
      "cell_type": "markdown",
      "source": [
        "**Insight**\n",
        "\n",
        " Pada bagian ini kami memvisualisasikan jumlah missing values (nilai yang hilang) dalam suatu dataset menggunakan plot batang (bar chart) dari library Plotly."
      ],
      "metadata": {
        "id": "7pFimJ4ZM86D"
      }
    },
    {
      "cell_type": "code",
      "execution_count": null,
      "metadata": {
        "colab": {
          "base_uri": "https://localhost:8080/",
          "height": 542
        },
        "id": "IRhZgBrRHpCV",
        "outputId": "22ba4d4d-b410-4a3d-9624-676e0c62fa63"
      },
      "outputs": [
        {
          "output_type": "display_data",
          "data": {
            "text/html": [
              "<html>\n",
              "<head><meta charset=\"utf-8\" /></head>\n",
              "<body>\n",
              "    <div>            <script src=\"https://cdnjs.cloudflare.com/ajax/libs/mathjax/2.7.5/MathJax.js?config=TeX-AMS-MML_SVG\"></script><script type=\"text/javascript\">if (window.MathJax && window.MathJax.Hub && window.MathJax.Hub.Config) {window.MathJax.Hub.Config({SVG: {font: \"STIX-Web\"}});}</script>                <script type=\"text/javascript\">window.PlotlyConfig = {MathJaxConfig: 'local'};</script>\n",
              "        <script charset=\"utf-8\" src=\"https://cdn.plot.ly/plotly-2.35.2.min.js\"></script>                <div id=\"43cd45bd-e976-4d34-80f2-dc1237f8fc6d\" class=\"plotly-graph-div\" style=\"height:525px; width:100%;\"></div>            <script type=\"text/javascript\">                                    window.PLOTLYENV=window.PLOTLYENV || {};                                    if (document.getElementById(\"43cd45bd-e976-4d34-80f2-dc1237f8fc6d\")) {                    Plotly.newPlot(                        \"43cd45bd-e976-4d34-80f2-dc1237f8fc6d\",                        [{\"marker\":{\"color\":\"#7EC0EE\",\"line\":{\"color\":\"#000000\",\"width\":1.5}},\"opacity\":0.8,\"text\":[0.0,0.65,4.56,29.56,48.7,1.43,0.0,0.0,0.0],\"textposition\":\"auto\",\"x\":[\"Pregnancies\",\"Glucose\",\"BloodPressure\",\"SkinThickness\",\"Insulin\",\"BMI\",\"DiabetesPedigreeFunction\",\"Age\",\"Outcome\"],\"y\":[768,763,733,541,394,757,768,768,768],\"type\":\"bar\"}],                        {\"template\":{\"data\":{\"barpolar\":[{\"marker\":{\"line\":{\"color\":\"#E5ECF6\",\"width\":0.5},\"pattern\":{\"fillmode\":\"overlay\",\"size\":10,\"solidity\":0.2}},\"type\":\"barpolar\"}],\"bar\":[{\"error_x\":{\"color\":\"#2a3f5f\"},\"error_y\":{\"color\":\"#2a3f5f\"},\"marker\":{\"line\":{\"color\":\"#E5ECF6\",\"width\":0.5},\"pattern\":{\"fillmode\":\"overlay\",\"size\":10,\"solidity\":0.2}},\"type\":\"bar\"}],\"carpet\":[{\"aaxis\":{\"endlinecolor\":\"#2a3f5f\",\"gridcolor\":\"white\",\"linecolor\":\"white\",\"minorgridcolor\":\"white\",\"startlinecolor\":\"#2a3f5f\"},\"baxis\":{\"endlinecolor\":\"#2a3f5f\",\"gridcolor\":\"white\",\"linecolor\":\"white\",\"minorgridcolor\":\"white\",\"startlinecolor\":\"#2a3f5f\"},\"type\":\"carpet\"}],\"choropleth\":[{\"colorbar\":{\"outlinewidth\":0,\"ticks\":\"\"},\"type\":\"choropleth\"}],\"contourcarpet\":[{\"colorbar\":{\"outlinewidth\":0,\"ticks\":\"\"},\"type\":\"contourcarpet\"}],\"contour\":[{\"colorbar\":{\"outlinewidth\":0,\"ticks\":\"\"},\"colorscale\":[[0.0,\"#0d0887\"],[0.1111111111111111,\"#46039f\"],[0.2222222222222222,\"#7201a8\"],[0.3333333333333333,\"#9c179e\"],[0.4444444444444444,\"#bd3786\"],[0.5555555555555556,\"#d8576b\"],[0.6666666666666666,\"#ed7953\"],[0.7777777777777778,\"#fb9f3a\"],[0.8888888888888888,\"#fdca26\"],[1.0,\"#f0f921\"]],\"type\":\"contour\"}],\"heatmapgl\":[{\"colorbar\":{\"outlinewidth\":0,\"ticks\":\"\"},\"colorscale\":[[0.0,\"#0d0887\"],[0.1111111111111111,\"#46039f\"],[0.2222222222222222,\"#7201a8\"],[0.3333333333333333,\"#9c179e\"],[0.4444444444444444,\"#bd3786\"],[0.5555555555555556,\"#d8576b\"],[0.6666666666666666,\"#ed7953\"],[0.7777777777777778,\"#fb9f3a\"],[0.8888888888888888,\"#fdca26\"],[1.0,\"#f0f921\"]],\"type\":\"heatmapgl\"}],\"heatmap\":[{\"colorbar\":{\"outlinewidth\":0,\"ticks\":\"\"},\"colorscale\":[[0.0,\"#0d0887\"],[0.1111111111111111,\"#46039f\"],[0.2222222222222222,\"#7201a8\"],[0.3333333333333333,\"#9c179e\"],[0.4444444444444444,\"#bd3786\"],[0.5555555555555556,\"#d8576b\"],[0.6666666666666666,\"#ed7953\"],[0.7777777777777778,\"#fb9f3a\"],[0.8888888888888888,\"#fdca26\"],[1.0,\"#f0f921\"]],\"type\":\"heatmap\"}],\"histogram2dcontour\":[{\"colorbar\":{\"outlinewidth\":0,\"ticks\":\"\"},\"colorscale\":[[0.0,\"#0d0887\"],[0.1111111111111111,\"#46039f\"],[0.2222222222222222,\"#7201a8\"],[0.3333333333333333,\"#9c179e\"],[0.4444444444444444,\"#bd3786\"],[0.5555555555555556,\"#d8576b\"],[0.6666666666666666,\"#ed7953\"],[0.7777777777777778,\"#fb9f3a\"],[0.8888888888888888,\"#fdca26\"],[1.0,\"#f0f921\"]],\"type\":\"histogram2dcontour\"}],\"histogram2d\":[{\"colorbar\":{\"outlinewidth\":0,\"ticks\":\"\"},\"colorscale\":[[0.0,\"#0d0887\"],[0.1111111111111111,\"#46039f\"],[0.2222222222222222,\"#7201a8\"],[0.3333333333333333,\"#9c179e\"],[0.4444444444444444,\"#bd3786\"],[0.5555555555555556,\"#d8576b\"],[0.6666666666666666,\"#ed7953\"],[0.7777777777777778,\"#fb9f3a\"],[0.8888888888888888,\"#fdca26\"],[1.0,\"#f0f921\"]],\"type\":\"histogram2d\"}],\"histogram\":[{\"marker\":{\"pattern\":{\"fillmode\":\"overlay\",\"size\":10,\"solidity\":0.2}},\"type\":\"histogram\"}],\"mesh3d\":[{\"colorbar\":{\"outlinewidth\":0,\"ticks\":\"\"},\"type\":\"mesh3d\"}],\"parcoords\":[{\"line\":{\"colorbar\":{\"outlinewidth\":0,\"ticks\":\"\"}},\"type\":\"parcoords\"}],\"pie\":[{\"automargin\":true,\"type\":\"pie\"}],\"scatter3d\":[{\"line\":{\"colorbar\":{\"outlinewidth\":0,\"ticks\":\"\"}},\"marker\":{\"colorbar\":{\"outlinewidth\":0,\"ticks\":\"\"}},\"type\":\"scatter3d\"}],\"scattercarpet\":[{\"marker\":{\"colorbar\":{\"outlinewidth\":0,\"ticks\":\"\"}},\"type\":\"scattercarpet\"}],\"scattergeo\":[{\"marker\":{\"colorbar\":{\"outlinewidth\":0,\"ticks\":\"\"}},\"type\":\"scattergeo\"}],\"scattergl\":[{\"marker\":{\"colorbar\":{\"outlinewidth\":0,\"ticks\":\"\"}},\"type\":\"scattergl\"}],\"scattermapbox\":[{\"marker\":{\"colorbar\":{\"outlinewidth\":0,\"ticks\":\"\"}},\"type\":\"scattermapbox\"}],\"scatterpolargl\":[{\"marker\":{\"colorbar\":{\"outlinewidth\":0,\"ticks\":\"\"}},\"type\":\"scatterpolargl\"}],\"scatterpolar\":[{\"marker\":{\"colorbar\":{\"outlinewidth\":0,\"ticks\":\"\"}},\"type\":\"scatterpolar\"}],\"scatter\":[{\"fillpattern\":{\"fillmode\":\"overlay\",\"size\":10,\"solidity\":0.2},\"type\":\"scatter\"}],\"scatterternary\":[{\"marker\":{\"colorbar\":{\"outlinewidth\":0,\"ticks\":\"\"}},\"type\":\"scatterternary\"}],\"surface\":[{\"colorbar\":{\"outlinewidth\":0,\"ticks\":\"\"},\"colorscale\":[[0.0,\"#0d0887\"],[0.1111111111111111,\"#46039f\"],[0.2222222222222222,\"#7201a8\"],[0.3333333333333333,\"#9c179e\"],[0.4444444444444444,\"#bd3786\"],[0.5555555555555556,\"#d8576b\"],[0.6666666666666666,\"#ed7953\"],[0.7777777777777778,\"#fb9f3a\"],[0.8888888888888888,\"#fdca26\"],[1.0,\"#f0f921\"]],\"type\":\"surface\"}],\"table\":[{\"cells\":{\"fill\":{\"color\":\"#EBF0F8\"},\"line\":{\"color\":\"white\"}},\"header\":{\"fill\":{\"color\":\"#C8D4E3\"},\"line\":{\"color\":\"white\"}},\"type\":\"table\"}]},\"layout\":{\"annotationdefaults\":{\"arrowcolor\":\"#2a3f5f\",\"arrowhead\":0,\"arrowwidth\":1},\"autotypenumbers\":\"strict\",\"coloraxis\":{\"colorbar\":{\"outlinewidth\":0,\"ticks\":\"\"}},\"colorscale\":{\"diverging\":[[0,\"#8e0152\"],[0.1,\"#c51b7d\"],[0.2,\"#de77ae\"],[0.3,\"#f1b6da\"],[0.4,\"#fde0ef\"],[0.5,\"#f7f7f7\"],[0.6,\"#e6f5d0\"],[0.7,\"#b8e186\"],[0.8,\"#7fbc41\"],[0.9,\"#4d9221\"],[1,\"#276419\"]],\"sequential\":[[0.0,\"#0d0887\"],[0.1111111111111111,\"#46039f\"],[0.2222222222222222,\"#7201a8\"],[0.3333333333333333,\"#9c179e\"],[0.4444444444444444,\"#bd3786\"],[0.5555555555555556,\"#d8576b\"],[0.6666666666666666,\"#ed7953\"],[0.7777777777777778,\"#fb9f3a\"],[0.8888888888888888,\"#fdca26\"],[1.0,\"#f0f921\"]],\"sequentialminus\":[[0.0,\"#0d0887\"],[0.1111111111111111,\"#46039f\"],[0.2222222222222222,\"#7201a8\"],[0.3333333333333333,\"#9c179e\"],[0.4444444444444444,\"#bd3786\"],[0.5555555555555556,\"#d8576b\"],[0.6666666666666666,\"#ed7953\"],[0.7777777777777778,\"#fb9f3a\"],[0.8888888888888888,\"#fdca26\"],[1.0,\"#f0f921\"]]},\"colorway\":[\"#636efa\",\"#EF553B\",\"#00cc96\",\"#ab63fa\",\"#FFA15A\",\"#19d3f3\",\"#FF6692\",\"#B6E880\",\"#FF97FF\",\"#FECB52\"],\"font\":{\"color\":\"#2a3f5f\"},\"geo\":{\"bgcolor\":\"white\",\"lakecolor\":\"white\",\"landcolor\":\"#E5ECF6\",\"showlakes\":true,\"showland\":true,\"subunitcolor\":\"white\"},\"hoverlabel\":{\"align\":\"left\"},\"hovermode\":\"closest\",\"mapbox\":{\"style\":\"light\"},\"paper_bgcolor\":\"white\",\"plot_bgcolor\":\"#E5ECF6\",\"polar\":{\"angularaxis\":{\"gridcolor\":\"white\",\"linecolor\":\"white\",\"ticks\":\"\"},\"bgcolor\":\"#E5ECF6\",\"radialaxis\":{\"gridcolor\":\"white\",\"linecolor\":\"white\",\"ticks\":\"\"}},\"scene\":{\"xaxis\":{\"backgroundcolor\":\"#E5ECF6\",\"gridcolor\":\"white\",\"gridwidth\":2,\"linecolor\":\"white\",\"showbackground\":true,\"ticks\":\"\",\"zerolinecolor\":\"white\"},\"yaxis\":{\"backgroundcolor\":\"#E5ECF6\",\"gridcolor\":\"white\",\"gridwidth\":2,\"linecolor\":\"white\",\"showbackground\":true,\"ticks\":\"\",\"zerolinecolor\":\"white\"},\"zaxis\":{\"backgroundcolor\":\"#E5ECF6\",\"gridcolor\":\"white\",\"gridwidth\":2,\"linecolor\":\"white\",\"showbackground\":true,\"ticks\":\"\",\"zerolinecolor\":\"white\"}},\"shapedefaults\":{\"line\":{\"color\":\"#2a3f5f\"}},\"ternary\":{\"aaxis\":{\"gridcolor\":\"white\",\"linecolor\":\"white\",\"ticks\":\"\"},\"baxis\":{\"gridcolor\":\"white\",\"linecolor\":\"white\",\"ticks\":\"\"},\"bgcolor\":\"#E5ECF6\",\"caxis\":{\"gridcolor\":\"white\",\"linecolor\":\"white\",\"ticks\":\"\"}},\"title\":{\"x\":0.05},\"xaxis\":{\"automargin\":true,\"gridcolor\":\"white\",\"linecolor\":\"white\",\"ticks\":\"\",\"title\":{\"standoff\":15},\"zerolinecolor\":\"white\",\"zerolinewidth\":2},\"yaxis\":{\"automargin\":true,\"gridcolor\":\"white\",\"linecolor\":\"white\",\"ticks\":\"\",\"title\":{\"standoff\":15},\"zerolinecolor\":\"white\",\"zerolinewidth\":2}}},\"title\":{\"text\":\"Missing Values (count & %)\"}},                        {\"responsive\": true}                    ).then(function(){\n",
              "                            \n",
              "var gd = document.getElementById('43cd45bd-e976-4d34-80f2-dc1237f8fc6d');\n",
              "var x = new MutationObserver(function (mutations, observer) {{\n",
              "        var display = window.getComputedStyle(gd).display;\n",
              "        if (!display || display === 'none') {{\n",
              "            console.log([gd, 'removed!']);\n",
              "            Plotly.purge(gd);\n",
              "            observer.disconnect();\n",
              "        }}\n",
              "}});\n",
              "\n",
              "// Listen for the removal of the full notebook cells\n",
              "var notebookContainer = gd.closest('#notebook-container');\n",
              "if (notebookContainer) {{\n",
              "    x.observe(notebookContainer, {childList: true});\n",
              "}}\n",
              "\n",
              "// Listen for the clearing of the current output cell\n",
              "var outputEl = gd.closest('.output');\n",
              "if (outputEl) {{\n",
              "    x.observe(outputEl, {childList: true});\n",
              "}}\n",
              "\n",
              "                        })                };                            </script>        </div>\n",
              "</body>\n",
              "</html>"
            ]
          },
          "metadata": {}
        }
      ],
      "source": [
        "def missing_plot(df, key):\n",
        "    total = df.shape[0]\n",
        "    missing_count = df.isnull().sum()\n",
        "    filled_count = total - missing_count\n",
        "    missing_pct = (missing_count / total * 100).round(2)\n",
        "\n",
        "    trace = go.Bar(\n",
        "        x=df.columns,\n",
        "        y=filled_count,\n",
        "        text=missing_pct,\n",
        "        textposition='auto',\n",
        "        opacity=0.8,\n",
        "        marker=dict(color='#7EC0EE', line=dict(color='#000000', width=1.5))\n",
        "    )\n",
        "\n",
        "    layout = go.Layout(title=\"Missing Values (count & %)\")\n",
        "    fig = go.Figure(data=[trace], layout=layout)\n",
        "    py.iplot(fig)\n",
        "\n",
        "# Plotting\n",
        "missing_plot(df, 'Outcome')\n"
      ]
    },
    {
      "cell_type": "markdown",
      "metadata": {
        "id": "L-v5z4iKHw3Q"
      },
      "source": [
        "#### Replacing Missing Value\n",
        "**Insight**\n",
        "\n",
        "Setelah data 0 yang tidak masuk akal diubah ke NaN, maka searang kita memiliki data yang missing value. Pada bagian ini kami melakukan pengubahan missing value menjadi data yang nilainya merupakan median untuk masing-masing outcome.\n",
        "\n",
        "Misalnya data median untuk Glucose dengan target 0 (Healthy) adalah 107. Sedangkan untuk target 1 (Diabetes) itu adalah 140. Kemudian nilai Glukosa 0 yang memiliki target 0 itu akan diganti ke 107 dan yang target 1 akan diganti ke 140.\n",
        "\n",
        "Hal ini kami lakukan agar datanya menjadi lebih cocok untuk masing-masing outcome."
      ]
    },
    {
      "cell_type": "code",
      "execution_count": null,
      "metadata": {
        "id": "SVoHyumIHyvw"
      },
      "outputs": [],
      "source": [
        "def median_target(var): # Membuang data yang memiliki nilai NaN pada kolom tertentu\n",
        "    temp = df[df[var].notnull()]\n",
        "    temp = temp[[var, 'Outcome']].groupby(['Outcome'])[[var]].median().reset_index() #Mengelompokkan data berdasarkan kelas target ('Outcome')\n",
        "    return temp"
      ]
    },
    {
      "cell_type": "markdown",
      "metadata": {
        "id": "zPmRxub_H13P"
      },
      "source": [
        "### 3.1 Insulin\n",
        "**Insight**\n",
        "\n",
        "Pada bagian insulin ini kami mengubah data missing valuenya menjadi median untuk masing-masing outcome. Untuk data yang outcomenya adalah 0, nilai median adalah 102.5 , sedangkan untuk data insulin dengan outcome 1(diabetes), nilai median adalah 169.5"
      ]
    },
    {
      "cell_type": "code",
      "execution_count": null,
      "metadata": {
        "colab": {
          "base_uri": "https://localhost:8080/",
          "height": 542
        },
        "id": "QsuQEwE-H6XK",
        "outputId": "1022d6a3-ff13-4db5-812f-d7c2c036c11b"
      },
      "outputs": [
        {
          "output_type": "display_data",
          "data": {
            "text/html": [
              "<html>\n",
              "<head><meta charset=\"utf-8\" /></head>\n",
              "<body>\n",
              "    <div>            <script src=\"https://cdnjs.cloudflare.com/ajax/libs/mathjax/2.7.5/MathJax.js?config=TeX-AMS-MML_SVG\"></script><script type=\"text/javascript\">if (window.MathJax && window.MathJax.Hub && window.MathJax.Hub.Config) {window.MathJax.Hub.Config({SVG: {font: \"STIX-Web\"}});}</script>                <script type=\"text/javascript\">window.PlotlyConfig = {MathJaxConfig: 'local'};</script>\n",
              "        <script charset=\"utf-8\" src=\"https://cdn.plot.ly/plotly-2.35.2.min.js\"></script>                <div id=\"8783561a-f6a4-4552-9c9a-f0c635f42ee9\" class=\"plotly-graph-div\" style=\"height:525px; width:100%;\"></div>            <script type=\"text/javascript\">                                    window.PLOTLYENV=window.PLOTLYENV || {};                                    if (document.getElementById(\"8783561a-f6a4-4552-9c9a-f0c635f42ee9\")) {                    Plotly.newPlot(                        \"8783561a-f6a4-4552-9c9a-f0c635f42ee9\",                        [{\"autobinx\":false,\"histnorm\":\"probability density\",\"legendgroup\":\"Diabetic\",\"marker\":{\"color\":\"#FFD700\"},\"name\":\"Diabetic\",\"opacity\":0.7,\"x\":[168.0,88.0,543.0,846.0,175.0,230.0,96.0,146.0,115.0,245.0,207.0,240.0,300.0,304.0,90.0,110.0,220.0,36.0,135.0,495.0,175.0,100.0,99.0,145.0,168.0,225.0,155.0,114.0,156.0,130.0,130.0,130.0,495.0,58.0,114.0,160.0,210.0,48.0,99.0,318.0,280.0,130.0,175.0,271.0,129.0,478.0,370.0,192.0,176.0,258.0,150.0,220.0,74.0,182.0,194.0,360.0,184.0,135.0,132.0,180.0,205.0,96.0,29.0,156.0,120.0,171.0,167.0,249.0,325.0,140.0,465.0,325.0,285.0,88.0,579.0,167.0,474.0,115.0,210.0,277.0,180.0,180.0,14.0,64.0,237.0,191.0,328.0,250.0,122.0,145.0,90.0,105.0,165.0,155.0,215.0,190.0,225.0,207.0,274.0,165.0,600.0,156.0,185.0,126.0,293.0,194.0,321.0,144.0,91.0,144.0,159.0,130.0,540.0,70.0,231.0,130.0,180.0,125.0,480.0,125.0,160.0,392.0,185.0,127.0,79.0,120.0,150.0,200.0,510.0,110.0],\"xaxis\":\"x\",\"xbins\":{\"end\":846.0,\"size\":5,\"start\":14.0},\"yaxis\":\"y\",\"type\":\"histogram\"},{\"autobinx\":false,\"histnorm\":\"probability density\",\"legendgroup\":\"Healthy\",\"marker\":{\"color\":\"#7EC0EE\"},\"name\":\"Healthy\",\"opacity\":0.7,\"x\":[94.0,83.0,235.0,140.0,110.0,54.0,192.0,70.0,82.0,36.0,23.0,342.0,110.0,142.0,128.0,38.0,100.0,140.0,270.0,71.0,125.0,71.0,176.0,48.0,64.0,228.0,76.0,64.0,40.0,152.0,140.0,18.0,37.0,51.0,100.0,135.0,94.0,49.0,140.0,50.0,92.0,325.0,63.0,284.0,119.0,204.0,485.0,94.0,135.0,53.0,105.0,285.0,78.0,48.0,55.0,92.0,23.0,94.0,44.0,190.0,87.0,120.0,190.0,56.0,32.0,744.0,53.0,37.0,45.0,88.0,194.0,680.0,402.0,55.0,375.0,130.0,67.0,56.0,45.0,57.0,116.0,278.0,122.0,155.0,135.0,545.0,49.0,75.0,40.0,120.0,215.0,42.0,105.0,148.0,148.0,85.0,94.0,64.0,140.0,231.0,168.0,68.0,52.0,58.0,255.0,105.0,73.0,108.0,83.0,74.0,43.0,54.0,293.0,83.0,66.0,89.0,66.0,94.0,158.0,84.0,75.0,72.0,82.0,182.0,59.0,110.0,50.0,81.0,196.0,415.0,87.0,275.0,115.0,165.0,176.0,310.0,61.0,170.0,76.0,78.0,145.0,85.0,60.0,50.0,120.0,70.0,92.0,63.0,95.0,210.0,105.0,71.0,60.0,56.0,49.0,105.0,36.0,100.0,140.0,110.0,75.0,49.0,125.0,480.0,265.0,66.0,76.0,193.0,71.0,79.0,170.0,76.0,210.0,86.0,326.0,66.0,130.0,82.0,105.0,188.0,106.0,65.0,56.0,210.0,56.0,76.0,166.0,67.0,106.0,44.0,115.0,215.0,77.0,54.0,88.0,18.0,126.0,126.0,44.0,120.0,330.0,63.0,130.0,140.0,115.0,230.0,25.0,120.0,41.0,272.0,182.0,158.0,15.0,160.0,115.0,54.0,90.0,183.0,66.0,46.0,105.0,152.0,440.0,100.0,106.0,77.0,135.0,90.0,200.0,132.0,190.0,100.0,168.0,49.0,240.0,265.0,45.0,105.0,205.0,180.0,95.0,155.0,200.0,100.0,335.0,387.0,22.0,291.0,178.0,200.0,105.0,180.0,165.0,120.0,160.0,94.0,116.0,140.0,105.0,57.0,74.0,16.0,180.0,112.0],\"xaxis\":\"x\",\"xbins\":{\"end\":744.0,\"size\":5,\"start\":15.0},\"yaxis\":\"y\",\"type\":\"histogram\"},{\"legendgroup\":\"Diabetic\",\"marker\":{\"color\":\"#FFD700\"},\"mode\":\"lines\",\"name\":\"Diabetic\",\"showlegend\":false,\"x\":[14.0,15.664,17.328,18.992,20.656,22.32,23.984,25.648,27.311999999999998,28.976,30.64,32.304,33.968,35.632000000000005,37.296,38.96,40.623999999999995,42.288,43.952,45.616,47.28,48.944,50.608,52.272,53.936,55.6,57.264,58.928,60.592,62.256,63.92,65.584,67.24799999999999,68.912,70.576,72.24000000000001,73.904,75.568,77.232,78.896,80.56,82.224,83.888,85.552,87.216,88.88,90.544,92.208,93.872,95.536,97.2,98.864,100.528,102.192,103.856,105.52,107.184,108.848,110.512,112.176,113.84,115.504,117.168,118.832,120.496,122.16,123.824,125.488,127.152,128.816,130.48000000000002,132.144,133.808,135.47199999999998,137.136,138.8,140.464,142.128,143.792,145.456,147.12,148.784,150.448,152.112,153.776,155.44,157.104,158.768,160.432,162.096,163.76,165.424,167.088,168.752,170.416,172.08,173.744,175.408,177.072,178.736,180.4,182.064,183.728,185.392,187.056,188.72,190.384,192.048,193.712,195.376,197.04,198.704,200.368,202.032,203.696,205.36,207.024,208.688,210.352,212.016,213.68,215.344,217.008,218.672,220.336,222.0,223.664,225.328,226.992,228.656,230.32,231.984,233.648,235.312,236.976,238.64,240.304,241.968,243.632,245.296,246.96,248.624,250.288,251.952,253.616,255.28,256.94399999999996,258.608,260.272,261.93600000000004,263.6,265.264,266.928,268.592,270.256,271.92,273.584,275.248,276.912,278.576,280.24,281.904,283.568,285.232,286.896,288.56,290.224,291.888,293.552,295.216,296.88,298.544,300.208,301.872,303.536,305.2,306.864,308.528,310.192,311.856,313.52,315.184,316.848,318.512,320.176,321.84,323.504,325.168,326.832,328.496,330.16,331.824,333.488,335.152,336.816,338.48,340.144,341.808,343.472,345.136,346.8,348.464,350.128,351.792,353.456,355.12,356.784,358.448,360.112,361.776,363.44,365.104,366.768,368.432,370.096,371.76,373.424,375.088,376.752,378.416,380.08,381.744,383.408,385.072,386.736,388.4,390.064,391.728,393.392,395.056,396.72,398.384,400.048,401.712,403.376,405.04,406.704,408.368,410.032,411.696,413.36,415.024,416.688,418.352,420.016,421.68,423.344,425.008,426.672,428.336,430.0,431.664,433.328,434.992,436.656,438.32,439.984,441.648,443.312,444.976,446.64,448.304,449.968,451.632,453.296,454.96,456.624,458.288,459.952,461.616,463.28,464.944,466.608,468.272,469.936,471.6,473.264,474.928,476.592,478.256,479.92,481.584,483.248,484.912,486.576,488.24,489.904,491.568,493.232,494.896,496.56,498.224,499.888,501.552,503.216,504.88,506.544,508.208,509.872,511.536,513.2,514.864,516.528,518.192,519.856,521.52,523.184,524.848,526.512,528.176,529.84,531.504,533.168,534.832,536.496,538.16,539.824,541.488,543.152,544.816,546.48,548.144,549.808,551.472,553.136,554.8,556.464,558.128,559.792,561.456,563.12,564.784,566.448,568.112,569.776,571.44,573.104,574.768,576.432,578.096,579.76,581.424,583.088,584.752,586.416,588.08,589.744,591.408,593.072,594.736,596.4,598.064,599.728,601.392,603.056,604.72,606.384,608.048,609.712,611.376,613.04,614.704,616.368,618.032,619.696,621.36,623.024,624.688,626.352,628.016,629.68,631.344,633.008,634.672,636.336,638.0,639.664,641.328,642.992,644.656,646.32,647.984,649.648,651.312,652.976,654.64,656.304,657.968,659.632,661.296,662.96,664.624,666.288,667.952,669.616,671.28,672.944,674.608,676.272,677.936,679.6,681.264,682.928,684.592,686.256,687.92,689.584,691.248,692.912,694.576,696.24,697.904,699.568,701.232,702.896,704.56,706.224,707.888,709.552,711.216,712.88,714.544,716.208,717.872,719.536,721.2,722.864,724.528,726.192,727.856,729.52,731.184,732.848,734.512,736.176,737.84,739.504,741.168,742.832,744.496,746.16,747.824,749.488,751.152,752.816,754.48,756.144,757.808,759.472,761.136,762.8,764.464,766.128,767.792,769.456,771.12,772.784,774.448,776.112,777.776,779.44,781.104,782.768,784.432,786.096,787.76,789.424,791.088,792.752,794.416,796.08,797.744,799.408,801.072,802.736,804.4,806.064,807.728,809.392,811.056,812.72,814.384,816.048,817.712,819.376,821.04,822.704,824.368,826.032,827.696,829.36,831.024,832.688,834.352,836.016,837.68,839.344,841.008,842.672,844.336],\"xaxis\":\"x\",\"y\":[0.0007421782697487646,0.0007733615203708482,0.0008054771017859164,0.0008385344699753142,0.000872542082972647,0.000907507322880945,0.0009434364164578446,0.000980334354578299,0.0010182048109122865,0.0010570500601817829,0.0010968708963866051,0.0011376665514123336,0.0011794346144551118,0.0012221709527174144,0.001265869633845539,0.0013105228505935398,0.0013561208482091107,0.0014026518550446024,0.0014501020169005033,0.0014984553356093481,0.001547693612364958,0.0015977963962950485,0.0016487409387645601,0.0017005021538825612,0.0017530525856671465,0.0018063623823006958,0.0018603992778819527,0.0019151285820520419,0.0019705131778387287,0.0020265135280272337,0.002083087690326952,0.0021401913415617225,0.0021977778110671814,0.002255798123432403,0.002314201050675117,0.0023729331738901083,0.0024319389543599416,0.002491160814065821,0.00255053922548468,0.002610012810507123,0.002669518448259641,0.0027289913915641644,0.002788365391718928,0.00284757283123701,0.002906544864133153,0.0029652115633060903,0.003023502074522467,0.0030813447764704103,0.0031386674463155873,0.0031953974301607044,0.0032514618177810384,0.0033067876209837634,0.003361301954917769,0.003414932221643528,0.003467606295259124,0.0035192527078693257,0.0035698008356789862,0.0036191810844906124,0.00366732507388804,0.0037141658193943256,0.0037596379119014048,0.0038036776936822675,0.003846223430312714,0.003887215477849347,0.003926596444632952,0.0039643113471114965,0.004000307759104929,0.004034535953963734,0.00406694903910551,0.004097503082447555,0.004126157230289151,0.004152873816233935,0.004177618460780956,0.004200360161251842,0.004221071371761303,0.0042397280729783,0.004256309831465836,0.004270799848427936,0.004283184997733107,0.004293455853123968,0.004301606704563064,0.004307635563704369,0.004311544158519334,0.004313337917144601,0.004313025941056227,0.004310620967712044,0.0043061393228394,0.004299600862580456,0.004291028905740612,0.004280450156418097,0.0042678946173238435,0.004253395494130589,0.004236989091218423,0.004218714699211113,0.00419861447472278,0.004176733312758488,0.004153118712234533,0.004127820635104759,0.004100891359598075,0.004072385328089427,0.004042358990141647,0.004010870641268958,0.0039779802579842935,0.00394374932970195,0.003908240688074507,0.0038715183343482115,0.003833647265324222,0.0037946932985142307,0.0037547228970778294,0.0037138029951258485,0.003672000823968432,0.0036293837398791743,0.003586019053936872,0.0035419738644947743,0.0034973148928133515,0.003452108322376704,0.0034064196423950334,0.003360313495975793,0.003313853533424801,0.0032671022711152223,0.003220120956337666,0.0031729694385183495,0.0031257060471644375,0.003078387476866986,0.003031068679661681,0.00298380276501661,0.002936640907684506,0.0028896322636241993,0.002842823894163083,0.0027962606985387976,0.002749985354924672,0.0027040382700095327,0.002658457537168871,0.002613278903230595,0.002568535743805485,0.0025242590471196143,0.0024804774062538826,0.002437217019664343,0.0023945016998264436,0.002352352889816734,0.0023107896876170477,0.0022698288778988853,0.002229484971019671,0.0021897702489380075,0.002150694817731782,0.002112266666381543,0.0020744917314614378,0.0020373739673619127,0.002000915421651811,0.001965116315172877,0.0019299751264469436,0.001895488679965181,0.0018616522379200206,0.0018284595949334028,0.0017959031753302412,0.0017639741325031696,0.0017326624499139584,0.0017019570432782688,0.001671845863483874,0.0016423159997978746,0.0016133537829259297,0.0015849448874959184,0.0015570744335499272,0.0015297270866415963,0.001502887156151077,0.001476538691446525,0.0014506655755396566,0.0014252516159027747,0.0014002806321361445,0.0013757365401973066,0.0013516034329277458,0.0013278656566372597,0.0013045078835320233,0.0012815151797987802,0.001258873069184437,0.0012365675919375793,0.001214585359005697,0.001192913601409213,0.001171540214740369,0.001150453798761561,0.0011296436921036373,0.001109100002089677,0.0010888136297338617,0.001068776289987858,0.0010489805273286726,0.0010294197268019161,0.0010100881206528218,0.000990980790693975,0.0009720936665734904,0.0009534235201202724,0.0009349679559538225,0.0009167253985549765,0.0008986950760007372,0.0008808770005712454,0.0008632719464397276,0.0008458814246571871,0.0008287076556426949,0.0008117535393874362,0.0007950226235764334,0.0007785190698260738,0.0007622476182285347,0.0007462135503859769,0.0007304226511082803,0.0007148811689381525,0.0006995957756570526,0.0006845735249146282,0.0006698218101134516,0.0006553483216701475,0.0006411610037634746,0.000627268010670023,0.0006136776627788959,0.0006003984023683693,0.0005874387492201442,0.000574807256140596,0.000562512464453509,0.0005505628595251996,0.0005389668263808399,0.0005277326054701022,0.0005168682486411358,0.0005063815753841462,0.0004962801294096264,0.0004865711356313491,0.000477261457630601,0.00046835755568557506,0.0004598654454583222,0.00045179065744087256,0.00044413819727201443,0.0004369125070464553,0.00043011742774851574,0.00042375616295285077,0.0004178312439447453,0.0004123444964219963,0.00040729700894908495,0.000402689103341946,0.00039852030716798373,0.00039478932855080607,0.0003914940334722198,0.00038863142576525174,0.00038619762999101423,0.00038418787738913343,0.0003825964950859982,0.00038141689873716177,0.00038064158876990233,0.00038026215037905304,0.00038026925741389573,0.00038065268027612627,0.00038140129792882356,0.000382503114094019,0.00038394527769211015,0.0003857141075501263,0.0003877951213779784,0.0003901730689825668,0.00039283196965923204,0.0003957551536688448,0.0003989253076771241,0.00040232452400090963,0.00040593435347442653,0.0004097358617174066,0.00041370968855664123,0.0004178361103234851,0.00042209510472230666,0.00042646641793931273,0.0004309296336377604,0.0004354642434646885,0.00044004971867622316,0.0004446655824733776,0.0004492914826284619,0.00045390726397372984,0.0004584930403190172,0.00046302926536387454,0.00046749680217214563,0.0004718769907831791,0.0004761517135437474,0.000480303457758332,0.00048431537527255606,0.00048817133862507446,0.0004918559934269862,0.0004953548066546138,0.0004986541105710284,0.0005017411420237148,0.0005046040768999763,0.0005072320595577154,0.0005096152270867862,0.0005117447282947709,0.0005136127373505039,0.0005152124620584567,0.0005165381467769399,0.0005175850700324955,0.0005183495369215459,0.0005188288664279158,0.0005190213738209491,0.0005189263483332499,0.00051854402634929,0.0005178755603659484,0.000516922984013287,0.0005156891734482066,0.0005141778054549758,0.0005123933126047796,0.0005103408358412635,0.0005080261748705411,0.0005054557367421436,0.0005026364830120079,0.000499575875879773,0.0004962818236905063,0.0004927626261855353,0.0004890269198785263,0.0004850836239213912,0.00048094188681025563,0.00047661103426478295,0.0004721005185947976,0.0004674198698466917,0.00046257864899872515,0.0004575864034493661,0.0004524526250164716,0.0004471867106377475,0.0004417979259347253,0.0004362953717738422,0.0004306879539293035,0.00042498435592355554,0.0004191930150926545,0.00041332210189582705,0.00040737950246133494,0.0004013728043345741,0.00039530928536937575,0.0003891959056799379,0.00038303930254881576,0.00037684578816615046,0.0003706213500568619,0.0003643716540360606,0.00035810204951846497,0.0003518175769952018,0.00034552297748112216,0.0003392227037276035,0.0003329209329898191,0.0003266215811335294,0.00032032831786463537,0.0003140445828648761,0.0003077736026191569,0.0003015184077239345,0.00029528185047173486,0.0002890666225141857,0.0002828752724147186,0.000276710222912232,0.0002705737877283792,0.0002644681877635428,0.0002583955665399315,0.000252358004764295,0.0002463575338974927,0.0002403961486332792,0.00023447581820411188,0.0002285984964473819,0.00022276613058102104,0.00021698066865287897,0.00021124406564338233,0.00020555828821571754,0.00019992531812194615,0.0001943471542870071,0.00018882581360533146,0.00018336333049673447,0.00017796175527927754,0.00017262315142680605,0.0001673495917878563,0.0001621431538505136,0.00015700591414454925,0.00015193994187778635,0.00014694729190808898,0.00014202999715565986,0.00013719006056248532,0.00013242944670677854,0.00012775007318022112,0.00012315380183466914,0.00011864243000289757,0.0001142176817948903,0.00010988119956726297,0.00010563453565868963,0.00010147914447873457,0.00009741637503141797,0.00009344746394817074,0.00008957352909772733,0.00008579556383297665,0.00008211443192700124,0.0000785308632425068,0.00007504545017071044,0.0000716586448675838,0.0000683707573071981,0.00006518195416391361,0.00006209225852731509,0.00005910155044622677,0.00005620956829088496,0.000053415910915453584,0.000050720040596612446,0.00004812128671793091,0.00004561885016424114,0.000043211808385232184,0.000040899121083042047,0.000038679636474745724,0.00003655209807730796,0.0000345151519598222,0.00003256735440565424,0.00003070717992547229,0.00002893302956102415,0.00002724323941893313,0.000025636089373669852,0.000024109811879208582,0.000022662600829662398,0.00002129262041036464,0.000019998013882407658,0.000018776912245514982,0.00001762744272627607,0.00001654773704118287,0.000015535939386530443,0.00001459021411004996,0.000013708753022098435,0.000012889782307298661,0.000012131569000684997,0.00001143242699562725,0.000010790722554064395,0.000010204879292849113,9.67338262327402e-6,9.194783624101388e-6,8.767702331635879e-6,8.390830433561322e-6,8.062933356392838e-6,7.782851739478295e-6,7.5495022915091196e-6,7.361878028476262e-6,7.219047894929071e-6,7.120155773269754e-6,7.064418888646698e-6,7.051125619800122e-6,7.079632728970247e-6,7.149362026704348e-6,7.259796490100022e-6,7.410475855700558e-6,7.6009917109169195e-6,7.830982110489379e-6,8.100125747119984e-6,8.408135707999708e-6,8.754752851517068e-6,9.139738840959388e-6,9.562868874491586e-6,0.000010023924153110061,0.00001052268413060037,0.00001105891859176344,0.000011632379607290944,0.000012242793415643978,0.000012889852284099215,0.000013573206402738214,0.000014292455866551242,0.000015047142801966944,0.00001583674369498487,0.000016660661978641208,0.000017518220937755833,0.000018408656988764424,0.000019331113391899655,0.00002028463445203957,0.000021268160263155577,0.000022280522049458492,0.000023320438154044192,0.00002438651072306541,0.000025477223130210763,0.000026590938182541736,0.000027725897144547277,0.00002888021961261773,0.00003005190426704819,0.00003123883052317398,0.0000324387610973436,0.00003364934549719531,0.00003486812443915068,0.00003609253518923262,0.000037319917816297166,0.00003854752233960859,0.00003977251674543393,0.00004099199584006319,0.000042202990899439264,0.00004340248006847336,0.00004458739945621119,0.000045754654866359175,0.0000469011340963686,0.00004802371973236357,0.000049119302361768925,0.00005018479412059997,0.000051217142488089654,0.000052213344237701695,0.00005317045945066116,0.00005408562549597601,0.000054956070879553664,0.00005577912886447599,0.0000565522507647948,0.00005727301881636699,0.0000579391585302639,0.00005854855043715615,0.00005909924113478314,0.00005958945355512951,0.00006001759637322759,0.000060382272485529006,0.00006068228649249922,0.00006091665112741812,0.00006108459258125331,0.00006118555468183744],\"yaxis\":\"y\",\"type\":\"scatter\"},{\"legendgroup\":\"Healthy\",\"marker\":{\"color\":\"#7EC0EE\"},\"mode\":\"lines\",\"name\":\"Healthy\",\"showlegend\":false,\"x\":[15.0,16.458,17.916,19.374,20.832,22.29,23.747999999999998,25.206,26.664,28.122,29.58,31.038,32.495999999999995,33.954,35.412,36.870000000000005,38.328,39.786,41.244,42.702,44.16,45.617999999999995,47.076,48.534,49.992,51.45,52.908,54.366,55.824,57.282,58.74,60.198,61.656,63.114,64.572,66.03,67.488,68.946,70.404,71.862,73.32,74.77799999999999,76.23599999999999,77.694,79.152,80.61,82.068,83.526,84.984,86.442,87.9,89.358,90.816,92.274,93.732,95.19,96.648,98.106,99.564,101.022,102.48,103.938,105.396,106.854,108.312,109.77,111.228,112.686,114.144,115.602,117.06,118.518,119.976,121.434,122.892,124.35,125.808,127.266,128.724,130.18200000000002,131.64,133.098,134.55599999999998,136.014,137.47199999999998,138.93,140.388,141.846,143.304,144.762,146.22,147.678,149.136,150.594,152.052,153.51,154.968,156.426,157.884,159.342,160.8,162.258,163.716,165.174,166.632,168.09,169.548,171.006,172.464,173.922,175.38,176.838,178.296,179.754,181.212,182.67,184.128,185.586,187.044,188.502,189.96,191.418,192.876,194.334,195.792,197.25,198.708,200.166,201.624,203.082,204.54,205.998,207.456,208.914,210.372,211.83,213.288,214.746,216.204,217.662,219.12,220.578,222.036,223.494,224.952,226.41,227.868,229.326,230.784,232.242,233.7,235.158,236.616,238.074,239.532,240.99,242.448,243.906,245.364,246.822,248.28,249.738,251.196,252.654,254.112,255.57,257.028,258.486,259.94399999999996,261.402,262.86,264.318,265.776,267.23400000000004,268.692,270.15,271.608,273.066,274.524,275.982,277.44,278.898,280.356,281.814,283.272,284.73,286.188,287.646,289.104,290.562,292.02,293.478,294.936,296.394,297.852,299.31,300.768,302.226,303.684,305.142,306.6,308.058,309.516,310.974,312.432,313.89,315.348,316.806,318.264,319.722,321.18,322.638,324.096,325.554,327.012,328.47,329.928,331.386,332.844,334.302,335.76,337.218,338.676,340.134,341.592,343.05,344.508,345.966,347.424,348.882,350.34,351.798,353.256,354.714,356.172,357.63,359.088,360.546,362.004,363.462,364.92,366.378,367.836,369.294,370.752,372.21,373.668,375.126,376.584,378.042,379.5,380.958,382.416,383.874,385.332,386.79,388.248,389.706,391.164,392.622,394.08,395.538,396.996,398.454,399.912,401.37,402.828,404.286,405.744,407.202,408.66,410.118,411.576,413.034,414.492,415.95,417.408,418.866,420.324,421.782,423.24,424.698,426.156,427.614,429.072,430.53,431.988,433.446,434.904,436.362,437.82,439.278,440.736,442.194,443.652,445.11,446.568,448.026,449.484,450.942,452.4,453.858,455.316,456.774,458.232,459.69,461.148,462.606,464.064,465.522,466.98,468.438,469.896,471.354,472.812,474.27,475.728,477.186,478.644,480.102,481.56,483.018,484.476,485.934,487.392,488.85,490.308,491.766,493.224,494.682,496.14,497.598,499.056,500.514,501.972,503.43,504.888,506.346,507.804,509.262,510.72,512.178,513.636,515.094,516.552,518.01,519.4680000000001,520.9259999999999,522.384,523.842,525.3,526.758,528.216,529.674,531.132,532.59,534.048,535.506,536.964,538.422,539.88,541.338,542.796,544.254,545.712,547.17,548.628,550.086,551.544,553.002,554.46,555.918,557.376,558.834,560.292,561.75,563.208,564.666,566.124,567.582,569.04,570.498,571.956,573.414,574.872,576.33,577.788,579.246,580.704,582.162,583.62,585.078,586.536,587.994,589.452,590.91,592.368,593.826,595.284,596.742,598.2,599.658,601.116,602.574,604.032,605.49,606.948,608.406,609.864,611.322,612.78,614.238,615.696,617.154,618.612,620.07,621.528,622.986,624.444,625.902,627.36,628.818,630.276,631.734,633.192,634.65,636.108,637.566,639.024,640.482,641.94,643.398,644.856,646.314,647.772,649.23,650.688,652.146,653.604,655.062,656.52,657.978,659.436,660.894,662.352,663.81,665.268,666.726,668.184,669.642,671.1,672.558,674.016,675.474,676.932,678.39,679.848,681.306,682.764,684.222,685.68,687.138,688.596,690.054,691.512,692.97,694.428,695.886,697.344,698.802,700.26,701.718,703.176,704.634,706.092,707.55,709.008,710.466,711.924,713.382,714.84,716.298,717.756,719.214,720.672,722.13,723.588,725.046,726.504,727.962,729.42,730.878,732.336,733.794,735.252,736.71,738.168,739.626,741.084,742.542],\"xaxis\":\"x\",\"y\":[0.0023042158005201698,0.0024114885223382163,0.0025206594677891353,0.0026315570452008197,0.002743998108027666,0.002857788526720662,0.0029727238486508337,0.0030885900430425795,0.003205164326930728,0.003322216067232943,0.003439507753141257,0.0035567960321966447,0.00367383280263157,0.003790366353860252,0.0039061425463763947,0.004020906021794329,0.00413440143335063,0.0042463746868778235,0.004356574182074925,0.00446475204383642,0.004570665333463226,0.004674077229766922,0.004774758170390014,0.004872486944096268,0.004967051725329714,0.005058251042992355,0.005145894676136718,0.005229804470101783,0.005309815067524124,0.005385774549618235,0.005457544984125287,0.005525002877362799,0.005588039528853128,0.005646561288050463,0.005700489713708778,0.005749761637421455,0.005794329133804211,0.005834159400671237,0.005869234553361409,0.005899551338093622,0.005925120769862284,0.0059459677009165955,0.005962130326297495,0.005973659633230194,0.005980618801387583,0.005983082561151728,0.0059811365170096215,0.005974876443130334,0.005964407557989924,0.005949843784645351,0.005931307002918198,0.005908926299343342,0.005882837220276668,0.005853181033051901,0.005820103999539844,0.005783756665905977,0.005744293171795803,0.005701870581612236,0.0056566482399958914,0.005608787153088041,0.005558449396653792,0.005505797551680062,0.005450994167642979,0.005394201253269769,0.005335579794303235,0.005275289297516859,0.005213487360025142,0.0051503292627883964,0.00508596758712219,0.005020551852986408,0.004954228177845349,0.004887138954952819,0.00481942255002114,0.004751213015373796,0.004682639820852632,0.004613827600945059,0.004544895917808225,0.004475959040088505,0.004407125737659206,0.004338499092620128,0.0042701763271138764,0.004202248648708603,0.0041348011142705015,0.0040679125133965014,0.004001655272594194,0.003936095381477974,0.003871292342296061,0.0038072991441087966,0.0037441622629048473,0.0036819216888672205,0.003620610981886169,0.003560257356262376,0.0035008817953531305,0.003442499196689325,0.00338511854783533,0.0033287431329811937,0.003273370769951525,0.0032189940769929365,0.003165600768367282,0.0031131739774364177,0.003061692605582335,0.003011131694968967,0.0029614628228256277,0.0029126545146217066,0.0028646726732140856,0.002817481020787145,0.0027710415501757497,0.0027253149819679375,0.0026802612236300725,0.0026358398267862237,0.002592010438718074,0.002548733244132934,0.002505969393277444,0.0024636814125527495,0.0024218335939134544,0.002380392359506196,0.0023393265982222383,0.002298607971099838,0.0022582111828128074,0.0022181142168181405,0.0021782985321035105,0.002138749219870012,0.0020994551189020315,0.0020604088888086926,0.002021607040765012,0.0019830499258295235,0.0019447416813633124,0.0019066901365175789,0.0018689066781871354,0.001831406079240973,0.0017942062912326266,0.0017573282041583275,0.0017207953761653788,0.00168463373641313,0.00164887126455101,0.0016135376504995632,0.0015786639383990613,0.0015442821587242025,0.001510424952651763,0.0014771251928099671,0.0014444156045339046,0.0014123283917009378,0.0013808948711247692,0.001350145119347993,0.0013201076354927156,0.0012908090236092523,0.00126227369770702,0.001234523612362553,0.0012075780214804597,0.0011814532674381286,0.0011561626024777514,0.0011317160438243145,0.0011081202636099232,0.0010853785142777065,0.0010634905897273768,0.0010424528220540398,0.001022258113326733,0.0010028960014583268,0.000984352758838378,0.0009666115220398416,0.0009496524505737404,0.0009334529123567948,0.0009179876932797747,0.0009032292280222217,0.0008891478490553854,0.000875712050612296,0.0008628887642841099,0.0008506436428265669,0.0008389413487307912,0.0008277458441290008,0.000817020678667558,0.0008067292720865276,0.0007968351883944541,0.0007873023987174703,0.0007780955301299156,0.0007691800980358836,0.0007605227199633291,0.0007520913089498629,0.0007438552450371106,0.0007357855237428256,0.0007278548807412915,0.0007200378923467403,0.0007123110517558083,0.0007046528213571949,0.0006970436617541029,0.0006894660384621056,0.0006819044075366164,0.0006743451816454816,0.0006667766783294249,0.0006591890523824564,0.000651574214433565,0.0006439257379179019,0.000636238756689397,0.0006285098555470454,0.0006207369559246612,0.0006129191989303506,0.000605056827819564,0.0005971510718474896,0.0005892040332766388,0.0005812185791179915,0.0005731982389641494,0.0005651471100356269,0.0005570697703125565,0.0005489712003690973,0.0005408567142727251,0.0005327318996607157,0.0005246025668670687,0.0005164747067496702,0.0005083544566643814,0.0005002480738537582,0.0004921619153667152,0.0004841024235041151,0.0004760761156959611,0.00046808957765954773,0.0004601494586648824,0.0004522624677433941,0.0004444353697170628,0.0004366749799957236,0.0004289881571876124,0.000421381792689195,0.0004138627965610993,0.00040643807915357813,0.0003991145281129626,0.0003918989805755542,0.00038479819053276827,0.00037781879152659566,0.0003709672550033214,0.0003642498448117688,0.0003576725684765911,0.0003512411260038998,0.00034496085708318167,0.0003388366876337212,0.00033287307670408197,0.00032707396476856624,0.0003214427244746191,0.00031598211488005374,0.0003106942401796262,0.0003055805138581227,0.00030064162912366553,0.0002958775363726027,0.00029128742831874635,0.0002868697332878194,0.00028262211703580206,0.0002785414933007661,0.00027462404314496395,0.0002708652429907352,0.0002672599011032929,0.0002638022021287247,0.00026048575915929237,0.000257303672672841,0.00025424859558101647,0.00025131280352379043,0.00024848826946699196,0.0002457667415961213,0.00024313982345438326,0.00024059905524582967,0.00023813599521567568,0.0002357423000287992,0.00023340980309337342,0.0002311305898184775,0.00022889706885112853,0.00022670203840795402,0.00022453874689810807,0.0002224009471252179,0.00022028294345539625,0.0002181796314437745,0.00021608652952181544,0.00021399980246006022,0.00021191627643426083,0.000209833445635411,0.00020774947047456812,0.00020566316754018027,0.00020357399156766245,0.000201482009777186,0.0001993878690250977,0.00019729275629629906,0.00019519835313868314,0.00019310678470579374,0.00019102056412989625,0.00018894253299430385,0.0001868757987109371,0.00018482366963657113,0.00018278958877902373,0.0001807770669526924,0.00017878961624141472,0.0001768306846157709,0.0001749035925318116,0.00017301147230902204,0.00017115721104737816,0.00016934339779693265,0.00016757227563885807,0.00016584569927468408,0.00016416509865112289,0.00016253144907190945,0.00016094524816618016,0.0001594064999957849,0.0001579147064924199,0.00015646886632049076,0.00015506748116419955,0.0001537085693385837,0.00015238968652532997,0.0001511079533363874,0.00014986008931304614,0.00014864245287659863,0.0001474510866603378,0.0001462817675728683,0.0001451300608708627,0.00014399137745679845,0.000142861033565067,0.00014173431195927321,0.00014060652373548105,0.00013947306981142456,0.0001383295011808457,0.0001371715770255481,0.00013599531980556628,0.00013479706648994024,0.00013357351514655693,0.00013232176617871975,0.00013103935757762376,0.0001297242936525654,0.00012837506680310105,0.000126990672007848,0.00012557061382138172,0.00012411490579174907,0.0001226240623343719,0.00012109908322140877,0.00011954143096672989,0.00011795300150335483,0.00011633608866034878,0.00011469334304771948,0.00011302772604891027,0.00011134245969932288,0.00010964097329445148,0.00010792684762142385,0.00010620375774211263,0.00010447541527384162,0.00010274551111478586,0.00010101765954546653,0.00009929534460563123,0.0000975818695979682,0.00009588031050752426,0.00009419347404965681,0.00009252386097138857,0.0000908736351329178,0.0000892445987897152,0.00008763817438320864,0.00008605539303172076,0.00008449688979532181,0.00008296290567084577,0.0000814532961587168,0.00007996754613353087,0.00007850479064757075,0.00007706384120237,0.00007564321693972574,0.00007424118013155167,0.00007285577528876654,0.00007148487116387052,0.00007012620489050751,0.00006877742748639118,0.00006743614994343364,0.00006609998914042555,0.00006476661283857066,0.00006343378305770576,0.00006209939718006766,0.00006076152618770309,0.00005941844950761922,0.00005806868601394919,0.00005671102081709568,0.00005534452755427917,0.0000539685859824206,0.000052582894761088544,0.00005118747939868172,0.00004978269541750404,0.00004836922687145821,0.000046948080422406024,0.000045520575246666685,0.0000440883291006636,0.000042653240923615686,0.00004121747039481349,0.00003978341489306229,0.00003835368432615743,0.00003693107430880624,0.000035518538168479576,0.000034119158250657183,0.00003273611697842021,0.00003137266809704268,0.00003003210850300268,0.000028717751019607733,0.000027432898439241797,0.000026180819106159632,0.000024964724264899858,0.0000237877473488658,0.000022652925332543105,0.00002156318222024536,0.000020521314695216133,0.000019529979906307287,0.000018591685326156832,0.000017708780575549737,0.0000168834510741162,0.000016117713348233397,0.000015413411803348155,0.000014772216750225426,0.000014195623463000672,0.000013684952041417803,0.00001324134785017867,0.000012865782314725656,0.000012559053864716315,0.000012321788833530813,0.0000121544421438825,0.000012057297635412019,0.000012030467919394485,0.000012073893677683835,0.000012187342357017315,0.000012370406245038957,0.00001262249995008176,0.000012942857342083326,0.000013330528046209707,0.000013784373613063776,0.000014303063519020845,0.000014885071176581709,0.000015528670157025865,0.000016231930845526365,0.00001699271776176228,0.000017808687786543684,0.000018677289536739732,0.00001959576412668085,0.00002056114754409598,0.000021570274852577352,0.000022619786410672115,0.000023706136270247642,0.00002482560288412986,0.000025974302215669806,0.000027148203301437905,0.000028343146273371375,0.000029554862799203914,0.000030778998850730835,0.00003201113965935755,0.00003324683666839765,0.0000344816362427587,0.00003571110984998217,0.00003693088538311822,0.000038136679256590335,0.000039324328871994346,0.00004048982502253756,0.000041629343783354856,0.000042739277420901354,0.000043816263848583046,0.000044857214158145056,0.00004585933776736068,0.00004682016474433968,0.0000477375648972329,0.00004860976325499577,0.000049435351609760266,0.00005021329584366078,0.00005094293882189831,0.00005162399869849698,0.00005225656255055479,0.000052841075329645073,0.000053378324194111744,0.00005386941836197589,0.00005431576469963199,0.00005471903933504809,0.00005508115565437426,0.000055404229106340284,0.0000556905392982694,0.0000559424899197379,0.00005616256707376798,0.00005635329663000305,0.00005651720123879112,0.00005665675765889113,0.00005677435505421564,0.00005687225490643584,0.00005695255317042843,0.000057017145268675886,0.000057067694479303594,0.000057105604221110675,0.000057131994678592475,0.00005714768414159897,0.000057153175359130706,0.00005714864712617745,0.00005713395123790485,0.0000571086148584181,0.00005707184826335827,0.00005702255782831265,0.00005695936405002883,0.00005688062430624604,0.00005678445998406009,0.00005666878753746753,0.00005653135297331415,0.00005636976921236049,0.000056181555729461245,0.00005596417984462338,0.000055715099015445634,0.000055431803471417855,0.000055111858531827215,0.00005475294596141176,0.00005435290374105207,0.00005390976366411877,0.00005342178621184664,0.000052887492212350926],\"yaxis\":\"y\",\"type\":\"scatter\"},{\"legendgroup\":\"Diabetic\",\"marker\":{\"color\":\"#FFD700\",\"symbol\":\"line-ns-open\"},\"mode\":\"markers\",\"name\":\"Diabetic\",\"showlegend\":false,\"x\":[168.0,88.0,543.0,846.0,175.0,230.0,96.0,146.0,115.0,245.0,207.0,240.0,300.0,304.0,90.0,110.0,220.0,36.0,135.0,495.0,175.0,100.0,99.0,145.0,168.0,225.0,155.0,114.0,156.0,130.0,130.0,130.0,495.0,58.0,114.0,160.0,210.0,48.0,99.0,318.0,280.0,130.0,175.0,271.0,129.0,478.0,370.0,192.0,176.0,258.0,150.0,220.0,74.0,182.0,194.0,360.0,184.0,135.0,132.0,180.0,205.0,96.0,29.0,156.0,120.0,171.0,167.0,249.0,325.0,140.0,465.0,325.0,285.0,88.0,579.0,167.0,474.0,115.0,210.0,277.0,180.0,180.0,14.0,64.0,237.0,191.0,328.0,250.0,122.0,145.0,90.0,105.0,165.0,155.0,215.0,190.0,225.0,207.0,274.0,165.0,600.0,156.0,185.0,126.0,293.0,194.0,321.0,144.0,91.0,144.0,159.0,130.0,540.0,70.0,231.0,130.0,180.0,125.0,480.0,125.0,160.0,392.0,185.0,127.0,79.0,120.0,150.0,200.0,510.0,110.0],\"xaxis\":\"x\",\"y\":[\"Diabetic\",\"Diabetic\",\"Diabetic\",\"Diabetic\",\"Diabetic\",\"Diabetic\",\"Diabetic\",\"Diabetic\",\"Diabetic\",\"Diabetic\",\"Diabetic\",\"Diabetic\",\"Diabetic\",\"Diabetic\",\"Diabetic\",\"Diabetic\",\"Diabetic\",\"Diabetic\",\"Diabetic\",\"Diabetic\",\"Diabetic\",\"Diabetic\",\"Diabetic\",\"Diabetic\",\"Diabetic\",\"Diabetic\",\"Diabetic\",\"Diabetic\",\"Diabetic\",\"Diabetic\",\"Diabetic\",\"Diabetic\",\"Diabetic\",\"Diabetic\",\"Diabetic\",\"Diabetic\",\"Diabetic\",\"Diabetic\",\"Diabetic\",\"Diabetic\",\"Diabetic\",\"Diabetic\",\"Diabetic\",\"Diabetic\",\"Diabetic\",\"Diabetic\",\"Diabetic\",\"Diabetic\",\"Diabetic\",\"Diabetic\",\"Diabetic\",\"Diabetic\",\"Diabetic\",\"Diabetic\",\"Diabetic\",\"Diabetic\",\"Diabetic\",\"Diabetic\",\"Diabetic\",\"Diabetic\",\"Diabetic\",\"Diabetic\",\"Diabetic\",\"Diabetic\",\"Diabetic\",\"Diabetic\",\"Diabetic\",\"Diabetic\",\"Diabetic\",\"Diabetic\",\"Diabetic\",\"Diabetic\",\"Diabetic\",\"Diabetic\",\"Diabetic\",\"Diabetic\",\"Diabetic\",\"Diabetic\",\"Diabetic\",\"Diabetic\",\"Diabetic\",\"Diabetic\",\"Diabetic\",\"Diabetic\",\"Diabetic\",\"Diabetic\",\"Diabetic\",\"Diabetic\",\"Diabetic\",\"Diabetic\",\"Diabetic\",\"Diabetic\",\"Diabetic\",\"Diabetic\",\"Diabetic\",\"Diabetic\",\"Diabetic\",\"Diabetic\",\"Diabetic\",\"Diabetic\",\"Diabetic\",\"Diabetic\",\"Diabetic\",\"Diabetic\",\"Diabetic\",\"Diabetic\",\"Diabetic\",\"Diabetic\",\"Diabetic\",\"Diabetic\",\"Diabetic\",\"Diabetic\",\"Diabetic\",\"Diabetic\",\"Diabetic\",\"Diabetic\",\"Diabetic\",\"Diabetic\",\"Diabetic\",\"Diabetic\",\"Diabetic\",\"Diabetic\",\"Diabetic\",\"Diabetic\",\"Diabetic\",\"Diabetic\",\"Diabetic\",\"Diabetic\",\"Diabetic\",\"Diabetic\"],\"yaxis\":\"y2\",\"type\":\"scatter\"},{\"legendgroup\":\"Healthy\",\"marker\":{\"color\":\"#7EC0EE\",\"symbol\":\"line-ns-open\"},\"mode\":\"markers\",\"name\":\"Healthy\",\"showlegend\":false,\"x\":[94.0,83.0,235.0,140.0,110.0,54.0,192.0,70.0,82.0,36.0,23.0,342.0,110.0,142.0,128.0,38.0,100.0,140.0,270.0,71.0,125.0,71.0,176.0,48.0,64.0,228.0,76.0,64.0,40.0,152.0,140.0,18.0,37.0,51.0,100.0,135.0,94.0,49.0,140.0,50.0,92.0,325.0,63.0,284.0,119.0,204.0,485.0,94.0,135.0,53.0,105.0,285.0,78.0,48.0,55.0,92.0,23.0,94.0,44.0,190.0,87.0,120.0,190.0,56.0,32.0,744.0,53.0,37.0,45.0,88.0,194.0,680.0,402.0,55.0,375.0,130.0,67.0,56.0,45.0,57.0,116.0,278.0,122.0,155.0,135.0,545.0,49.0,75.0,40.0,120.0,215.0,42.0,105.0,148.0,148.0,85.0,94.0,64.0,140.0,231.0,168.0,68.0,52.0,58.0,255.0,105.0,73.0,108.0,83.0,74.0,43.0,54.0,293.0,83.0,66.0,89.0,66.0,94.0,158.0,84.0,75.0,72.0,82.0,182.0,59.0,110.0,50.0,81.0,196.0,415.0,87.0,275.0,115.0,165.0,176.0,310.0,61.0,170.0,76.0,78.0,145.0,85.0,60.0,50.0,120.0,70.0,92.0,63.0,95.0,210.0,105.0,71.0,60.0,56.0,49.0,105.0,36.0,100.0,140.0,110.0,75.0,49.0,125.0,480.0,265.0,66.0,76.0,193.0,71.0,79.0,170.0,76.0,210.0,86.0,326.0,66.0,130.0,82.0,105.0,188.0,106.0,65.0,56.0,210.0,56.0,76.0,166.0,67.0,106.0,44.0,115.0,215.0,77.0,54.0,88.0,18.0,126.0,126.0,44.0,120.0,330.0,63.0,130.0,140.0,115.0,230.0,25.0,120.0,41.0,272.0,182.0,158.0,15.0,160.0,115.0,54.0,90.0,183.0,66.0,46.0,105.0,152.0,440.0,100.0,106.0,77.0,135.0,90.0,200.0,132.0,190.0,100.0,168.0,49.0,240.0,265.0,45.0,105.0,205.0,180.0,95.0,155.0,200.0,100.0,335.0,387.0,22.0,291.0,178.0,200.0,105.0,180.0,165.0,120.0,160.0,94.0,116.0,140.0,105.0,57.0,74.0,16.0,180.0,112.0],\"xaxis\":\"x\",\"y\":[\"Healthy\",\"Healthy\",\"Healthy\",\"Healthy\",\"Healthy\",\"Healthy\",\"Healthy\",\"Healthy\",\"Healthy\",\"Healthy\",\"Healthy\",\"Healthy\",\"Healthy\",\"Healthy\",\"Healthy\",\"Healthy\",\"Healthy\",\"Healthy\",\"Healthy\",\"Healthy\",\"Healthy\",\"Healthy\",\"Healthy\",\"Healthy\",\"Healthy\",\"Healthy\",\"Healthy\",\"Healthy\",\"Healthy\",\"Healthy\",\"Healthy\",\"Healthy\",\"Healthy\",\"Healthy\",\"Healthy\",\"Healthy\",\"Healthy\",\"Healthy\",\"Healthy\",\"Healthy\",\"Healthy\",\"Healthy\",\"Healthy\",\"Healthy\",\"Healthy\",\"Healthy\",\"Healthy\",\"Healthy\",\"Healthy\",\"Healthy\",\"Healthy\",\"Healthy\",\"Healthy\",\"Healthy\",\"Healthy\",\"Healthy\",\"Healthy\",\"Healthy\",\"Healthy\",\"Healthy\",\"Healthy\",\"Healthy\",\"Healthy\",\"Healthy\",\"Healthy\",\"Healthy\",\"Healthy\",\"Healthy\",\"Healthy\",\"Healthy\",\"Healthy\",\"Healthy\",\"Healthy\",\"Healthy\",\"Healthy\",\"Healthy\",\"Healthy\",\"Healthy\",\"Healthy\",\"Healthy\",\"Healthy\",\"Healthy\",\"Healthy\",\"Healthy\",\"Healthy\",\"Healthy\",\"Healthy\",\"Healthy\",\"Healthy\",\"Healthy\",\"Healthy\",\"Healthy\",\"Healthy\",\"Healthy\",\"Healthy\",\"Healthy\",\"Healthy\",\"Healthy\",\"Healthy\",\"Healthy\",\"Healthy\",\"Healthy\",\"Healthy\",\"Healthy\",\"Healthy\",\"Healthy\",\"Healthy\",\"Healthy\",\"Healthy\",\"Healthy\",\"Healthy\",\"Healthy\",\"Healthy\",\"Healthy\",\"Healthy\",\"Healthy\",\"Healthy\",\"Healthy\",\"Healthy\",\"Healthy\",\"Healthy\",\"Healthy\",\"Healthy\",\"Healthy\",\"Healthy\",\"Healthy\",\"Healthy\",\"Healthy\",\"Healthy\",\"Healthy\",\"Healthy\",\"Healthy\",\"Healthy\",\"Healthy\",\"Healthy\",\"Healthy\",\"Healthy\",\"Healthy\",\"Healthy\",\"Healthy\",\"Healthy\",\"Healthy\",\"Healthy\",\"Healthy\",\"Healthy\",\"Healthy\",\"Healthy\",\"Healthy\",\"Healthy\",\"Healthy\",\"Healthy\",\"Healthy\",\"Healthy\",\"Healthy\",\"Healthy\",\"Healthy\",\"Healthy\",\"Healthy\",\"Healthy\",\"Healthy\",\"Healthy\",\"Healthy\",\"Healthy\",\"Healthy\",\"Healthy\",\"Healthy\",\"Healthy\",\"Healthy\",\"Healthy\",\"Healthy\",\"Healthy\",\"Healthy\",\"Healthy\",\"Healthy\",\"Healthy\",\"Healthy\",\"Healthy\",\"Healthy\",\"Healthy\",\"Healthy\",\"Healthy\",\"Healthy\",\"Healthy\",\"Healthy\",\"Healthy\",\"Healthy\",\"Healthy\",\"Healthy\",\"Healthy\",\"Healthy\",\"Healthy\",\"Healthy\",\"Healthy\",\"Healthy\",\"Healthy\",\"Healthy\",\"Healthy\",\"Healthy\",\"Healthy\",\"Healthy\",\"Healthy\",\"Healthy\",\"Healthy\",\"Healthy\",\"Healthy\",\"Healthy\",\"Healthy\",\"Healthy\",\"Healthy\",\"Healthy\",\"Healthy\",\"Healthy\",\"Healthy\",\"Healthy\",\"Healthy\",\"Healthy\",\"Healthy\",\"Healthy\",\"Healthy\",\"Healthy\",\"Healthy\",\"Healthy\",\"Healthy\",\"Healthy\",\"Healthy\",\"Healthy\",\"Healthy\",\"Healthy\",\"Healthy\",\"Healthy\",\"Healthy\",\"Healthy\",\"Healthy\",\"Healthy\",\"Healthy\",\"Healthy\",\"Healthy\",\"Healthy\",\"Healthy\",\"Healthy\",\"Healthy\",\"Healthy\",\"Healthy\",\"Healthy\",\"Healthy\",\"Healthy\",\"Healthy\",\"Healthy\",\"Healthy\",\"Healthy\",\"Healthy\",\"Healthy\",\"Healthy\",\"Healthy\",\"Healthy\",\"Healthy\",\"Healthy\",\"Healthy\",\"Healthy\",\"Healthy\",\"Healthy\",\"Healthy\",\"Healthy\",\"Healthy\"],\"yaxis\":\"y2\",\"type\":\"scatter\"}],                        {\"barmode\":\"overlay\",\"hovermode\":\"closest\",\"legend\":{\"traceorder\":\"reversed\"},\"template\":{\"data\":{\"barpolar\":[{\"marker\":{\"line\":{\"color\":\"#E5ECF6\",\"width\":0.5},\"pattern\":{\"fillmode\":\"overlay\",\"size\":10,\"solidity\":0.2}},\"type\":\"barpolar\"}],\"bar\":[{\"error_x\":{\"color\":\"#2a3f5f\"},\"error_y\":{\"color\":\"#2a3f5f\"},\"marker\":{\"line\":{\"color\":\"#E5ECF6\",\"width\":0.5},\"pattern\":{\"fillmode\":\"overlay\",\"size\":10,\"solidity\":0.2}},\"type\":\"bar\"}],\"carpet\":[{\"aaxis\":{\"endlinecolor\":\"#2a3f5f\",\"gridcolor\":\"white\",\"linecolor\":\"white\",\"minorgridcolor\":\"white\",\"startlinecolor\":\"#2a3f5f\"},\"baxis\":{\"endlinecolor\":\"#2a3f5f\",\"gridcolor\":\"white\",\"linecolor\":\"white\",\"minorgridcolor\":\"white\",\"startlinecolor\":\"#2a3f5f\"},\"type\":\"carpet\"}],\"choropleth\":[{\"colorbar\":{\"outlinewidth\":0,\"ticks\":\"\"},\"type\":\"choropleth\"}],\"contourcarpet\":[{\"colorbar\":{\"outlinewidth\":0,\"ticks\":\"\"},\"type\":\"contourcarpet\"}],\"contour\":[{\"colorbar\":{\"outlinewidth\":0,\"ticks\":\"\"},\"colorscale\":[[0.0,\"#0d0887\"],[0.1111111111111111,\"#46039f\"],[0.2222222222222222,\"#7201a8\"],[0.3333333333333333,\"#9c179e\"],[0.4444444444444444,\"#bd3786\"],[0.5555555555555556,\"#d8576b\"],[0.6666666666666666,\"#ed7953\"],[0.7777777777777778,\"#fb9f3a\"],[0.8888888888888888,\"#fdca26\"],[1.0,\"#f0f921\"]],\"type\":\"contour\"}],\"heatmapgl\":[{\"colorbar\":{\"outlinewidth\":0,\"ticks\":\"\"},\"colorscale\":[[0.0,\"#0d0887\"],[0.1111111111111111,\"#46039f\"],[0.2222222222222222,\"#7201a8\"],[0.3333333333333333,\"#9c179e\"],[0.4444444444444444,\"#bd3786\"],[0.5555555555555556,\"#d8576b\"],[0.6666666666666666,\"#ed7953\"],[0.7777777777777778,\"#fb9f3a\"],[0.8888888888888888,\"#fdca26\"],[1.0,\"#f0f921\"]],\"type\":\"heatmapgl\"}],\"heatmap\":[{\"colorbar\":{\"outlinewidth\":0,\"ticks\":\"\"},\"colorscale\":[[0.0,\"#0d0887\"],[0.1111111111111111,\"#46039f\"],[0.2222222222222222,\"#7201a8\"],[0.3333333333333333,\"#9c179e\"],[0.4444444444444444,\"#bd3786\"],[0.5555555555555556,\"#d8576b\"],[0.6666666666666666,\"#ed7953\"],[0.7777777777777778,\"#fb9f3a\"],[0.8888888888888888,\"#fdca26\"],[1.0,\"#f0f921\"]],\"type\":\"heatmap\"}],\"histogram2dcontour\":[{\"colorbar\":{\"outlinewidth\":0,\"ticks\":\"\"},\"colorscale\":[[0.0,\"#0d0887\"],[0.1111111111111111,\"#46039f\"],[0.2222222222222222,\"#7201a8\"],[0.3333333333333333,\"#9c179e\"],[0.4444444444444444,\"#bd3786\"],[0.5555555555555556,\"#d8576b\"],[0.6666666666666666,\"#ed7953\"],[0.7777777777777778,\"#fb9f3a\"],[0.8888888888888888,\"#fdca26\"],[1.0,\"#f0f921\"]],\"type\":\"histogram2dcontour\"}],\"histogram2d\":[{\"colorbar\":{\"outlinewidth\":0,\"ticks\":\"\"},\"colorscale\":[[0.0,\"#0d0887\"],[0.1111111111111111,\"#46039f\"],[0.2222222222222222,\"#7201a8\"],[0.3333333333333333,\"#9c179e\"],[0.4444444444444444,\"#bd3786\"],[0.5555555555555556,\"#d8576b\"],[0.6666666666666666,\"#ed7953\"],[0.7777777777777778,\"#fb9f3a\"],[0.8888888888888888,\"#fdca26\"],[1.0,\"#f0f921\"]],\"type\":\"histogram2d\"}],\"histogram\":[{\"marker\":{\"pattern\":{\"fillmode\":\"overlay\",\"size\":10,\"solidity\":0.2}},\"type\":\"histogram\"}],\"mesh3d\":[{\"colorbar\":{\"outlinewidth\":0,\"ticks\":\"\"},\"type\":\"mesh3d\"}],\"parcoords\":[{\"line\":{\"colorbar\":{\"outlinewidth\":0,\"ticks\":\"\"}},\"type\":\"parcoords\"}],\"pie\":[{\"automargin\":true,\"type\":\"pie\"}],\"scatter3d\":[{\"line\":{\"colorbar\":{\"outlinewidth\":0,\"ticks\":\"\"}},\"marker\":{\"colorbar\":{\"outlinewidth\":0,\"ticks\":\"\"}},\"type\":\"scatter3d\"}],\"scattercarpet\":[{\"marker\":{\"colorbar\":{\"outlinewidth\":0,\"ticks\":\"\"}},\"type\":\"scattercarpet\"}],\"scattergeo\":[{\"marker\":{\"colorbar\":{\"outlinewidth\":0,\"ticks\":\"\"}},\"type\":\"scattergeo\"}],\"scattergl\":[{\"marker\":{\"colorbar\":{\"outlinewidth\":0,\"ticks\":\"\"}},\"type\":\"scattergl\"}],\"scattermapbox\":[{\"marker\":{\"colorbar\":{\"outlinewidth\":0,\"ticks\":\"\"}},\"type\":\"scattermapbox\"}],\"scatterpolargl\":[{\"marker\":{\"colorbar\":{\"outlinewidth\":0,\"ticks\":\"\"}},\"type\":\"scatterpolargl\"}],\"scatterpolar\":[{\"marker\":{\"colorbar\":{\"outlinewidth\":0,\"ticks\":\"\"}},\"type\":\"scatterpolar\"}],\"scatter\":[{\"fillpattern\":{\"fillmode\":\"overlay\",\"size\":10,\"solidity\":0.2},\"type\":\"scatter\"}],\"scatterternary\":[{\"marker\":{\"colorbar\":{\"outlinewidth\":0,\"ticks\":\"\"}},\"type\":\"scatterternary\"}],\"surface\":[{\"colorbar\":{\"outlinewidth\":0,\"ticks\":\"\"},\"colorscale\":[[0.0,\"#0d0887\"],[0.1111111111111111,\"#46039f\"],[0.2222222222222222,\"#7201a8\"],[0.3333333333333333,\"#9c179e\"],[0.4444444444444444,\"#bd3786\"],[0.5555555555555556,\"#d8576b\"],[0.6666666666666666,\"#ed7953\"],[0.7777777777777778,\"#fb9f3a\"],[0.8888888888888888,\"#fdca26\"],[1.0,\"#f0f921\"]],\"type\":\"surface\"}],\"table\":[{\"cells\":{\"fill\":{\"color\":\"#EBF0F8\"},\"line\":{\"color\":\"white\"}},\"header\":{\"fill\":{\"color\":\"#C8D4E3\"},\"line\":{\"color\":\"white\"}},\"type\":\"table\"}]},\"layout\":{\"annotationdefaults\":{\"arrowcolor\":\"#2a3f5f\",\"arrowhead\":0,\"arrowwidth\":1},\"autotypenumbers\":\"strict\",\"coloraxis\":{\"colorbar\":{\"outlinewidth\":0,\"ticks\":\"\"}},\"colorscale\":{\"diverging\":[[0,\"#8e0152\"],[0.1,\"#c51b7d\"],[0.2,\"#de77ae\"],[0.3,\"#f1b6da\"],[0.4,\"#fde0ef\"],[0.5,\"#f7f7f7\"],[0.6,\"#e6f5d0\"],[0.7,\"#b8e186\"],[0.8,\"#7fbc41\"],[0.9,\"#4d9221\"],[1,\"#276419\"]],\"sequential\":[[0.0,\"#0d0887\"],[0.1111111111111111,\"#46039f\"],[0.2222222222222222,\"#7201a8\"],[0.3333333333333333,\"#9c179e\"],[0.4444444444444444,\"#bd3786\"],[0.5555555555555556,\"#d8576b\"],[0.6666666666666666,\"#ed7953\"],[0.7777777777777778,\"#fb9f3a\"],[0.8888888888888888,\"#fdca26\"],[1.0,\"#f0f921\"]],\"sequentialminus\":[[0.0,\"#0d0887\"],[0.1111111111111111,\"#46039f\"],[0.2222222222222222,\"#7201a8\"],[0.3333333333333333,\"#9c179e\"],[0.4444444444444444,\"#bd3786\"],[0.5555555555555556,\"#d8576b\"],[0.6666666666666666,\"#ed7953\"],[0.7777777777777778,\"#fb9f3a\"],[0.8888888888888888,\"#fdca26\"],[1.0,\"#f0f921\"]]},\"colorway\":[\"#636efa\",\"#EF553B\",\"#00cc96\",\"#ab63fa\",\"#FFA15A\",\"#19d3f3\",\"#FF6692\",\"#B6E880\",\"#FF97FF\",\"#FECB52\"],\"font\":{\"color\":\"#2a3f5f\"},\"geo\":{\"bgcolor\":\"white\",\"lakecolor\":\"white\",\"landcolor\":\"#E5ECF6\",\"showlakes\":true,\"showland\":true,\"subunitcolor\":\"white\"},\"hoverlabel\":{\"align\":\"left\"},\"hovermode\":\"closest\",\"mapbox\":{\"style\":\"light\"},\"paper_bgcolor\":\"white\",\"plot_bgcolor\":\"#E5ECF6\",\"polar\":{\"angularaxis\":{\"gridcolor\":\"white\",\"linecolor\":\"white\",\"ticks\":\"\"},\"bgcolor\":\"#E5ECF6\",\"radialaxis\":{\"gridcolor\":\"white\",\"linecolor\":\"white\",\"ticks\":\"\"}},\"scene\":{\"xaxis\":{\"backgroundcolor\":\"#E5ECF6\",\"gridcolor\":\"white\",\"gridwidth\":2,\"linecolor\":\"white\",\"showbackground\":true,\"ticks\":\"\",\"zerolinecolor\":\"white\"},\"yaxis\":{\"backgroundcolor\":\"#E5ECF6\",\"gridcolor\":\"white\",\"gridwidth\":2,\"linecolor\":\"white\",\"showbackground\":true,\"ticks\":\"\",\"zerolinecolor\":\"white\"},\"zaxis\":{\"backgroundcolor\":\"#E5ECF6\",\"gridcolor\":\"white\",\"gridwidth\":2,\"linecolor\":\"white\",\"showbackground\":true,\"ticks\":\"\",\"zerolinecolor\":\"white\"}},\"shapedefaults\":{\"line\":{\"color\":\"#2a3f5f\"}},\"ternary\":{\"aaxis\":{\"gridcolor\":\"white\",\"linecolor\":\"white\",\"ticks\":\"\"},\"baxis\":{\"gridcolor\":\"white\",\"linecolor\":\"white\",\"ticks\":\"\"},\"bgcolor\":\"#E5ECF6\",\"caxis\":{\"gridcolor\":\"white\",\"linecolor\":\"white\",\"ticks\":\"\"}},\"title\":{\"x\":0.05},\"xaxis\":{\"automargin\":true,\"gridcolor\":\"white\",\"linecolor\":\"white\",\"ticks\":\"\",\"title\":{\"standoff\":15},\"zerolinecolor\":\"white\",\"zerolinewidth\":2},\"yaxis\":{\"automargin\":true,\"gridcolor\":\"white\",\"linecolor\":\"white\",\"ticks\":\"\",\"title\":{\"standoff\":15},\"zerolinecolor\":\"white\",\"zerolinewidth\":2}}},\"title\":{\"text\":\"Distribution of Insulin\",\"x\":0.5},\"xaxis\":{\"anchor\":\"y2\",\"domain\":[0.0,1.0],\"zeroline\":false},\"yaxis\":{\"anchor\":\"free\",\"domain\":[0.35,1],\"position\":0.0},\"yaxis2\":{\"anchor\":\"x\",\"domain\":[0,0.25],\"dtick\":1,\"showticklabels\":false}},                        {\"responsive\": true}                    ).then(function(){\n",
              "                            \n",
              "var gd = document.getElementById('8783561a-f6a4-4552-9c9a-f0c635f42ee9');\n",
              "var x = new MutationObserver(function (mutations, observer) {{\n",
              "        var display = window.getComputedStyle(gd).display;\n",
              "        if (!display || display === 'none') {{\n",
              "            console.log([gd, 'removed!']);\n",
              "            Plotly.purge(gd);\n",
              "            observer.disconnect();\n",
              "        }}\n",
              "}});\n",
              "\n",
              "// Listen for the removal of the full notebook cells\n",
              "var notebookContainer = gd.closest('#notebook-container');\n",
              "if (notebookContainer) {{\n",
              "    x.observe(notebookContainer, {childList: true});\n",
              "}}\n",
              "\n",
              "// Listen for the clearing of the current output cell\n",
              "var outputEl = gd.closest('.output');\n",
              "if (outputEl) {{\n",
              "    x.observe(outputEl, {childList: true});\n",
              "}}\n",
              "\n",
              "                        })                };                            </script>        </div>\n",
              "</body>\n",
              "</html>"
            ]
          },
          "metadata": {}
        }
      ],
      "source": [
        "def plot_distribution(feature, bin_size):\n",
        "    # Pisahkan data berdasarkan Outcome\n",
        "    grouped = df.groupby('Outcome')\n",
        "    diabetic = grouped.get_group(1)[feature].dropna().tolist()\n",
        "    healthy = grouped.get_group(0)[feature].dropna().tolist()\n",
        "\n",
        "    # Siapkan data untuk plot\n",
        "    data = [diabetic, healthy]\n",
        "    labels = ['Diabetic', 'Healthy']\n",
        "    colors = ['#FFD700', '#7EC0EE']\n",
        "\n",
        "    # Buat density plot\n",
        "    fig = ff.create_distplot(\n",
        "        data, labels, colors=colors, show_hist=True, bin_size=bin_size, curve_type='kde'\n",
        "    )\n",
        "\n",
        "    fig.update_layout(title_text=f'Distribution of {feature}', title_x=0.5)\n",
        "\n",
        "    py.iplot(fig)\n",
        "\n",
        "# Contoh pemanggilan\n",
        "plot_distribution('Insulin', 5)\n"
      ]
    },
    {
      "cell_type": "code",
      "execution_count": null,
      "metadata": {
        "colab": {
          "base_uri": "https://localhost:8080/"
        },
        "id": "MSWDTp3u0VnZ",
        "outputId": "0681b5f4-7f4d-4118-b189-214bcb2c15bf"
      },
      "outputs": [
        {
          "output_type": "stream",
          "name": "stdout",
          "text": [
            "Median 'Insulin' untuk setiap Outcome:\n",
            "Outcome\n",
            "0    102.5\n",
            "1    169.5\n",
            "Name: Insulin, dtype: float64\n"
          ]
        }
      ],
      "source": [
        "median_target('Insulin')"
      ]
    },
    {
      "cell_type": "markdown",
      "source": [
        "bertujuan untuk menghitung nilai median dari kadar Insulin berdasarkan kelas target ('Outcome') dalam dataset df."
      ],
      "metadata": {
        "id": "17gNwhMyCXCo"
      }
    },
    {
      "cell_type": "code",
      "execution_count": null,
      "metadata": {
        "id": "bdIcBaCV0Y56"
      },
      "outputs": [],
      "source": [
        "df.loc[(df['Outcome'] == 0 ) & (df['Insulin'].isnull()), 'Insulin'] = 102.5\n",
        "df.loc[(df['Outcome'] == 1 ) & (df['Insulin'].isnull()), 'Insulin'] = 169.5"
      ]
    },
    {
      "cell_type": "markdown",
      "source": [
        "Kode ini digunakan untuk mengisi (imputasi) nilai NaN dalam kolom Insulin berdasarkan kelas Outcome (sehat atau diabetes) dengan nilai median masing-masing kelompok."
      ],
      "metadata": {
        "id": "xpxh55d1vWaK"
      }
    },
    {
      "cell_type": "markdown",
      "metadata": {
        "id": "j929biJn0dBK"
      },
      "source": [
        "### 3.2 Glukosa\n",
        "**Insight**\n",
        "\n",
        "Pada bagian Glucose ini kami mengubah data missing valuenya menjadi median untuk masing-masing outcome. Untuk data yang outcomenya adalah 0, nilai median adalah 107 , sedangkan untuk data insulin dengan outcome 1(diabetes), nilai median adalah 140"
      ]
    },
    {
      "cell_type": "code",
      "execution_count": null,
      "metadata": {
        "colab": {
          "base_uri": "https://localhost:8080/",
          "height": 542
        },
        "id": "kwkpaEaf0giQ",
        "outputId": "f9ad8028-0468-49bb-b0f5-3c789be411d1"
      },
      "outputs": [
        {
          "output_type": "display_data",
          "data": {
            "text/html": [
              "<html>\n",
              "<head><meta charset=\"utf-8\" /></head>\n",
              "<body>\n",
              "    <div>            <script src=\"https://cdnjs.cloudflare.com/ajax/libs/mathjax/2.7.5/MathJax.js?config=TeX-AMS-MML_SVG\"></script><script type=\"text/javascript\">if (window.MathJax && window.MathJax.Hub && window.MathJax.Hub.Config) {window.MathJax.Hub.Config({SVG: {font: \"STIX-Web\"}});}</script>                <script type=\"text/javascript\">window.PlotlyConfig = {MathJaxConfig: 'local'};</script>\n",
              "        <script charset=\"utf-8\" src=\"https://cdn.plot.ly/plotly-2.35.2.min.js\"></script>                <div id=\"63ae8eac-5d94-4a8c-9fdf-108564772bb4\" class=\"plotly-graph-div\" style=\"height:525px; width:100%;\"></div>            <script type=\"text/javascript\">                                    window.PLOTLYENV=window.PLOTLYENV || {};                                    if (document.getElementById(\"63ae8eac-5d94-4a8c-9fdf-108564772bb4\")) {                    Plotly.newPlot(                        \"63ae8eac-5d94-4a8c-9fdf-108564772bb4\",                        [{\"autobinx\":false,\"histnorm\":\"probability density\",\"legendgroup\":\"Diabetic\",\"marker\":{\"color\":\"#FFD700\"},\"name\":\"Diabetic\",\"opacity\":0.7,\"x\":[148.0,183.0,137.0,78.0,197.0,125.0,168.0,189.0,166.0,100.0,118.0,107.0,115.0,196.0,119.0,143.0,125.0,147.0,158.0,102.0,90.0,111.0,171.0,180.0,103.0,176.0,187.0,133.0,114.0,109.0,100.0,126.0,131.0,137.0,136.0,134.0,122.0,163.0,95.0,171.0,155.0,160.0,146.0,124.0,162.0,113.0,88.0,117.0,105.0,173.0,122.0,170.0,108.0,156.0,188.0,152.0,163.0,131.0,104.0,102.0,134.0,179.0,129.0,130.0,194.0,181.0,128.0,109.0,139.0,159.0,135.0,158.0,107.0,109.0,148.0,196.0,162.0,184.0,140.0,112.0,151.0,109.0,85.0,112.0,177.0,158.0,162.0,142.0,134.0,171.0,181.0,179.0,164.0,139.0,119.0,184.0,92.0,113.0,155.0,141.0,123.0,138.0,146.0,101.0,106.0,146.0,161.0,108.0,119.0,107.0,128.0,128.0,146.0,100.0,167.0,144.0,115.0,161.0,128.0,124.0,155.0,109.0,182.0,194.0,112.0,124.0,152.0,122.0,102.0,180.0,115.0,152.0,178.0,165.0,125.0,129.0,196.0,189.0,146.0,124.0,133.0,173.0,140.0,156.0,116.0,105.0,144.0,166.0,158.0,131.0,193.0,95.0,136.0,168.0,115.0,197.0,172.0,138.0,173.0,144.0,129.0,151.0,184.0,181.0,95.0,141.0,189.0,108.0,117.0,180.0,104.0,134.0,175.0,148.0,120.0,105.0,158.0,145.0,135.0,125.0,195.0,180.0,84.0,163.0,145.0,130.0,132.0,129.0,100.0,128.0,90.0,186.0,187.0,125.0,198.0,121.0,118.0,197.0,151.0,124.0,143.0,176.0,111.0,132.0,188.0,173.0,150.0,183.0,181.0,174.0,168.0,138.0,112.0,119.0,114.0,104.0,97.0,147.0,167.0,179.0,136.0,155.0,80.0,199.0,167.0,145.0,115.0,145.0,111.0,195.0,156.0,121.0,162.0,125.0,144.0,158.0,129.0,142.0,169.0,125.0,168.0,115.0,164.0,93.0,129.0,187.0,173.0,97.0,149.0,130.0,120.0,174.0,102.0,120.0,140.0,147.0,187.0,162.0,136.0,181.0,154.0,128.0,123.0,190.0,170.0,126.0],\"xaxis\":\"x\",\"xbins\":{\"end\":199.0,\"size\":0,\"start\":78.0},\"yaxis\":\"y\",\"type\":\"histogram\"},{\"autobinx\":false,\"histnorm\":\"probability density\",\"legendgroup\":\"Healthy\",\"marker\":{\"color\":\"#7EC0EE\"},\"name\":\"Healthy\",\"opacity\":0.7,\"x\":[85.0,89.0,116.0,115.0,110.0,139.0,103.0,126.0,99.0,97.0,145.0,117.0,109.0,88.0,92.0,122.0,103.0,138.0,180.0,133.0,106.0,159.0,146.0,71.0,105.0,103.0,101.0,88.0,150.0,73.0,100.0,146.0,105.0,84.0,44.0,141.0,99.0,109.0,95.0,146.0,139.0,129.0,79.0,62.0,95.0,112.0,113.0,74.0,83.0,101.0,110.0,106.0,100.0,107.0,80.0,123.0,81.0,142.0,144.0,92.0,71.0,93.0,151.0,125.0,81.0,85.0,126.0,96.0,144.0,83.0,89.0,76.0,78.0,97.0,99.0,111.0,107.0,132.0,120.0,118.0,84.0,96.0,125.0,100.0,93.0,129.0,105.0,128.0,106.0,108.0,154.0,102.0,57.0,106.0,147.0,90.0,136.0,114.0,153.0,99.0,109.0,88.0,151.0,102.0,114.0,100.0,148.0,120.0,110.0,111.0,87.0,79.0,75.0,85.0,143.0,87.0,119.0,73.0,141.0,111.0,123.0,85.0,105.0,113.0,138.0,108.0,99.0,103.0,111.0,96.0,81.0,147.0,179.0,125.0,119.0,142.0,100.0,87.0,101.0,197.0,117.0,79.0,122.0,74.0,104.0,91.0,91.0,146.0,122.0,165.0,124.0,111.0,106.0,129.0,90.0,86.0,111.0,114.0,193.0,191.0,95.0,142.0,96.0,128.0,102.0,108.0,122.0,71.0,106.0,100.0,104.0,114.0,108.0,129.0,133.0,136.0,155.0,96.0,108.0,78.0,161.0,151.0,126.0,112.0,77.0,150.0,120.0,137.0,80.0,106.0,113.0,112.0,99.0,115.0,129.0,112.0,157.0,179.0,105.0,118.0,87.0,106.0,95.0,165.0,117.0,130.0,95.0,122.0,95.0,126.0,139.0,116.0,99.0,92.0,137.0,61.0,90.0,90.0,88.0,158.0,103.0,147.0,99.0,101.0,81.0,118.0,84.0,105.0,122.0,98.0,87.0,93.0,107.0,105.0,109.0,90.0,125.0,119.0,100.0,100.0,131.0,116.0,127.0,96.0,82.0,137.0,72.0,123.0,101.0,102.0,112.0,143.0,143.0,97.0,83.0,119.0,94.0,102.0,115.0,94.0,135.0,99.0,89.0,80.0,139.0,90.0,140.0,147.0,97.0,107.0,83.0,117.0,100.0,95.0,120.0,82.0,91.0,119.0,100.0,135.0,86.0,134.0,120.0,71.0,74.0,88.0,115.0,124.0,74.0,97.0,154.0,144.0,137.0,119.0,136.0,114.0,137.0,114.0,126.0,132.0,123.0,85.0,84.0,139.0,173.0,99.0,194.0,83.0,89.0,99.0,80.0,166.0,110.0,81.0,154.0,117.0,84.0,94.0,96.0,75.0,130.0,84.0,120.0,139.0,91.0,91.0,99.0,125.0,76.0,129.0,68.0,124.0,114.0,125.0,87.0,97.0,116.0,117.0,111.0,122.0,107.0,86.0,91.0,77.0,105.0,57.0,127.0,84.0,88.0,131.0,164.0,189.0,116.0,84.0,114.0,88.0,84.0,124.0,97.0,110.0,103.0,85.0,87.0,99.0,91.0,95.0,99.0,92.0,154.0,78.0,130.0,111.0,98.0,143.0,119.0,108.0,133.0,109.0,121.0,100.0,93.0,103.0,73.0,112.0,82.0,123.0,67.0,89.0,109.0,108.0,96.0,124.0,124.0,92.0,152.0,111.0,106.0,105.0,106.0,117.0,68.0,112.0,92.0,183.0,94.0,108.0,90.0,125.0,132.0,128.0,94.0,102.0,111.0,128.0,92.0,104.0,94.0,100.0,102.0,128.0,90.0,103.0,157.0,107.0,91.0,117.0,123.0,120.0,106.0,101.0,120.0,127.0,162.0,112.0,98.0,154.0,165.0,99.0,68.0,123.0,91.0,93.0,101.0,56.0,95.0,136.0,129.0,130.0,107.0,140.0,107.0,121.0,90.0,99.0,127.0,118.0,122.0,129.0,110.0,80.0,127.0,158.0,126.0,134.0,102.0,94.0,108.0,83.0,114.0,117.0,111.0,112.0,116.0,141.0,175.0,92.0,106.0,105.0,95.0,126.0,65.0,99.0,102.0,109.0,153.0,100.0,81.0,121.0,108.0,137.0,106.0,88.0,89.0,101.0,122.0,121.0,93.0],\"xaxis\":\"x\",\"xbins\":{\"end\":197.0,\"size\":0,\"start\":44.0},\"yaxis\":\"y\",\"type\":\"histogram\"},{\"legendgroup\":\"Diabetic\",\"marker\":{\"color\":\"#FFD700\"},\"mode\":\"lines\",\"name\":\"Diabetic\",\"showlegend\":false,\"x\":[78.0,78.242,78.484,78.726,78.968,79.21,79.452,79.694,79.936,80.178,80.42,80.662,80.904,81.146,81.388,81.63,81.872,82.114,82.356,82.598,82.84,83.082,83.324,83.566,83.80799999999999,84.05,84.292,84.534,84.776,85.018,85.26,85.502,85.744,85.986,86.228,86.47,86.712,86.95400000000001,87.196,87.438,87.68,87.922,88.164,88.406,88.648,88.89,89.132,89.374,89.616,89.858,90.1,90.342,90.584,90.826,91.068,91.31,91.55199999999999,91.794,92.036,92.278,92.52,92.762,93.004,93.246,93.488,93.73,93.972,94.214,94.456,94.69800000000001,94.94,95.182,95.424,95.666,95.908,96.15,96.392,96.634,96.876,97.118,97.36,97.602,97.844,98.086,98.328,98.57,98.812,99.054,99.29599999999999,99.538,99.78,100.02199999999999,100.264,100.506,100.748,100.99,101.232,101.474,101.71600000000001,101.958,102.2,102.44200000000001,102.684,102.926,103.168,103.41,103.652,103.894,104.136,104.378,104.62,104.862,105.104,105.346,105.588,105.83,106.072,106.314,106.556,106.798,107.03999999999999,107.282,107.524,107.76599999999999,108.008,108.25,108.492,108.73400000000001,108.976,109.218,109.46000000000001,109.702,109.944,110.186,110.428,110.67,110.912,111.154,111.396,111.638,111.88,112.122,112.364,112.606,112.848,113.09,113.332,113.574,113.816,114.05799999999999,114.3,114.542,114.78399999999999,115.02600000000001,115.268,115.50999999999999,115.75200000000001,115.994,116.23599999999999,116.47800000000001,116.72,116.962,117.20400000000001,117.446,117.688,117.93,118.172,118.414,118.656,118.898,119.14,119.382,119.624,119.866,120.108,120.35,120.592,120.834,121.076,121.318,121.56,121.80199999999999,122.044,122.286,122.52799999999999,122.77000000000001,123.012,123.25399999999999,123.49600000000001,123.738,123.97999999999999,124.22200000000001,124.464,124.706,124.94800000000001,125.19,125.432,125.674,125.916,126.158,126.4,126.642,126.884,127.126,127.368,127.61,127.852,128.094,128.336,128.578,128.82,129.062,129.304,129.546,129.788,130.03,130.272,130.514,130.756,130.998,131.24,131.482,131.724,131.966,132.208,132.45,132.692,132.934,133.176,133.418,133.66,133.902,134.144,134.386,134.628,134.87,135.112,135.35399999999998,135.596,135.838,136.07999999999998,136.322,136.564,136.80599999999998,137.048,137.29,137.53199999999998,137.774,138.016,138.258,138.5,138.742,138.984,139.226,139.46800000000002,139.71,139.952,140.19400000000002,140.436,140.678,140.92000000000002,141.162,141.404,141.64600000000002,141.888,142.13,142.372,142.614,142.856,143.098,143.34,143.582,143.824,144.066,144.308,144.55,144.792,145.034,145.276,145.518,145.76,146.002,146.244,146.486,146.728,146.97,147.212,147.454,147.696,147.938,148.18,148.422,148.664,148.906,149.148,149.39,149.632,149.874,150.11599999999999,150.358,150.6,150.84199999999998,151.084,151.326,151.56799999999998,151.81,152.05200000000002,152.29399999999998,152.536,152.77800000000002,153.01999999999998,153.262,153.50400000000002,153.74599999999998,153.988,154.23000000000002,154.47199999999998,154.714,154.95600000000002,155.19799999999998,155.44,155.68200000000002,155.924,156.166,156.40800000000002,156.65,156.892,157.13400000000001,157.376,157.618,157.86,158.102,158.344,158.586,158.828,159.07,159.312,159.554,159.796,160.038,160.28,160.522,160.764,161.006,161.248,161.49,161.732,161.974,162.216,162.458,162.7,162.942,163.184,163.426,163.668,163.91,164.152,164.394,164.636,164.878,165.12,165.362,165.60399999999998,165.846,166.088,166.32999999999998,166.572,166.814,167.05599999999998,167.298,167.54000000000002,167.78199999999998,168.024,168.26600000000002,168.50799999999998,168.75,168.99200000000002,169.23399999999998,169.476,169.71800000000002,169.95999999999998,170.202,170.44400000000002,170.686,170.928,171.17000000000002,171.412,171.654,171.89600000000002,172.138,172.38,172.622,172.864,173.106,173.348,173.59,173.832,174.074,174.316,174.558,174.8,175.042,175.284,175.526,175.768,176.01,176.252,176.494,176.736,176.978,177.22,177.462,177.704,177.946,178.188,178.43,178.672,178.914,179.156,179.398,179.64,179.882,180.124,180.36599999999999,180.608,180.85,181.09199999999998,181.334,181.576,181.81799999999998,182.06,182.30200000000002,182.54399999999998,182.786,183.02800000000002,183.26999999999998,183.512,183.75400000000002,183.99599999999998,184.238,184.48000000000002,184.72199999999998,184.964,185.20600000000002,185.44799999999998,185.69,185.93200000000002,186.174,186.416,186.65800000000002,186.9,187.142,187.38400000000001,187.626,187.868,188.11,188.352,188.594,188.836,189.078,189.32,189.562,189.804,190.046,190.288,190.53,190.772,191.014,191.256,191.498,191.74,191.982,192.224,192.466,192.708,192.95,193.192,193.434,193.676,193.918,194.16,194.402,194.644,194.886,195.128,195.37,195.612,195.85399999999998,196.096,196.338,196.57999999999998,196.822,197.064,197.30599999999998,197.548,197.79000000000002,198.03199999999998,198.274,198.51600000000002,198.75799999999998],\"xaxis\":\"x\",\"y\":[0.0011676399320904437,0.0011984744252144855,0.0012298495172799273,0.001261770582488048,0.0012942431054703027,0.001327272680226465,0.0013608650081663334,0.001395025895222074,0.0014297612480013865,0.0014650770689545569,0.0015009794505320096,0.001537474568312176,0.001574568673083473,0.001612268081867617,0.0016505791678757974,0.001689508349393066,0.0017290620775906964,0.0017692468232703765,0.0018100690625487605,0.001851535261495197,0.0018936518597400744,0.0019364252530759156,0.0019798617750778243,0.0020239676777747653,0.0020687491114075945,0.002114212103314622,0.0021603625359899285,0.002207206124364325,0.0022547483923632742,0.0023029946488006183,0.0023519499626710244,0.0024016191379085086,0.002452006687682265,0.002503116808304881,0.0025549533528318167,0.002607519804434491,0.0026608192496323964,0.002714854351473095,0.002769627322751232,0.0028251398993607174,0.0028813933138759303,0.0029383882694602216,0.0029961249142011403,0.0030546028159733362,0.0031138209379308647,0.003173777614731247,0.0032344705295935684,0.003295896692293023,0.0033580524181932754,0.003420933308417296,0.003484534231255519,0.0035488493049086415,0.003613871881659756,0.0036795945335678475,0.0037460090397716046,0.0038131063754885614,0.003880876702790927,0.003949309363234586,0.004018392872413094,0.004088114916502968,0.004158462350861053,0.004229421200728413,0.004300976664088774,0.004373113116722681,0.004445814119491454,0.004519062427877067,0.004592840003796987,0.004667128029704102,0.004741906924974177,0.0048171563645743485,0.004892855299997649,0.004968981982439564,0.005045513988183666,0.005122428246154339,0.0051997010675854565,0.005277308177744763,0.005355224749644813,0.0054334254396620355,0.005511884424976996,0.005590575442739909,0.005669471830857393,0.005748546570287696,0.005827772328724346,0.005907121505540076,0.005986566277855995,0.0060660786475940165,0.006145630489364583,0.0062251935990354865,0.006304739742822669,0.006384240706739302,0.006463668346234917,0.006542994635853602,0.006622191718736967,0.006701231955796102,0.006780087974374886,0.006858732716227064,0.006937139484629229,0.007015281990453154,0.007093134397022638,0.007170671363582592,0.007247868087211591,0.007324700343013106,0.007401144522426042,0.007477177669500567,0.007552777514992075,0.007627922508133364,0.007702591845953269,0.007776765500018656,0.007850424240486315,0.007923549657361448,0.00799612417886992,0.008068131086863325,0.008139554529187323,0.008210379528956088,0.00828059199068914,0.008350178703279027,0.008419127339772708,0.008487426453962828,0.008555065473799259,0.008622034691645093,0.008688325251416022,0.008753929132655708,0.00881883913161421,0.00888304883941042,0.008946552617373463,0.009009345569671062,0.009071423513346919,0.009132782945900897,0.009193421010558993,0.009253335459391361,0.009312524614447626,0.00937098732708996,0.009428722935712805,0.009485731222048552,0.009542012366264887,0.009597566901068336,0.009652395665032912,0.009706499755379756,0.009759880480435953,0.009812539312005365,0.009864477837884918,0.009915697714761518,0.009966200621723664,0.010015988214620762,0.010065062081500225,0.010113423699348393,0.01016107439235663,0.010208015291927199,0.010254247298626399,0.010299771046284087,0.010344586868428762,0.010388694767236856,0.010432094385163399,0.010474784979408345,0.010516765399359456,0.010558034067138157,0.010598588961359857,0.010638427604204062,0.010677547051873303,0.010715943888503063,0.010753614223566837,0.010790553692803307,0.010826757462673932,0.01086222023834113,0.010896936275139065,0.010930899393490153,0.010964102997202636,0.010996540095066176,0.0110282033256451,0.01105908498515086,0.011089177058259606,0.011118471251723487,0.011146959030609633,0.01117463165698563,0.01120148023085692,0.01122749573314864,0.011252669070512436,0.011276991121728702,0.01130045278546521,0.011323045029144435,0.011344758938666032,0.011365585768724526,0.011385516993459343,0.011404544357170506,0.01142265992483334,0.011439856132145255,0.01145612583483988,0.011471462357006771,0.011485859538160309,0.01149931177880723,0.011511814084270166,0.011523362106533553,0.011533952183888934,0.011543581378168041,0.011552247509365303,0.011559949187465472,0.011566685841307036,0.011572457744328635,0.011577266037062082,0.011581112746254391,0.01158400080051889,0.011585934042434834,0.011586917237035112,0.01158695607664043,0.011586057182019858,0.01158422809987674,0.011581477296679936,0.011577814148880207,0.01157324892957161,0.011567792791676955,0.011561457747755712,0.01155425664655086,0.011546203146408881,0.011537311685724118,0.011527597450574023,0.011517076339727206,0.011505764927219678,0.011493680422706785,0.011480840629810097,0.011467263902687664,0.011452969101065072,0.011437975543970866,0.01142230296242596,0.011405971451339893,0.011389001420869732,0.011371413547496914,0.01135322872507787,0.011334468016120463,0.011315152603534877,0.011295303743102102,0.011274942716895423,0.011254090787882693,0.011232769155926347,0.011210998915388001,0.011188801014530826,0.011166196216900483,0.01114320506485013,0.011119847845359373,0.011096144558281337,0.011072114887133886,0.01104777817253437,0.011023153388358086,0.010998259120682712,0.010973113549561498,0.010947734433650092,0.010922139097691385,0.010896344422845422,0.010870366839832139,0.010844222324836419,0.010817926398108078,0.010791494125171285,0.010764940120542871,0.010738278553842552,0.010711523158164302,0.010684687240564214,0.010657783694508437,0.010630825014113183,0.010603823309999157,0.0105767903265747,0.010549737460554027,0.010522675780512261,0.01049561604727379,0.010468568734928739,0.01044154405227012,0.010414551964445407,0.01038760221461712,0.010360704345430892,0.01033386772009363,0.010307101542870385,0.010280414878815895,0.010253816672565221,0.0102273157660177,0.0102009209147589,0.010174640803077506,0.010148484057446552,0.010122459258352104,0.010096574950366553,0.010070839650379112,0.010045261853910812,0.010019850039457668,0.009994612670821645,0.009969558197404787,0.009944695052458994,0.009920031649299131,0.009895576375504046,0.00987133758514472,0.009847323589095087,0.00982354264349463,0.009800002936446986,0.009776712573050968,0.009753679558874087,0.009730911781989168,0.009708416993706006,0.009686202788139213,0.009664276580761817,0.009642645586101771,0.00962131679474403,0.009600296949806502,0.009579592523060832,0.009559209690872005,0.009539154310131626,0.009519431894359049,0.00950004759014359,0.009481006154098096,0.009462311930490136,0.009443968829711848,0.009425980307743788,0.00940834934676012,0.009391078437014769,0.009374169560138722,0.009357624173968562,0.009341443199015595,0.009325627006673519,0.009310175409250134,0.00929508765189642,0.009280362406492994,0.009265997767540722,0.009251991250088791,0.009238339789719933,0.009225039744598575,0.009212086899574484,0.009199476472320826,0.009187203121472566,0.009175260956718095,0.009163643550785265,0.009152343953250318,0.009141354706087932,0.009130667860869315,0.009120274997505957,0.009110167244427635,0.009100335300074775,0.009090769455578395,0.009081459618494693,0.00907239533745522,0.009063565827590398,0.009054959996579681,0.009046566471180186,0.009038373624083948,0.009030369600953677,0.009022542347487825,0.00901487963636736,0.009007369093939429,0.008999998226496768,0.00899275444601601,0.008985625095223826,0.008978597471865753,0.008971658852059628,0.008964796512623127,0.008957997752273442,0.008951249911605652,0.00894454039176613,0.008937856671746621,0.008931186324235542,0.008924517029972769,0.008917836590565463,0.008911132939732985,0.008904394152959912,0.008897608455547311,0.00889076422906305,0.008883850016202358,0.008876854524081013,0.008869766625992929,0.008862575361674264,0.008855269936125494,0.008847839717051323,0.00884027423098779,0.00883256315819258,0.008824696326382733,0.008816663703409708,0.008808455388968479,0.008800061605441674,0.008791472687984738,0.008782679073961427,0.008773671291841938,0.008764439949677792,0.008754975723269227,0.008745269344140794,0.008735311587441,0.00872509325988029,0.008714605187820046,0.008703838205622568,0.008692783144368589,0.008681430821045005,0.008669772028300606,0.008657797524862561,0.008645498026700456,0.008632864199018288,0.008619886649148041,0.008606555920411436,0.00859286248700849,0.008578796749983983,0.00856434903431476,0.008549509587152344,0.008534268577247177,0.008518616095572107,0.008502542157154732,0.0084860367041192,0.008469089609930563,0.0084516906848261,0.008433829682410758,0.008415496307386047,0.00839668022437463,0.008377371067796348,0.008357558452744893,0.00833723198680876,0.008316381282774616,0.008294995972147,0.0082730657194135,0.008250580236981933,0.008227529300712376,0.008203902765965485,0.008179690584086399,0.008154882819243132,0.008129469665538005,0.008103441464311115,0.008076788721555978,0.008049502125369387,0.008021572563359567,0.007992991139939945,0.007963749193439174,0.007933838312961924,0.007903250354939634,0.007871977459315059,0.007840012065309586,0.007807346926728299,0.0077739751267628015,0.007739890092258452,0.0077050856074185785,0.007669555826924243,0.007633295288454708,0.007596298924599671,0.007558562074160617,0.007520080492844541,0.007480850363358722,0.00744086830492123,0.007400131382206418,0.007358637113749555,0.007316383479839349,0.0072733689299302575,0.0072295923896104845,0.007185053267164023,0.00713975145976705,0.007093687359361028,0.007046861858245483,0.006999276354433846,0.006950932756815378,0.006901833490165391,0.006851981500044157,0.006801380257622766,0.006750033764471368,0.006697946557341903,0.006645123712973007,0.006591570852940974,0.006537294148575121,0.006482300325950649,0.006426596670966269,0.006370191034508031,0.006313091837693759,0.006255308077186524,0.006196849330558634,0.006137725761680306,0.006077948126101321,0.006017527776386267,0.005956476667357713,0.005894807361195271,0.005832533032332133,0.005769667472085067,0.005706225092947861,0.005642220932474101,0.005577670656669711,0.005512590562812636,0.005446997581613213,0.005380909278626345,0.005314343854825038,0.005247320146243073,0.005179857622594864,0.005111976384780573,0.005043697161186135,0.004975041302689524,0.004906030776287955,0.004836688157264095,0.0047670366198139455,0.004697099926064636,0.004626902413416146,0.004556468980147721,0.004485825069237782,0.004414996650353666,0.00434401019997655,0.004272892679636217,0.004201671512240102,0.004130374556490943,0.004059030079398334,0.003987666726899796,0.003916313492618259,0.0038449996847937738,0.003773754891438592,0.0037026089437754155,0.003631591878030041,0.0035607338956602603,0.0034900653221129362],\"yaxis\":\"y\",\"type\":\"scatter\"},{\"legendgroup\":\"Healthy\",\"marker\":{\"color\":\"#7EC0EE\"},\"mode\":\"lines\",\"name\":\"Healthy\",\"showlegend\":false,\"x\":[44.0,44.306,44.612,44.918,45.224,45.53,45.836,46.142,46.448,46.754,47.06,47.366,47.672,47.978,48.284,48.59,48.896,49.202,49.508,49.814,50.12,50.426,50.732,51.038,51.344,51.65,51.956,52.262,52.568,52.874,53.18,53.486000000000004,53.792,54.098,54.403999999999996,54.71,55.016,55.322,55.628,55.934,56.24,56.546,56.852000000000004,57.158,57.464,57.769999999999996,58.076,58.382,58.688,58.994,59.3,59.606,59.912,60.218,60.524,60.83,61.135999999999996,61.442,61.748000000000005,62.054,62.36,62.666,62.972,63.278,63.584,63.89,64.196,64.502,64.80799999999999,65.114,65.42,65.726,66.032,66.338,66.644,66.95,67.256,67.562,67.868,68.174,68.48,68.786,69.092,69.398,69.70400000000001,70.01,70.316,70.622,70.928,71.23400000000001,71.53999999999999,71.846,72.152,72.458,72.764,73.07,73.376,73.682,73.988,74.294,74.6,74.906,75.212,75.518,75.824,76.13,76.436,76.74199999999999,77.048,77.354,77.66,77.96600000000001,78.27199999999999,78.578,78.884,79.19,79.49600000000001,79.80199999999999,80.108,80.414,80.72,81.02600000000001,81.332,81.638,81.944,82.25,82.556,82.862,83.168,83.47399999999999,83.78,84.086,84.392,84.69800000000001,85.00399999999999,85.31,85.616,85.922,86.22800000000001,86.53399999999999,86.84,87.146,87.452,87.75800000000001,88.064,88.37,88.676,88.982,89.288,89.594,89.9,90.206,90.512,90.818,91.124,91.43,91.73599999999999,92.042,92.348,92.654,92.96000000000001,93.26599999999999,93.572,93.878,94.184,94.49000000000001,94.79599999999999,95.102,95.408,95.714,96.02000000000001,96.326,96.632,96.938,97.244,97.55,97.856,98.162,98.468,98.774,99.08,99.386,99.69200000000001,99.99799999999999,100.304,100.61,100.916,101.22200000000001,101.52799999999999,101.834,102.14,102.446,102.75200000000001,103.05799999999999,103.364,103.67,103.976,104.282,104.588,104.894,105.2,105.506,105.812,106.118,106.424,106.72999999999999,107.036,107.342,107.648,107.95400000000001,108.26,108.566,108.872,109.178,109.484,109.79,110.096,110.402,110.708,111.014,111.32,111.626,111.932,112.238,112.544,112.85,113.156,113.462,113.768,114.074,114.38,114.686,114.992,115.298,115.604,115.91,116.216,116.522,116.828,117.134,117.44,117.746,118.052,118.358,118.664,118.97,119.276,119.582,119.888,120.194,120.5,120.806,121.112,121.418,121.724,122.03,122.336,122.642,122.948,123.254,123.56,123.866,124.172,124.478,124.784,125.09,125.396,125.702,126.008,126.314,126.62,126.926,127.232,127.538,127.844,128.15,128.45600000000002,128.762,129.06799999999998,129.374,129.68,129.986,130.292,130.598,130.904,131.20999999999998,131.51600000000002,131.822,132.128,132.434,132.74,133.046,133.352,133.65800000000002,133.964,134.26999999999998,134.576,134.882,135.188,135.494,135.8,136.106,136.412,136.71800000000002,137.024,137.32999999999998,137.636,137.942,138.248,138.554,138.86,139.166,139.47199999999998,139.77800000000002,140.084,140.39,140.696,141.002,141.308,141.614,141.92000000000002,142.226,142.53199999999998,142.838,143.144,143.45,143.756,144.062,144.368,144.674,144.98000000000002,145.286,145.59199999999998,145.898,146.204,146.51,146.816,147.122,147.428,147.73399999999998,148.04000000000002,148.346,148.652,148.958,149.264,149.57,149.876,150.18200000000002,150.488,150.79399999999998,151.1,151.406,151.712,152.018,152.324,152.63,152.936,153.24200000000002,153.548,153.85399999999998,154.16,154.466,154.772,155.078,155.38400000000001,155.69,155.99599999999998,156.30200000000002,156.608,156.914,157.22,157.526,157.832,158.138,158.44400000000002,158.75,159.05599999999998,159.362,159.668,159.974,160.28,160.586,160.892,161.19799999999998,161.50400000000002,161.81,162.11599999999999,162.422,162.728,163.034,163.34,163.64600000000002,163.952,164.25799999999998,164.564,164.87,165.176,165.482,165.788,166.094,166.4,166.70600000000002,167.012,167.31799999999998,167.624,167.93,168.236,168.542,168.848,169.154,169.45999999999998,169.76600000000002,170.072,170.378,170.684,170.99,171.296,171.602,171.90800000000002,172.214,172.52,172.826,173.132,173.438,173.744,174.05,174.356,174.662,174.968,175.274,175.58,175.886,176.192,176.498,176.804,177.11,177.416,177.722,178.028,178.334,178.64,178.946,179.252,179.558,179.864,180.17,180.476,180.782,181.088,181.394,181.7,182.006,182.312,182.618,182.924,183.23,183.536,183.842,184.148,184.454,184.76,185.066,185.372,185.678,185.984,186.29,186.596,186.902,187.208,187.514,187.82,188.126,188.432,188.738,189.044,189.35,189.656,189.962,190.268,190.574,190.88,191.186,191.492,191.798,192.104,192.41,192.716,193.022,193.328,193.634,193.94,194.246,194.552,194.858,195.164,195.47,195.776,196.082,196.388,196.694],\"xaxis\":\"x\",\"y\":[0.00019818446977405962,0.00020537247307605953,0.00021281782829826244,0.00022053704747231675,0.00022854707947086327,0.0002368652061884896,0.00024550893523466464,0.0002544958910096296,0.00026384370614362474,0.0002735699153571647,0.00028369185384269965,0.0002942265622734504,0.00030519070051206074,0.00031660047201895094,0.00032847156084778926,0.0003408190829639936,0.0003536575534329662,0.0003670008708001738,0.0003808623197281758,0.00039525459266997505,0.00041018983104810396,0.00042567968607962816,0.0004417353990443479,0.0004583679004429149,0.0004755879271395886,0.0004934061562375514,0.000511833354099608,0.0005308805386102672,0.0005505591524829929,0.0005708812451548559,0.0005918596605854743,0.0006135082280930796,0.0006358419532219529,0.0006588772055462099,0.0006826319002772496,0.0007071256705582352,0.000732380027399307,0.0007584185043315983,0.0007852667840353177,0.0008129528044247394,0.0008415068419477303,0.0008709615701749911,0.0009013520921095408,0.00093271594503402,0.000965093077125641,0.0009985257954987282,0.0010330586857753156,0.0010687385037270365,0.001105614039968745,0.001143735959107577,0.001183156615152916,0.0012239298453650413,0.0012661107450562996,0.001309755426151737,0.0013549207625605502,0.0014016641256006169,0.0014500431128517286,0.0015001152738861798,0.001551937836336254,0.0016055674357062619,0.0016610598522230036,0.0017184697578440885,0.001777850476312367,0.0018392537588596933,0.0019027295778309835,0.0019683259401246846,0.0020360887219370073,0.00210606152586081,0.002178285560935509,0.0022527995457801296,0.0023296396344765374,0.0024088393644139533,0.0024904296248675142,0.0025744386446720983,0.0026608919969768395,0.002749812618732427,0.0028412208422810723,0.0029351344361924735,0.003031568652325021,0.0031305362759921056,0.0032320476760826482,0.0033361108520241095,0.0034427314745835236,0.00355191291767905,0.0036636562786149943,0.0037779603844554283,0.0038948217826086243,0.004014234714100137,0.004136191068458647,0.004260680319617204,0.004387689442733006,0.004517202812342506,0.004649202082783428,0.004783666052322573,0.004920570512915446,0.005059888087982383,0.005201588061005205,0.005345636198119519,0.005491994568192989,0.005640621364131248,0.005791470729336023,0.005944492593347915,0.006099632520738761,0.006256831577271139,0.0064160262172173275,0.0065771481955270265,0.006740124508256954,0.006904877364328112,0.0070713241912663425,0.0072393776771131615,0.0074089458501787634,0.007579932197750494,0.007752235824284545,0.007925751649001878,0.00810037064219182,0.008275980098914894,0.008452463948191439,0.008629703095184914,0.008807575793341288,0.008985958042940771,0.009164724012064612,0.00934374647558326,0.009522897267441655,0.009702047741256737,0.009881069234055953,0.010059833527878067,0.010238213303928026,0.01041608258402928,0.010593317154246608,0.01076979496575983,0.010945396508350153,0.011120005152210738,0.011293507454209378,0.011465793425202403,0.011636756755525408,0.011806294996352234,0.011974309695217709,0.012140706484628939,0.012305395123336395,0.012468289490491278,0.012629307533569303,0.012788371171584925,0.012945406155741449,0.013100341890258906,0.013253111216677757,0.013403650165447995,0.013551897679072342,0.013697795311471087,0.013841286908569268,0.013982318275369637,0.014120836834963,0.01425679128503642,0.014390131257472268,0.014520806986579137,0.014648768991367704,0.014773967777077273,0.014896353560875984,0.015015876026306664,0.0151324841106313,0.015246125828753565,0.015356748136870468,0.015464296838436564,0.015568716534422678,0.015669950619224646,0.01576794132294103,0.015862629800096863,0.01595395626425763,0.016041860167362046,0.016126280422015058,0.01620715566443015,0.016284424555204166,0.01635802611465356,0.01642790008904353,0.016493987343708615,0.01655623027879411,0.016614573263148046,0.016668963081760253,0.016719349392079436,0.016765685184536798,0.016807927242662897,0.016846036598296463,0.0168799789775462,0.01690972523336724,0.01693525176085195,0.016956540891595612,0.016973581263777023,0.016986368164883636,0.01699490384430106,0.016999197793273503,0.016999266990015627,0.0169951361080155,0.01698683768580728,0.01697441225670717,0.01695790843719911,0.01693738297282498,0.016912900740580872,0.016884534706947733,0.01685236584079793,0.016816482980521064,0.016776982654811142,0.016733968856658125,0.01668755277019741,0.016637852450197062,0.01658499245411354,0.01652910342682527,0.016470321638367785,0.016408788475248987,0.016344649886219177,0.016278055783712237,0.016209159402562616,0.016138116618032262,0.016065085225655768,0.015990224185919007,0.01591369283732751,0.01583565008197946,0.015756253548335077,0.015675658736448092,0.015594018151493253,0.015511480431968719,0.01542818947946257,0.015344283597335834,0.015259894646076215,0.015175147223405749,0.015090157877469791,0.015005034361582839,0.01491987493905002,0.01483476774651332,0.014749790224083415,0.01466500862020606,0.014580477578776129,0.014496239815451003,0.014412325889432098,0.014328754076183144,0.014245530345642724,0.014162648449477235,0.014080090119817553,0.013997825380745059,0.013915812972549428,0.013834000887493978,0.01375232701450619,0.013670719888882422,0.013589099541775252,0.013507378442935801,0.013425462528935674,0.013343252307905113,0.013260644030723063,0.013177530917588384,0.013093804428014466,0.013009355561528723,0.012924076175745201,0.01283786030801472,0.012750605486561338,0.012662214016886332,0.012572594229269396,0.012481661673424455,0.01238934024677158,0.012295563243367716,0.012200274311290121,0.01210342830718132,0.01200499203773351,0.011904944879099913,0.011803279266561077,0.011700001048222365,0.011595129698065375,0.011488698385294168,0.011380753898592073,0.011271356425609865,0.011160579189724093,0.011048507947806785,0.010935240354417546,0.010820885199438137,0.010705561527698946,0.010589397650575975,0.010472530060840783,0.010355102263211995,0.010237263534064824,0.010119167624590236,0.010000971422346934,0.009882833586606913,0.009764913173150933,0.009647368264221913,0.009530354619188577,0.009414024361112288,0.009298524713852365,0.009183996803594073,0.009070574537755019,0.00895838357312893,0.008847540383879434,0.008738151438617992,0.008630312494311917,0.008524108013188795,0.008419610707160945,0.008316881212607829,0.008215967896653912,0.00811690679438641,0.008019721674798792,0.007924424231644264,0.007831014393862197,0.007739480748819991,0.007649801070314488,0.007561942942116165,0.00747586446683139,0.0073915150490160095,0.007308836240806312,0.00722776263784638,0.007148222812990338,0.007070140275140876,0.006993434440652557,0.006918021604971918,0.006843815902599661,0.006770730244032501,0.006698677219059859,0.006627569956639534,0.006557322932539658,0.006487852716994385,0.0064190786557565905,0.0063509234791262826,0.006283313834763829,0.0062161807413465865,0.006149459961372304,0.006083092292636578,0.00601702377909444,0.005951205842941191,0.0058855953407996745,0.0058201545478659715,0.005754851074730113,0.005689657722344363,0.00562455228124968,0.00555951728168507,0.005494539701592189,0.005429610639787141,0.005364724961701713,0.005299880925104182,0.005235079793095208,0.005170325441448937,0.005105623967037112,0.005040983303648299,0.004976412851003749,0.004911923122190265,0.004847525414090443,0.004783231504704923,0.004719053380547256,0.0046550029965575085,0.004591092070247203,0.00452733191106154,0.004463733285243791,0.004400306315819623,0.004337060416697816,0.00427400425931816,0.004211145769774732,0.004148492153910218,0.004086049947519471,0.004023825088520778,0.003961823007753924,0.0039000487349440506,0.0038385070163277682,0.0037772024404707652,0.003716139568907943,0.0036553230684024805,0.003594757841842556,0.0035344491550643917,0.003474402757198887,0.0034146249924785145,0.003355122901798978,0.003295904312699052,0.0032369779167899966,0.003178353334026208,0.003120041163550127,0.0030620530211609887,0.0030044015637408807,0.002947100501217727,0.002890164596848197,0.00283360965676114,0.002777452509813369,0.002721710978872403,0.0026664038446574338,0.0026115508032426562,0.002557172418259294,0.0025032900687293816,0.0024499258933308923,0.002397102731737217,0.0023448440635006427,0.002293173944766815,0.00224211694292349,0.002191698069108384,0.002141942708335876,0.0020928765468563554,0.0020445254962423985,0.001996915613606139,0.0019500730172976608,0.0019040237974174547,0.0018587939204984514,0.0018144091277760726,0.0017708948265666318,0.0017282759744142,0.0016865769558398835,0.001645821451731138,0.0016060323016378903,0.0015672313594895897,0.0015294393435070614,0.0014926756813474196,0.0014569583517823662,0.001422303724461397,0.0013887263995454068,0.0013562390492046228,0.001324852263151715,0.001294574400519891,0.001265411450491605,0.0012373669041321333,0.001210441639880075,0.0011846338250922576,0.0011599388359323703,0.0011363491977316482,0.0011138545477374043,0.0010924416219045554,0.0010720942670798543,0.0010527934795841291,0.0010345174708200023,0.0010172417601282985,0.001000939294693296,0.0009855805958630937,0.0009711339308149443,0.0009575655080651,0.0009448396949070044,0.0009329192544687827,0.000921765599718887,0.0009113390614248481,0.0009015991667911005,0.0008925049252735119,0.0008840151178956967,0.0008760885862791944,0.0008686845175489797,0.0008617627212891503,0.0008552838948015469,0.0008492098730615627,0.000843503859968721,0.0008381306377515864,0.0008330567517030651,0.0008282506677879429,0.0008236829010737,0.0008193261133811078,0.0008151551790255846,0.0008111472180155868,0.0008072815965820399,0.0008035398954243546,0.0007999058465652,0.0007963652401992467,0.0007929058033922718,0.0007895170529282267,0.0007861901250056738,0.0007829175848446855,0.0007796932195746369,0.0007765118180274237,0.0007733689412550799,0.0007702606877225787,0.0007671834571936557,0.0007641337173288668,0.0007611077769510141,0.0007581015698048291,0.0007551104524478569,0.0007521290196612363,0.0007491509404670343,0.0007461688174882419,0.0007431740719946153,0.0007401568565491028,0.000737105996712883,0.0007340089627900113,0.0007308518721031669,0.0007276195217984639,0.0007242954516876691,0.0007208620361586914,0.0007173006037274972,0.0007135915823739858,0.0007097146684076401,0.0007056490162519395,0.0007013734462250502,0.0006968666671325185,0.0006921075102793115,0.0006870751713560551,0.0006817494565594285,0.0006761110292699507,0.0006701416536314725,0.0006638244314542432,0.0006571440289951464,0.0006500868903515025,0.0006426414344347234,0.0006347982327625073,0.0006265501656179149,0.0006178925544647498,0.0006088232688752014,0.0005993428066111038,0.0005894543458980773,0.0005791637693353946,0.0005684796592874552,0.0005574132649987267,0.0005459784420569349,0.0005341915651937349,0.0005220714157526395,0.0005096390454663352,0.000496917618465483],\"yaxis\":\"y\",\"type\":\"scatter\"},{\"legendgroup\":\"Diabetic\",\"marker\":{\"color\":\"#FFD700\",\"symbol\":\"line-ns-open\"},\"mode\":\"markers\",\"name\":\"Diabetic\",\"showlegend\":false,\"x\":[148.0,183.0,137.0,78.0,197.0,125.0,168.0,189.0,166.0,100.0,118.0,107.0,115.0,196.0,119.0,143.0,125.0,147.0,158.0,102.0,90.0,111.0,171.0,180.0,103.0,176.0,187.0,133.0,114.0,109.0,100.0,126.0,131.0,137.0,136.0,134.0,122.0,163.0,95.0,171.0,155.0,160.0,146.0,124.0,162.0,113.0,88.0,117.0,105.0,173.0,122.0,170.0,108.0,156.0,188.0,152.0,163.0,131.0,104.0,102.0,134.0,179.0,129.0,130.0,194.0,181.0,128.0,109.0,139.0,159.0,135.0,158.0,107.0,109.0,148.0,196.0,162.0,184.0,140.0,112.0,151.0,109.0,85.0,112.0,177.0,158.0,162.0,142.0,134.0,171.0,181.0,179.0,164.0,139.0,119.0,184.0,92.0,113.0,155.0,141.0,123.0,138.0,146.0,101.0,106.0,146.0,161.0,108.0,119.0,107.0,128.0,128.0,146.0,100.0,167.0,144.0,115.0,161.0,128.0,124.0,155.0,109.0,182.0,194.0,112.0,124.0,152.0,122.0,102.0,180.0,115.0,152.0,178.0,165.0,125.0,129.0,196.0,189.0,146.0,124.0,133.0,173.0,140.0,156.0,116.0,105.0,144.0,166.0,158.0,131.0,193.0,95.0,136.0,168.0,115.0,197.0,172.0,138.0,173.0,144.0,129.0,151.0,184.0,181.0,95.0,141.0,189.0,108.0,117.0,180.0,104.0,134.0,175.0,148.0,120.0,105.0,158.0,145.0,135.0,125.0,195.0,180.0,84.0,163.0,145.0,130.0,132.0,129.0,100.0,128.0,90.0,186.0,187.0,125.0,198.0,121.0,118.0,197.0,151.0,124.0,143.0,176.0,111.0,132.0,188.0,173.0,150.0,183.0,181.0,174.0,168.0,138.0,112.0,119.0,114.0,104.0,97.0,147.0,167.0,179.0,136.0,155.0,80.0,199.0,167.0,145.0,115.0,145.0,111.0,195.0,156.0,121.0,162.0,125.0,144.0,158.0,129.0,142.0,169.0,125.0,168.0,115.0,164.0,93.0,129.0,187.0,173.0,97.0,149.0,130.0,120.0,174.0,102.0,120.0,140.0,147.0,187.0,162.0,136.0,181.0,154.0,128.0,123.0,190.0,170.0,126.0],\"xaxis\":\"x\",\"y\":[\"Diabetic\",\"Diabetic\",\"Diabetic\",\"Diabetic\",\"Diabetic\",\"Diabetic\",\"Diabetic\",\"Diabetic\",\"Diabetic\",\"Diabetic\",\"Diabetic\",\"Diabetic\",\"Diabetic\",\"Diabetic\",\"Diabetic\",\"Diabetic\",\"Diabetic\",\"Diabetic\",\"Diabetic\",\"Diabetic\",\"Diabetic\",\"Diabetic\",\"Diabetic\",\"Diabetic\",\"Diabetic\",\"Diabetic\",\"Diabetic\",\"Diabetic\",\"Diabetic\",\"Diabetic\",\"Diabetic\",\"Diabetic\",\"Diabetic\",\"Diabetic\",\"Diabetic\",\"Diabetic\",\"Diabetic\",\"Diabetic\",\"Diabetic\",\"Diabetic\",\"Diabetic\",\"Diabetic\",\"Diabetic\",\"Diabetic\",\"Diabetic\",\"Diabetic\",\"Diabetic\",\"Diabetic\",\"Diabetic\",\"Diabetic\",\"Diabetic\",\"Diabetic\",\"Diabetic\",\"Diabetic\",\"Diabetic\",\"Diabetic\",\"Diabetic\",\"Diabetic\",\"Diabetic\",\"Diabetic\",\"Diabetic\",\"Diabetic\",\"Diabetic\",\"Diabetic\",\"Diabetic\",\"Diabetic\",\"Diabetic\",\"Diabetic\",\"Diabetic\",\"Diabetic\",\"Diabetic\",\"Diabetic\",\"Diabetic\",\"Diabetic\",\"Diabetic\",\"Diabetic\",\"Diabetic\",\"Diabetic\",\"Diabetic\",\"Diabetic\",\"Diabetic\",\"Diabetic\",\"Diabetic\",\"Diabetic\",\"Diabetic\",\"Diabetic\",\"Diabetic\",\"Diabetic\",\"Diabetic\",\"Diabetic\",\"Diabetic\",\"Diabetic\",\"Diabetic\",\"Diabetic\",\"Diabetic\",\"Diabetic\",\"Diabetic\",\"Diabetic\",\"Diabetic\",\"Diabetic\",\"Diabetic\",\"Diabetic\",\"Diabetic\",\"Diabetic\",\"Diabetic\",\"Diabetic\",\"Diabetic\",\"Diabetic\",\"Diabetic\",\"Diabetic\",\"Diabetic\",\"Diabetic\",\"Diabetic\",\"Diabetic\",\"Diabetic\",\"Diabetic\",\"Diabetic\",\"Diabetic\",\"Diabetic\",\"Diabetic\",\"Diabetic\",\"Diabetic\",\"Diabetic\",\"Diabetic\",\"Diabetic\",\"Diabetic\",\"Diabetic\",\"Diabetic\",\"Diabetic\",\"Diabetic\",\"Diabetic\",\"Diabetic\",\"Diabetic\",\"Diabetic\",\"Diabetic\",\"Diabetic\",\"Diabetic\",\"Diabetic\",\"Diabetic\",\"Diabetic\",\"Diabetic\",\"Diabetic\",\"Diabetic\",\"Diabetic\",\"Diabetic\",\"Diabetic\",\"Diabetic\",\"Diabetic\",\"Diabetic\",\"Diabetic\",\"Diabetic\",\"Diabetic\",\"Diabetic\",\"Diabetic\",\"Diabetic\",\"Diabetic\",\"Diabetic\",\"Diabetic\",\"Diabetic\",\"Diabetic\",\"Diabetic\",\"Diabetic\",\"Diabetic\",\"Diabetic\",\"Diabetic\",\"Diabetic\",\"Diabetic\",\"Diabetic\",\"Diabetic\",\"Diabetic\",\"Diabetic\",\"Diabetic\",\"Diabetic\",\"Diabetic\",\"Diabetic\",\"Diabetic\",\"Diabetic\",\"Diabetic\",\"Diabetic\",\"Diabetic\",\"Diabetic\",\"Diabetic\",\"Diabetic\",\"Diabetic\",\"Diabetic\",\"Diabetic\",\"Diabetic\",\"Diabetic\",\"Diabetic\",\"Diabetic\",\"Diabetic\",\"Diabetic\",\"Diabetic\",\"Diabetic\",\"Diabetic\",\"Diabetic\",\"Diabetic\",\"Diabetic\",\"Diabetic\",\"Diabetic\",\"Diabetic\",\"Diabetic\",\"Diabetic\",\"Diabetic\",\"Diabetic\",\"Diabetic\",\"Diabetic\",\"Diabetic\",\"Diabetic\",\"Diabetic\",\"Diabetic\",\"Diabetic\",\"Diabetic\",\"Diabetic\",\"Diabetic\",\"Diabetic\",\"Diabetic\",\"Diabetic\",\"Diabetic\",\"Diabetic\",\"Diabetic\",\"Diabetic\",\"Diabetic\",\"Diabetic\",\"Diabetic\",\"Diabetic\",\"Diabetic\",\"Diabetic\",\"Diabetic\",\"Diabetic\",\"Diabetic\",\"Diabetic\",\"Diabetic\",\"Diabetic\",\"Diabetic\",\"Diabetic\",\"Diabetic\",\"Diabetic\",\"Diabetic\",\"Diabetic\",\"Diabetic\",\"Diabetic\",\"Diabetic\",\"Diabetic\",\"Diabetic\",\"Diabetic\",\"Diabetic\",\"Diabetic\",\"Diabetic\",\"Diabetic\",\"Diabetic\",\"Diabetic\",\"Diabetic\",\"Diabetic\",\"Diabetic\",\"Diabetic\",\"Diabetic\",\"Diabetic\",\"Diabetic\",\"Diabetic\",\"Diabetic\",\"Diabetic\",\"Diabetic\",\"Diabetic\",\"Diabetic\",\"Diabetic\"],\"yaxis\":\"y2\",\"type\":\"scatter\"},{\"legendgroup\":\"Healthy\",\"marker\":{\"color\":\"#7EC0EE\",\"symbol\":\"line-ns-open\"},\"mode\":\"markers\",\"name\":\"Healthy\",\"showlegend\":false,\"x\":[85.0,89.0,116.0,115.0,110.0,139.0,103.0,126.0,99.0,97.0,145.0,117.0,109.0,88.0,92.0,122.0,103.0,138.0,180.0,133.0,106.0,159.0,146.0,71.0,105.0,103.0,101.0,88.0,150.0,73.0,100.0,146.0,105.0,84.0,44.0,141.0,99.0,109.0,95.0,146.0,139.0,129.0,79.0,62.0,95.0,112.0,113.0,74.0,83.0,101.0,110.0,106.0,100.0,107.0,80.0,123.0,81.0,142.0,144.0,92.0,71.0,93.0,151.0,125.0,81.0,85.0,126.0,96.0,144.0,83.0,89.0,76.0,78.0,97.0,99.0,111.0,107.0,132.0,120.0,118.0,84.0,96.0,125.0,100.0,93.0,129.0,105.0,128.0,106.0,108.0,154.0,102.0,57.0,106.0,147.0,90.0,136.0,114.0,153.0,99.0,109.0,88.0,151.0,102.0,114.0,100.0,148.0,120.0,110.0,111.0,87.0,79.0,75.0,85.0,143.0,87.0,119.0,73.0,141.0,111.0,123.0,85.0,105.0,113.0,138.0,108.0,99.0,103.0,111.0,96.0,81.0,147.0,179.0,125.0,119.0,142.0,100.0,87.0,101.0,197.0,117.0,79.0,122.0,74.0,104.0,91.0,91.0,146.0,122.0,165.0,124.0,111.0,106.0,129.0,90.0,86.0,111.0,114.0,193.0,191.0,95.0,142.0,96.0,128.0,102.0,108.0,122.0,71.0,106.0,100.0,104.0,114.0,108.0,129.0,133.0,136.0,155.0,96.0,108.0,78.0,161.0,151.0,126.0,112.0,77.0,150.0,120.0,137.0,80.0,106.0,113.0,112.0,99.0,115.0,129.0,112.0,157.0,179.0,105.0,118.0,87.0,106.0,95.0,165.0,117.0,130.0,95.0,122.0,95.0,126.0,139.0,116.0,99.0,92.0,137.0,61.0,90.0,90.0,88.0,158.0,103.0,147.0,99.0,101.0,81.0,118.0,84.0,105.0,122.0,98.0,87.0,93.0,107.0,105.0,109.0,90.0,125.0,119.0,100.0,100.0,131.0,116.0,127.0,96.0,82.0,137.0,72.0,123.0,101.0,102.0,112.0,143.0,143.0,97.0,83.0,119.0,94.0,102.0,115.0,94.0,135.0,99.0,89.0,80.0,139.0,90.0,140.0,147.0,97.0,107.0,83.0,117.0,100.0,95.0,120.0,82.0,91.0,119.0,100.0,135.0,86.0,134.0,120.0,71.0,74.0,88.0,115.0,124.0,74.0,97.0,154.0,144.0,137.0,119.0,136.0,114.0,137.0,114.0,126.0,132.0,123.0,85.0,84.0,139.0,173.0,99.0,194.0,83.0,89.0,99.0,80.0,166.0,110.0,81.0,154.0,117.0,84.0,94.0,96.0,75.0,130.0,84.0,120.0,139.0,91.0,91.0,99.0,125.0,76.0,129.0,68.0,124.0,114.0,125.0,87.0,97.0,116.0,117.0,111.0,122.0,107.0,86.0,91.0,77.0,105.0,57.0,127.0,84.0,88.0,131.0,164.0,189.0,116.0,84.0,114.0,88.0,84.0,124.0,97.0,110.0,103.0,85.0,87.0,99.0,91.0,95.0,99.0,92.0,154.0,78.0,130.0,111.0,98.0,143.0,119.0,108.0,133.0,109.0,121.0,100.0,93.0,103.0,73.0,112.0,82.0,123.0,67.0,89.0,109.0,108.0,96.0,124.0,124.0,92.0,152.0,111.0,106.0,105.0,106.0,117.0,68.0,112.0,92.0,183.0,94.0,108.0,90.0,125.0,132.0,128.0,94.0,102.0,111.0,128.0,92.0,104.0,94.0,100.0,102.0,128.0,90.0,103.0,157.0,107.0,91.0,117.0,123.0,120.0,106.0,101.0,120.0,127.0,162.0,112.0,98.0,154.0,165.0,99.0,68.0,123.0,91.0,93.0,101.0,56.0,95.0,136.0,129.0,130.0,107.0,140.0,107.0,121.0,90.0,99.0,127.0,118.0,122.0,129.0,110.0,80.0,127.0,158.0,126.0,134.0,102.0,94.0,108.0,83.0,114.0,117.0,111.0,112.0,116.0,141.0,175.0,92.0,106.0,105.0,95.0,126.0,65.0,99.0,102.0,109.0,153.0,100.0,81.0,121.0,108.0,137.0,106.0,88.0,89.0,101.0,122.0,121.0,93.0],\"xaxis\":\"x\",\"y\":[\"Healthy\",\"Healthy\",\"Healthy\",\"Healthy\",\"Healthy\",\"Healthy\",\"Healthy\",\"Healthy\",\"Healthy\",\"Healthy\",\"Healthy\",\"Healthy\",\"Healthy\",\"Healthy\",\"Healthy\",\"Healthy\",\"Healthy\",\"Healthy\",\"Healthy\",\"Healthy\",\"Healthy\",\"Healthy\",\"Healthy\",\"Healthy\",\"Healthy\",\"Healthy\",\"Healthy\",\"Healthy\",\"Healthy\",\"Healthy\",\"Healthy\",\"Healthy\",\"Healthy\",\"Healthy\",\"Healthy\",\"Healthy\",\"Healthy\",\"Healthy\",\"Healthy\",\"Healthy\",\"Healthy\",\"Healthy\",\"Healthy\",\"Healthy\",\"Healthy\",\"Healthy\",\"Healthy\",\"Healthy\",\"Healthy\",\"Healthy\",\"Healthy\",\"Healthy\",\"Healthy\",\"Healthy\",\"Healthy\",\"Healthy\",\"Healthy\",\"Healthy\",\"Healthy\",\"Healthy\",\"Healthy\",\"Healthy\",\"Healthy\",\"Healthy\",\"Healthy\",\"Healthy\",\"Healthy\",\"Healthy\",\"Healthy\",\"Healthy\",\"Healthy\",\"Healthy\",\"Healthy\",\"Healthy\",\"Healthy\",\"Healthy\",\"Healthy\",\"Healthy\",\"Healthy\",\"Healthy\",\"Healthy\",\"Healthy\",\"Healthy\",\"Healthy\",\"Healthy\",\"Healthy\",\"Healthy\",\"Healthy\",\"Healthy\",\"Healthy\",\"Healthy\",\"Healthy\",\"Healthy\",\"Healthy\",\"Healthy\",\"Healthy\",\"Healthy\",\"Healthy\",\"Healthy\",\"Healthy\",\"Healthy\",\"Healthy\",\"Healthy\",\"Healthy\",\"Healthy\",\"Healthy\",\"Healthy\",\"Healthy\",\"Healthy\",\"Healthy\",\"Healthy\",\"Healthy\",\"Healthy\",\"Healthy\",\"Healthy\",\"Healthy\",\"Healthy\",\"Healthy\",\"Healthy\",\"Healthy\",\"Healthy\",\"Healthy\",\"Healthy\",\"Healthy\",\"Healthy\",\"Healthy\",\"Healthy\",\"Healthy\",\"Healthy\",\"Healthy\",\"Healthy\",\"Healthy\",\"Healthy\",\"Healthy\",\"Healthy\",\"Healthy\",\"Healthy\",\"Healthy\",\"Healthy\",\"Healthy\",\"Healthy\",\"Healthy\",\"Healthy\",\"Healthy\",\"Healthy\",\"Healthy\",\"Healthy\",\"Healthy\",\"Healthy\",\"Healthy\",\"Healthy\",\"Healthy\",\"Healthy\",\"Healthy\",\"Healthy\",\"Healthy\",\"Healthy\",\"Healthy\",\"Healthy\",\"Healthy\",\"Healthy\",\"Healthy\",\"Healthy\",\"Healthy\",\"Healthy\",\"Healthy\",\"Healthy\",\"Healthy\",\"Healthy\",\"Healthy\",\"Healthy\",\"Healthy\",\"Healthy\",\"Healthy\",\"Healthy\",\"Healthy\",\"Healthy\",\"Healthy\",\"Healthy\",\"Healthy\",\"Healthy\",\"Healthy\",\"Healthy\",\"Healthy\",\"Healthy\",\"Healthy\",\"Healthy\",\"Healthy\",\"Healthy\",\"Healthy\",\"Healthy\",\"Healthy\",\"Healthy\",\"Healthy\",\"Healthy\",\"Healthy\",\"Healthy\",\"Healthy\",\"Healthy\",\"Healthy\",\"Healthy\",\"Healthy\",\"Healthy\",\"Healthy\",\"Healthy\",\"Healthy\",\"Healthy\",\"Healthy\",\"Healthy\",\"Healthy\",\"Healthy\",\"Healthy\",\"Healthy\",\"Healthy\",\"Healthy\",\"Healthy\",\"Healthy\",\"Healthy\",\"Healthy\",\"Healthy\",\"Healthy\",\"Healthy\",\"Healthy\",\"Healthy\",\"Healthy\",\"Healthy\",\"Healthy\",\"Healthy\",\"Healthy\",\"Healthy\",\"Healthy\",\"Healthy\",\"Healthy\",\"Healthy\",\"Healthy\",\"Healthy\",\"Healthy\",\"Healthy\",\"Healthy\",\"Healthy\",\"Healthy\",\"Healthy\",\"Healthy\",\"Healthy\",\"Healthy\",\"Healthy\",\"Healthy\",\"Healthy\",\"Healthy\",\"Healthy\",\"Healthy\",\"Healthy\",\"Healthy\",\"Healthy\",\"Healthy\",\"Healthy\",\"Healthy\",\"Healthy\",\"Healthy\",\"Healthy\",\"Healthy\",\"Healthy\",\"Healthy\",\"Healthy\",\"Healthy\",\"Healthy\",\"Healthy\",\"Healthy\",\"Healthy\",\"Healthy\",\"Healthy\",\"Healthy\",\"Healthy\",\"Healthy\",\"Healthy\",\"Healthy\",\"Healthy\",\"Healthy\",\"Healthy\",\"Healthy\",\"Healthy\",\"Healthy\",\"Healthy\",\"Healthy\",\"Healthy\",\"Healthy\",\"Healthy\",\"Healthy\",\"Healthy\",\"Healthy\",\"Healthy\",\"Healthy\",\"Healthy\",\"Healthy\",\"Healthy\",\"Healthy\",\"Healthy\",\"Healthy\",\"Healthy\",\"Healthy\",\"Healthy\",\"Healthy\",\"Healthy\",\"Healthy\",\"Healthy\",\"Healthy\",\"Healthy\",\"Healthy\",\"Healthy\",\"Healthy\",\"Healthy\",\"Healthy\",\"Healthy\",\"Healthy\",\"Healthy\",\"Healthy\",\"Healthy\",\"Healthy\",\"Healthy\",\"Healthy\",\"Healthy\",\"Healthy\",\"Healthy\",\"Healthy\",\"Healthy\",\"Healthy\",\"Healthy\",\"Healthy\",\"Healthy\",\"Healthy\",\"Healthy\",\"Healthy\",\"Healthy\",\"Healthy\",\"Healthy\",\"Healthy\",\"Healthy\",\"Healthy\",\"Healthy\",\"Healthy\",\"Healthy\",\"Healthy\",\"Healthy\",\"Healthy\",\"Healthy\",\"Healthy\",\"Healthy\",\"Healthy\",\"Healthy\",\"Healthy\",\"Healthy\",\"Healthy\",\"Healthy\",\"Healthy\",\"Healthy\",\"Healthy\",\"Healthy\",\"Healthy\",\"Healthy\",\"Healthy\",\"Healthy\",\"Healthy\",\"Healthy\",\"Healthy\",\"Healthy\",\"Healthy\",\"Healthy\",\"Healthy\",\"Healthy\",\"Healthy\",\"Healthy\",\"Healthy\",\"Healthy\",\"Healthy\",\"Healthy\",\"Healthy\",\"Healthy\",\"Healthy\",\"Healthy\",\"Healthy\",\"Healthy\",\"Healthy\",\"Healthy\",\"Healthy\",\"Healthy\",\"Healthy\",\"Healthy\",\"Healthy\",\"Healthy\",\"Healthy\",\"Healthy\",\"Healthy\",\"Healthy\",\"Healthy\",\"Healthy\",\"Healthy\",\"Healthy\",\"Healthy\",\"Healthy\",\"Healthy\",\"Healthy\",\"Healthy\",\"Healthy\",\"Healthy\",\"Healthy\",\"Healthy\",\"Healthy\",\"Healthy\",\"Healthy\",\"Healthy\",\"Healthy\",\"Healthy\",\"Healthy\",\"Healthy\",\"Healthy\",\"Healthy\",\"Healthy\",\"Healthy\",\"Healthy\",\"Healthy\",\"Healthy\",\"Healthy\",\"Healthy\",\"Healthy\",\"Healthy\",\"Healthy\",\"Healthy\",\"Healthy\",\"Healthy\",\"Healthy\",\"Healthy\",\"Healthy\",\"Healthy\",\"Healthy\",\"Healthy\",\"Healthy\",\"Healthy\",\"Healthy\",\"Healthy\",\"Healthy\",\"Healthy\",\"Healthy\",\"Healthy\",\"Healthy\",\"Healthy\",\"Healthy\",\"Healthy\",\"Healthy\",\"Healthy\",\"Healthy\",\"Healthy\",\"Healthy\",\"Healthy\",\"Healthy\",\"Healthy\",\"Healthy\",\"Healthy\",\"Healthy\",\"Healthy\",\"Healthy\",\"Healthy\",\"Healthy\",\"Healthy\",\"Healthy\",\"Healthy\",\"Healthy\",\"Healthy\",\"Healthy\",\"Healthy\",\"Healthy\",\"Healthy\",\"Healthy\",\"Healthy\",\"Healthy\",\"Healthy\",\"Healthy\",\"Healthy\",\"Healthy\",\"Healthy\",\"Healthy\",\"Healthy\",\"Healthy\",\"Healthy\",\"Healthy\",\"Healthy\",\"Healthy\",\"Healthy\",\"Healthy\",\"Healthy\",\"Healthy\",\"Healthy\",\"Healthy\",\"Healthy\",\"Healthy\",\"Healthy\",\"Healthy\",\"Healthy\"],\"yaxis\":\"y2\",\"type\":\"scatter\"}],                        {\"barmode\":\"overlay\",\"hovermode\":\"closest\",\"legend\":{\"traceorder\":\"reversed\"},\"template\":{\"data\":{\"barpolar\":[{\"marker\":{\"line\":{\"color\":\"#E5ECF6\",\"width\":0.5},\"pattern\":{\"fillmode\":\"overlay\",\"size\":10,\"solidity\":0.2}},\"type\":\"barpolar\"}],\"bar\":[{\"error_x\":{\"color\":\"#2a3f5f\"},\"error_y\":{\"color\":\"#2a3f5f\"},\"marker\":{\"line\":{\"color\":\"#E5ECF6\",\"width\":0.5},\"pattern\":{\"fillmode\":\"overlay\",\"size\":10,\"solidity\":0.2}},\"type\":\"bar\"}],\"carpet\":[{\"aaxis\":{\"endlinecolor\":\"#2a3f5f\",\"gridcolor\":\"white\",\"linecolor\":\"white\",\"minorgridcolor\":\"white\",\"startlinecolor\":\"#2a3f5f\"},\"baxis\":{\"endlinecolor\":\"#2a3f5f\",\"gridcolor\":\"white\",\"linecolor\":\"white\",\"minorgridcolor\":\"white\",\"startlinecolor\":\"#2a3f5f\"},\"type\":\"carpet\"}],\"choropleth\":[{\"colorbar\":{\"outlinewidth\":0,\"ticks\":\"\"},\"type\":\"choropleth\"}],\"contourcarpet\":[{\"colorbar\":{\"outlinewidth\":0,\"ticks\":\"\"},\"type\":\"contourcarpet\"}],\"contour\":[{\"colorbar\":{\"outlinewidth\":0,\"ticks\":\"\"},\"colorscale\":[[0.0,\"#0d0887\"],[0.1111111111111111,\"#46039f\"],[0.2222222222222222,\"#7201a8\"],[0.3333333333333333,\"#9c179e\"],[0.4444444444444444,\"#bd3786\"],[0.5555555555555556,\"#d8576b\"],[0.6666666666666666,\"#ed7953\"],[0.7777777777777778,\"#fb9f3a\"],[0.8888888888888888,\"#fdca26\"],[1.0,\"#f0f921\"]],\"type\":\"contour\"}],\"heatmapgl\":[{\"colorbar\":{\"outlinewidth\":0,\"ticks\":\"\"},\"colorscale\":[[0.0,\"#0d0887\"],[0.1111111111111111,\"#46039f\"],[0.2222222222222222,\"#7201a8\"],[0.3333333333333333,\"#9c179e\"],[0.4444444444444444,\"#bd3786\"],[0.5555555555555556,\"#d8576b\"],[0.6666666666666666,\"#ed7953\"],[0.7777777777777778,\"#fb9f3a\"],[0.8888888888888888,\"#fdca26\"],[1.0,\"#f0f921\"]],\"type\":\"heatmapgl\"}],\"heatmap\":[{\"colorbar\":{\"outlinewidth\":0,\"ticks\":\"\"},\"colorscale\":[[0.0,\"#0d0887\"],[0.1111111111111111,\"#46039f\"],[0.2222222222222222,\"#7201a8\"],[0.3333333333333333,\"#9c179e\"],[0.4444444444444444,\"#bd3786\"],[0.5555555555555556,\"#d8576b\"],[0.6666666666666666,\"#ed7953\"],[0.7777777777777778,\"#fb9f3a\"],[0.8888888888888888,\"#fdca26\"],[1.0,\"#f0f921\"]],\"type\":\"heatmap\"}],\"histogram2dcontour\":[{\"colorbar\":{\"outlinewidth\":0,\"ticks\":\"\"},\"colorscale\":[[0.0,\"#0d0887\"],[0.1111111111111111,\"#46039f\"],[0.2222222222222222,\"#7201a8\"],[0.3333333333333333,\"#9c179e\"],[0.4444444444444444,\"#bd3786\"],[0.5555555555555556,\"#d8576b\"],[0.6666666666666666,\"#ed7953\"],[0.7777777777777778,\"#fb9f3a\"],[0.8888888888888888,\"#fdca26\"],[1.0,\"#f0f921\"]],\"type\":\"histogram2dcontour\"}],\"histogram2d\":[{\"colorbar\":{\"outlinewidth\":0,\"ticks\":\"\"},\"colorscale\":[[0.0,\"#0d0887\"],[0.1111111111111111,\"#46039f\"],[0.2222222222222222,\"#7201a8\"],[0.3333333333333333,\"#9c179e\"],[0.4444444444444444,\"#bd3786\"],[0.5555555555555556,\"#d8576b\"],[0.6666666666666666,\"#ed7953\"],[0.7777777777777778,\"#fb9f3a\"],[0.8888888888888888,\"#fdca26\"],[1.0,\"#f0f921\"]],\"type\":\"histogram2d\"}],\"histogram\":[{\"marker\":{\"pattern\":{\"fillmode\":\"overlay\",\"size\":10,\"solidity\":0.2}},\"type\":\"histogram\"}],\"mesh3d\":[{\"colorbar\":{\"outlinewidth\":0,\"ticks\":\"\"},\"type\":\"mesh3d\"}],\"parcoords\":[{\"line\":{\"colorbar\":{\"outlinewidth\":0,\"ticks\":\"\"}},\"type\":\"parcoords\"}],\"pie\":[{\"automargin\":true,\"type\":\"pie\"}],\"scatter3d\":[{\"line\":{\"colorbar\":{\"outlinewidth\":0,\"ticks\":\"\"}},\"marker\":{\"colorbar\":{\"outlinewidth\":0,\"ticks\":\"\"}},\"type\":\"scatter3d\"}],\"scattercarpet\":[{\"marker\":{\"colorbar\":{\"outlinewidth\":0,\"ticks\":\"\"}},\"type\":\"scattercarpet\"}],\"scattergeo\":[{\"marker\":{\"colorbar\":{\"outlinewidth\":0,\"ticks\":\"\"}},\"type\":\"scattergeo\"}],\"scattergl\":[{\"marker\":{\"colorbar\":{\"outlinewidth\":0,\"ticks\":\"\"}},\"type\":\"scattergl\"}],\"scattermapbox\":[{\"marker\":{\"colorbar\":{\"outlinewidth\":0,\"ticks\":\"\"}},\"type\":\"scattermapbox\"}],\"scatterpolargl\":[{\"marker\":{\"colorbar\":{\"outlinewidth\":0,\"ticks\":\"\"}},\"type\":\"scatterpolargl\"}],\"scatterpolar\":[{\"marker\":{\"colorbar\":{\"outlinewidth\":0,\"ticks\":\"\"}},\"type\":\"scatterpolar\"}],\"scatter\":[{\"fillpattern\":{\"fillmode\":\"overlay\",\"size\":10,\"solidity\":0.2},\"type\":\"scatter\"}],\"scatterternary\":[{\"marker\":{\"colorbar\":{\"outlinewidth\":0,\"ticks\":\"\"}},\"type\":\"scatterternary\"}],\"surface\":[{\"colorbar\":{\"outlinewidth\":0,\"ticks\":\"\"},\"colorscale\":[[0.0,\"#0d0887\"],[0.1111111111111111,\"#46039f\"],[0.2222222222222222,\"#7201a8\"],[0.3333333333333333,\"#9c179e\"],[0.4444444444444444,\"#bd3786\"],[0.5555555555555556,\"#d8576b\"],[0.6666666666666666,\"#ed7953\"],[0.7777777777777778,\"#fb9f3a\"],[0.8888888888888888,\"#fdca26\"],[1.0,\"#f0f921\"]],\"type\":\"surface\"}],\"table\":[{\"cells\":{\"fill\":{\"color\":\"#EBF0F8\"},\"line\":{\"color\":\"white\"}},\"header\":{\"fill\":{\"color\":\"#C8D4E3\"},\"line\":{\"color\":\"white\"}},\"type\":\"table\"}]},\"layout\":{\"annotationdefaults\":{\"arrowcolor\":\"#2a3f5f\",\"arrowhead\":0,\"arrowwidth\":1},\"autotypenumbers\":\"strict\",\"coloraxis\":{\"colorbar\":{\"outlinewidth\":0,\"ticks\":\"\"}},\"colorscale\":{\"diverging\":[[0,\"#8e0152\"],[0.1,\"#c51b7d\"],[0.2,\"#de77ae\"],[0.3,\"#f1b6da\"],[0.4,\"#fde0ef\"],[0.5,\"#f7f7f7\"],[0.6,\"#e6f5d0\"],[0.7,\"#b8e186\"],[0.8,\"#7fbc41\"],[0.9,\"#4d9221\"],[1,\"#276419\"]],\"sequential\":[[0.0,\"#0d0887\"],[0.1111111111111111,\"#46039f\"],[0.2222222222222222,\"#7201a8\"],[0.3333333333333333,\"#9c179e\"],[0.4444444444444444,\"#bd3786\"],[0.5555555555555556,\"#d8576b\"],[0.6666666666666666,\"#ed7953\"],[0.7777777777777778,\"#fb9f3a\"],[0.8888888888888888,\"#fdca26\"],[1.0,\"#f0f921\"]],\"sequentialminus\":[[0.0,\"#0d0887\"],[0.1111111111111111,\"#46039f\"],[0.2222222222222222,\"#7201a8\"],[0.3333333333333333,\"#9c179e\"],[0.4444444444444444,\"#bd3786\"],[0.5555555555555556,\"#d8576b\"],[0.6666666666666666,\"#ed7953\"],[0.7777777777777778,\"#fb9f3a\"],[0.8888888888888888,\"#fdca26\"],[1.0,\"#f0f921\"]]},\"colorway\":[\"#636efa\",\"#EF553B\",\"#00cc96\",\"#ab63fa\",\"#FFA15A\",\"#19d3f3\",\"#FF6692\",\"#B6E880\",\"#FF97FF\",\"#FECB52\"],\"font\":{\"color\":\"#2a3f5f\"},\"geo\":{\"bgcolor\":\"white\",\"lakecolor\":\"white\",\"landcolor\":\"#E5ECF6\",\"showlakes\":true,\"showland\":true,\"subunitcolor\":\"white\"},\"hoverlabel\":{\"align\":\"left\"},\"hovermode\":\"closest\",\"mapbox\":{\"style\":\"light\"},\"paper_bgcolor\":\"white\",\"plot_bgcolor\":\"#E5ECF6\",\"polar\":{\"angularaxis\":{\"gridcolor\":\"white\",\"linecolor\":\"white\",\"ticks\":\"\"},\"bgcolor\":\"#E5ECF6\",\"radialaxis\":{\"gridcolor\":\"white\",\"linecolor\":\"white\",\"ticks\":\"\"}},\"scene\":{\"xaxis\":{\"backgroundcolor\":\"#E5ECF6\",\"gridcolor\":\"white\",\"gridwidth\":2,\"linecolor\":\"white\",\"showbackground\":true,\"ticks\":\"\",\"zerolinecolor\":\"white\"},\"yaxis\":{\"backgroundcolor\":\"#E5ECF6\",\"gridcolor\":\"white\",\"gridwidth\":2,\"linecolor\":\"white\",\"showbackground\":true,\"ticks\":\"\",\"zerolinecolor\":\"white\"},\"zaxis\":{\"backgroundcolor\":\"#E5ECF6\",\"gridcolor\":\"white\",\"gridwidth\":2,\"linecolor\":\"white\",\"showbackground\":true,\"ticks\":\"\",\"zerolinecolor\":\"white\"}},\"shapedefaults\":{\"line\":{\"color\":\"#2a3f5f\"}},\"ternary\":{\"aaxis\":{\"gridcolor\":\"white\",\"linecolor\":\"white\",\"ticks\":\"\"},\"baxis\":{\"gridcolor\":\"white\",\"linecolor\":\"white\",\"ticks\":\"\"},\"bgcolor\":\"#E5ECF6\",\"caxis\":{\"gridcolor\":\"white\",\"linecolor\":\"white\",\"ticks\":\"\"}},\"title\":{\"x\":0.05},\"xaxis\":{\"automargin\":true,\"gridcolor\":\"white\",\"linecolor\":\"white\",\"ticks\":\"\",\"title\":{\"standoff\":15},\"zerolinecolor\":\"white\",\"zerolinewidth\":2},\"yaxis\":{\"automargin\":true,\"gridcolor\":\"white\",\"linecolor\":\"white\",\"ticks\":\"\",\"title\":{\"standoff\":15},\"zerolinecolor\":\"white\",\"zerolinewidth\":2}}},\"title\":{\"text\":\"Distribution of Glucose\",\"x\":0.5},\"xaxis\":{\"anchor\":\"y2\",\"domain\":[0.0,1.0],\"zeroline\":false},\"yaxis\":{\"anchor\":\"free\",\"domain\":[0.35,1],\"position\":0.0},\"yaxis2\":{\"anchor\":\"x\",\"domain\":[0,0.25],\"dtick\":1,\"showticklabels\":false}},                        {\"responsive\": true}                    ).then(function(){\n",
              "                            \n",
              "var gd = document.getElementById('63ae8eac-5d94-4a8c-9fdf-108564772bb4');\n",
              "var x = new MutationObserver(function (mutations, observer) {{\n",
              "        var display = window.getComputedStyle(gd).display;\n",
              "        if (!display || display === 'none') {{\n",
              "            console.log([gd, 'removed!']);\n",
              "            Plotly.purge(gd);\n",
              "            observer.disconnect();\n",
              "        }}\n",
              "}});\n",
              "\n",
              "// Listen for the removal of the full notebook cells\n",
              "var notebookContainer = gd.closest('#notebook-container');\n",
              "if (notebookContainer) {{\n",
              "    x.observe(notebookContainer, {childList: true});\n",
              "}}\n",
              "\n",
              "// Listen for the clearing of the current output cell\n",
              "var outputEl = gd.closest('.output');\n",
              "if (outputEl) {{\n",
              "    x.observe(outputEl, {childList: true});\n",
              "}}\n",
              "\n",
              "                        })                };                            </script>        </div>\n",
              "</body>\n",
              "</html>"
            ]
          },
          "metadata": {}
        }
      ],
      "source": [
        "plot_distribution('Glucose', 0)"
      ]
    },
    {
      "cell_type": "code",
      "execution_count": null,
      "metadata": {
        "colab": {
          "base_uri": "https://localhost:8080/"
        },
        "id": "QXxKV3IO0iZ8",
        "outputId": "db97c3f7-2226-4463-bb58-236b1ef2073b"
      },
      "outputs": [
        {
          "output_type": "stream",
          "name": "stdout",
          "text": [
            "Median 'Glucose' untuk setiap Outcome:\n",
            "Outcome\n",
            "0    107.0\n",
            "1    140.0\n",
            "Name: Glucose, dtype: float64\n"
          ]
        }
      ],
      "source": [
        "median_target('Glucose')"
      ]
    },
    {
      "cell_type": "code",
      "execution_count": null,
      "metadata": {
        "id": "pbtiABh_0mWk"
      },
      "outputs": [],
      "source": [
        "df.loc[(df['Outcome'] == 0 ) & (df['Glucose'].isnull()), 'Glucose'] = 107\n",
        "df.loc[(df['Outcome'] == 1 ) & (df['Glucose'].isnull()), 'Glucose'] = 140"
      ]
    },
    {
      "cell_type": "markdown",
      "metadata": {
        "id": "o2m9i18E0pkL"
      },
      "source": [
        "### 3.3 SkinThickness\n",
        "**Insight**\n",
        "\n",
        "Pada bagian SkinThickness ini kami mengubah data missing valuenya menjadi median untuk masing-masing outcome. Untuk data yang outcomenya adalah 0, nilai median adalah 27.0 , sedangkan untuk data insulin dengan outcome 1(diabetes), nilai median adalah 32.0"
      ]
    },
    {
      "cell_type": "code",
      "execution_count": null,
      "metadata": {
        "colab": {
          "base_uri": "https://localhost:8080/",
          "height": 542
        },
        "id": "9gduxR0e0vf3",
        "outputId": "dd36b1e1-343f-4e89-8c1c-d8b93686927d"
      },
      "outputs": [
        {
          "output_type": "display_data",
          "data": {
            "text/html": [
              "<html>\n",
              "<head><meta charset=\"utf-8\" /></head>\n",
              "<body>\n",
              "    <div>            <script src=\"https://cdnjs.cloudflare.com/ajax/libs/mathjax/2.7.5/MathJax.js?config=TeX-AMS-MML_SVG\"></script><script type=\"text/javascript\">if (window.MathJax && window.MathJax.Hub && window.MathJax.Hub.Config) {window.MathJax.Hub.Config({SVG: {font: \"STIX-Web\"}});}</script>                <script type=\"text/javascript\">window.PlotlyConfig = {MathJaxConfig: 'local'};</script>\n",
              "        <script charset=\"utf-8\" src=\"https://cdn.plot.ly/plotly-2.35.2.min.js\"></script>                <div id=\"1e3fc8d1-6fc9-4cde-abb5-cd3df2a0e8bc\" class=\"plotly-graph-div\" style=\"height:525px; width:100%;\"></div>            <script type=\"text/javascript\">                                    window.PLOTLYENV=window.PLOTLYENV || {};                                    if (document.getElementById(\"1e3fc8d1-6fc9-4cde-abb5-cd3df2a0e8bc\")) {                    Plotly.newPlot(                        \"1e3fc8d1-6fc9-4cde-abb5-cd3df2a0e8bc\",                        [{\"autobinx\":false,\"histnorm\":\"probability density\",\"legendgroup\":\"Diabetic\",\"marker\":{\"color\":\"#FFD700\"},\"name\":\"Diabetic\",\"opacity\":0.7,\"x\":[35.0,35.0,32.0,45.0,23.0,19.0,47.0,30.0,35.0,33.0,26.0,36.0,37.0,42.0,47.0,24.0,39.0,32.0,34.0,39.0,30.0,20.0,32.0,51.0,25.0,33.0,26.0,32.0,56.0,42.0,24.0,14.0,37.0,28.0,44.0,41.0,18.0,23.0,42.0,46.0,28.0,36.0,41.0,39.0,35.0,41.0,13.0,44.0,27.0,29.0,33.0,26.0,32.0,40.0,41.0,22.0,29.0,38.0,37.0,21.0,27.0,21.0,22.0,15.0,7.0,35.0,28.0,37.0,24.0,39.0,30.0,37.0,45.0,38.0,25.0,33.0,23.0,19.0,28.0,17.0,31.0,30.0,20.0,33.0,32.0,36.0,34.0,32.0,40.0,30.0,36.0,33.0,28.0,48.0,43.0,29.0,36.0,26.0,40.0,31.0,41.0,49.0,35.0,33.0,32.0,29.0,32.0,39.0,30.0,25.0,25.0,12.0,63.0,37.0,30.0,48.0,45.0,30.0,42.0,18.0,33.0,41.0,26.0,31.0,18.0,34.0,49.0,40.0,25.0,32.0,35.0,27.0,32.0,30.0,99.0,46.0,24.0,27.0,40.0,14.0,29.0,42.0,22.0,42.0,26.0,24.0,32.0,17.0,36.0,35.0,27.0,31.0,43.0,46.0,46.0,39.0,18.0,27.0,36.0,46.0,49.0,24.0,19.0,31.0,29.0,32.0,36.0,33.0,39.0,27.0,29.0,23.0,37.0,37.0,41.0,22.0,44.0,32.0,39.0,31.0],\"xaxis\":\"x\",\"xbins\":{\"end\":99.0,\"size\":10,\"start\":7.0},\"yaxis\":\"y\",\"type\":\"histogram\"},{\"autobinx\":false,\"histnorm\":\"probability density\",\"legendgroup\":\"Healthy\",\"marker\":{\"color\":\"#7EC0EE\"},\"name\":\"Healthy\",\"opacity\":0.7,\"x\":[29.0,23.0,38.0,41.0,15.0,19.0,26.0,11.0,31.0,33.0,25.0,18.0,27.0,11.0,15.0,21.0,42.0,10.0,60.0,41.0,34.0,27.0,13.0,27.0,35.0,20.0,30.0,20.0,33.0,22.0,13.0,26.0,28.0,29.0,54.0,25.0,19.0,15.0,40.0,18.0,27.0,28.0,18.0,30.0,18.0,29.0,28.0,31.0,34.0,23.0,15.0,39.0,30.0,30.0,36.0,31.0,13.0,20.0,26.0,25.0,29.0,30.0,26.0,31.0,23.0,37.0,35.0,17.0,50.0,42.0,15.0,21.0,19.0,38.0,40.0,34.0,23.0,25.0,12.0,23.0,42.0,24.0,18.0,20.0,44.0,20.0,16.0,20.0,16.0,32.0,28.0,27.0,22.0,54.0,31.0,30.0,33.0,15.0,27.0,39.0,31.0,25.0,28.0,24.0,32.0,35.0,33.0,33.0,19.0,14.0,32.0,39.0,22.0,16.0,15.0,32.0,15.0,18.0,42.0,32.0,50.0,52.0,23.0,10.0,28.0,15.0,26.0,44.0,17.0,43.0,29.0,31.0,29.0,41.0,37.0,14.0,30.0,37.0,10.0,22.0,11.0,39.0,12.0,32.0,21.0,32.0,19.0,16.0,18.0,43.0,13.0,21.0,35.0,36.0,19.0,19.0,28.0,12.0,40.0,37.0,25.0,28.0,17.0,16.0,23.0,22.0,40.0,43.0,15.0,37.0,39.0,30.0,22.0,8.0,18.0,24.0,13.0,23.0,29.0,14.0,12.0,24.0,34.0,25.0,32.0,39.0,30.0,23.0,22.0,21.0,41.0,18.0,46.0,22.0,46.0,16.0,11.0,8.0,33.0,15.0,23.0,27.0,12.0,45.0,18.0,13.0,32.0,28.0,28.0,33.0,22.0,40.0,30.0,13.0,10.0,36.0,41.0,40.0,38.0,27.0,27.0,17.0,38.0,31.0,37.0,22.0,31.0,41.0,32.0,17.0,28.0,30.0,38.0,15.0,32.0,19.0,32.0,25.0,39.0,23.0,23.0,17.0,19.0,7.0,32.0,33.0,18.0,19.0,15.0,31.0,18.0,52.0,30.0,37.0,23.0,29.0,21.0,43.0,31.0,28.0,30.0,24.0,23.0,33.0,40.0,40.0,34.0,19.0,14.0,30.0,32.0,29.0,31.0,17.0,30.0,47.0,20.0,27.0,17.0,11.0,50.0,22.0,45.0,19.0,18.0,19.0,36.0,32.0,25.0,39.0,13.0,21.0,28.0,13.0,42.0,20.0,27.0,47.0,22.0,40.0,17.0,18.0,12.0,17.0,30.0,35.0,25.0,25.0,23.0,40.0,28.0,35.0,48.0,45.0,33.0,30.0,26.0,10.0,23.0,35.0,17.0,28.0,39.0,26.0,19.0,26.0,32.0,11.0,27.0,20.0,36.0,21.0,13.0,27.0,20.0,18.0,46.0,19.0,36.0,30.0,40.0,29.0,26.0,27.0,32.0,27.0,23.0,17.0,20.0,18.0,37.0,33.0,41.0,39.0,24.0,41.0,26.0,48.0,27.0,23.0,31.0],\"xaxis\":\"x\",\"xbins\":{\"end\":60.0,\"size\":10,\"start\":7.0},\"yaxis\":\"y\",\"type\":\"histogram\"},{\"legendgroup\":\"Diabetic\",\"marker\":{\"color\":\"#FFD700\"},\"mode\":\"lines\",\"name\":\"Diabetic\",\"showlegend\":false,\"x\":[7.0,7.184,7.368,7.552,7.736,7.92,8.104,8.288,8.472,8.656,8.84,9.024000000000001,9.208,9.392,9.576,9.76,9.943999999999999,10.128,10.312,10.496,10.68,10.864,11.048,11.232,11.416,11.6,11.783999999999999,11.968,12.152000000000001,12.336,12.52,12.704,12.888,13.072,13.256,13.440000000000001,13.623999999999999,13.808,13.992,14.176,14.36,14.544,14.728,14.911999999999999,15.096,15.28,15.464,15.648,15.832,16.016,16.2,16.384,16.567999999999998,16.752000000000002,16.936,17.119999999999997,17.304000000000002,17.488,17.672,17.856,18.04,18.224,18.408,18.592,18.776,18.96,19.144,19.328,19.512,19.695999999999998,19.880000000000003,20.064,20.247999999999998,20.432000000000002,20.616,20.8,20.984,21.168,21.352,21.536,21.72,21.904,22.088,22.272,22.456,22.64,22.823999999999998,23.008,23.192,23.376,23.56,23.744,23.928,24.112,24.296,24.48,24.664,24.848,25.032,25.216,25.4,25.584,25.768,25.952,26.136,26.32,26.504,26.688,26.872,27.056,27.24,27.424,27.608,27.792,27.976,28.16,28.344,28.528,28.712,28.896,29.08,29.264,29.448,29.632,29.816,30.0,30.184,30.368,30.552,30.736,30.92,31.104,31.288,31.472,31.656,31.84,32.024,32.208,32.391999999999996,32.576,32.760000000000005,32.944,33.128,33.312,33.495999999999995,33.68,33.864000000000004,34.048,34.232,34.416,34.6,34.784,34.968,35.152,35.336,35.519999999999996,35.704,35.888000000000005,36.072,36.256,36.44,36.623999999999995,36.808,36.992000000000004,37.176,37.36,37.544,37.728,37.912,38.096000000000004,38.28,38.464,38.647999999999996,38.832,39.016,39.2,39.384,39.568,39.752,39.936,40.12,40.304,40.488,40.672,40.856,41.04,41.224,41.408,41.592,41.776,41.96,42.144,42.328,42.512,42.696,42.88,43.064,43.248,43.432,43.616,43.8,43.984,44.168,44.352,44.536,44.72,44.904,45.088,45.272,45.456,45.64,45.824,46.008,46.192,46.376,46.56,46.744,46.928,47.112,47.296,47.48,47.664,47.848,48.032,48.216,48.4,48.584,48.768,48.952,49.136,49.32,49.504,49.688,49.872,50.056,50.24,50.424,50.608,50.792,50.976,51.16,51.344,51.528,51.712,51.896,52.08,52.264,52.448,52.632,52.816,53.0,53.184,53.368,53.552,53.736,53.92,54.104,54.288,54.472,54.656,54.84,55.024,55.208,55.392,55.576,55.76,55.944,56.128,56.312,56.496,56.68,56.864,57.048,57.232,57.416,57.6,57.784,57.968,58.152,58.336,58.52,58.704,58.888,59.072,59.256,59.44,59.624,59.808,59.992,60.176,60.36,60.544,60.728,60.912,61.096,61.28,61.464,61.648,61.832,62.016,62.2,62.384,62.568,62.752,62.936,63.12,63.304,63.488,63.672,63.856,64.03999999999999,64.22399999999999,64.408,64.592,64.77600000000001,64.96000000000001,65.144,65.328,65.512,65.696,65.88,66.064,66.24799999999999,66.432,66.616,66.8,66.98400000000001,67.168,67.352,67.536,67.72,67.904,68.088,68.27199999999999,68.456,68.64,68.824,69.00800000000001,69.19200000000001,69.376,69.56,69.744,69.928,70.112,70.29599999999999,70.47999999999999,70.664,70.848,71.032,71.216,71.4,71.584,71.768,71.952,72.136,72.32,72.504,72.688,72.872,73.056,73.24,73.424,73.608,73.792,73.976,74.16,74.344,74.528,74.712,74.896,75.08,75.264,75.448,75.632,75.816,76.0,76.184,76.368,76.552,76.736,76.92,77.104,77.288,77.472,77.656,77.84,78.024,78.208,78.392,78.576,78.76,78.944,79.128,79.312,79.496,79.68,79.864,80.048,80.232,80.416,80.6,80.784,80.968,81.152,81.336,81.52,81.704,81.888,82.072,82.256,82.44,82.624,82.808,82.992,83.176,83.36,83.544,83.728,83.912,84.096,84.28,84.464,84.648,84.832,85.016,85.2,85.384,85.568,85.752,85.936,86.12,86.304,86.488,86.672,86.856,87.04,87.224,87.408,87.592,87.776,87.96,88.144,88.328,88.512,88.696,88.88,89.064,89.248,89.432,89.616,89.8,89.984,90.168,90.352,90.536,90.72,90.904,91.088,91.272,91.456,91.64,91.824,92.008,92.192,92.376,92.56,92.744,92.928,93.112,93.296,93.48,93.664,93.848,94.032,94.216,94.4,94.584,94.768,94.952,95.136,95.32,95.504,95.688,95.872,96.056,96.24,96.424,96.608,96.792,96.976,97.16,97.344,97.528,97.712,97.896,98.08,98.264,98.448,98.632,98.816],\"xaxis\":\"x\",\"y\":[0.0013180482329848767,0.0013836923192380088,0.0014523396671344987,0.0015241509268738738,0.0015992885637840027,0.0016779155370941845,0.001760193940249782,0.001846283627217098,0.0019363408498255898,0.0020305169311642794,0.002128956999380566,0.0022317988049341065,0.0023391716424663775,0.002451195396009282,0.002567979723342209,0.002689623392002428,0.002816213775857414,0.0029478265173699925,0.0030845253568448955,0.003226362126157838,0.003373376900854327,0.003525598301177276,0.003683043929642768,0.003845720930320598,0.004013626653062196,0.0041867494046028365,0.004365069267778173,0.004548558970039359,0.004737184783008502,0.00493090743594309,0.0051296830276078885,0.005333463923102126,0.005542199624554925,0.005755837607169867,0.005974324114747546,0.006197604911418176,0.006425625988752082,0.006658334229569489,0.00689567803154014,0.007137607894962951,0.007384076979883234,0.007635041637900136,0.007890461923628344,0.008150302089821131,0.008414531068679175,0.008683122939932316,0.008956057383981784,0.009233320115844773,0.009514903292980256,0.009800805887438011,0.010091034010306118,0.010385601174283464,0.010684528478506818,0.010987844698644486,0.011295586264829257,0.011607797110324973,0.011924528374950743,0.012245837949241643,0.012571789848088433,0.012902453406118236,0.013237902291267242,0.013578213337736225,0.013923465204665616,0.014273736872245622,0.014629105992404837,0.01498964711649334,0.015355429827299092,0.015726516807101232,0.016102961877092706,0.0164848080462224,0.016872085609176447,0.01726481033372517,0.017662981776936475,0.018066581767762113,0.01847557309025295,0.018889898397206645,0.019309479378491406,0.019734216201766363,0.020163987236000325,0.020598649060296383,0.021038036752280463,0.021481964441976174,0.021930226108917636,0.022382596592525526,0.022838832778741706,0.023298674919839283,0.02376184803941801,0.024228063371055934,0.024697019777073437,0.025168405093492444,0.0256418973486057,0.026117165805628745,0.026593871784653972,0.02707166922547808,0.02755020496068934,0.028029118677501456,0.02850804255697117,0.028986600590180354,0.02946440758239509,0.029941067867825036,0.030416173769056396,0.030889303846188862,0.03136002099083421,0.03182787042911772,0.03229237770536251,0.032753046723973216,0.03320935793094303,0.03366076671821241,0.03410670213368663,0.03454656597700767,0.034979732356172084,0.0354055477728452,0.035823331794870794,0.03623237836318711,0.03663195776738121,0.03702131930972499,0.0373996946620744,0.03776630190384884,0.0381203502128288,0.03846104516413478,0.038787594576892646,0.039099214833157314,0.03939513758005443,0.039674616714170885,0.03993693553730284,0.04018141396503457,0.04040741566448944,0.04061435499513041,0.040801703626774405,0.04096899671205254,0.04111583849633917,0.04124190725657704,0.041346959471248355,0.041430833136750195,0.04149345016031582,0.041534817776048186,0.04155502894821398,0.04155426174428389,0.04153277767888145,0.04149091904840151,0.04142910529416774,0.04134782844922883,0.04124764773988784,0.04112918342748927,0.040993109988584235,0.04084014874212393,0.040671060040624686,0.040486635148188566,0.04028768793178781,0.04007504649333501,0.039849544868795016,0.03961201491706534,0.039363278515678335,0.039104140172755215,0.038835380155260744,0.03855774822271262,0.03827195804332822,0.037978682356413586,0.037678548930872906,0.03737213735530831,0.0370599766805532,0.03674254392087948,0.03642026340579098,0.03609350696047493,0.03576259487984863,0.03542779764889579,0.03508933835080824,0.03474739569449259,0.03440210758439841,0.034053575148489036,0.033701867134608404,0.03334702458155995,0.03298906566897123,0.0326279906494874,0.032263786768027644,0.03189643307573262,0.03152590505077101,0.03115217894429676,0.030775235777439056,0.030395064924144313,0.030011667224803154,0.02962505758670895,0.029235267039287253,0.02884234422447943,0.028446356315409014,0.028047389369233216,0.02764554813262232,0.027240955330333123,0.026833750478587205,0.0264240882751665,0.026012136627066938,0.02559807438398868,0.02518208885170971,0.024764373163353146,0.024345123588609175,0.023924536861071093,0.023502807601978887,0.023080125914888183,0.022656675220190752,0.022232630391152253,0.021808156244388144,0.02138340642770179,0.020958522737212083,0.02053363488399303,0.02010886071832963,0.019684306907476946,0.01926007005080199,0.01883623820469092,0.018412892778901586,0.01799011075639567,0.017567967180319534,0.01714653784491366,0.016725902121863954,0.01630614585007082,0.015887364215059895,0.015469664544306646,0.015053168946557078,0.014638016726724764,0.014224366513011032,0.013812398039375895,0.01340231353420164,0.012994338674728817,0.012588723076380657,0.012185740296188068,0.011785687339942334,0.011388883673192286,0.010995669746532535,0.01060640505557765,0.010221465765375014,0.009841241937593953,0.009466134406476288,0.009096551356111636,0.008732904657000199,0.008375606024010551,0.008025063060679662,0.0076816752563185105,0.007345830002585676,0.007017898695106492,0.0066982329834058526,0.006387161228965036,0.006084985226708089,0.005791977239783505,0.0055083773912625094,0.005234391449462255,0.004970189036170915,0.004715902279248643,0.004471624923061972,0.004237411902128368,0.004013279375354942,0.0037992052104940835,0.0035951299010456446,0.0034009578909378955,0.003216559276033247,0.0030417718459310617,0.002876403424767134,0.0027202344658083283,0.0025730208516656777,0.0024344968499366315,0.002304378173054978,0.0021823650910746117,0.002068145547022102,0.0019613982262857085,0.00186179553421065,0.001769006439571915,0.0016826991458105413,0.0016025435567493767,0.001528213508839003,0.0014593887477059927,0.001395756632757752,0.0013370135597125014,0.0012828660970382892,0.0012330318382733122,0.0011872399779365337,0.0011452316241053937,0.0011067598656292837,0.0010715896162675357,0.0010394972617081752,0.0010102701383730734,0.0009837058750988027,0.00095961163017073,0.0009378032567701474,0.0009181044296788639,0.0009003457650994195,0.0008843639637368491,0.0008700010049103236,0.0008571034164962421,0.0008455216420364915,0.0008351095224755269,0.0008257239058240016,0.00081722439369608,0.0008094732292455839,0.000802335326645087,0.000795678438020501,0.0007893734497737436,0.0007832947965908093,0.0007773209782239821,0.0007713351614238919,0.0007652258472338776,0.0007588875822844944,0.0007522216917621879,0.000745137011379274,0.0007375505959320352,0.0007293883828743251,0.0007205857907155608,0.0007110882339213005,0.0007008515382880074,0.0006898422434080314,0.0006780377817565415,0.0006654265270353292,0.000652007707612848,0.0006377911841202535,0.0006227970934168127,0.0006070553641470648,0.0005906051119057192,0.0005734939245419531,0.0005557770503203288,0.0005375165034690019,0.0005187801030577386,0.0004996404621399381,0.00048017394465843657,0.0004604596077592748,0.0004405781468969255,0.0004206108604741551,0.0004006386497742,0.0003807410686533509,0.00036099543591555346,0.0003414760215381855,0.0003222533160129788,0.00030339339006253685,0.0002849573499441378,0.00026700089150992923,0.00024957395420373686,0.00023272047428300806,0.00021647823479739763,0.0002008788082652442,0.00018594758659066198,0.00017170389157598277,0.00015816115841848127,0.00014532718384220193,0.0001332044300042814,0.00012179037502425061,0.00011107790090267225,0.00010105570970675311,0.00009170875918588072,0.00008301870941780836,0.00007496437265267927,0.0000675221591928368,0.00006066651289640556,0.00005437033069769583,0.000048605361374142104,0.000043342579636023464,0.000038552532451828755,0.0000342056553313866,0.00003027255705586197,0.00002672427205611873,0.000023532480289266746,0.000020669695040431294,0.000018109419578570732,0.000015826274019382228,0.000013796094095106023,0.000011996003802198677,0.000010404464096968425,9.001299941078745e-6,7.767708069164349e-6,6.6862478661505875e-6,5.7408177092067285e-6,4.916619055760719e-6,4.2001104518455275e-6,3.5789535012023394e-6,3.041952681683497e-6,2.5789907277336768e-6,2.1809611216912977e-6,1.8396990573146677e-6,1.5479120606203385e-6,1.2991112794570172e-6,1.0875442872081683e-6,9.08130089949719e-7,7.563968820233722e-7,6.284229635039456e-7,5.207811151370995e-7,4.3048662226303434e-7,3.549490489255485e-7,2.919277863886129e-7,2.394913360063855e-7,1.9598023399112523e-7,1.5997348414644065e-7,1.3025833304536504e-7,1.0580319936132249e-7,8.573355402566964e-8,6.931053953475117e-8,5.5912114056176073e-8,4.5016508047675396e-8,3.618778704107558e-8,2.906332328357098e-8,2.3342990385528518e-8,1.877990840789844e-8,1.5172581433759334e-8,1.2358285195747976e-8,1.0207578444647071e-8,8.61982818993115e-9,7.519655534358475e-9,6.8542254348463056e-9,6.5913202750082354e-9,6.718153596902292e-9,7.2408967098526255e-9,8.18490719572464e-9,9.595664600829319e-9,1.1540434888747204e-8,1.4110701566830265e-8,1.7425417821015046e-8,2.1635150506840593e-8,2.692720342720322e-8,3.3531823918186625e-8,4.172961325410752e-8,5.186027760557943e-8,6.433287200844175e-8,7.963770472214636e-8,9.83600830882645e-8,1.21196094071673e-7,1.4897062251585508e-7,1.826578171139279e-7,2.2340421743870372e-7,2.7255475424937463e-7,3.3168182877564086e-7,4.0261766377767205e-7,4.874900988394215e-7,5.887619734871487e-7,7.09274203237087e-7,8.522926044960879e-7,1.0215584633563051e-6,1.221342769841632e-6,1.456503952337163e-6,1.7325488462397701e-6,2.055696516056716e-6,2.4329444213410427e-6,2.8721362744760826e-6,3.3820307833690357e-6,3.9723703060652604e-6,4.653948269219782e-6,5.438674020946942e-6,6.339633604166211e-6,7.371144753187026e-6,8.548804238632408e-6,9.889525519220994e-6,0.000011411564509356623,0.000013134531145360755,0.000015079384337400863,0.000017268407835835644,0.00001972516452706844,0.000022474426712190676,0.000025542080018508936,0.00002895499875572985,0.00003274089076045496,0.00003692811007900314,0.000041545436222209894,0.000046621819187915825,0.00005218608998649226,0.000058266637018981395,0.00006489104934079287,0.00007208572858854633,0.0000798754721429719,0.00008828303093370587,0.0000973286461466254,0.0001070295699530871,0.00011739957622285537,0.00012844846798688034,0.00014018158915913854,0.0001525993486846969,0.0001656967658298949,0.00017946304574671112,0.00019388119470468095,0.00020892768447029107,0.0002245721752080237,0.00024077730596582398,0.0002574985612809156,0.0002746842216954076,0.00029227540500555583,0.00031020620389087444,0.0003284039241918118,0.0003467894265466402,0.0003652775723838332,0.00038377777342629623,0.0004021946419335155,0.00042042873692727786,0.00043837739965916085,0.00045593566962977565,0.0004729972706078475,0.0004894556543688635,0.0005052050883244509,0.0005201417718877774,0.0005341649653568659,0.0005471781143303628,0.0005590899522270084,0.0005698155633806983,0.000579277389439902,0.0005874061624162032,0.0005941417486963012,0.0005994338896396382,0.0006032428260062107,0.00060553979536358],\"yaxis\":\"y\",\"type\":\"scatter\"},{\"legendgroup\":\"Healthy\",\"marker\":{\"color\":\"#7EC0EE\"},\"mode\":\"lines\",\"name\":\"Healthy\",\"showlegend\":false,\"x\":[7.0,7.106,7.212,7.318,7.424,7.53,7.636,7.742,7.848,7.954,8.06,8.166,8.272,8.378,8.484,8.59,8.696,8.802,8.908,9.014,9.120000000000001,9.225999999999999,9.332,9.438,9.544,9.65,9.756,9.862,9.968,10.074,10.18,10.286,10.392,10.498000000000001,10.604,10.71,10.815999999999999,10.922,11.027999999999999,11.134,11.24,11.346,11.452,11.558,11.664,11.77,11.876000000000001,11.982,12.088000000000001,12.193999999999999,12.3,12.405999999999999,12.512,12.618,12.724,12.83,12.936,13.042,13.148,13.254,13.36,13.466000000000001,13.572,13.678,13.783999999999999,13.89,13.996,14.102,14.208,14.314,14.42,14.526,14.632,14.738,14.844000000000001,14.95,15.056,15.162,15.268,15.374,15.48,15.586,15.692,15.798,15.904,16.009999999999998,16.116,16.222,16.328,16.433999999999997,16.54,16.646,16.752000000000002,16.858,16.964,17.07,17.176000000000002,17.282,17.387999999999998,17.494,17.6,17.706,17.811999999999998,17.918,18.024,18.130000000000003,18.236,18.342,18.448,18.554000000000002,18.66,18.766,18.872,18.978,19.084,19.189999999999998,19.296,19.402,19.508,19.614,19.72,19.826,19.932000000000002,20.038,20.144,20.25,20.356,20.462,20.567999999999998,20.674,20.78,20.886,20.992,21.098,21.204,21.310000000000002,21.416,21.522,21.628,21.734,21.84,21.945999999999998,22.052,22.158,22.264,22.369999999999997,22.476,22.582,22.688000000000002,22.794,22.9,23.006,23.112,23.218,23.324,23.43,23.536,23.642,23.748,23.854,23.96,24.066,24.172,24.278,24.384,24.49,24.596,24.702,24.808,24.914,25.02,25.126,25.232,25.338,25.444,25.55,25.656,25.762,25.868,25.974,26.08,26.186,26.292,26.398,26.504,26.61,26.716,26.822,26.928,27.034,27.14,27.246,27.352,27.458,27.564,27.67,27.776,27.882,27.988,28.094,28.2,28.306,28.412,28.518,28.624,28.73,28.836,28.942,29.048,29.154,29.26,29.366,29.472,29.578,29.684,29.79,29.896,30.002,30.108,30.214,30.32,30.426,30.532,30.638,30.744,30.85,30.956,31.062,31.168,31.274,31.38,31.486,31.592,31.698,31.804,31.91,32.016,32.122,32.228,32.334,32.44,32.546,32.652,32.757999999999996,32.864000000000004,32.97,33.076,33.182,33.288,33.394,33.5,33.606,33.712,33.818,33.924,34.03,34.135999999999996,34.242000000000004,34.348,34.454,34.56,34.666,34.772,34.878,34.984,35.09,35.196,35.302,35.408,35.513999999999996,35.620000000000005,35.726,35.832,35.938,36.044,36.15,36.256,36.361999999999995,36.468,36.574,36.68,36.786,36.891999999999996,36.998000000000005,37.104,37.21,37.316,37.422,37.528,37.634,37.739999999999995,37.846000000000004,37.952,38.058,38.164,38.269999999999996,38.376000000000005,38.482,38.588,38.694,38.8,38.906,39.012,39.118,39.224,39.33,39.436,39.542,39.648,39.754,39.86,39.966,40.072,40.178,40.284,40.39,40.496,40.602,40.708,40.814,40.92,41.026,41.132,41.238,41.344,41.45,41.556,41.662,41.768,41.874,41.98,42.086,42.192,42.298,42.404,42.51,42.616,42.722,42.828,42.934,43.04,43.146,43.252,43.358,43.464,43.57,43.676,43.782,43.888,43.994,44.1,44.206,44.312,44.418,44.524,44.63,44.736,44.842,44.948,45.054,45.16,45.266,45.372,45.478,45.584,45.69,45.796,45.902,46.008,46.114,46.22,46.326,46.432,46.538,46.644,46.75,46.856,46.962,47.068,47.174,47.28,47.386,47.492,47.598,47.704,47.81,47.916,48.022,48.128,48.234,48.34,48.446,48.552,48.658,48.764,48.87,48.976,49.082,49.188,49.294,49.4,49.506,49.612,49.718,49.824,49.93,50.036,50.142,50.248,50.354,50.46,50.566,50.672,50.778,50.884,50.99,51.096,51.202,51.308,51.414,51.52,51.626,51.732,51.838,51.944,52.05,52.156,52.262,52.368,52.474,52.58,52.686,52.792,52.898,53.004,53.11,53.216,53.322,53.428,53.534,53.64,53.746,53.852,53.958,54.064,54.17,54.276,54.382,54.488,54.594,54.7,54.806,54.912,55.018,55.124,55.23,55.336,55.442,55.548,55.654,55.76,55.866,55.972,56.078,56.184,56.29,56.396,56.502,56.608,56.714,56.82,56.926,57.032,57.138,57.244,57.35,57.456,57.562,57.668,57.774,57.88,57.986,58.092,58.198,58.304,58.41,58.516,58.622,58.728,58.834,58.94,59.046,59.152,59.258,59.364,59.47,59.576,59.682,59.788,59.894],\"xaxis\":\"x\",\"y\":[0.004540624139938795,0.004727620670407867,0.0049193589860530886,0.005115814836813597,0.0053169567155478825,0.005522745822798401,0.005733136061152139,0.005948074060262504,0.006167499233416853,0.006391343866336781,0.006619533238682524,0.006851985778502548,0.007088613249626178,0.007329320971739574,0.00757400807262041,0.007822567771731901,0.00807488769409857,0.008330850213103579,0.008590332820567235,0.0088532085221869,0.009119346256147652,0.009388611332449542,0.009660865890247863,0.009935969370267845,0.010213778999139214,0.010494150282302085,0.01077693750196609,0.011061994216461183,0.01134917375720727,0.011638329719448278,0.01192931644284922,0.012221989478045446,0.012516206035257799,0.012811825411153529,0.013108709390233932,0.013406722617174795,0.01370573293672384,0.014005611697981169,0.014306234020143149,0.014607479017085302,0.014909229978482276,0.015211374505524304,0.015513804599673161,0.015816416703314847,0.016119111691599044,0.016421794815208807,0.016724375594270768,0.017026767664092866,0.017328888573897857,0.017630659540204194,0.017932005156983188,0.01823285306518814,0.018533133584707626,0.01883277931222525,0.019131724688879987,0.019429905541999512,0.01972725860552422,0.02002372102404701,0.020319229845658576,0.020613721509003022,0.020907131330120895,0.02119939299476869,0.02149043806196557,0.02178019548452234,0.02206859115225235,0.022355547463450483,0.02264098293005612,0.022924811821683048,0.023206943853415634,0.023487283921923816,0.023765731894059512,0.02404218245164967,0.02431652499571388,0.02458864361280259,0.02485841710558661,0.0251257190892309,0.025390418154464946,0.025652378097619173,0.025911458217249612,0.026167513676310563,0.026420395928187207,0.026669953204248305,0.0269160310599558,0.027158472975960527,0.027397121010040486,0.02763181649519914,0.02786240077874997,0.02808871599676666,0.028310605877891207,0.02852791657016036,0.028740497484243867,0.028948202146290195,0.0291508890534427,0.029348422525029953,0.029540673542449263,0.02972752057084141,0.029908850355816342,0.03008455868870815,0.03025455113413213,0.03041874371397061,0.030577063542321644,0.030729449406417364,0.030875852289024282,0.03101623582839828,0.031150576712450855,0.03127886500439867,0.031401104397805905,0.03151731239956855,0.03162752044004308,0.03173177391016248,0.03183013212601427,0.03192266822196585,0.03200946897400543,0.0320906345555148,0.03216627822820034,0.032236525971368654,0.032301516053146254,0.03236139854759942,0.03241633480200823,0.03246649685878924,0.03251206683673734,0.032553236276373444,0.03259020545424081,0.03262318267098639,0.032652383518002336,0.03267803012728836,0.03270035040902761,0.032719577281160886,0.0327359478949899,0.03274970286056002,0.032761085475255095,0.032770340958706894,0.032777715696769495,0.03278345649695339,0.03278780985735452,0.032791021250756947,0.0327933344252484,0.03279499072235611,0.03279622841340828,0.032797282054546684,0.032798381860564926,0.032799753097536535,0.03280161549401305,0.032804182670434834,0.03280766158629373,0.03281225200452498,0.03281814597257949,0.03282552731964292,0.03283457116951386,0.032845443468736156,0.03285830052968717,0.03287328858846281,0.032890543377555044,0.032910189713490974,0.03293234109979099,0.032957099345795195,0.032984554202105366,0.033014783013583765,0.03304785039103839,0.0330838079029012,0.03312269378836953,0.033164532693623766,0.03320933543285775,0.033257098775956256,0.03330780526472739,0.03336142305964132,0.03341790581904327,0.033477192612795276,0.03353920787226095,0.03360386137847694,0.033671048290256404,0.03374064921385369,0.03381253031566874,0.03388654347930874,0.03396252650814057,0.03404030337426992,0.034119684514671324,0.034200467174977295,0.034282435801208364,0.03436536247949631,0.03444900742362803,0.034533119510007766,0.03461743685941765,0.034701687464736855,0.0347855898635761,0.034868853854585276,0.034951181256002904,0.0350322667048412,0.03511179849493141,0.0351894594519008,0.03526492784300479,0.03533787831960084,0.0354079828899232,0.035474911919693056,0.03553833515798412,0.035597922785648585,0.03565334648349795,0.03570428051732673,0.035750402836749545,0.03579139618471879,0.03582694921447047,0.035856757610530025,0.03588052521028951,0.0358979651225441,0.035908800839247426,0.03591276733661769,0.035909612161595224,0.03589909649952538,0.03588099621880877,0.035855102888146806,0.03582122476188925,0.03577918772889284,0.035728836220206873,0.03567003407083182,0.035602665330744986,0.03552663502035829,0.03544186982557626,0.03534831872765012,0.03524595356309235,0.03513476950901466,0.03501478548939756,0.034886044497978975,0.034748613833678894,0.0346025852447471,0.034448074978135394,0.03428522373095927,0.034114196501318306,0.03393518233619227,0.03374839397462307,0.03355406738491714,0.033352461195171504,0.03314385601702096,0.03292855366312628,0.032706876259573324,0.032479165255014174,0.032245780329057144,0.032007098203096,0.03176351135744746,0.03151542665934209,0.031263263906973225,0.031007454295451417,0.03074843881112589,0.030486666561318803,0.030222593047061628,0.029956678386925818,0.02968938550049249,0.02942117826040278,0.029152519622275316,0.028883869742053713,0.028615684090565537,0.028348411575221957,0.02808249267886859,0.027818357625808195,0.027556424584960652,0.027297097919994632,0.027040766496071175,0.02678780205257663,0.026538557650893982,0.026293366205873015,0.02605253910921026,0.025816364952448972,0.025585108356751526,0.02535900891599961,0.02513828025913235,0.02492310923695465,0.024713655237935797,0.02451004963678118,0.02431239537880133,0.024120766702326626,0.023935209000631362,0.023755738824038794,0.02358234402208887,0.023414984024862875,0.02325359026177963,0.02309806671541923,0.02294829060717873,0.02280411321084667,0.022665360789483006,0.02253183565032478,0.022403317311806045,0.02227956377617978,0.022160312900674734,0.022045283859601354,0.02193417868935085,0.021826683907804807,0.021722472199295947,0.02162120415593393,0.021522530065835318,0.021426091738572968,0.021331524357994347,0.021238458352442282,0.021146521272356465,0.021055339665229975,0.020964540937952122,0.02087375519667687,0.020782617054524437,0.020690767397644333,0.020597855100445102,0.02050353868112368,0.020407487889010548,0.02030938521567606,0.02020892732222413,0.020105826375722342,0.019999811288286894,0.019890628852946294,0.019778044771052085,0.019661844566680794,0.01954183438417535,0.019417841665701888,0.019289715706448905,0.019157328085852857,0.019020572974012207,0.01887936731322218,0.0187336508753417,0.01858338619646766,0.018428558391150474,0.018269174849117827,0.018105264818190397,0.017936878877755073,0.01776408830781095,0.017586984359214606,0.017405677431315762,0.017220296163691876,0.017030986449154087,0.01683791037560558,0.016641245104680173,0.016441181695375777,0.016237923881118364,0.01603168680884911,0.015822695748813592,0.015611184783757726,0.015397395486187272,0.01518157559223912,0.014963977680538386,0.014744857864177978,0.014524474503663821,0.014303086948315946,0.014080954313214572,0.013858334298329146,0.013635482055973987,0.013412649112205677,0.013190082347211331,0.012968023039148402,0.012746705975285998,0.012526358633671008,0.012307200437909175,0.012089442087013307,0.011873284961636968,0.011658920607386717,0.011446530295295958,0.011236284658951162,0.011028343407196656,0.010822855110806287,0.010619957061007539,0.010419775197277518,0.01022242410140497,0.01002800705443048,0.009836616152740271,0.009648332479299604,0.009463226325771077,0.00928135746107013,0.009102775441767992,0.008927519959656315,0.008755621221740926,0.008587100357931175,0.008421969851733201,0.008260233989341224,0.008101889322643744,0.007946925141822164,0.007795323953411926,0.007647061959918497,0.007502109537328619,0.007360431707127319,0.007221988599718659,0.00708673590645069,0.006954625317757482,0.006825604945249204,0.0066996197259033136,0.006576611806829597,0.006456520909398444,0.006339284671829833,0.006224838969638548,0.006113118213616013,0.006004055625298075,0.005897583490119814,0.005793633388689687,0.0056921364068268894,0.005593023325194019,0.005496224789522752,0.005401671462572545,0.005309294159080226,0.005219023965052985,0.005130792342828189,0.005044531223371158,0.004960173087308268,0.004877651036197267,0.004796898855521351,0.0047178510708599615,0.004640442998637938,0.004564610792788262,0.004490291488583024,0.004417423044794599,0.004345944385245971,0.0042757954406969926,0.00420691719189527,0.004139251714495991,0.004072742226428021,0.004007333138154372,0.003942970106145657,0.0038796000897573244,0.0038171714115754533,0.003755633821174661,0.0036949385621148955,0.003635038441893597,0.0035758879044664425,0.0035174431048546474,0.0034596619852701282,0.0034025043521128083,0.003345931953126825,0.0032899085539454275,0.003234400013207769,0.0031793743553951586,0.0031248018405094316,0.003070655029702319,0.003016908845961518,0.0029635406289670514,0.0029105301832494847,0.0028578598188101372,0.0028055143834016054,0.0027534812857145075,0.0027017505087731384,0.0026503146129074227,0.002599168727741409,0.0025483105327185297,0.0024977402257697215,0.0024474604798226884,0.0023974763869471726,0.002347795390031819,0.002298427201992089,0.002249383712614727,0.0022006788832517137,0.002152328629684194,0.0021043506935841606,0.0020567645031069216,0.0020095910232504027,0.00196285259671664,0.0019165727761054818,0.0018707761483600786,0.0018254881524665087,0.0017807348914858248,0.0017365429400641725,0.0016929391486259476,0.0016499504455038067,0.0016076036382990703,0.0015659252157941327,0.0015249411517563101,0.0014846767119783067,0.0014451562658949406,0.0014064031040981004,0.0013684392630426495,0.0013312853581947555,0.0012949604268217324,0.0012594817815585174,0.0012248648758115017,0.00119112318197589,0.0011582680833486089,0.00112630878051634,0.0010952522128876336,0.001065102995921072,0.0010358633744786032,0.0010075331926058138,0.0009801098799102493,0.0009535884545761259,0.0009279615429202253,0.0009032194152606799,0.000879350037739065,0.0008563391396080755,0.0008341702953730827,0.0008128250210577274,0.0007922828837520002,0.0007725216234976345,0.0007535172864706723,0.00073524436833596,0.0007176759665737919,0.0007007839405156428,0.0006845390777745063,0.0006689112657163103,0.0006538696665923403,0.0006393828949390226,0.0006254191958505261,0.0006119466227416276,0.000598933213242668,0.0005863471619050425,0.0005741569884438459,0.0005623317003035327,0.0005508409484019511,0.0005396551749870908,0.0005287457526283265,0.0005180851134589487,0.0005076468678881705],\"yaxis\":\"y\",\"type\":\"scatter\"},{\"legendgroup\":\"Diabetic\",\"marker\":{\"color\":\"#FFD700\",\"symbol\":\"line-ns-open\"},\"mode\":\"markers\",\"name\":\"Diabetic\",\"showlegend\":false,\"x\":[35.0,35.0,32.0,45.0,23.0,19.0,47.0,30.0,35.0,33.0,26.0,36.0,37.0,42.0,47.0,24.0,39.0,32.0,34.0,39.0,30.0,20.0,32.0,51.0,25.0,33.0,26.0,32.0,56.0,42.0,24.0,14.0,37.0,28.0,44.0,41.0,18.0,23.0,42.0,46.0,28.0,36.0,41.0,39.0,35.0,41.0,13.0,44.0,27.0,29.0,33.0,26.0,32.0,40.0,41.0,22.0,29.0,38.0,37.0,21.0,27.0,21.0,22.0,15.0,7.0,35.0,28.0,37.0,24.0,39.0,30.0,37.0,45.0,38.0,25.0,33.0,23.0,19.0,28.0,17.0,31.0,30.0,20.0,33.0,32.0,36.0,34.0,32.0,40.0,30.0,36.0,33.0,28.0,48.0,43.0,29.0,36.0,26.0,40.0,31.0,41.0,49.0,35.0,33.0,32.0,29.0,32.0,39.0,30.0,25.0,25.0,12.0,63.0,37.0,30.0,48.0,45.0,30.0,42.0,18.0,33.0,41.0,26.0,31.0,18.0,34.0,49.0,40.0,25.0,32.0,35.0,27.0,32.0,30.0,99.0,46.0,24.0,27.0,40.0,14.0,29.0,42.0,22.0,42.0,26.0,24.0,32.0,17.0,36.0,35.0,27.0,31.0,43.0,46.0,46.0,39.0,18.0,27.0,36.0,46.0,49.0,24.0,19.0,31.0,29.0,32.0,36.0,33.0,39.0,27.0,29.0,23.0,37.0,37.0,41.0,22.0,44.0,32.0,39.0,31.0],\"xaxis\":\"x\",\"y\":[\"Diabetic\",\"Diabetic\",\"Diabetic\",\"Diabetic\",\"Diabetic\",\"Diabetic\",\"Diabetic\",\"Diabetic\",\"Diabetic\",\"Diabetic\",\"Diabetic\",\"Diabetic\",\"Diabetic\",\"Diabetic\",\"Diabetic\",\"Diabetic\",\"Diabetic\",\"Diabetic\",\"Diabetic\",\"Diabetic\",\"Diabetic\",\"Diabetic\",\"Diabetic\",\"Diabetic\",\"Diabetic\",\"Diabetic\",\"Diabetic\",\"Diabetic\",\"Diabetic\",\"Diabetic\",\"Diabetic\",\"Diabetic\",\"Diabetic\",\"Diabetic\",\"Diabetic\",\"Diabetic\",\"Diabetic\",\"Diabetic\",\"Diabetic\",\"Diabetic\",\"Diabetic\",\"Diabetic\",\"Diabetic\",\"Diabetic\",\"Diabetic\",\"Diabetic\",\"Diabetic\",\"Diabetic\",\"Diabetic\",\"Diabetic\",\"Diabetic\",\"Diabetic\",\"Diabetic\",\"Diabetic\",\"Diabetic\",\"Diabetic\",\"Diabetic\",\"Diabetic\",\"Diabetic\",\"Diabetic\",\"Diabetic\",\"Diabetic\",\"Diabetic\",\"Diabetic\",\"Diabetic\",\"Diabetic\",\"Diabetic\",\"Diabetic\",\"Diabetic\",\"Diabetic\",\"Diabetic\",\"Diabetic\",\"Diabetic\",\"Diabetic\",\"Diabetic\",\"Diabetic\",\"Diabetic\",\"Diabetic\",\"Diabetic\",\"Diabetic\",\"Diabetic\",\"Diabetic\",\"Diabetic\",\"Diabetic\",\"Diabetic\",\"Diabetic\",\"Diabetic\",\"Diabetic\",\"Diabetic\",\"Diabetic\",\"Diabetic\",\"Diabetic\",\"Diabetic\",\"Diabetic\",\"Diabetic\",\"Diabetic\",\"Diabetic\",\"Diabetic\",\"Diabetic\",\"Diabetic\",\"Diabetic\",\"Diabetic\",\"Diabetic\",\"Diabetic\",\"Diabetic\",\"Diabetic\",\"Diabetic\",\"Diabetic\",\"Diabetic\",\"Diabetic\",\"Diabetic\",\"Diabetic\",\"Diabetic\",\"Diabetic\",\"Diabetic\",\"Diabetic\",\"Diabetic\",\"Diabetic\",\"Diabetic\",\"Diabetic\",\"Diabetic\",\"Diabetic\",\"Diabetic\",\"Diabetic\",\"Diabetic\",\"Diabetic\",\"Diabetic\",\"Diabetic\",\"Diabetic\",\"Diabetic\",\"Diabetic\",\"Diabetic\",\"Diabetic\",\"Diabetic\",\"Diabetic\",\"Diabetic\",\"Diabetic\",\"Diabetic\",\"Diabetic\",\"Diabetic\",\"Diabetic\",\"Diabetic\",\"Diabetic\",\"Diabetic\",\"Diabetic\",\"Diabetic\",\"Diabetic\",\"Diabetic\",\"Diabetic\",\"Diabetic\",\"Diabetic\",\"Diabetic\",\"Diabetic\",\"Diabetic\",\"Diabetic\",\"Diabetic\",\"Diabetic\",\"Diabetic\",\"Diabetic\",\"Diabetic\",\"Diabetic\",\"Diabetic\",\"Diabetic\",\"Diabetic\",\"Diabetic\",\"Diabetic\",\"Diabetic\",\"Diabetic\",\"Diabetic\",\"Diabetic\",\"Diabetic\",\"Diabetic\",\"Diabetic\",\"Diabetic\",\"Diabetic\",\"Diabetic\",\"Diabetic\",\"Diabetic\",\"Diabetic\",\"Diabetic\"],\"yaxis\":\"y2\",\"type\":\"scatter\"},{\"legendgroup\":\"Healthy\",\"marker\":{\"color\":\"#7EC0EE\",\"symbol\":\"line-ns-open\"},\"mode\":\"markers\",\"name\":\"Healthy\",\"showlegend\":false,\"x\":[29.0,23.0,38.0,41.0,15.0,19.0,26.0,11.0,31.0,33.0,25.0,18.0,27.0,11.0,15.0,21.0,42.0,10.0,60.0,41.0,34.0,27.0,13.0,27.0,35.0,20.0,30.0,20.0,33.0,22.0,13.0,26.0,28.0,29.0,54.0,25.0,19.0,15.0,40.0,18.0,27.0,28.0,18.0,30.0,18.0,29.0,28.0,31.0,34.0,23.0,15.0,39.0,30.0,30.0,36.0,31.0,13.0,20.0,26.0,25.0,29.0,30.0,26.0,31.0,23.0,37.0,35.0,17.0,50.0,42.0,15.0,21.0,19.0,38.0,40.0,34.0,23.0,25.0,12.0,23.0,42.0,24.0,18.0,20.0,44.0,20.0,16.0,20.0,16.0,32.0,28.0,27.0,22.0,54.0,31.0,30.0,33.0,15.0,27.0,39.0,31.0,25.0,28.0,24.0,32.0,35.0,33.0,33.0,19.0,14.0,32.0,39.0,22.0,16.0,15.0,32.0,15.0,18.0,42.0,32.0,50.0,52.0,23.0,10.0,28.0,15.0,26.0,44.0,17.0,43.0,29.0,31.0,29.0,41.0,37.0,14.0,30.0,37.0,10.0,22.0,11.0,39.0,12.0,32.0,21.0,32.0,19.0,16.0,18.0,43.0,13.0,21.0,35.0,36.0,19.0,19.0,28.0,12.0,40.0,37.0,25.0,28.0,17.0,16.0,23.0,22.0,40.0,43.0,15.0,37.0,39.0,30.0,22.0,8.0,18.0,24.0,13.0,23.0,29.0,14.0,12.0,24.0,34.0,25.0,32.0,39.0,30.0,23.0,22.0,21.0,41.0,18.0,46.0,22.0,46.0,16.0,11.0,8.0,33.0,15.0,23.0,27.0,12.0,45.0,18.0,13.0,32.0,28.0,28.0,33.0,22.0,40.0,30.0,13.0,10.0,36.0,41.0,40.0,38.0,27.0,27.0,17.0,38.0,31.0,37.0,22.0,31.0,41.0,32.0,17.0,28.0,30.0,38.0,15.0,32.0,19.0,32.0,25.0,39.0,23.0,23.0,17.0,19.0,7.0,32.0,33.0,18.0,19.0,15.0,31.0,18.0,52.0,30.0,37.0,23.0,29.0,21.0,43.0,31.0,28.0,30.0,24.0,23.0,33.0,40.0,40.0,34.0,19.0,14.0,30.0,32.0,29.0,31.0,17.0,30.0,47.0,20.0,27.0,17.0,11.0,50.0,22.0,45.0,19.0,18.0,19.0,36.0,32.0,25.0,39.0,13.0,21.0,28.0,13.0,42.0,20.0,27.0,47.0,22.0,40.0,17.0,18.0,12.0,17.0,30.0,35.0,25.0,25.0,23.0,40.0,28.0,35.0,48.0,45.0,33.0,30.0,26.0,10.0,23.0,35.0,17.0,28.0,39.0,26.0,19.0,26.0,32.0,11.0,27.0,20.0,36.0,21.0,13.0,27.0,20.0,18.0,46.0,19.0,36.0,30.0,40.0,29.0,26.0,27.0,32.0,27.0,23.0,17.0,20.0,18.0,37.0,33.0,41.0,39.0,24.0,41.0,26.0,48.0,27.0,23.0,31.0],\"xaxis\":\"x\",\"y\":[\"Healthy\",\"Healthy\",\"Healthy\",\"Healthy\",\"Healthy\",\"Healthy\",\"Healthy\",\"Healthy\",\"Healthy\",\"Healthy\",\"Healthy\",\"Healthy\",\"Healthy\",\"Healthy\",\"Healthy\",\"Healthy\",\"Healthy\",\"Healthy\",\"Healthy\",\"Healthy\",\"Healthy\",\"Healthy\",\"Healthy\",\"Healthy\",\"Healthy\",\"Healthy\",\"Healthy\",\"Healthy\",\"Healthy\",\"Healthy\",\"Healthy\",\"Healthy\",\"Healthy\",\"Healthy\",\"Healthy\",\"Healthy\",\"Healthy\",\"Healthy\",\"Healthy\",\"Healthy\",\"Healthy\",\"Healthy\",\"Healthy\",\"Healthy\",\"Healthy\",\"Healthy\",\"Healthy\",\"Healthy\",\"Healthy\",\"Healthy\",\"Healthy\",\"Healthy\",\"Healthy\",\"Healthy\",\"Healthy\",\"Healthy\",\"Healthy\",\"Healthy\",\"Healthy\",\"Healthy\",\"Healthy\",\"Healthy\",\"Healthy\",\"Healthy\",\"Healthy\",\"Healthy\",\"Healthy\",\"Healthy\",\"Healthy\",\"Healthy\",\"Healthy\",\"Healthy\",\"Healthy\",\"Healthy\",\"Healthy\",\"Healthy\",\"Healthy\",\"Healthy\",\"Healthy\",\"Healthy\",\"Healthy\",\"Healthy\",\"Healthy\",\"Healthy\",\"Healthy\",\"Healthy\",\"Healthy\",\"Healthy\",\"Healthy\",\"Healthy\",\"Healthy\",\"Healthy\",\"Healthy\",\"Healthy\",\"Healthy\",\"Healthy\",\"Healthy\",\"Healthy\",\"Healthy\",\"Healthy\",\"Healthy\",\"Healthy\",\"Healthy\",\"Healthy\",\"Healthy\",\"Healthy\",\"Healthy\",\"Healthy\",\"Healthy\",\"Healthy\",\"Healthy\",\"Healthy\",\"Healthy\",\"Healthy\",\"Healthy\",\"Healthy\",\"Healthy\",\"Healthy\",\"Healthy\",\"Healthy\",\"Healthy\",\"Healthy\",\"Healthy\",\"Healthy\",\"Healthy\",\"Healthy\",\"Healthy\",\"Healthy\",\"Healthy\",\"Healthy\",\"Healthy\",\"Healthy\",\"Healthy\",\"Healthy\",\"Healthy\",\"Healthy\",\"Healthy\",\"Healthy\",\"Healthy\",\"Healthy\",\"Healthy\",\"Healthy\",\"Healthy\",\"Healthy\",\"Healthy\",\"Healthy\",\"Healthy\",\"Healthy\",\"Healthy\",\"Healthy\",\"Healthy\",\"Healthy\",\"Healthy\",\"Healthy\",\"Healthy\",\"Healthy\",\"Healthy\",\"Healthy\",\"Healthy\",\"Healthy\",\"Healthy\",\"Healthy\",\"Healthy\",\"Healthy\",\"Healthy\",\"Healthy\",\"Healthy\",\"Healthy\",\"Healthy\",\"Healthy\",\"Healthy\",\"Healthy\",\"Healthy\",\"Healthy\",\"Healthy\",\"Healthy\",\"Healthy\",\"Healthy\",\"Healthy\",\"Healthy\",\"Healthy\",\"Healthy\",\"Healthy\",\"Healthy\",\"Healthy\",\"Healthy\",\"Healthy\",\"Healthy\",\"Healthy\",\"Healthy\",\"Healthy\",\"Healthy\",\"Healthy\",\"Healthy\",\"Healthy\",\"Healthy\",\"Healthy\",\"Healthy\",\"Healthy\",\"Healthy\",\"Healthy\",\"Healthy\",\"Healthy\",\"Healthy\",\"Healthy\",\"Healthy\",\"Healthy\",\"Healthy\",\"Healthy\",\"Healthy\",\"Healthy\",\"Healthy\",\"Healthy\",\"Healthy\",\"Healthy\",\"Healthy\",\"Healthy\",\"Healthy\",\"Healthy\",\"Healthy\",\"Healthy\",\"Healthy\",\"Healthy\",\"Healthy\",\"Healthy\",\"Healthy\",\"Healthy\",\"Healthy\",\"Healthy\",\"Healthy\",\"Healthy\",\"Healthy\",\"Healthy\",\"Healthy\",\"Healthy\",\"Healthy\",\"Healthy\",\"Healthy\",\"Healthy\",\"Healthy\",\"Healthy\",\"Healthy\",\"Healthy\",\"Healthy\",\"Healthy\",\"Healthy\",\"Healthy\",\"Healthy\",\"Healthy\",\"Healthy\",\"Healthy\",\"Healthy\",\"Healthy\",\"Healthy\",\"Healthy\",\"Healthy\",\"Healthy\",\"Healthy\",\"Healthy\",\"Healthy\",\"Healthy\",\"Healthy\",\"Healthy\",\"Healthy\",\"Healthy\",\"Healthy\",\"Healthy\",\"Healthy\",\"Healthy\",\"Healthy\",\"Healthy\",\"Healthy\",\"Healthy\",\"Healthy\",\"Healthy\",\"Healthy\",\"Healthy\",\"Healthy\",\"Healthy\",\"Healthy\",\"Healthy\",\"Healthy\",\"Healthy\",\"Healthy\",\"Healthy\",\"Healthy\",\"Healthy\",\"Healthy\",\"Healthy\",\"Healthy\",\"Healthy\",\"Healthy\",\"Healthy\",\"Healthy\",\"Healthy\",\"Healthy\",\"Healthy\",\"Healthy\",\"Healthy\",\"Healthy\",\"Healthy\",\"Healthy\",\"Healthy\",\"Healthy\",\"Healthy\",\"Healthy\",\"Healthy\",\"Healthy\",\"Healthy\",\"Healthy\",\"Healthy\",\"Healthy\",\"Healthy\",\"Healthy\",\"Healthy\",\"Healthy\",\"Healthy\",\"Healthy\",\"Healthy\",\"Healthy\",\"Healthy\",\"Healthy\",\"Healthy\",\"Healthy\",\"Healthy\",\"Healthy\",\"Healthy\",\"Healthy\",\"Healthy\",\"Healthy\",\"Healthy\",\"Healthy\",\"Healthy\",\"Healthy\",\"Healthy\",\"Healthy\",\"Healthy\",\"Healthy\",\"Healthy\",\"Healthy\",\"Healthy\",\"Healthy\",\"Healthy\",\"Healthy\",\"Healthy\",\"Healthy\",\"Healthy\",\"Healthy\",\"Healthy\",\"Healthy\",\"Healthy\",\"Healthy\",\"Healthy\",\"Healthy\",\"Healthy\",\"Healthy\",\"Healthy\",\"Healthy\",\"Healthy\",\"Healthy\",\"Healthy\"],\"yaxis\":\"y2\",\"type\":\"scatter\"}],                        {\"barmode\":\"overlay\",\"hovermode\":\"closest\",\"legend\":{\"traceorder\":\"reversed\"},\"template\":{\"data\":{\"barpolar\":[{\"marker\":{\"line\":{\"color\":\"#E5ECF6\",\"width\":0.5},\"pattern\":{\"fillmode\":\"overlay\",\"size\":10,\"solidity\":0.2}},\"type\":\"barpolar\"}],\"bar\":[{\"error_x\":{\"color\":\"#2a3f5f\"},\"error_y\":{\"color\":\"#2a3f5f\"},\"marker\":{\"line\":{\"color\":\"#E5ECF6\",\"width\":0.5},\"pattern\":{\"fillmode\":\"overlay\",\"size\":10,\"solidity\":0.2}},\"type\":\"bar\"}],\"carpet\":[{\"aaxis\":{\"endlinecolor\":\"#2a3f5f\",\"gridcolor\":\"white\",\"linecolor\":\"white\",\"minorgridcolor\":\"white\",\"startlinecolor\":\"#2a3f5f\"},\"baxis\":{\"endlinecolor\":\"#2a3f5f\",\"gridcolor\":\"white\",\"linecolor\":\"white\",\"minorgridcolor\":\"white\",\"startlinecolor\":\"#2a3f5f\"},\"type\":\"carpet\"}],\"choropleth\":[{\"colorbar\":{\"outlinewidth\":0,\"ticks\":\"\"},\"type\":\"choropleth\"}],\"contourcarpet\":[{\"colorbar\":{\"outlinewidth\":0,\"ticks\":\"\"},\"type\":\"contourcarpet\"}],\"contour\":[{\"colorbar\":{\"outlinewidth\":0,\"ticks\":\"\"},\"colorscale\":[[0.0,\"#0d0887\"],[0.1111111111111111,\"#46039f\"],[0.2222222222222222,\"#7201a8\"],[0.3333333333333333,\"#9c179e\"],[0.4444444444444444,\"#bd3786\"],[0.5555555555555556,\"#d8576b\"],[0.6666666666666666,\"#ed7953\"],[0.7777777777777778,\"#fb9f3a\"],[0.8888888888888888,\"#fdca26\"],[1.0,\"#f0f921\"]],\"type\":\"contour\"}],\"heatmapgl\":[{\"colorbar\":{\"outlinewidth\":0,\"ticks\":\"\"},\"colorscale\":[[0.0,\"#0d0887\"],[0.1111111111111111,\"#46039f\"],[0.2222222222222222,\"#7201a8\"],[0.3333333333333333,\"#9c179e\"],[0.4444444444444444,\"#bd3786\"],[0.5555555555555556,\"#d8576b\"],[0.6666666666666666,\"#ed7953\"],[0.7777777777777778,\"#fb9f3a\"],[0.8888888888888888,\"#fdca26\"],[1.0,\"#f0f921\"]],\"type\":\"heatmapgl\"}],\"heatmap\":[{\"colorbar\":{\"outlinewidth\":0,\"ticks\":\"\"},\"colorscale\":[[0.0,\"#0d0887\"],[0.1111111111111111,\"#46039f\"],[0.2222222222222222,\"#7201a8\"],[0.3333333333333333,\"#9c179e\"],[0.4444444444444444,\"#bd3786\"],[0.5555555555555556,\"#d8576b\"],[0.6666666666666666,\"#ed7953\"],[0.7777777777777778,\"#fb9f3a\"],[0.8888888888888888,\"#fdca26\"],[1.0,\"#f0f921\"]],\"type\":\"heatmap\"}],\"histogram2dcontour\":[{\"colorbar\":{\"outlinewidth\":0,\"ticks\":\"\"},\"colorscale\":[[0.0,\"#0d0887\"],[0.1111111111111111,\"#46039f\"],[0.2222222222222222,\"#7201a8\"],[0.3333333333333333,\"#9c179e\"],[0.4444444444444444,\"#bd3786\"],[0.5555555555555556,\"#d8576b\"],[0.6666666666666666,\"#ed7953\"],[0.7777777777777778,\"#fb9f3a\"],[0.8888888888888888,\"#fdca26\"],[1.0,\"#f0f921\"]],\"type\":\"histogram2dcontour\"}],\"histogram2d\":[{\"colorbar\":{\"outlinewidth\":0,\"ticks\":\"\"},\"colorscale\":[[0.0,\"#0d0887\"],[0.1111111111111111,\"#46039f\"],[0.2222222222222222,\"#7201a8\"],[0.3333333333333333,\"#9c179e\"],[0.4444444444444444,\"#bd3786\"],[0.5555555555555556,\"#d8576b\"],[0.6666666666666666,\"#ed7953\"],[0.7777777777777778,\"#fb9f3a\"],[0.8888888888888888,\"#fdca26\"],[1.0,\"#f0f921\"]],\"type\":\"histogram2d\"}],\"histogram\":[{\"marker\":{\"pattern\":{\"fillmode\":\"overlay\",\"size\":10,\"solidity\":0.2}},\"type\":\"histogram\"}],\"mesh3d\":[{\"colorbar\":{\"outlinewidth\":0,\"ticks\":\"\"},\"type\":\"mesh3d\"}],\"parcoords\":[{\"line\":{\"colorbar\":{\"outlinewidth\":0,\"ticks\":\"\"}},\"type\":\"parcoords\"}],\"pie\":[{\"automargin\":true,\"type\":\"pie\"}],\"scatter3d\":[{\"line\":{\"colorbar\":{\"outlinewidth\":0,\"ticks\":\"\"}},\"marker\":{\"colorbar\":{\"outlinewidth\":0,\"ticks\":\"\"}},\"type\":\"scatter3d\"}],\"scattercarpet\":[{\"marker\":{\"colorbar\":{\"outlinewidth\":0,\"ticks\":\"\"}},\"type\":\"scattercarpet\"}],\"scattergeo\":[{\"marker\":{\"colorbar\":{\"outlinewidth\":0,\"ticks\":\"\"}},\"type\":\"scattergeo\"}],\"scattergl\":[{\"marker\":{\"colorbar\":{\"outlinewidth\":0,\"ticks\":\"\"}},\"type\":\"scattergl\"}],\"scattermapbox\":[{\"marker\":{\"colorbar\":{\"outlinewidth\":0,\"ticks\":\"\"}},\"type\":\"scattermapbox\"}],\"scatterpolargl\":[{\"marker\":{\"colorbar\":{\"outlinewidth\":0,\"ticks\":\"\"}},\"type\":\"scatterpolargl\"}],\"scatterpolar\":[{\"marker\":{\"colorbar\":{\"outlinewidth\":0,\"ticks\":\"\"}},\"type\":\"scatterpolar\"}],\"scatter\":[{\"fillpattern\":{\"fillmode\":\"overlay\",\"size\":10,\"solidity\":0.2},\"type\":\"scatter\"}],\"scatterternary\":[{\"marker\":{\"colorbar\":{\"outlinewidth\":0,\"ticks\":\"\"}},\"type\":\"scatterternary\"}],\"surface\":[{\"colorbar\":{\"outlinewidth\":0,\"ticks\":\"\"},\"colorscale\":[[0.0,\"#0d0887\"],[0.1111111111111111,\"#46039f\"],[0.2222222222222222,\"#7201a8\"],[0.3333333333333333,\"#9c179e\"],[0.4444444444444444,\"#bd3786\"],[0.5555555555555556,\"#d8576b\"],[0.6666666666666666,\"#ed7953\"],[0.7777777777777778,\"#fb9f3a\"],[0.8888888888888888,\"#fdca26\"],[1.0,\"#f0f921\"]],\"type\":\"surface\"}],\"table\":[{\"cells\":{\"fill\":{\"color\":\"#EBF0F8\"},\"line\":{\"color\":\"white\"}},\"header\":{\"fill\":{\"color\":\"#C8D4E3\"},\"line\":{\"color\":\"white\"}},\"type\":\"table\"}]},\"layout\":{\"annotationdefaults\":{\"arrowcolor\":\"#2a3f5f\",\"arrowhead\":0,\"arrowwidth\":1},\"autotypenumbers\":\"strict\",\"coloraxis\":{\"colorbar\":{\"outlinewidth\":0,\"ticks\":\"\"}},\"colorscale\":{\"diverging\":[[0,\"#8e0152\"],[0.1,\"#c51b7d\"],[0.2,\"#de77ae\"],[0.3,\"#f1b6da\"],[0.4,\"#fde0ef\"],[0.5,\"#f7f7f7\"],[0.6,\"#e6f5d0\"],[0.7,\"#b8e186\"],[0.8,\"#7fbc41\"],[0.9,\"#4d9221\"],[1,\"#276419\"]],\"sequential\":[[0.0,\"#0d0887\"],[0.1111111111111111,\"#46039f\"],[0.2222222222222222,\"#7201a8\"],[0.3333333333333333,\"#9c179e\"],[0.4444444444444444,\"#bd3786\"],[0.5555555555555556,\"#d8576b\"],[0.6666666666666666,\"#ed7953\"],[0.7777777777777778,\"#fb9f3a\"],[0.8888888888888888,\"#fdca26\"],[1.0,\"#f0f921\"]],\"sequentialminus\":[[0.0,\"#0d0887\"],[0.1111111111111111,\"#46039f\"],[0.2222222222222222,\"#7201a8\"],[0.3333333333333333,\"#9c179e\"],[0.4444444444444444,\"#bd3786\"],[0.5555555555555556,\"#d8576b\"],[0.6666666666666666,\"#ed7953\"],[0.7777777777777778,\"#fb9f3a\"],[0.8888888888888888,\"#fdca26\"],[1.0,\"#f0f921\"]]},\"colorway\":[\"#636efa\",\"#EF553B\",\"#00cc96\",\"#ab63fa\",\"#FFA15A\",\"#19d3f3\",\"#FF6692\",\"#B6E880\",\"#FF97FF\",\"#FECB52\"],\"font\":{\"color\":\"#2a3f5f\"},\"geo\":{\"bgcolor\":\"white\",\"lakecolor\":\"white\",\"landcolor\":\"#E5ECF6\",\"showlakes\":true,\"showland\":true,\"subunitcolor\":\"white\"},\"hoverlabel\":{\"align\":\"left\"},\"hovermode\":\"closest\",\"mapbox\":{\"style\":\"light\"},\"paper_bgcolor\":\"white\",\"plot_bgcolor\":\"#E5ECF6\",\"polar\":{\"angularaxis\":{\"gridcolor\":\"white\",\"linecolor\":\"white\",\"ticks\":\"\"},\"bgcolor\":\"#E5ECF6\",\"radialaxis\":{\"gridcolor\":\"white\",\"linecolor\":\"white\",\"ticks\":\"\"}},\"scene\":{\"xaxis\":{\"backgroundcolor\":\"#E5ECF6\",\"gridcolor\":\"white\",\"gridwidth\":2,\"linecolor\":\"white\",\"showbackground\":true,\"ticks\":\"\",\"zerolinecolor\":\"white\"},\"yaxis\":{\"backgroundcolor\":\"#E5ECF6\",\"gridcolor\":\"white\",\"gridwidth\":2,\"linecolor\":\"white\",\"showbackground\":true,\"ticks\":\"\",\"zerolinecolor\":\"white\"},\"zaxis\":{\"backgroundcolor\":\"#E5ECF6\",\"gridcolor\":\"white\",\"gridwidth\":2,\"linecolor\":\"white\",\"showbackground\":true,\"ticks\":\"\",\"zerolinecolor\":\"white\"}},\"shapedefaults\":{\"line\":{\"color\":\"#2a3f5f\"}},\"ternary\":{\"aaxis\":{\"gridcolor\":\"white\",\"linecolor\":\"white\",\"ticks\":\"\"},\"baxis\":{\"gridcolor\":\"white\",\"linecolor\":\"white\",\"ticks\":\"\"},\"bgcolor\":\"#E5ECF6\",\"caxis\":{\"gridcolor\":\"white\",\"linecolor\":\"white\",\"ticks\":\"\"}},\"title\":{\"x\":0.05},\"xaxis\":{\"automargin\":true,\"gridcolor\":\"white\",\"linecolor\":\"white\",\"ticks\":\"\",\"title\":{\"standoff\":15},\"zerolinecolor\":\"white\",\"zerolinewidth\":2},\"yaxis\":{\"automargin\":true,\"gridcolor\":\"white\",\"linecolor\":\"white\",\"ticks\":\"\",\"title\":{\"standoff\":15},\"zerolinecolor\":\"white\",\"zerolinewidth\":2}}},\"title\":{\"text\":\"Distribution of SkinThickness\",\"x\":0.5},\"xaxis\":{\"anchor\":\"y2\",\"domain\":[0.0,1.0],\"zeroline\":false},\"yaxis\":{\"anchor\":\"free\",\"domain\":[0.35,1],\"position\":0.0},\"yaxis2\":{\"anchor\":\"x\",\"domain\":[0,0.25],\"dtick\":1,\"showticklabels\":false}},                        {\"responsive\": true}                    ).then(function(){\n",
              "                            \n",
              "var gd = document.getElementById('1e3fc8d1-6fc9-4cde-abb5-cd3df2a0e8bc');\n",
              "var x = new MutationObserver(function (mutations, observer) {{\n",
              "        var display = window.getComputedStyle(gd).display;\n",
              "        if (!display || display === 'none') {{\n",
              "            console.log([gd, 'removed!']);\n",
              "            Plotly.purge(gd);\n",
              "            observer.disconnect();\n",
              "        }}\n",
              "}});\n",
              "\n",
              "// Listen for the removal of the full notebook cells\n",
              "var notebookContainer = gd.closest('#notebook-container');\n",
              "if (notebookContainer) {{\n",
              "    x.observe(notebookContainer, {childList: true});\n",
              "}}\n",
              "\n",
              "// Listen for the clearing of the current output cell\n",
              "var outputEl = gd.closest('.output');\n",
              "if (outputEl) {{\n",
              "    x.observe(outputEl, {childList: true});\n",
              "}}\n",
              "\n",
              "                        })                };                            </script>        </div>\n",
              "</body>\n",
              "</html>"
            ]
          },
          "metadata": {}
        }
      ],
      "source": [
        "plot_distribution('SkinThickness', 10)"
      ]
    },
    {
      "cell_type": "code",
      "execution_count": null,
      "metadata": {
        "colab": {
          "base_uri": "https://localhost:8080/"
        },
        "id": "QH4a5PjH0z8D",
        "outputId": "f8042fe3-831d-4217-de33-8b9121526f61"
      },
      "outputs": [
        {
          "output_type": "stream",
          "name": "stdout",
          "text": [
            "Median 'SkinThickness' untuk setiap Outcome:\n",
            "Outcome\n",
            "0    27.0\n",
            "1    32.0\n",
            "Name: SkinThickness, dtype: float64\n"
          ]
        }
      ],
      "source": [
        "median_target('SkinThickness')"
      ]
    },
    {
      "cell_type": "code",
      "execution_count": null,
      "metadata": {
        "id": "emYdVsNw04GH"
      },
      "outputs": [],
      "source": [
        "df.loc[(df['Outcome'] == 0 ) & (df['SkinThickness'].isnull()), 'SkinThickness'] = 27\n",
        "df.loc[(df['Outcome'] == 1 ) & (df['SkinThickness'].isnull()), 'SkinThickness'] = 32"
      ]
    },
    {
      "cell_type": "markdown",
      "metadata": {
        "id": "gpQ-MJId09xc"
      },
      "source": [
        "### 3.4 BloodPressure\n",
        "**Insight**\n",
        "\n",
        "Pada bagian SkinThickness ini kami mengubah data missing valuenya menjadi median untuk masing-masing outcome. Untuk data yang outcomenya adalah 0, nilai median adalah 70.0 , sedangkan untuk data insulin dengan outcome 1(diabetes), nilai median adalah 74.5"
      ]
    },
    {
      "cell_type": "code",
      "execution_count": null,
      "metadata": {
        "colab": {
          "base_uri": "https://localhost:8080/",
          "height": 542
        },
        "id": "QGOAvSwd07k4",
        "outputId": "c5487142-19c9-4528-904e-5e6aad6f3eb4"
      },
      "outputs": [
        {
          "output_type": "display_data",
          "data": {
            "text/html": [
              "<html>\n",
              "<head><meta charset=\"utf-8\" /></head>\n",
              "<body>\n",
              "    <div>            <script src=\"https://cdnjs.cloudflare.com/ajax/libs/mathjax/2.7.5/MathJax.js?config=TeX-AMS-MML_SVG\"></script><script type=\"text/javascript\">if (window.MathJax && window.MathJax.Hub && window.MathJax.Hub.Config) {window.MathJax.Hub.Config({SVG: {font: \"STIX-Web\"}});}</script>                <script type=\"text/javascript\">window.PlotlyConfig = {MathJaxConfig: 'local'};</script>\n",
              "        <script charset=\"utf-8\" src=\"https://cdn.plot.ly/plotly-2.35.2.min.js\"></script>                <div id=\"81a9cfa0-9286-4687-8215-d345863e4ac5\" class=\"plotly-graph-div\" style=\"height:525px; width:100%;\"></div>            <script type=\"text/javascript\">                                    window.PLOTLYENV=window.PLOTLYENV || {};                                    if (document.getElementById(\"81a9cfa0-9286-4687-8215-d345863e4ac5\")) {                    Plotly.newPlot(                        \"81a9cfa0-9286-4687-8215-d345863e4ac5\",                        [{\"autobinx\":false,\"histnorm\":\"probability density\",\"legendgroup\":\"Diabetic\",\"marker\":{\"color\":\"#FFD700\"},\"name\":\"Diabetic\",\"opacity\":0.7,\"x\":[72.0,64.0,40.0,50.0,70.0,96.0,74.0,60.0,72.0,84.0,74.0,70.0,90.0,80.0,94.0,70.0,76.0,76.0,76.0,68.0,72.0,110.0,66.0,66.0,90.0,68.0,72.0,66.0,88.0,66.0,90.0,108.0,70.0,72.0,90.0,72.0,85.0,72.0,62.0,54.0,92.0,74.0,76.0,76.0,30.0,88.0,84.0,70.0,56.0,64.0,66.0,86.0,78.0,88.0,72.0,88.0,74.0,82.0,70.0,72.0,110.0,82.0,68.0,68.0,98.0,76.0,80.0,66.0,84.0,62.0,64.0,60.0,76.0,104.0,84.0,65.0,82.0,70.0,62.0,74.0,66.0,60.0,90.0,52.0,86.0,80.0,72.0,84.0,90.0,84.0,54.0,50.0,85.0,62.0,64.0,76.0,62.0,86.0,60.0,70.0,86.0,80.0,86.0,62.0,78.0,48.0,70.0,78.0,58.0,98.0,68.0,68.0,68.0,74.0,80.0,74.0,78.0,74.0,70.0,90.0,64.0,86.0,76.0,78.0,84.0,80.0,88.0,50.0,76.0,64.0,78.0,72.0,102.0,82.0,82.0,75.0,74.0,100.0,82.0,76.0,78.0,66.0,70.0,64.0,84.0,64.0,72.0,74.0,68.0,60.0,84.0,82.0,64.0,78.0,78.0,64.0,82.0,104.0,70.0,62.0,78.0,64.0,70.0,62.0,84.0,80.0,70.0,68.0,70.0,70.0,68.0,90.0,72.0,70.0,88.0,70.0,92.0,74.0,72.0,85.0,90.0,76.0,76.0,66.0,66.0,80.0,70.0,90.0,76.0,66.0,86.0,84.0,80.0,82.0,74.0,78.0,78.0,58.0,88.0,74.0,82.0,64.0,72.0,76.0,80.0,74.0,50.0,84.0,52.0,82.0,76.0,106.0,80.0,60.0,82.0,70.0,70.0,86.0,52.0,76.0,80.0,82.0,114.0,68.0,90.0,74.0,78.0,88.0,78.0,64.0,62.0,50.0,78.0,76.0,68.0,78.0,86.0,88.0,74.0,80.0,94.0,94.0,70.0,62.0,70.0,88.0,78.0,88.0,72.0,92.0,74.0,60.0],\"xaxis\":\"x\",\"xbins\":{\"end\":114.0,\"size\":5,\"start\":30.0},\"yaxis\":\"y\",\"type\":\"histogram\"},{\"autobinx\":false,\"histnorm\":\"probability density\",\"legendgroup\":\"Healthy\",\"marker\":{\"color\":\"#7EC0EE\"},\"name\":\"Healthy\",\"opacity\":0.7,\"x\":[66.0,66.0,74.0,92.0,80.0,30.0,88.0,84.0,66.0,82.0,92.0,75.0,58.0,92.0,78.0,60.0,76.0,64.0,84.0,92.0,64.0,56.0,70.0,80.0,50.0,66.0,66.0,50.0,88.0,82.0,64.0,62.0,58.0,74.0,92.0,66.0,85.0,64.0,86.0,75.0,48.0,78.0,72.0,66.0,44.0,78.0,65.0,74.0,72.0,68.0,68.0,55.0,80.0,78.0,82.0,72.0,62.0,48.0,50.0,60.0,96.0,72.0,65.0,56.0,122.0,58.0,58.0,76.0,62.0,48.0,60.0,76.0,64.0,74.0,80.0,70.0,58.0,74.0,68.0,60.0,70.0,60.0,80.0,72.0,78.0,82.0,52.0,62.0,75.0,80.0,64.0,78.0,70.0,74.0,65.0,82.0,52.0,56.0,74.0,90.0,74.0,80.0,64.0,66.0,68.0,66.0,90.0,60.0,64.0,78.0,78.0,80.0,64.0,74.0,60.0,74.0,62.0,70.0,55.0,58.0,80.0,82.0,68.0,70.0,72.0,72.0,64.0,60.0,85.0,95.0,68.0,60.0,66.0,78.0,76.0,70.0,80.0,80.0,68.0,68.0,76.0,64.0,70.0,76.0,68.0,90.0,70.0,86.0,52.0,84.0,80.0,68.0,56.0,68.0,50.0,68.0,70.0,80.0,74.0,64.0,52.0,62.0,78.0,78.0,70.0,70.0,64.0,74.0,62.0,76.0,88.0,74.0,84.0,56.0,72.0,88.0,50.0,62.0,84.0,72.0,82.0,76.0,76.0,68.0,66.0,70.0,50.0,68.0,80.0,66.0,60.0,75.0,72.0,70.0,70.0,72.0,58.0,80.0,60.0,76.0,70.0,74.0,68.0,86.0,72.0,88.0,46.0,62.0,80.0,84.0,82.0,62.0,78.0,74.0,70.0,108.0,74.0,54.0,64.0,86.0,64.0,64.0,58.0,52.0,82.0,60.0,100.0,72.0,68.0,60.0,62.0,70.0,54.0,68.0,66.0,64.0,72.0,58.0,56.0,70.0,61.0,78.0,48.0,62.0,90.0,72.0,84.0,74.0,68.0,68.0,88.0,68.0,64.0,64.0,94.0,74.0,74.0,75.0,68.0,85.0,75.0,70.0,88.0,66.0,64.0,72.0,80.0,74.0,64.0,68.0,54.0,54.0,68.0,74.0,72.0,62.0,70.0,78.0,98.0,56.0,52.0,64.0,78.0,82.0,70.0,66.0,90.0,64.0,84.0,76.0,74.0,86.0,88.0,58.0,82.0,62.0,78.0,72.0,80.0,65.0,90.0,68.0,74.0,68.0,72.0,74.0,90.0,72.0,64.0,78.0,82.0,60.0,50.0,78.0,62.0,68.0,62.0,54.0,86.0,60.0,90.0,70.0,80.0,58.0,60.0,64.0,74.0,66.0,65.0,60.0,76.0,66.0,56.0,90.0,60.0,80.0,90.0,78.0,68.0,82.0,110.0,70.0,68.0,88.0,62.0,64.0,70.0,70.0,76.0,68.0,74.0,68.0,60.0,80.0,54.0,72.0,62.0,72.0,70.0,96.0,58.0,60.0,86.0,44.0,44.0,68.0,60.0,78.0,76.0,56.0,66.0,78.0,52.0,72.0,76.0,24.0,38.0,88.0,74.0,60.0,62.0,82.0,62.0,54.0,80.0,72.0,96.0,62.0,86.0,76.0,94.0,70.0,64.0,88.0,68.0,78.0,80.0,65.0,78.0,60.0,82.0,62.0,74.0,76.0,74.0,86.0,70.0,72.0,74.0,60.0,54.0,60.0,74.0,54.0,70.0,58.0,80.0,106.0,84.0,80.0,58.0,78.0,68.0,58.0,106.0,100.0,82.0,60.0,58.0,56.0,64.0,82.0,74.0,64.0,50.0,74.0,80.0,70.0,60.0,88.0,70.0,76.0,76.0,80.0,46.0,64.0,78.0,58.0,74.0,72.0,60.0,86.0,66.0,86.0,94.0,78.0,78.0,84.0,88.0,52.0,56.0,75.0,60.0,86.0,72.0,60.0,44.0,58.0,88.0,84.0,74.0,78.0,62.0,90.0,76.0,58.0,62.0,76.0,70.0,72.0,70.0],\"xaxis\":\"x\",\"xbins\":{\"end\":122.0,\"size\":5,\"start\":24.0},\"yaxis\":\"y\",\"type\":\"histogram\"},{\"legendgroup\":\"Diabetic\",\"marker\":{\"color\":\"#FFD700\"},\"mode\":\"lines\",\"name\":\"Diabetic\",\"showlegend\":false,\"x\":[30.0,30.168,30.336,30.504,30.672,30.84,31.008,31.176,31.344,31.512,31.68,31.848,32.016,32.184,32.352,32.52,32.688,32.856,33.024,33.192,33.36,33.528,33.696,33.864,34.032,34.2,34.368,34.536,34.704,34.872,35.04,35.208,35.376,35.544,35.712,35.88,36.048,36.216,36.384,36.552,36.72,36.888,37.056,37.224000000000004,37.392,37.56,37.728,37.896,38.064,38.232,38.4,38.568,38.736000000000004,38.903999999999996,39.072,39.24,39.408,39.576,39.744,39.912,40.08,40.248,40.416,40.584,40.752,40.92,41.088,41.256,41.424,41.592,41.76,41.928,42.096000000000004,42.263999999999996,42.432,42.6,42.768,42.936,43.104,43.272,43.44,43.608000000000004,43.775999999999996,43.944,44.112,44.28,44.448,44.616,44.784,44.952,45.12,45.288,45.456,45.624,45.792,45.96,46.128,46.296,46.464,46.632000000000005,46.8,46.968,47.135999999999996,47.304,47.472,47.64,47.808,47.976,48.144,48.312,48.480000000000004,48.647999999999996,48.816,48.984,49.152,49.32,49.488,49.656,49.824,49.992000000000004,50.16,50.328,50.495999999999995,50.664,50.832,51.0,51.168,51.336,51.504000000000005,51.672,51.84,52.007999999999996,52.176,52.344,52.512,52.68,52.848,53.016,53.184,53.352000000000004,53.519999999999996,53.688,53.856,54.024,54.192,54.36,54.528,54.696,54.864000000000004,55.032,55.2,55.367999999999995,55.536,55.704,55.872,56.04,56.208,56.376000000000005,56.544,56.712,56.879999999999995,57.048,57.216,57.384,57.552,57.72,57.888000000000005,58.056,58.224000000000004,58.391999999999996,58.56,58.728,58.896,59.064,59.232,59.4,59.568,59.736000000000004,59.903999999999996,60.072,60.239999999999995,60.408,60.576,60.744,60.912,61.08,61.248000000000005,61.416,61.584,61.751999999999995,61.92,62.088,62.256,62.424,62.592,62.76,62.928,63.096,63.264,63.432,63.6,63.768,63.936,64.104,64.27199999999999,64.44,64.608,64.77600000000001,64.944,65.112,65.28,65.44800000000001,65.616,65.78399999999999,65.952,66.12,66.288,66.456,66.624,66.792,66.96000000000001,67.128,67.29599999999999,67.464,67.632,67.8,67.968,68.136,68.304,68.47200000000001,68.64,68.80799999999999,68.976,69.144,69.312,69.47999999999999,69.648,69.816,69.98400000000001,70.152,70.32,70.488,70.656,70.824,70.99199999999999,71.16,71.328,71.49600000000001,71.664,71.832,72.0,72.168,72.336,72.50399999999999,72.672,72.84,73.00800000000001,73.176,73.344,73.512,73.68,73.848,74.01599999999999,74.184,74.352,74.52000000000001,74.688,74.856,75.024,75.19200000000001,75.36,75.52799999999999,75.696,75.864,76.032,76.2,76.368,76.536,76.70400000000001,76.872,77.03999999999999,77.208,77.376,77.544,77.712,77.88,78.048,78.21600000000001,78.384,78.55199999999999,78.72,78.888,79.056,79.22399999999999,79.392,79.56,79.72800000000001,79.896,80.064,80.232,80.4,80.568,80.73599999999999,80.904,81.072,81.24000000000001,81.408,81.576,81.744,81.912,82.08,82.24799999999999,82.416,82.584,82.75200000000001,82.92,83.088,83.256,83.424,83.592,83.75999999999999,83.928,84.096,84.26400000000001,84.432,84.6,84.768,84.936,85.104,85.27199999999999,85.44,85.608,85.77600000000001,85.944,86.112,86.28,86.44800000000001,86.616,86.78399999999999,86.952,87.12,87.288,87.456,87.624,87.792,87.96000000000001,88.128,88.29599999999999,88.464,88.632,88.8,88.968,89.136,89.304,89.47200000000001,89.64,89.80799999999999,89.976,90.144,90.312,90.47999999999999,90.648,90.816,90.98400000000001,91.152,91.32,91.488,91.656,91.824,91.99199999999999,92.16,92.328,92.49600000000001,92.664,92.832,93.0,93.168,93.336,93.50399999999999,93.672,93.84,94.008,94.176,94.344,94.512,94.68,94.848,95.016,95.184,95.352,95.52,95.688,95.856,96.024,96.192,96.36,96.528,96.696,96.864,97.032,97.2,97.368,97.536,97.704,97.872,98.04,98.208,98.376,98.544,98.712,98.88,99.048,99.216,99.384,99.552,99.72,99.888,100.056,100.224,100.392,100.56,100.728,100.896,101.064,101.232,101.4,101.568,101.736,101.904,102.072,102.24,102.408,102.576,102.744,102.912,103.08,103.248,103.416,103.584,103.752,103.92,104.088,104.256,104.424,104.592,104.76,104.928,105.096,105.264,105.432,105.6,105.768,105.936,106.104,106.272,106.44,106.608,106.776,106.944,107.112,107.28,107.448,107.616,107.784,107.952,108.12,108.288,108.456,108.624,108.792,108.96,109.128,109.296,109.464,109.632,109.8,109.968,110.136,110.304,110.472,110.64,110.808,110.976,111.144,111.312,111.48,111.648,111.816,111.984,112.152,112.32,112.488,112.656,112.824,112.992,113.16,113.328,113.496,113.664,113.832],\"xaxis\":\"x\",\"y\":[0.00040799732989557034,0.0004096849578068509,0.00041088655010641854,0.00041161759508870864,0.00041189701266372146,0.0004117470234693324,0.0004111929849978243,0.000410263196126287,0.00040898867184551276,0.00040740289037134795,0.000405541515191155,0.00040344209494098477,0.0004011437443219923,0.0003986868095431008,0.000396112522017456,0.0003934626442394528,0.00039077911192435916,0.0003881036766017208,0.0003854775529150457,0.00038294107489285513,0.0003805333654193983,0.0003782920230473347,0.00037625283016007495,0.00037444948630930685,0.0003729133703252646,0.00037167333452545735,0.0003707555340345918,0.00037018329387704266,0.0003699770161169102,0.00037015412890299823,0.00037072907883096745,0.0003717133675665926,0.0003731156331869755,0.00037494177619531495,0.000377195129654148,0.00037987667236689986,0.00038298528352276746,0.000386518036710845,0.0003904705307106402,0.0003948372539829732,0.00039961197932256875,0.00040478818469636953,0.0004103594958843685,0.00041632014616730344,0.00042266544797218487,0.0004293922710965029,0.0004364995218890171,0.00044398861757283405,0.0004518639497582766,0.0004601333311116562,0.00046880841912401276,0.0004779051109631054,0.0004874439034939644,0.0004974502127191527,0.0005079546471199425,0.0005189932296738942,0.0005306075636819628,0.0005428449379581725,0.0005557583674149008,0.000569406565614641,0.000583853846451357,0.000599169952767553,0.0006154298104024596,0.000632713206897198,0.0006511043948490163,0.0006706916207021577,0.0006915665805812312,0.0007138238056066318,0.0007375599799730229,0.0007628731959130902,0.0007898621505010435,0.0008186252900652336,0.00084925990876762,0.0008818612086604966,0.0009165213292390183,0.0009533283551621223,0.000992365311405786,0.0010337091556321945,0.0010774297779979302,0.0011235890189758664,0.0011722397160214891,0.0012234247900682162,0.0012771763828819795,0.00133351505623793,0.0013924490636973473,0.0014539737054583236,0.0015180707763272467,0.0015847081163097851,0.001653839272650839,0.0017254032813650688,0.0017993245753976914,0.001875513025544436,0.001953864119146904,0.0020342592803743735,0.0021165663346145768,0.0022006401181360806,0.0022863232327668577,0.002373446943870558,0.0024618322184100133,0.0025512908983816736,0.002641627003402478,0.002732638154748851,0.0028241171117034344,0.0029158534096772335,0.003007635088258799,0.0030992504961166595,0.0031904901585609177,0.0032811486925712094,0.0033710267532341366,0.0034599329948177206,0.0035476860291525822,0.0036341163636008375,0.0037190683006795857,0.0038024017813724316,0.003883994154313293,0.003963741853360843,0.004041561966600404,0.004117393680506891,0.004191199583873682,0.004262966817148274,0.00433270805400806,0.004400462303345286,0.00446629552129677,0.004530301024535515,0.004592599697722314,0.004653339989778248,0.0047126976954650944,0.004770875520632701,0.004828102431389466,0.004884632789357099,0.0049407452770637164,0.004996741619391448,0.00505294510880963,0.005109698943873049,0.005167364392132772,0.0052263187901775065,0.005286953394984419,0.0053496711020959336,0.005414884047342805,0.005483011109893784,0.005554475335320948,0.0056297012981191205,0.005709112423704578,0.005793128290336848,0.0058821619316563115,0.0059766171606094485,0.006076885935440574,0.006183345788169484,0.006296357335546115,0.006416261891885846,0.006543379202441655,0.006678005315072008,0.006820410606920826,0.006970837981645668,0.007129501251422606,0.007296583716527272,0.007472236953754604,0.007656579823302122,0.007849697702017275,0.008051641949108153,0.008262429608552302,0.008482043350524004,0.008710431652207778,0.008947509216392369,0.00919315762425716,0.009447226216788035,0.009709533197308487,0.00997986694569953,0.010257987533024794,0.010543628423492457,0.010836498348990194,0.011136283339838356,0.011442648893938432,0.011755242265163907,0.012073694850664198,0.01239762465574595,0.012726638814172518,0.013060336141095835,0.013398309695416586,0.013740149328170843,0.01408544419356705,0.014433785199563816,0.014784767375377107,0.015137992134048537,0.015493069409189172,0.015849619646229152,0.01620727562995405,0.016565684131775442,0.016924507362060394,0.017283424214912066,0.017642131295035737,0.018000343718714184,0.018357795683437657,0.018714240803345248,0.019069452210322364,0.0194232224233161,0.01977536299115219,0.02012570391682517,0.020474092873849162,0.020820394227769337,0.021164487878300633,0.02150626793974972,0.021845641279355562,0.02218252593491638,0.022516849434532308,0.022848547042458058,0.023177559955900772,0.02350383347810798,0.023827315193246202,0.024147953168374342,0.024465694207260174,0.02478048217988094,0.025092256450201182,0.02540095042324224,0.025706490230584952,0.02600879357128659,0.026307768722800502,0.026603313733880782,0.026895315808686898,0.027183650888416476,0.02746818343383116,0.02774876640906063,0.028025241464105212,0.028297439310579483,0.0285651802824751,0.028828275071131646,0.02908652562122599,0.029339726172463044,0.02958766442981091,0.029830122843598154,0.03006687997960086,0.03029771195841903,0.030522393942967522,0.030740701652808653,0.03095241288431059,0.031157309016227472,0.03135517648123876,0.03154580818523321,0.03172900485765208,0.03190457631797247,0.03207234264537845,0.0322321352408011,0.03238379777274075,0.03252718700059665,0.03266217347154618,0.032788642089313355,0.03290649255538181,0.03301563968530812,0.033116013604736295,0.033207559831463423,0.033290239251437044,0.0333640279978464,0.03342891724348713,0.033484912917317866,0.03353203535658624,0.03357031890607321,0.03359981147590608,0.033620574069026424,0.0336326802887938,0.03363621583637659,0.03363127800656671,0.0336179751894735,0.03359642638424696,0.033566760729589064,0.03352911705436177,0.03348364345014378,0.033430496866146,0.03336984272551718,0.033301854560782475,0.03322671366498492,0.033144608754083364,0.033055735635303084,0.032960296875472556,0.03285850146291219,0.03275056445618227,0.03263670661294833,0.0325171539923795,0.03239213752485325,0.032261892543286944,0.03212665827113504,0.03198667726296053,0.03184219479449472,0.03169345820020003,0.03154071615754357,0.0313842179184146,0.031224212489384718,0.031060947763752504,0.030894669609532324,0.030725620918702245,0.03055404062409476,0.030380162691278773,0.030204215093620347,0.030026418779410313,0.029846986640490587,0.029666122492201505,0.029484020074691097,0.029300862085684963,0.02911681925470743,0.028932049468480044,0.02874669695681246,0.028560891547753278,0.02837474800009749,0.02818836542057517,0.028001826772184504,0.02781519847920138,0.027628530133420783,0.027441854305175796,0.02725518646166187,0.02706852499408067,0.02688185135413033,0.026695130299418845,0.026508310246478484,0.02632132372922346,0.02613408795992852,0.02594650548911435,0.025758464960119992,0.025569841953611866,0.025380499916830866,0.025190291172006003,0.024999057998060577,0.024806633779497256,0.024612844216165025,0.024417508587472447,0.024220441064509258,0.02402145206346203,0.023820349633651206,0.023616940873463246,0.023411033367397683,0.023202436637391768,0.022990963601507906,0.02277643203298079,0.02255866601251517,0.0223374973665956,0.022112767084433445,0.02188432670602193,0.02165203967361551,0.021415782638798217,0.021175446717165227,0.020930938682527704,0.020682182092470584,0.020429118337059224,0.020171707602518633,0.019909929741805426,0.019643785044173,0.01937329489610204,0.019098502326341554,0.018819472428284786,0.01853629265349692,0.01824907297091701,0.017957945887075787,0.01766306632360133,0.017364611349318437,0.01706277976537973,0.016757791543079565,0.016449887115291505,0.016139326523809443,0.01582638842625385,0.015511368967599432,0.015194580522778025,0.01487635031817579,0.014557018941170955,0.014236938748110795,0.013916472182293152,0.013595990014572722,0.013275869520140282,0.012956492605805026,0.012638243902732086,0.0123215088400383,0.01200667171491819,0.011694113775054898,0.011384211328962885,0.01107733389961222,0.010773842436198852,0.010474087598264396,0.010178408125532983,0.009887129305843472,0.009600561552422044,0.009318999100480514,0.009042718831763493,0.00877197923421672,0.008507019502437544,0.008248058783014142,0.007995295567290154,0.007748907232525023,0.0075090497308805,0.007275857424174024,0.007049443060915958,0.0068298978908116325,0.0066172919106762,0.006411674234592611,0.006213073580157077,0.006021498861806032,0.005836939881516269,0.005659368106615162,0.005488737524036229,0.00532498556010348,0.005168034054824168,0.0050177902797083245,0.004874147988306057,0.004736988488953375,0.004606181729629972,0.004481587385349113,0.004363055939104543,0.004250429748079734,0.004143544087565752,0.004042228165820514,0.003946306103919744,0.0038555978754847087,0.0037699202020083614,0.00368908740032918,0.0036129121796065157,0.0035412063859231796,0.003473781693370218,0.003410450241147216,0.003351025216832705,0.003295321386537191,0.0032431555731441282,0.003194347084267493,0.0031487180919098708,0.003106093966091603,0.003066303564941865,0.0030291794839004678,0.0029945582667773502,0.002962280581461956,0.00293219136307135,0.0029041399272809873,0.0028779800565014962,0.0028535700614561424,0.0028307728205828283,0.0028094557995377097,0.0027894910529225455,0.0027707552101984088,0.0027531294475905102,0.0027364994476376265,0.002720755347896663,0.002705791680183836,0.0026915073016179443,0.0026778053186319924,0.002664593005035606,0.002651781715142927,0.0026392867929274995,0.00262702747812584,0.0026149268101820266,0.002602911530905353,0.0025909119866976407,0.0025788620311949016,0.002566698929154809,0.002554363262405564,0.0025417988386496003,0.002528952603885026,0.0025157745591664806,0.002502217682374119,0.0024882378555931084,0.0024737937986261675,0.0024588470090683846,0.002443361709267393,0.0024273048003741896,0.0024106458235624477,0.0023933569283589133,0.0023754128478874043,0.0023567908806868994,0.002337470878622882,0.0023174352402747533,0.002296668909052851,0.002275159375180586,0.0022528966805727296,0.002229873425553186,0.002206084776286661,0.002181528471750401,0.002156204829046403,0.0021301167458516452,0.002103269698824226,0.0020756717368271404,0.002047333467897003,0.0020182680389717496,0.001988491107497074,0.001958020804153229,0.0019268776860802662,0.0018950846801264662,0.0018626670157995391,0.001829652147759023,0.00179606966784823,0.0017619512068216346,0.0017273303260756476,0.0016922423998341962,0.001656724488373003,0.0016208152029856312,0.0015845545634979384,0.0015479838492251671,0.001511145444334916,0.001474082678631235,0.0014368396648079239,0.0013994611332349496,0.0013619922653405482,0.0013244785266344709,0.0012869655003868207,0.001249498722933012,0.0012121235215215766,0.0011748848555586573,0.001137827162034413],\"yaxis\":\"y\",\"type\":\"scatter\"},{\"legendgroup\":\"Healthy\",\"marker\":{\"color\":\"#7EC0EE\"},\"mode\":\"lines\",\"name\":\"Healthy\",\"showlegend\":false,\"x\":[24.0,24.196,24.392,24.588,24.784,24.98,25.176,25.372,25.568,25.764,25.96,26.156,26.352,26.548000000000002,26.744,26.94,27.136,27.332,27.528,27.724,27.92,28.116,28.312,28.508,28.704,28.9,29.096,29.292,29.488,29.684,29.88,30.076,30.272,30.468,30.664,30.86,31.056,31.252,31.448,31.644,31.84,32.036,32.232,32.428,32.624,32.82,33.016,33.212,33.408,33.604,33.8,33.996,34.192,34.388,34.584,34.78,34.976,35.172,35.368,35.564,35.76,35.956,36.152,36.348,36.544,36.74,36.936,37.132,37.328,37.524,37.72,37.916,38.112,38.308,38.504,38.7,38.896,39.092,39.288,39.484,39.68,39.876,40.072,40.268,40.464,40.66,40.856,41.052,41.248000000000005,41.444,41.64,41.836,42.032,42.228,42.424,42.620000000000005,42.816,43.012,43.208,43.403999999999996,43.6,43.796,43.992000000000004,44.188,44.384,44.58,44.775999999999996,44.972,45.168,45.364000000000004,45.56,45.756,45.952,46.147999999999996,46.344,46.54,46.736000000000004,46.932,47.128,47.324,47.519999999999996,47.716,47.912,48.108000000000004,48.304,48.5,48.696,48.891999999999996,49.088,49.284,49.480000000000004,49.676,49.872,50.068,50.263999999999996,50.46,50.656,50.852000000000004,51.048,51.244,51.44,51.635999999999996,51.832,52.028,52.224000000000004,52.42,52.616,52.812,53.007999999999996,53.204,53.4,53.596000000000004,53.792,53.988,54.184,54.379999999999995,54.576,54.772,54.968,55.164,55.36,55.556,55.751999999999995,55.948,56.144,56.34,56.536,56.732,56.928,57.124,57.32,57.516,57.712,57.908,58.104,58.3,58.496,58.692,58.888,59.084,59.28,59.476,59.672,59.868,60.064,60.26,60.456,60.652,60.848,61.044,61.24,61.436,61.632,61.828,62.024,62.22,62.416,62.612,62.808,63.004,63.2,63.396,63.592,63.788,63.984,64.18,64.376,64.572,64.768,64.964,65.16,65.356,65.55199999999999,65.74799999999999,65.944,66.14,66.336,66.532,66.72800000000001,66.924,67.12,67.316,67.512,67.708,67.904,68.1,68.29599999999999,68.49199999999999,68.688,68.884,69.08,69.27600000000001,69.47200000000001,69.668,69.864,70.06,70.256,70.452,70.648,70.844,71.03999999999999,71.23599999999999,71.432,71.628,71.824,72.02000000000001,72.21600000000001,72.412,72.608,72.804,73.0,73.196,73.392,73.588,73.78399999999999,73.97999999999999,74.176,74.372,74.568,74.76400000000001,74.96000000000001,75.156,75.352,75.548,75.744,75.94,76.136,76.332,76.52799999999999,76.72399999999999,76.92,77.116,77.312,77.50800000000001,77.70400000000001,77.9,78.096,78.292,78.488,78.684,78.88,79.076,79.27199999999999,79.468,79.664,79.86,80.056,80.25200000000001,80.44800000000001,80.644,80.84,81.036,81.232,81.428,81.624,81.82,82.01599999999999,82.212,82.408,82.604,82.8,82.99600000000001,83.19200000000001,83.388,83.584,83.78,83.976,84.172,84.368,84.564,84.75999999999999,84.956,85.152,85.348,85.544,85.74000000000001,85.936,86.132,86.328,86.524,86.72,86.916,87.112,87.30799999999999,87.50399999999999,87.7,87.896,88.092,88.288,88.484,88.68,88.876,89.072,89.268,89.464,89.66,89.856,90.052,90.248,90.444,90.64,90.836,91.032,91.228,91.424,91.62,91.816,92.012,92.208,92.404,92.6,92.796,92.992,93.188,93.384,93.58,93.776,93.972,94.168,94.364,94.56,94.756,94.952,95.148,95.344,95.54,95.736,95.932,96.128,96.324,96.52,96.716,96.912,97.108,97.304,97.5,97.696,97.892,98.088,98.284,98.48,98.676,98.872,99.068,99.264,99.46,99.656,99.852,100.048,100.244,100.44,100.636,100.832,101.028,101.224,101.42,101.616,101.812,102.008,102.204,102.4,102.596,102.792,102.988,103.184,103.38,103.576,103.772,103.968,104.164,104.36,104.556,104.752,104.948,105.144,105.34,105.536,105.732,105.928,106.124,106.32,106.516,106.712,106.908,107.104,107.3,107.496,107.692,107.888,108.084,108.28,108.476,108.672,108.868,109.064,109.26,109.456,109.652,109.848,110.044,110.24,110.436,110.632,110.828,111.024,111.22,111.416,111.612,111.808,112.004,112.2,112.396,112.592,112.788,112.984,113.18,113.376,113.572,113.768,113.964,114.16,114.356,114.552,114.748,114.944,115.14,115.336,115.532,115.728,115.924,116.12,116.316,116.512,116.708,116.904,117.1,117.296,117.492,117.688,117.884,118.08,118.276,118.472,118.668,118.864,119.06,119.256,119.452,119.648,119.844,120.04,120.236,120.432,120.628,120.824,121.02,121.216,121.412,121.608,121.804],\"xaxis\":\"x\",\"y\":[0.00029023603592154236,0.0002952875766383008,0.00029994461888193145,0.00030421109399394753,0.0003080939140183054,0.0003116025593510808,0.0003147486213343985,0.0003175453136623315,0.00032000696756109257,0.00032214852634798713,0.0003239850551319325,0.00032553128107744333,0.0003268011788153986,0.0003278076142663535,0.0003285620583813529,0.00032907438015261804,0.0003293527257681119,0.0003294034880578634,0.0003292313674938034,0.00032883952305290946,0.00032822980833341163,0.00032740308552298256,0.0003263596072504109,0.0003250994540952484,0.0003236230136606842,0.00032193148569804604,0.00032002739685663324,0.00031791510825319075,0.00031560129922656577,0.00031309541136204073,0.00031041003811533,0.00030756124709960736,0.0003045688242655112,0.00030145643173461054,0.0002982516738603582,0.0002949860690964648,0.0002916949283542096,0.00028841714362714475,0.0002851948936537957,0.00028207327617900104,0.00027909987887133616,0.0002763243030752586,0.0002737976562512477,0.0002715720301277659,0.00026969998221320127,0.00026823403836821925,0.0002672262336109091,0.0002667277072280527,0.00026678836662259877,0.00026745663218381485,0.00026877927288222395,0.0002708013393401999,0.00027356619789741025,0.00027711566577462844,0.00028149024394388003,0.00028672944084632846,0.00029287217677226746,0.00029995725563923976,0.0003080238881790868,0.0003171122482691983,0.0003272640424029585,0.0003385230711608084,0.0003509357610715025,0.0003645516454787213,0.0003794237739663882,0.0003956090315394364,0.0004131683510754297,0.00043216680550295204,0.00045267356964989616,0.0004747617456420813,0.000498508050005443,0.000523992365102437,0.0005512971620730611,0.0005805068069024995,0.0006117067654479746,0.0006449827270758599,0.0006804196698435873,0.0007181008927789366,0.0007581070426503751,0.0008005151635972073,0.0008453977980359402,0.0008928221663486912,0.0009428494509925871,0.0009955342078829265,0.0010509239242679478,0.0011090587379336365,0.0011699713275879046,0.0012336869788357493,0.0013002238244536459,0.0013695932519008683,0.001441800465374656,0.0015168451844328646,0.0015947224564732613,0.0016754235563592838,0.0017589369433818518,0.0018452492436811343,0.0019343462253199742,0.0020262137334635996,0.0021208385545929123,0.0022182091813351,0.002318316453260721,0.0024211540537559893,0.0025267188486755967,0.0026350110587259013,0.002746034264201287,0.0028597952475602046,0.0029763036861313206,0.003095571713731842,0.003217613375914674,0.003342444008708955,0.0034700795748762907,0.0036005359947006354,0.0037338285100329124,0.0038699711206314,0.0040089761307401635,0.004150853841334322,0.0042956124195953835,0.004443257972063744,0.004593794841698816,0.0047472261419419775,0.004903554533043182,0.0050627832376138274,0.0052249172838604125,0.005389964956496643,0.005557939427178157,0.005728860528702363,0.0059027566303907035,0.006079666566221743,0.00625964156258343,0.006442747109092963,0.006629064713894591,0.006818693484241442,0.007011751474025509,0.007208376742212861,0.007408728069824714,0.007612985288090712,0.007821349176581394,0.008034040897366415,0.008251300939396019,0.008473387556200272,0.008700574689472154,0.008933149380968751,0.00917140868525518,0.009415656105946314,0.0096661975881033,0.009923337109147006,0.010187371919891695,0.010458587495932346,0.010737252267479642,0.011023612202694088,0.011317885325484538,0.01162025625348585,0.011930870845392657,0.012249831048903356,0.01257719004111979,0.012912947752286064,0.013257046861172973,0.013609369346188912,0.013969733670425578,0.014337892671341423,0.014713532216716294,0.015096270677967672,0.015485659260039869,0.01588118321403402,0.016282263944753465,0.016688262010645334,0.017098480998495213,0.017512172239999558,0.01792854032230738,0.01834674933013219,0.018765929743415993,0.019185185902106185,0.019603603938677782,0.020020260069874056,0.020434229131972632,0.02084459323888863,0.021250450439723435,0.02165092325201559,0.022045166948948848,0.022432377483040264,0.022811798935257328,0.02318273038689243,0.023544532121638297,0.023896631076871466,0.02423852547587519,0.02456978858628703,0.024890071564129954,0.025199105357058302,0.025496701654623685,0.025782752887180068,0.026057231288260665,0.02632018704768301,0.026571745594126565,0.026812104056358813,0.027041526961618847,0.027260341237842926,0.027468930593464225,0.027667729354437936,0.02785721584298051,0.028037905386319614,0.028210343046544063,0.028375096164485924,0.0285327468114477,0.02868388424253437,0.028829097444330543,0.028968967867657017,0.029104062433110093,0.02923492689297744,0.02936207962790996,0.029486005950366687,0.029607152979339208,0.029725925142227903,0.029842680350036,0.02995772688138003,0.030071320999327716,0.03018366531298172,0.030294907883244845,0.03040514205963553,0.030514407022676143,0.03062268899457359,0.030729923070002253,0.030835995609101264,0.03094074712661342,0.031043975604689706,0.03114544015244857,0.031244864933067197,0.0313419432790324,0.03143634191817852,0.03152770523716598,0.03161565951491528,0.03169981706593522,0.03177978024213324,0.03185514525117625,0.03192550575937655,0.03199045625695817,0.032049595173009995,0.03210252773604734,0.0321488685835493,0.03218824412983208,0.0322202947059806,0.03224467648817254,0.03226106323161093,0.0322691478265077,0.0322686436903342,0.032259286007147864,0.032240832820535595,0.03221306598199755,0.03217579195182423,0.032128842445122804,0.0320720749120108,0.03200537283848665,0.03192864585337607,0.031841829627259045,0.031744885551505383,0.031637800189494164,0.03152058449765619,0.03139327282095018,0.031255921675453865,0.03110860833953394,0.030951429284094556,0.03078449848120443,0.030607945638448583,0.03042191441315048,0.030226560665685923,0.030022050814073047,0.029808560352549352,0.02958627259471391,0.029355377696946513,0.02911607201021368,0.028868557798222668,0.028613043347446278,0.028349743480225252,0.02807888046645157,0.027800685312827506,0.027515399392003887,0.027223276357706768,0.02692458427690559,0.02661960789681411,0.026308650953613948,0.025992038421760618,0.02567011859796371,0.025343264912721642,0.025011877364768127,0.02467638347998839,0.02433723870614113,0.023994926167836515,0.023649955722279674,0.023302862274805526,0.02295420333362987,0.02260455580486889,0.022254512051058408,0.021904675258420728,0.021555654179286156,0.021208057335720742,0.020862486787930984,0.02051953158587454,0.020179761034274008,0.019843717909563723,0.019511911771987814,0.01918481251698767,0.01886284430720532,0.01854638001997962,0.018235736335376115,0.017931169576868203,0.01763287240118199,0.017340971415988463,0.017055525784569443,0.016776526855843955,0.016503898836748344,0.01623750050246671,0.01597712791891718,0.01572251813170506,0.015473353756895306,0.015229268391817798,0.014989852749034754,0.014754661403826166,0.014523220035288378,0.014295033033525235,0.014069591340502133,0.013846380389945586,0.013624888012142334,0.013404612172534929,0.013185068418458783,0.012965796916052588,0.01274636896905821,0.012526392922677149,0.01230551936858852,0.012083445581377842,0.011859919131684328,0.011634740637040713,0.01140776562735808,0.011178905518000107,0.010948127699105198,0.010715454764972106,0.010480962921665306,0.010244779624271151,0.010007080507225687,0.009768085681643892,0.009528055482439478,0.00928728575510217,0.009046102777196066,0.008804857912896329,0.008563922100170998,0.008323680269556504,0.008084525790933017,0.007846855040369203,0.007611062173120035,0.0073775341813911745,0.007146646306733051,0.006918757867125907,0.0066942085482109065,0.0064733151969758014,0.0062563691447836915,0.006043634075211473,0.005835344440999388,0.005631704423749526,0.00543288742007658,0.005239036028898301,0.0050502625066246075,0.004866649650284617,0.004688252063207977,0.0045150977537965565,0.004347190015189069,0.004184509532202133,0.004027016661757132,0.003874653833972698,0.0037273480230925696,0.0035850132402794896,0.0034475530038823032,0.003314862746903908,0.0031868321259021907,0.0030633472002800258,0.0029442924557196667,0.002829552650259116,0.002719014466083466,0.002612567954427114,0.0025101077649880045,0.0024115341549079475,0.002316753775655303,0.002225680239066426,0.0021382344663826492,0.0020543448263974735,0.0019739470708518498,0.0018969840770336178,0.0018234054092026446,0.0017531667120223558,0.0016862289506695786,0.0016225575137451308,0.0015621211965311356,0.0015048910835360769,0.0014508393506187656,0.0013999380082569905,0.001352157608682275,0.00130746594058536,0.0012658267358483031,0.0012271984132143175,0.0011915328839052911,0.0011587744438810803,0.0011288587766581284,0.0011017120893318875,0.0010772504026596884,0.0010553790137566776,0.0010359921471555845,0.0010189728067197096,0.001004192837234564,0.0009915132005126966,0.0009807844666185766,0.0009718475164593754,0.0009645344476046154,0.0009586696709094372,0.0009540711814392428,0.0009505519834402424,0.0009479216457751427,0.0009459879614378564,0.0009445586825521237,0.0009434433007046453,0.0009424548416017889,0.0009414116428871159,0.0009401390845103292,0.000938471242271385,0.0009362524370315492,0.0009333386545238096,0.000929598813631274,0.0009249158643452302,0.0009191877002674391,0.0009123278743822628,0.000904266110790426,0.000894948609066779,0.0008843381417836277,0.0008724139494415643,0.0008591714404932564,0.0008446217072668632,0.0008287908713413676,0.0008117192742568662,0.0007934605313326493,0.0007740804678019392,0.0007536559574536517,0.0007322736845091023,0.0007100288495750924,0.0006870238402324413,0.0006633668861753876,0.0006391707178515564,0.0006145512463070809,0.0005896262804610986,0.0005645142963635175,0.0005393332711736889,0.0005141995926789923,0.0004892270531924178,0.0004645259346660519,0.0004402021898692612,0.00041635672254002114,0.0003930847675560759,0.0003704753704175968,0.0003486109637100046,0.0003275670367473619,0.0003074118933029645,0.0002882064912314581,0.0002700043568898372,0.0002528515665837612,0.00023678678680769924,0.000221841364815814,0.00020803946105421667,0.00019539821519884572,0.00018392793796660132,0.0001736323214856634,0.00016450866180412762,0.00015654808805988692,0.00014973579389996447,0.0001440512678914328,0.00013946852087243607,0.00013595630941207017,0.0001334783557419003,0.0001319935656494746,0.00013145624684585299,0.00013181633119796143,0.00013301960491890377,0.00013500795130664035,0.00013771961089100633,0.00014108946387540361,0.0001450493395348965,0.00014952835675774822,0.0001544532992021296,0.00015974902760214482,0.00016533893062416446,0.0001711454143802203,0.00017709042929115108,0.00018309603150516298,0.00018908497456826323,0.00019498132556488332,0.0002007110985535201,0.00020620289686566745,0.00021138855476549755,0.0002162037681264587,0.00022058870320589038,0.00022448857231857985,0.0002278541652437654,0.00023064232555623717,0.00023281636174872147,0.00023434638399676537,0.00023520955868539968],\"yaxis\":\"y\",\"type\":\"scatter\"},{\"legendgroup\":\"Diabetic\",\"marker\":{\"color\":\"#FFD700\",\"symbol\":\"line-ns-open\"},\"mode\":\"markers\",\"name\":\"Diabetic\",\"showlegend\":false,\"x\":[72.0,64.0,40.0,50.0,70.0,96.0,74.0,60.0,72.0,84.0,74.0,70.0,90.0,80.0,94.0,70.0,76.0,76.0,76.0,68.0,72.0,110.0,66.0,66.0,90.0,68.0,72.0,66.0,88.0,66.0,90.0,108.0,70.0,72.0,90.0,72.0,85.0,72.0,62.0,54.0,92.0,74.0,76.0,76.0,30.0,88.0,84.0,70.0,56.0,64.0,66.0,86.0,78.0,88.0,72.0,88.0,74.0,82.0,70.0,72.0,110.0,82.0,68.0,68.0,98.0,76.0,80.0,66.0,84.0,62.0,64.0,60.0,76.0,104.0,84.0,65.0,82.0,70.0,62.0,74.0,66.0,60.0,90.0,52.0,86.0,80.0,72.0,84.0,90.0,84.0,54.0,50.0,85.0,62.0,64.0,76.0,62.0,86.0,60.0,70.0,86.0,80.0,86.0,62.0,78.0,48.0,70.0,78.0,58.0,98.0,68.0,68.0,68.0,74.0,80.0,74.0,78.0,74.0,70.0,90.0,64.0,86.0,76.0,78.0,84.0,80.0,88.0,50.0,76.0,64.0,78.0,72.0,102.0,82.0,82.0,75.0,74.0,100.0,82.0,76.0,78.0,66.0,70.0,64.0,84.0,64.0,72.0,74.0,68.0,60.0,84.0,82.0,64.0,78.0,78.0,64.0,82.0,104.0,70.0,62.0,78.0,64.0,70.0,62.0,84.0,80.0,70.0,68.0,70.0,70.0,68.0,90.0,72.0,70.0,88.0,70.0,92.0,74.0,72.0,85.0,90.0,76.0,76.0,66.0,66.0,80.0,70.0,90.0,76.0,66.0,86.0,84.0,80.0,82.0,74.0,78.0,78.0,58.0,88.0,74.0,82.0,64.0,72.0,76.0,80.0,74.0,50.0,84.0,52.0,82.0,76.0,106.0,80.0,60.0,82.0,70.0,70.0,86.0,52.0,76.0,80.0,82.0,114.0,68.0,90.0,74.0,78.0,88.0,78.0,64.0,62.0,50.0,78.0,76.0,68.0,78.0,86.0,88.0,74.0,80.0,94.0,94.0,70.0,62.0,70.0,88.0,78.0,88.0,72.0,92.0,74.0,60.0],\"xaxis\":\"x\",\"y\":[\"Diabetic\",\"Diabetic\",\"Diabetic\",\"Diabetic\",\"Diabetic\",\"Diabetic\",\"Diabetic\",\"Diabetic\",\"Diabetic\",\"Diabetic\",\"Diabetic\",\"Diabetic\",\"Diabetic\",\"Diabetic\",\"Diabetic\",\"Diabetic\",\"Diabetic\",\"Diabetic\",\"Diabetic\",\"Diabetic\",\"Diabetic\",\"Diabetic\",\"Diabetic\",\"Diabetic\",\"Diabetic\",\"Diabetic\",\"Diabetic\",\"Diabetic\",\"Diabetic\",\"Diabetic\",\"Diabetic\",\"Diabetic\",\"Diabetic\",\"Diabetic\",\"Diabetic\",\"Diabetic\",\"Diabetic\",\"Diabetic\",\"Diabetic\",\"Diabetic\",\"Diabetic\",\"Diabetic\",\"Diabetic\",\"Diabetic\",\"Diabetic\",\"Diabetic\",\"Diabetic\",\"Diabetic\",\"Diabetic\",\"Diabetic\",\"Diabetic\",\"Diabetic\",\"Diabetic\",\"Diabetic\",\"Diabetic\",\"Diabetic\",\"Diabetic\",\"Diabetic\",\"Diabetic\",\"Diabetic\",\"Diabetic\",\"Diabetic\",\"Diabetic\",\"Diabetic\",\"Diabetic\",\"Diabetic\",\"Diabetic\",\"Diabetic\",\"Diabetic\",\"Diabetic\",\"Diabetic\",\"Diabetic\",\"Diabetic\",\"Diabetic\",\"Diabetic\",\"Diabetic\",\"Diabetic\",\"Diabetic\",\"Diabetic\",\"Diabetic\",\"Diabetic\",\"Diabetic\",\"Diabetic\",\"Diabetic\",\"Diabetic\",\"Diabetic\",\"Diabetic\",\"Diabetic\",\"Diabetic\",\"Diabetic\",\"Diabetic\",\"Diabetic\",\"Diabetic\",\"Diabetic\",\"Diabetic\",\"Diabetic\",\"Diabetic\",\"Diabetic\",\"Diabetic\",\"Diabetic\",\"Diabetic\",\"Diabetic\",\"Diabetic\",\"Diabetic\",\"Diabetic\",\"Diabetic\",\"Diabetic\",\"Diabetic\",\"Diabetic\",\"Diabetic\",\"Diabetic\",\"Diabetic\",\"Diabetic\",\"Diabetic\",\"Diabetic\",\"Diabetic\",\"Diabetic\",\"Diabetic\",\"Diabetic\",\"Diabetic\",\"Diabetic\",\"Diabetic\",\"Diabetic\",\"Diabetic\",\"Diabetic\",\"Diabetic\",\"Diabetic\",\"Diabetic\",\"Diabetic\",\"Diabetic\",\"Diabetic\",\"Diabetic\",\"Diabetic\",\"Diabetic\",\"Diabetic\",\"Diabetic\",\"Diabetic\",\"Diabetic\",\"Diabetic\",\"Diabetic\",\"Diabetic\",\"Diabetic\",\"Diabetic\",\"Diabetic\",\"Diabetic\",\"Diabetic\",\"Diabetic\",\"Diabetic\",\"Diabetic\",\"Diabetic\",\"Diabetic\",\"Diabetic\",\"Diabetic\",\"Diabetic\",\"Diabetic\",\"Diabetic\",\"Diabetic\",\"Diabetic\",\"Diabetic\",\"Diabetic\",\"Diabetic\",\"Diabetic\",\"Diabetic\",\"Diabetic\",\"Diabetic\",\"Diabetic\",\"Diabetic\",\"Diabetic\",\"Diabetic\",\"Diabetic\",\"Diabetic\",\"Diabetic\",\"Diabetic\",\"Diabetic\",\"Diabetic\",\"Diabetic\",\"Diabetic\",\"Diabetic\",\"Diabetic\",\"Diabetic\",\"Diabetic\",\"Diabetic\",\"Diabetic\",\"Diabetic\",\"Diabetic\",\"Diabetic\",\"Diabetic\",\"Diabetic\",\"Diabetic\",\"Diabetic\",\"Diabetic\",\"Diabetic\",\"Diabetic\",\"Diabetic\",\"Diabetic\",\"Diabetic\",\"Diabetic\",\"Diabetic\",\"Diabetic\",\"Diabetic\",\"Diabetic\",\"Diabetic\",\"Diabetic\",\"Diabetic\",\"Diabetic\",\"Diabetic\",\"Diabetic\",\"Diabetic\",\"Diabetic\",\"Diabetic\",\"Diabetic\",\"Diabetic\",\"Diabetic\",\"Diabetic\",\"Diabetic\",\"Diabetic\",\"Diabetic\",\"Diabetic\",\"Diabetic\",\"Diabetic\",\"Diabetic\",\"Diabetic\",\"Diabetic\",\"Diabetic\",\"Diabetic\",\"Diabetic\",\"Diabetic\",\"Diabetic\",\"Diabetic\",\"Diabetic\",\"Diabetic\",\"Diabetic\",\"Diabetic\",\"Diabetic\",\"Diabetic\",\"Diabetic\",\"Diabetic\",\"Diabetic\",\"Diabetic\",\"Diabetic\",\"Diabetic\",\"Diabetic\",\"Diabetic\",\"Diabetic\",\"Diabetic\",\"Diabetic\",\"Diabetic\",\"Diabetic\",\"Diabetic\",\"Diabetic\",\"Diabetic\",\"Diabetic\"],\"yaxis\":\"y2\",\"type\":\"scatter\"},{\"legendgroup\":\"Healthy\",\"marker\":{\"color\":\"#7EC0EE\",\"symbol\":\"line-ns-open\"},\"mode\":\"markers\",\"name\":\"Healthy\",\"showlegend\":false,\"x\":[66.0,66.0,74.0,92.0,80.0,30.0,88.0,84.0,66.0,82.0,92.0,75.0,58.0,92.0,78.0,60.0,76.0,64.0,84.0,92.0,64.0,56.0,70.0,80.0,50.0,66.0,66.0,50.0,88.0,82.0,64.0,62.0,58.0,74.0,92.0,66.0,85.0,64.0,86.0,75.0,48.0,78.0,72.0,66.0,44.0,78.0,65.0,74.0,72.0,68.0,68.0,55.0,80.0,78.0,82.0,72.0,62.0,48.0,50.0,60.0,96.0,72.0,65.0,56.0,122.0,58.0,58.0,76.0,62.0,48.0,60.0,76.0,64.0,74.0,80.0,70.0,58.0,74.0,68.0,60.0,70.0,60.0,80.0,72.0,78.0,82.0,52.0,62.0,75.0,80.0,64.0,78.0,70.0,74.0,65.0,82.0,52.0,56.0,74.0,90.0,74.0,80.0,64.0,66.0,68.0,66.0,90.0,60.0,64.0,78.0,78.0,80.0,64.0,74.0,60.0,74.0,62.0,70.0,55.0,58.0,80.0,82.0,68.0,70.0,72.0,72.0,64.0,60.0,85.0,95.0,68.0,60.0,66.0,78.0,76.0,70.0,80.0,80.0,68.0,68.0,76.0,64.0,70.0,76.0,68.0,90.0,70.0,86.0,52.0,84.0,80.0,68.0,56.0,68.0,50.0,68.0,70.0,80.0,74.0,64.0,52.0,62.0,78.0,78.0,70.0,70.0,64.0,74.0,62.0,76.0,88.0,74.0,84.0,56.0,72.0,88.0,50.0,62.0,84.0,72.0,82.0,76.0,76.0,68.0,66.0,70.0,50.0,68.0,80.0,66.0,60.0,75.0,72.0,70.0,70.0,72.0,58.0,80.0,60.0,76.0,70.0,74.0,68.0,86.0,72.0,88.0,46.0,62.0,80.0,84.0,82.0,62.0,78.0,74.0,70.0,108.0,74.0,54.0,64.0,86.0,64.0,64.0,58.0,52.0,82.0,60.0,100.0,72.0,68.0,60.0,62.0,70.0,54.0,68.0,66.0,64.0,72.0,58.0,56.0,70.0,61.0,78.0,48.0,62.0,90.0,72.0,84.0,74.0,68.0,68.0,88.0,68.0,64.0,64.0,94.0,74.0,74.0,75.0,68.0,85.0,75.0,70.0,88.0,66.0,64.0,72.0,80.0,74.0,64.0,68.0,54.0,54.0,68.0,74.0,72.0,62.0,70.0,78.0,98.0,56.0,52.0,64.0,78.0,82.0,70.0,66.0,90.0,64.0,84.0,76.0,74.0,86.0,88.0,58.0,82.0,62.0,78.0,72.0,80.0,65.0,90.0,68.0,74.0,68.0,72.0,74.0,90.0,72.0,64.0,78.0,82.0,60.0,50.0,78.0,62.0,68.0,62.0,54.0,86.0,60.0,90.0,70.0,80.0,58.0,60.0,64.0,74.0,66.0,65.0,60.0,76.0,66.0,56.0,90.0,60.0,80.0,90.0,78.0,68.0,82.0,110.0,70.0,68.0,88.0,62.0,64.0,70.0,70.0,76.0,68.0,74.0,68.0,60.0,80.0,54.0,72.0,62.0,72.0,70.0,96.0,58.0,60.0,86.0,44.0,44.0,68.0,60.0,78.0,76.0,56.0,66.0,78.0,52.0,72.0,76.0,24.0,38.0,88.0,74.0,60.0,62.0,82.0,62.0,54.0,80.0,72.0,96.0,62.0,86.0,76.0,94.0,70.0,64.0,88.0,68.0,78.0,80.0,65.0,78.0,60.0,82.0,62.0,74.0,76.0,74.0,86.0,70.0,72.0,74.0,60.0,54.0,60.0,74.0,54.0,70.0,58.0,80.0,106.0,84.0,80.0,58.0,78.0,68.0,58.0,106.0,100.0,82.0,60.0,58.0,56.0,64.0,82.0,74.0,64.0,50.0,74.0,80.0,70.0,60.0,88.0,70.0,76.0,76.0,80.0,46.0,64.0,78.0,58.0,74.0,72.0,60.0,86.0,66.0,86.0,94.0,78.0,78.0,84.0,88.0,52.0,56.0,75.0,60.0,86.0,72.0,60.0,44.0,58.0,88.0,84.0,74.0,78.0,62.0,90.0,76.0,58.0,62.0,76.0,70.0,72.0,70.0],\"xaxis\":\"x\",\"y\":[\"Healthy\",\"Healthy\",\"Healthy\",\"Healthy\",\"Healthy\",\"Healthy\",\"Healthy\",\"Healthy\",\"Healthy\",\"Healthy\",\"Healthy\",\"Healthy\",\"Healthy\",\"Healthy\",\"Healthy\",\"Healthy\",\"Healthy\",\"Healthy\",\"Healthy\",\"Healthy\",\"Healthy\",\"Healthy\",\"Healthy\",\"Healthy\",\"Healthy\",\"Healthy\",\"Healthy\",\"Healthy\",\"Healthy\",\"Healthy\",\"Healthy\",\"Healthy\",\"Healthy\",\"Healthy\",\"Healthy\",\"Healthy\",\"Healthy\",\"Healthy\",\"Healthy\",\"Healthy\",\"Healthy\",\"Healthy\",\"Healthy\",\"Healthy\",\"Healthy\",\"Healthy\",\"Healthy\",\"Healthy\",\"Healthy\",\"Healthy\",\"Healthy\",\"Healthy\",\"Healthy\",\"Healthy\",\"Healthy\",\"Healthy\",\"Healthy\",\"Healthy\",\"Healthy\",\"Healthy\",\"Healthy\",\"Healthy\",\"Healthy\",\"Healthy\",\"Healthy\",\"Healthy\",\"Healthy\",\"Healthy\",\"Healthy\",\"Healthy\",\"Healthy\",\"Healthy\",\"Healthy\",\"Healthy\",\"Healthy\",\"Healthy\",\"Healthy\",\"Healthy\",\"Healthy\",\"Healthy\",\"Healthy\",\"Healthy\",\"Healthy\",\"Healthy\",\"Healthy\",\"Healthy\",\"Healthy\",\"Healthy\",\"Healthy\",\"Healthy\",\"Healthy\",\"Healthy\",\"Healthy\",\"Healthy\",\"Healthy\",\"Healthy\",\"Healthy\",\"Healthy\",\"Healthy\",\"Healthy\",\"Healthy\",\"Healthy\",\"Healthy\",\"Healthy\",\"Healthy\",\"Healthy\",\"Healthy\",\"Healthy\",\"Healthy\",\"Healthy\",\"Healthy\",\"Healthy\",\"Healthy\",\"Healthy\",\"Healthy\",\"Healthy\",\"Healthy\",\"Healthy\",\"Healthy\",\"Healthy\",\"Healthy\",\"Healthy\",\"Healthy\",\"Healthy\",\"Healthy\",\"Healthy\",\"Healthy\",\"Healthy\",\"Healthy\",\"Healthy\",\"Healthy\",\"Healthy\",\"Healthy\",\"Healthy\",\"Healthy\",\"Healthy\",\"Healthy\",\"Healthy\",\"Healthy\",\"Healthy\",\"Healthy\",\"Healthy\",\"Healthy\",\"Healthy\",\"Healthy\",\"Healthy\",\"Healthy\",\"Healthy\",\"Healthy\",\"Healthy\",\"Healthy\",\"Healthy\",\"Healthy\",\"Healthy\",\"Healthy\",\"Healthy\",\"Healthy\",\"Healthy\",\"Healthy\",\"Healthy\",\"Healthy\",\"Healthy\",\"Healthy\",\"Healthy\",\"Healthy\",\"Healthy\",\"Healthy\",\"Healthy\",\"Healthy\",\"Healthy\",\"Healthy\",\"Healthy\",\"Healthy\",\"Healthy\",\"Healthy\",\"Healthy\",\"Healthy\",\"Healthy\",\"Healthy\",\"Healthy\",\"Healthy\",\"Healthy\",\"Healthy\",\"Healthy\",\"Healthy\",\"Healthy\",\"Healthy\",\"Healthy\",\"Healthy\",\"Healthy\",\"Healthy\",\"Healthy\",\"Healthy\",\"Healthy\",\"Healthy\",\"Healthy\",\"Healthy\",\"Healthy\",\"Healthy\",\"Healthy\",\"Healthy\",\"Healthy\",\"Healthy\",\"Healthy\",\"Healthy\",\"Healthy\",\"Healthy\",\"Healthy\",\"Healthy\",\"Healthy\",\"Healthy\",\"Healthy\",\"Healthy\",\"Healthy\",\"Healthy\",\"Healthy\",\"Healthy\",\"Healthy\",\"Healthy\",\"Healthy\",\"Healthy\",\"Healthy\",\"Healthy\",\"Healthy\",\"Healthy\",\"Healthy\",\"Healthy\",\"Healthy\",\"Healthy\",\"Healthy\",\"Healthy\",\"Healthy\",\"Healthy\",\"Healthy\",\"Healthy\",\"Healthy\",\"Healthy\",\"Healthy\",\"Healthy\",\"Healthy\",\"Healthy\",\"Healthy\",\"Healthy\",\"Healthy\",\"Healthy\",\"Healthy\",\"Healthy\",\"Healthy\",\"Healthy\",\"Healthy\",\"Healthy\",\"Healthy\",\"Healthy\",\"Healthy\",\"Healthy\",\"Healthy\",\"Healthy\",\"Healthy\",\"Healthy\",\"Healthy\",\"Healthy\",\"Healthy\",\"Healthy\",\"Healthy\",\"Healthy\",\"Healthy\",\"Healthy\",\"Healthy\",\"Healthy\",\"Healthy\",\"Healthy\",\"Healthy\",\"Healthy\",\"Healthy\",\"Healthy\",\"Healthy\",\"Healthy\",\"Healthy\",\"Healthy\",\"Healthy\",\"Healthy\",\"Healthy\",\"Healthy\",\"Healthy\",\"Healthy\",\"Healthy\",\"Healthy\",\"Healthy\",\"Healthy\",\"Healthy\",\"Healthy\",\"Healthy\",\"Healthy\",\"Healthy\",\"Healthy\",\"Healthy\",\"Healthy\",\"Healthy\",\"Healthy\",\"Healthy\",\"Healthy\",\"Healthy\",\"Healthy\",\"Healthy\",\"Healthy\",\"Healthy\",\"Healthy\",\"Healthy\",\"Healthy\",\"Healthy\",\"Healthy\",\"Healthy\",\"Healthy\",\"Healthy\",\"Healthy\",\"Healthy\",\"Healthy\",\"Healthy\",\"Healthy\",\"Healthy\",\"Healthy\",\"Healthy\",\"Healthy\",\"Healthy\",\"Healthy\",\"Healthy\",\"Healthy\",\"Healthy\",\"Healthy\",\"Healthy\",\"Healthy\",\"Healthy\",\"Healthy\",\"Healthy\",\"Healthy\",\"Healthy\",\"Healthy\",\"Healthy\",\"Healthy\",\"Healthy\",\"Healthy\",\"Healthy\",\"Healthy\",\"Healthy\",\"Healthy\",\"Healthy\",\"Healthy\",\"Healthy\",\"Healthy\",\"Healthy\",\"Healthy\",\"Healthy\",\"Healthy\",\"Healthy\",\"Healthy\",\"Healthy\",\"Healthy\",\"Healthy\",\"Healthy\",\"Healthy\",\"Healthy\",\"Healthy\",\"Healthy\",\"Healthy\",\"Healthy\",\"Healthy\",\"Healthy\",\"Healthy\",\"Healthy\",\"Healthy\",\"Healthy\",\"Healthy\",\"Healthy\",\"Healthy\",\"Healthy\",\"Healthy\",\"Healthy\",\"Healthy\",\"Healthy\",\"Healthy\",\"Healthy\",\"Healthy\",\"Healthy\",\"Healthy\",\"Healthy\",\"Healthy\",\"Healthy\",\"Healthy\",\"Healthy\",\"Healthy\",\"Healthy\",\"Healthy\",\"Healthy\",\"Healthy\",\"Healthy\",\"Healthy\",\"Healthy\",\"Healthy\",\"Healthy\",\"Healthy\",\"Healthy\",\"Healthy\",\"Healthy\",\"Healthy\",\"Healthy\",\"Healthy\",\"Healthy\",\"Healthy\",\"Healthy\",\"Healthy\",\"Healthy\",\"Healthy\",\"Healthy\",\"Healthy\",\"Healthy\",\"Healthy\",\"Healthy\",\"Healthy\",\"Healthy\",\"Healthy\",\"Healthy\",\"Healthy\",\"Healthy\",\"Healthy\",\"Healthy\",\"Healthy\",\"Healthy\",\"Healthy\",\"Healthy\",\"Healthy\",\"Healthy\",\"Healthy\",\"Healthy\",\"Healthy\",\"Healthy\",\"Healthy\",\"Healthy\",\"Healthy\",\"Healthy\",\"Healthy\",\"Healthy\",\"Healthy\",\"Healthy\",\"Healthy\",\"Healthy\",\"Healthy\",\"Healthy\",\"Healthy\",\"Healthy\",\"Healthy\",\"Healthy\",\"Healthy\",\"Healthy\",\"Healthy\",\"Healthy\",\"Healthy\",\"Healthy\",\"Healthy\",\"Healthy\",\"Healthy\",\"Healthy\",\"Healthy\",\"Healthy\",\"Healthy\",\"Healthy\",\"Healthy\",\"Healthy\",\"Healthy\",\"Healthy\",\"Healthy\",\"Healthy\",\"Healthy\",\"Healthy\",\"Healthy\",\"Healthy\",\"Healthy\",\"Healthy\",\"Healthy\",\"Healthy\",\"Healthy\",\"Healthy\"],\"yaxis\":\"y2\",\"type\":\"scatter\"}],                        {\"barmode\":\"overlay\",\"hovermode\":\"closest\",\"legend\":{\"traceorder\":\"reversed\"},\"template\":{\"data\":{\"barpolar\":[{\"marker\":{\"line\":{\"color\":\"#E5ECF6\",\"width\":0.5},\"pattern\":{\"fillmode\":\"overlay\",\"size\":10,\"solidity\":0.2}},\"type\":\"barpolar\"}],\"bar\":[{\"error_x\":{\"color\":\"#2a3f5f\"},\"error_y\":{\"color\":\"#2a3f5f\"},\"marker\":{\"line\":{\"color\":\"#E5ECF6\",\"width\":0.5},\"pattern\":{\"fillmode\":\"overlay\",\"size\":10,\"solidity\":0.2}},\"type\":\"bar\"}],\"carpet\":[{\"aaxis\":{\"endlinecolor\":\"#2a3f5f\",\"gridcolor\":\"white\",\"linecolor\":\"white\",\"minorgridcolor\":\"white\",\"startlinecolor\":\"#2a3f5f\"},\"baxis\":{\"endlinecolor\":\"#2a3f5f\",\"gridcolor\":\"white\",\"linecolor\":\"white\",\"minorgridcolor\":\"white\",\"startlinecolor\":\"#2a3f5f\"},\"type\":\"carpet\"}],\"choropleth\":[{\"colorbar\":{\"outlinewidth\":0,\"ticks\":\"\"},\"type\":\"choropleth\"}],\"contourcarpet\":[{\"colorbar\":{\"outlinewidth\":0,\"ticks\":\"\"},\"type\":\"contourcarpet\"}],\"contour\":[{\"colorbar\":{\"outlinewidth\":0,\"ticks\":\"\"},\"colorscale\":[[0.0,\"#0d0887\"],[0.1111111111111111,\"#46039f\"],[0.2222222222222222,\"#7201a8\"],[0.3333333333333333,\"#9c179e\"],[0.4444444444444444,\"#bd3786\"],[0.5555555555555556,\"#d8576b\"],[0.6666666666666666,\"#ed7953\"],[0.7777777777777778,\"#fb9f3a\"],[0.8888888888888888,\"#fdca26\"],[1.0,\"#f0f921\"]],\"type\":\"contour\"}],\"heatmapgl\":[{\"colorbar\":{\"outlinewidth\":0,\"ticks\":\"\"},\"colorscale\":[[0.0,\"#0d0887\"],[0.1111111111111111,\"#46039f\"],[0.2222222222222222,\"#7201a8\"],[0.3333333333333333,\"#9c179e\"],[0.4444444444444444,\"#bd3786\"],[0.5555555555555556,\"#d8576b\"],[0.6666666666666666,\"#ed7953\"],[0.7777777777777778,\"#fb9f3a\"],[0.8888888888888888,\"#fdca26\"],[1.0,\"#f0f921\"]],\"type\":\"heatmapgl\"}],\"heatmap\":[{\"colorbar\":{\"outlinewidth\":0,\"ticks\":\"\"},\"colorscale\":[[0.0,\"#0d0887\"],[0.1111111111111111,\"#46039f\"],[0.2222222222222222,\"#7201a8\"],[0.3333333333333333,\"#9c179e\"],[0.4444444444444444,\"#bd3786\"],[0.5555555555555556,\"#d8576b\"],[0.6666666666666666,\"#ed7953\"],[0.7777777777777778,\"#fb9f3a\"],[0.8888888888888888,\"#fdca26\"],[1.0,\"#f0f921\"]],\"type\":\"heatmap\"}],\"histogram2dcontour\":[{\"colorbar\":{\"outlinewidth\":0,\"ticks\":\"\"},\"colorscale\":[[0.0,\"#0d0887\"],[0.1111111111111111,\"#46039f\"],[0.2222222222222222,\"#7201a8\"],[0.3333333333333333,\"#9c179e\"],[0.4444444444444444,\"#bd3786\"],[0.5555555555555556,\"#d8576b\"],[0.6666666666666666,\"#ed7953\"],[0.7777777777777778,\"#fb9f3a\"],[0.8888888888888888,\"#fdca26\"],[1.0,\"#f0f921\"]],\"type\":\"histogram2dcontour\"}],\"histogram2d\":[{\"colorbar\":{\"outlinewidth\":0,\"ticks\":\"\"},\"colorscale\":[[0.0,\"#0d0887\"],[0.1111111111111111,\"#46039f\"],[0.2222222222222222,\"#7201a8\"],[0.3333333333333333,\"#9c179e\"],[0.4444444444444444,\"#bd3786\"],[0.5555555555555556,\"#d8576b\"],[0.6666666666666666,\"#ed7953\"],[0.7777777777777778,\"#fb9f3a\"],[0.8888888888888888,\"#fdca26\"],[1.0,\"#f0f921\"]],\"type\":\"histogram2d\"}],\"histogram\":[{\"marker\":{\"pattern\":{\"fillmode\":\"overlay\",\"size\":10,\"solidity\":0.2}},\"type\":\"histogram\"}],\"mesh3d\":[{\"colorbar\":{\"outlinewidth\":0,\"ticks\":\"\"},\"type\":\"mesh3d\"}],\"parcoords\":[{\"line\":{\"colorbar\":{\"outlinewidth\":0,\"ticks\":\"\"}},\"type\":\"parcoords\"}],\"pie\":[{\"automargin\":true,\"type\":\"pie\"}],\"scatter3d\":[{\"line\":{\"colorbar\":{\"outlinewidth\":0,\"ticks\":\"\"}},\"marker\":{\"colorbar\":{\"outlinewidth\":0,\"ticks\":\"\"}},\"type\":\"scatter3d\"}],\"scattercarpet\":[{\"marker\":{\"colorbar\":{\"outlinewidth\":0,\"ticks\":\"\"}},\"type\":\"scattercarpet\"}],\"scattergeo\":[{\"marker\":{\"colorbar\":{\"outlinewidth\":0,\"ticks\":\"\"}},\"type\":\"scattergeo\"}],\"scattergl\":[{\"marker\":{\"colorbar\":{\"outlinewidth\":0,\"ticks\":\"\"}},\"type\":\"scattergl\"}],\"scattermapbox\":[{\"marker\":{\"colorbar\":{\"outlinewidth\":0,\"ticks\":\"\"}},\"type\":\"scattermapbox\"}],\"scatterpolargl\":[{\"marker\":{\"colorbar\":{\"outlinewidth\":0,\"ticks\":\"\"}},\"type\":\"scatterpolargl\"}],\"scatterpolar\":[{\"marker\":{\"colorbar\":{\"outlinewidth\":0,\"ticks\":\"\"}},\"type\":\"scatterpolar\"}],\"scatter\":[{\"fillpattern\":{\"fillmode\":\"overlay\",\"size\":10,\"solidity\":0.2},\"type\":\"scatter\"}],\"scatterternary\":[{\"marker\":{\"colorbar\":{\"outlinewidth\":0,\"ticks\":\"\"}},\"type\":\"scatterternary\"}],\"surface\":[{\"colorbar\":{\"outlinewidth\":0,\"ticks\":\"\"},\"colorscale\":[[0.0,\"#0d0887\"],[0.1111111111111111,\"#46039f\"],[0.2222222222222222,\"#7201a8\"],[0.3333333333333333,\"#9c179e\"],[0.4444444444444444,\"#bd3786\"],[0.5555555555555556,\"#d8576b\"],[0.6666666666666666,\"#ed7953\"],[0.7777777777777778,\"#fb9f3a\"],[0.8888888888888888,\"#fdca26\"],[1.0,\"#f0f921\"]],\"type\":\"surface\"}],\"table\":[{\"cells\":{\"fill\":{\"color\":\"#EBF0F8\"},\"line\":{\"color\":\"white\"}},\"header\":{\"fill\":{\"color\":\"#C8D4E3\"},\"line\":{\"color\":\"white\"}},\"type\":\"table\"}]},\"layout\":{\"annotationdefaults\":{\"arrowcolor\":\"#2a3f5f\",\"arrowhead\":0,\"arrowwidth\":1},\"autotypenumbers\":\"strict\",\"coloraxis\":{\"colorbar\":{\"outlinewidth\":0,\"ticks\":\"\"}},\"colorscale\":{\"diverging\":[[0,\"#8e0152\"],[0.1,\"#c51b7d\"],[0.2,\"#de77ae\"],[0.3,\"#f1b6da\"],[0.4,\"#fde0ef\"],[0.5,\"#f7f7f7\"],[0.6,\"#e6f5d0\"],[0.7,\"#b8e186\"],[0.8,\"#7fbc41\"],[0.9,\"#4d9221\"],[1,\"#276419\"]],\"sequential\":[[0.0,\"#0d0887\"],[0.1111111111111111,\"#46039f\"],[0.2222222222222222,\"#7201a8\"],[0.3333333333333333,\"#9c179e\"],[0.4444444444444444,\"#bd3786\"],[0.5555555555555556,\"#d8576b\"],[0.6666666666666666,\"#ed7953\"],[0.7777777777777778,\"#fb9f3a\"],[0.8888888888888888,\"#fdca26\"],[1.0,\"#f0f921\"]],\"sequentialminus\":[[0.0,\"#0d0887\"],[0.1111111111111111,\"#46039f\"],[0.2222222222222222,\"#7201a8\"],[0.3333333333333333,\"#9c179e\"],[0.4444444444444444,\"#bd3786\"],[0.5555555555555556,\"#d8576b\"],[0.6666666666666666,\"#ed7953\"],[0.7777777777777778,\"#fb9f3a\"],[0.8888888888888888,\"#fdca26\"],[1.0,\"#f0f921\"]]},\"colorway\":[\"#636efa\",\"#EF553B\",\"#00cc96\",\"#ab63fa\",\"#FFA15A\",\"#19d3f3\",\"#FF6692\",\"#B6E880\",\"#FF97FF\",\"#FECB52\"],\"font\":{\"color\":\"#2a3f5f\"},\"geo\":{\"bgcolor\":\"white\",\"lakecolor\":\"white\",\"landcolor\":\"#E5ECF6\",\"showlakes\":true,\"showland\":true,\"subunitcolor\":\"white\"},\"hoverlabel\":{\"align\":\"left\"},\"hovermode\":\"closest\",\"mapbox\":{\"style\":\"light\"},\"paper_bgcolor\":\"white\",\"plot_bgcolor\":\"#E5ECF6\",\"polar\":{\"angularaxis\":{\"gridcolor\":\"white\",\"linecolor\":\"white\",\"ticks\":\"\"},\"bgcolor\":\"#E5ECF6\",\"radialaxis\":{\"gridcolor\":\"white\",\"linecolor\":\"white\",\"ticks\":\"\"}},\"scene\":{\"xaxis\":{\"backgroundcolor\":\"#E5ECF6\",\"gridcolor\":\"white\",\"gridwidth\":2,\"linecolor\":\"white\",\"showbackground\":true,\"ticks\":\"\",\"zerolinecolor\":\"white\"},\"yaxis\":{\"backgroundcolor\":\"#E5ECF6\",\"gridcolor\":\"white\",\"gridwidth\":2,\"linecolor\":\"white\",\"showbackground\":true,\"ticks\":\"\",\"zerolinecolor\":\"white\"},\"zaxis\":{\"backgroundcolor\":\"#E5ECF6\",\"gridcolor\":\"white\",\"gridwidth\":2,\"linecolor\":\"white\",\"showbackground\":true,\"ticks\":\"\",\"zerolinecolor\":\"white\"}},\"shapedefaults\":{\"line\":{\"color\":\"#2a3f5f\"}},\"ternary\":{\"aaxis\":{\"gridcolor\":\"white\",\"linecolor\":\"white\",\"ticks\":\"\"},\"baxis\":{\"gridcolor\":\"white\",\"linecolor\":\"white\",\"ticks\":\"\"},\"bgcolor\":\"#E5ECF6\",\"caxis\":{\"gridcolor\":\"white\",\"linecolor\":\"white\",\"ticks\":\"\"}},\"title\":{\"x\":0.05},\"xaxis\":{\"automargin\":true,\"gridcolor\":\"white\",\"linecolor\":\"white\",\"ticks\":\"\",\"title\":{\"standoff\":15},\"zerolinecolor\":\"white\",\"zerolinewidth\":2},\"yaxis\":{\"automargin\":true,\"gridcolor\":\"white\",\"linecolor\":\"white\",\"ticks\":\"\",\"title\":{\"standoff\":15},\"zerolinecolor\":\"white\",\"zerolinewidth\":2}}},\"title\":{\"text\":\"Distribution of BloodPressure\",\"x\":0.5},\"xaxis\":{\"anchor\":\"y2\",\"domain\":[0.0,1.0],\"zeroline\":false},\"yaxis\":{\"anchor\":\"free\",\"domain\":[0.35,1],\"position\":0.0},\"yaxis2\":{\"anchor\":\"x\",\"domain\":[0,0.25],\"dtick\":1,\"showticklabels\":false}},                        {\"responsive\": true}                    ).then(function(){\n",
              "                            \n",
              "var gd = document.getElementById('81a9cfa0-9286-4687-8215-d345863e4ac5');\n",
              "var x = new MutationObserver(function (mutations, observer) {{\n",
              "        var display = window.getComputedStyle(gd).display;\n",
              "        if (!display || display === 'none') {{\n",
              "            console.log([gd, 'removed!']);\n",
              "            Plotly.purge(gd);\n",
              "            observer.disconnect();\n",
              "        }}\n",
              "}});\n",
              "\n",
              "// Listen for the removal of the full notebook cells\n",
              "var notebookContainer = gd.closest('#notebook-container');\n",
              "if (notebookContainer) {{\n",
              "    x.observe(notebookContainer, {childList: true});\n",
              "}}\n",
              "\n",
              "// Listen for the clearing of the current output cell\n",
              "var outputEl = gd.closest('.output');\n",
              "if (outputEl) {{\n",
              "    x.observe(outputEl, {childList: true});\n",
              "}}\n",
              "\n",
              "                        })                };                            </script>        </div>\n",
              "</body>\n",
              "</html>"
            ]
          },
          "metadata": {}
        }
      ],
      "source": [
        "plot_distribution('BloodPressure', 5)"
      ]
    },
    {
      "cell_type": "code",
      "execution_count": null,
      "metadata": {
        "colab": {
          "base_uri": "https://localhost:8080/"
        },
        "id": "u8UM9G9y1IaV",
        "outputId": "3668871c-4816-455f-ee8e-fd323ed64ba0"
      },
      "outputs": [
        {
          "output_type": "stream",
          "name": "stdout",
          "text": [
            "Median 'BloodPressure' untuk setiap Outcome:\n",
            "Outcome\n",
            "0    70.0\n",
            "1    74.5\n",
            "Name: BloodPressure, dtype: float64\n"
          ]
        }
      ],
      "source": [
        "median_target('BloodPressure')"
      ]
    },
    {
      "cell_type": "code",
      "execution_count": null,
      "metadata": {
        "id": "dQwqAiJb1MLM"
      },
      "outputs": [],
      "source": [
        "df.loc[(df['Outcome'] == 0 ) & (df['BloodPressure'].isnull()), 'BloodPressure'] = 70\n",
        "df.loc[(df['Outcome'] == 1 ) & (df['BloodPressure'].isnull()), 'BloodPressure'] = 74.5"
      ]
    },
    {
      "cell_type": "markdown",
      "metadata": {
        "id": "ovJUfqm01Q8h"
      },
      "source": [
        "### 3.5 BMI\n",
        "**Insight**\n",
        "\n",
        "Pada bagian SkinThickness ini kami mengubah data missing valuenya menjadi median untuk masing-masing outcome. Untuk data yang outcomenya adalah 0, nilai median adalah 30.1 , sedangkan untuk data insulin dengan outcome 1(diabetes), nilai median adalah 34.3"
      ]
    },
    {
      "cell_type": "code",
      "execution_count": null,
      "metadata": {
        "colab": {
          "base_uri": "https://localhost:8080/",
          "height": 542
        },
        "id": "5tdhuV8m1Tcl",
        "outputId": "08aaa9c5-bb53-4511-958e-6d9784be9495"
      },
      "outputs": [
        {
          "output_type": "display_data",
          "data": {
            "text/html": [
              "<html>\n",
              "<head><meta charset=\"utf-8\" /></head>\n",
              "<body>\n",
              "    <div>            <script src=\"https://cdnjs.cloudflare.com/ajax/libs/mathjax/2.7.5/MathJax.js?config=TeX-AMS-MML_SVG\"></script><script type=\"text/javascript\">if (window.MathJax && window.MathJax.Hub && window.MathJax.Hub.Config) {window.MathJax.Hub.Config({SVG: {font: \"STIX-Web\"}});}</script>                <script type=\"text/javascript\">window.PlotlyConfig = {MathJaxConfig: 'local'};</script>\n",
              "        <script charset=\"utf-8\" src=\"https://cdn.plot.ly/plotly-2.35.2.min.js\"></script>                <div id=\"a293a30e-08da-4892-bb6a-12d89794ddbe\" class=\"plotly-graph-div\" style=\"height:525px; width:100%;\"></div>            <script type=\"text/javascript\">                                    window.PLOTLYENV=window.PLOTLYENV || {};                                    if (document.getElementById(\"a293a30e-08da-4892-bb6a-12d89794ddbe\")) {                    Plotly.newPlot(                        \"a293a30e-08da-4892-bb6a-12d89794ddbe\",                        [{\"autobinx\":false,\"histnorm\":\"probability density\",\"legendgroup\":\"Diabetic\",\"marker\":{\"color\":\"#FFD700\"},\"name\":\"Diabetic\",\"opacity\":0.7,\"x\":[33.6,23.3,43.1,31.0,30.5,38.0,30.1,25.8,30.0,45.8,29.6,34.6,39.8,29.0,36.6,31.1,39.4,31.6,32.9,38.2,37.1,45.4,42.0,39.1,33.7,37.7,32.9,32.8,32.5,32.9,43.4,43.2,48.8,37.1,23.8,49.7,39.0,37.4,33.3,34.0,30.5,31.2,34.0,53.2,33.3,55.0,34.5,27.9,29.7,33.3,34.5,32.4,34.3,47.9,50.0,40.9,31.6,29.9,30.8,35.4,32.7,67.1,39.1,35.9,30.1,32.0,27.9,31.6,30.4,52.3,39.4,22.9,34.8,30.9,37.5,37.7,35.5,42.6,34.2,41.8,35.8,29.0,37.8,34.6,31.6,37.2,44.0,46.2,43.6,35.9,44.1,30.8,25.6,27.1,30.0,27.6,33.6,33.3,30.0,32.0,36.3,27.5,45.6,26.5,37.9,30.4,27.0,45.6,36.6,43.3,40.5,28.0,36.6,32.3,31.6,52.9,25.5,30.5,32.9,26.6,35.9,30.5,23.5,31.6,27.4,26.8,35.1,45.5,43.3,31.2,34.2,39.9,41.0,30.4,33.3,39.9,36.5,31.2,38.5,27.6,32.8,38.4,39.2,48.3,32.3,43.3,32.0,45.7,32.9,34.3,34.9,32.0,35.0,32.9,28.9,25.9,42.4,34.6,35.7,38.5,26.4,42.9,37.0,34.1,35.0,42.4,34.3,30.5,29.7,59.4,33.6,28.9,33.6,37.6,30.0,33.7,35.5,44.2,42.3,28.9,25.1,39.0,36.5,29.7,31.6,30.3,34.2,32.9,36.4,39.4,32.4,34.9,34.5,43.6,33.8,41.3,34.3,42.9,34.7,42.1,28.7,34.9,33.3,46.8,34.4,32.0,36.8,35.2,28.4,40.0,32.9,38.2,36.1,28.2,32.4,27.4,31.2,40.9,29.5,23.4,37.8,28.3,38.7,34.2,42.9,37.6,37.9,33.7,32.5,27.5,30.9,24.8,36.0,49.6,32.3,46.1,42.3,38.5,30.4,29.9,27.6,35.0,32.8,38.0,41.2,33.9,33.8,35.6,29.3,28.4,28.4,44.5,39.5,42.3,32.7,49.3,36.4,24.3,31.2,43.3,32.4,36.5,36.3,35.5,44.0,30.1],\"xaxis\":\"x\",\"xbins\":{\"end\":67.1,\"size\":0,\"start\":22.9},\"yaxis\":\"y\",\"type\":\"histogram\"},{\"autobinx\":false,\"histnorm\":\"probability density\",\"legendgroup\":\"Healthy\",\"marker\":{\"color\":\"#7EC0EE\"},\"name\":\"Healthy\",\"opacity\":0.7,\"x\":[26.6,28.1,25.6,35.3,37.6,27.1,43.3,39.3,35.4,23.2,22.2,34.1,36.0,24.8,19.9,27.6,24.0,33.2,34.0,40.2,22.7,27.4,29.7,28.0,19.4,24.2,24.4,34.7,23.0,46.8,40.5,41.5,25.0,25.4,29.0,42.7,19.6,28.9,28.6,35.1,32.0,24.7,32.6,37.7,25.0,22.4,29.3,24.6,32.4,36.6,38.5,26.5,19.1,32.0,46.7,24.7,33.9,31.6,20.4,28.7,26.1,22.5,26.6,39.6,28.7,22.4,29.5,34.3,31.2,34.0,33.7,28.2,23.2,34.2,33.6,26.8,42.9,33.3,38.3,21.1,33.8,30.8,28.7,31.2,36.9,21.1,39.5,32.5,32.8,32.8,30.5,33.7,27.3,37.4,21.9,40.6,24.6,25.2,29.0,29.7,37.2,44.2,29.7,32.5,29.6,31.9,28.4,28.9,43.5,29.7,31.2,45.0,23.2,34.9,27.7,26.8,27.6,22.6,33.1,24.4,24.3,31.0,40.1,27.3,20.4,37.7,23.9,33.2,27.7,42.8,34.2,30.0,25.2,28.8,23.6,34.6,35.7,36.7,45.2,25.4,35.0,29.7,18.4,29.2,33.1,38.2,31.2,52.3,35.4,30.1,31.2,28.0,24.4,35.8,30.1,28.7,25.9,30.9,32.1,32.4,33.6,40.0,25.1,25.2,23.0,33.2,34.2,40.5,27.8,24.9,25.3,35.9,32.4,26.0,38.7,20.8,36.1,36.9,21.9,35.5,30.7,23.6,35.8,21.0,39.7,24.8,26.2,39.4,29.5,34.1,19.3,38.1,27.5,35.7,25.6,35.1,30.8,23.1,32.7,23.6,23.9,47.9,33.8,25.9,25.9,32.0,34.7,36.8,38.5,28.7,23.5,21.8,42.2,31.2,34.4,27.2,42.7,35.3,29.8,39.2,34.9,34.0,21.0,27.5,35.8,34.9,36.2,25.2,37.2,43.4,30.8,20.0,25.4,25.1,24.3,22.3,31.6,32.0,23.7,22.1,27.7,24.7,21.1,24.2,31.6,42.1,21.9,35.7,34.4,42.4,26.2,27.2,18.2,45.3,26.0,40.6,30.8,40.6,22.2,30.4,30.0,25.6,24.5,37.4,29.9,18.2,36.8,32.2,33.2,25.3,36.5,30.5,21.2,39.9,19.6,37.8,26.7,30.2,25.9,20.8,21.8,35.3,27.6,24.0,21.8,27.8,36.8,46.1,41.3,33.2,38.8,29.9,28.9,27.3,23.8,25.9,28.0,35.2,27.8,38.2,40.7,46.5,25.6,26.1,36.8,33.5,32.8,26.6,26.0,30.1,29.3,25.2,37.2,33.3,37.3,33.3,28.6,30.4,25.0,22.1,24.2,27.3,25.6,37.6,32.8,19.6,25.0,33.2,31.6,21.8,18.2,26.3,30.8,24.6,29.8,45.3,41.3,29.8,33.3,29.6,21.7,36.3,39.5,32.0,33.1,32.8,28.5,27.4,31.9,27.8,29.9,36.9,25.5,38.1,27.8,46.2,30.1,37.6,26.9,32.4,26.1,38.6,32.0,31.3,32.5,22.6,29.5,34.7,30.1,35.5,24.0,27.0,25.0,26.5,38.7,22.5,24.3,21.1,39.4,28.5,33.6,45.3,27.8,23.1,27.1,23.7,27.8,35.8,19.5,41.5,24.0,30.9,32.5,25.8,28.7,20.1,38.4,24.2,40.8,43.5,30.8,37.7,24.7,32.4,34.6,24.7,34.5,26.2,27.5,25.9,28.8,31.6,19.5,29.3,34.3,28.0,27.6,39.4,26.4,25.2,33.8,34.1,26.8,34.2,21.8,38.9,39.0,27.7,34.8,34.0,30.9,33.6,25.4,35.5,57.3,35.6,35.3,24.2,24.2,44.6,33.2,23.1,28.3,24.1,24.6,39.1,23.5,25.0,34.5,44.5,35.9,38.5,28.4,39.8,34.4,31.2,29.6,26.4,29.5,23.1,35.5,29.3,38.1,39.1,32.8,39.4,36.1,32.4,22.9,30.1,29.0,23.3,35.4,27.4,32.0,36.6,30.8,28.5,40.6,30.0,46.3,39.0,26.0,32.0,37.5,28.4,22.5,32.9,36.8,26.2,30.4],\"xaxis\":\"x\",\"xbins\":{\"end\":57.3,\"size\":0,\"start\":18.2},\"yaxis\":\"y\",\"type\":\"histogram\"},{\"legendgroup\":\"Diabetic\",\"marker\":{\"color\":\"#FFD700\"},\"mode\":\"lines\",\"name\":\"Diabetic\",\"showlegend\":false,\"x\":[22.9,22.9884,23.0768,23.1652,23.2536,23.342,23.4304,23.5188,23.6072,23.6956,23.784,23.8724,23.9608,24.0492,24.1376,24.226,24.3144,24.4028,24.4912,24.5796,24.668,24.7564,24.8448,24.9332,25.0216,25.11,25.1984,25.2868,25.3752,25.4636,25.552,25.6404,25.7288,25.8172,25.9056,25.994,26.0824,26.1708,26.2592,26.3476,26.436,26.5244,26.6128,26.7012,26.789599999999997,26.878,26.9664,27.054799999999997,27.1432,27.2316,27.32,27.4084,27.496799999999997,27.5852,27.673599999999997,27.761999999999997,27.850399999999997,27.938799999999997,28.0272,28.115599999999997,28.203999999999997,28.292399999999997,28.380799999999997,28.469199999999997,28.557599999999997,28.645999999999997,28.734399999999997,28.822799999999997,28.911199999999997,28.999599999999997,29.087999999999997,29.176399999999997,29.264799999999997,29.353199999999998,29.441599999999998,29.529999999999998,29.618399999999998,29.706799999999998,29.795199999999998,29.883599999999998,29.971999999999998,30.060399999999998,30.148799999999998,30.237199999999998,30.325599999999998,30.413999999999998,30.502399999999998,30.590799999999998,30.679199999999998,30.767599999999998,30.855999999999998,30.944399999999998,31.032799999999998,31.121199999999998,31.209599999999995,31.298,31.3864,31.4748,31.5632,31.651599999999995,31.74,31.8284,31.9168,32.005199999999995,32.093599999999995,32.182,32.270399999999995,32.3588,32.447199999999995,32.535599999999995,32.623999999999995,32.7124,32.800799999999995,32.889199999999995,32.977599999999995,33.065999999999995,33.154399999999995,33.242799999999995,33.331199999999995,33.419599999999996,33.507999999999996,33.596399999999996,33.684799999999996,33.773199999999996,33.861599999999996,33.949999999999996,34.038399999999996,34.126799999999996,34.215199999999996,34.303599999999996,34.391999999999996,34.480399999999996,34.568799999999996,34.657199999999996,34.745599999999996,34.833999999999996,34.922399999999996,35.010799999999996,35.099199999999996,35.187599999999996,35.275999999999996,35.364399999999996,35.452799999999996,35.541199999999996,35.629599999999996,35.717999999999996,35.8064,35.8948,35.9832,36.0716,36.16,36.2484,36.3368,36.4252,36.5136,36.602,36.6904,36.7788,36.8672,36.9556,37.044,37.1324,37.2208,37.3092,37.3976,37.486,37.5744,37.6628,37.7512,37.8396,37.928,38.0164,38.1048,38.1932,38.2816,38.37,38.4584,38.5468,38.6352,38.7236,38.812,38.9004,38.9888,39.0772,39.1656,39.254,39.3424,39.4308,39.5192,39.6076,39.696,39.7844,39.8728,39.96119999999999,40.0496,40.138,40.2264,40.3148,40.4032,40.4916,40.58,40.66839999999999,40.7568,40.84519999999999,40.9336,41.022,41.1104,41.1988,41.2872,41.3756,41.464,41.55239999999999,41.6408,41.72919999999999,41.8176,41.90599999999999,41.9944,42.0828,42.1712,42.25959999999999,42.348,42.43639999999999,42.5248,42.61319999999999,42.7016,42.78999999999999,42.8784,42.9668,43.0552,43.14359999999999,43.232,43.32039999999999,43.4088,43.49719999999999,43.5856,43.67399999999999,43.7624,43.8508,43.9392,44.02759999999999,44.116,44.20439999999999,44.2928,44.38119999999999,44.4696,44.55799999999999,44.6464,44.73479999999999,44.8232,44.91159999999999,45.0,45.08839999999999,45.1768,45.26519999999999,45.3536,45.44199999999999,45.5304,45.61879999999999,45.7072,45.79559999999999,45.88399999999999,45.97239999999999,46.0608,46.14919999999999,46.2376,46.32599999999999,46.4144,46.50279999999999,46.5912,46.67959999999999,46.767999999999994,46.856399999999994,46.9448,47.033199999999994,47.1216,47.209999999999994,47.2984,47.386799999999994,47.4752,47.563599999999994,47.651999999999994,47.740399999999994,47.8288,47.917199999999994,48.0056,48.093999999999994,48.1824,48.270799999999994,48.359199999999994,48.447599999999994,48.535999999999994,48.624399999999994,48.7128,48.801199999999994,48.8896,48.977999999999994,49.0664,49.154799999999994,49.243199999999995,49.331599999999995,49.419999999999995,49.508399999999995,49.596799999999995,49.685199999999995,49.7736,49.861999999999995,49.950399999999995,50.038799999999995,50.127199999999995,50.215599999999995,50.303999999999995,50.392399999999995,50.480799999999995,50.569199999999995,50.6576,50.745999999999995,50.834399999999995,50.922799999999995,51.011199999999995,51.099599999999995,51.187999999999995,51.276399999999995,51.364799999999995,51.453199999999995,51.541599999999995,51.629999999999995,51.718399999999995,51.806799999999996,51.895199999999996,51.983599999999996,52.071999999999996,52.160399999999996,52.248799999999996,52.337199999999996,52.425599999999996,52.513999999999996,52.602399999999996,52.690799999999996,52.779199999999996,52.867599999999996,52.955999999999996,53.044399999999996,53.13279999999999,53.221199999999996,53.309599999999996,53.397999999999996,53.486399999999996,53.574799999999996,53.663199999999996,53.751599999999996,53.839999999999996,53.928399999999996,54.01679999999999,54.105199999999996,54.193599999999996,54.282,54.3704,54.4588,54.5472,54.6356,54.724,54.8124,54.9008,54.9892,55.0776,55.166,55.2544,55.3428,55.4312,55.5196,55.608,55.69639999999999,55.7848,55.8732,55.9616,56.05,56.13839999999999,56.2268,56.3152,56.4036,56.492,56.58039999999999,56.6688,56.7572,56.8456,56.934,57.02239999999999,57.1108,57.1992,57.2876,57.376,57.46439999999999,57.5528,57.6412,57.7296,57.818,57.90639999999999,57.99479999999999,58.0832,58.1716,58.26,58.34839999999999,58.43679999999999,58.5252,58.6136,58.702,58.79039999999999,58.87879999999999,58.9672,59.0556,59.144,59.23239999999999,59.32079999999999,59.4092,59.4976,59.586,59.67439999999999,59.76279999999999,59.8512,59.9396,60.028,60.11639999999999,60.20479999999999,60.2932,60.3816,60.47,60.55839999999999,60.64679999999999,60.7352,60.8236,60.91199999999999,61.00039999999999,61.08879999999999,61.1772,61.2656,61.35399999999999,61.44239999999999,61.53079999999999,61.61919999999999,61.7076,61.79599999999999,61.88439999999999,61.97279999999999,62.06119999999999,62.1496,62.23799999999999,62.32639999999999,62.41479999999999,62.50319999999999,62.5916,62.67999999999999,62.76839999999999,62.85679999999999,62.94519999999999,63.0336,63.12199999999999,63.21039999999999,63.29879999999999,63.38719999999999,63.4756,63.56399999999999,63.65239999999999,63.74079999999999,63.82919999999999,63.9176,64.006,64.0944,64.18279999999999,64.2712,64.3596,64.448,64.53639999999999,64.6248,64.7132,64.80160000000001,64.88999999999999,64.9784,65.0668,65.1552,65.24359999999999,65.332,65.4204,65.5088,65.59719999999999,65.6856,65.774,65.8624,65.95079999999999,66.0392,66.1276,66.216,66.30439999999999,66.3928,66.4812,66.5696,66.65799999999999,66.7464,66.8348,66.9232,67.01159999999999],\"xaxis\":\"x\",\"y\":[0.007849782954921026,0.008151802876176367,0.008460063193251087,0.008774610509285796,0.009095501291332906,0.009422801981579266,0.009756588968950843,0.010096948419486673,0.010443975965769108,0.01079777625759918,0.011158462377978925,0.011526155130273767,0.011900982204146171,0.012283077229447924,0.01267257872870498,0.013069628980098636,0.013474372803923221,0.013886956286359053,0.014307525455031831,0.014736224921223754,0.015173196503751788,0.015618577849436951,0.016072501064758344,0.01653509137272471,0.017006465808223205,0.017486731964130083,0.017975986799321993,0.01847431551842573,0.01898179053172357,0.019498470502117646,0.020024399484480433,0.020559606161116205,0.0211041031754593,0.02165788656457125,0.022220935289504504,0.02279321086119878,0.023374657058298595,0.023965199732145937,0.0245647466932296,0.02517318767258224,0.025790394351008182,0.02641622044861657,0.02705050186691696,0.02769305687570978,0.028343686337159883,0.029002173959770214,0.02966828657544799,0.030341774433472694,0.031022371505890597,0.03170979579966918,0.032403749671807175,0.03310392014448429,0.033809979218231624,0.034521584181970336,0.03523837791958292,0.03595998921342902,0.036686033045863105,0.03741611090035591,0.03814981106423422,0.03888670893533945,0.03962636733505465,0.04036833683016017,0.041112156065864366,0.04185735211211779,0.042603440824975275,0.04334992722434138,0.04409630588893421,0.044842061368759505,0.04558666861482655,0.04632959342528239,0.04707029290662016,0.04780821594815809,0.04854280370760625,0.0492734901052717,0.04999970232429952,0.050720861314346596,0.051436382296220766,0.05214567526531876,0.05284814549214755,0.05354319401881377,0.05423021815111072,0.05490861194669237,0.05557776670079458,0.05623707143200256,0.05688591337165561,0.05752367846158158,0.0581497518659339,0.058763518503927616,0.05936436361119371,0.05995167333826512,0.060524835395328595,0.06108323975279929,0.061626279407464055,0.0621533512238736,0.06266385686032583,0.06315720378815115,0.06363280641209318,0.06409008729835787,0.06452847851540797,0.06494742309080671,0.06534637658539892,0.06572480878388336,0.06608220549841663,0.06641807047933485,0.06673192742443985,0.06702332207560943,0.06729182438882993,0.06753703076114956,0.06775856629558932,0.06795608708276578,0.06812928247594147,0.06827787733447244,0.06840163420921447,0.06850035544242522,0.0685738851540902,0.06862211108644456,0.06864496627876089,0.06864243054526681,0.0686145317303138,0.06856134671666923,0.06848300216499863,0.06837967496524969,0.06825159238368639,0.06809903189272636,0.06792232067445107,0.06772183479262915,0.06749799803226593,0.06725128040999079,0.06698219636295905,0.06669130262829835,0.06637919582940317,0.06604650978950286,0.06569391259682632,0.06532210344930053,0.06493180930997285,0.0645237814072047,0.06409879161606821,0.06365762875926705,0.06320109486725098,0.06273000143796859,0.06224516573690416,0.061747407177639595,0.06123754382219202,0.06071638903880173,0.06018474835270174,0.05964341652272785,0.05909317487344912,0.05853478890887328,0.057969006229749424,0.05739655477211631,0.05681814138009443,0.05623445072105234,0.05564614454628079,0.05505386129523594,0.054458216036360314,0.05385980073251945,0.05325918481428047,0.052656916039684226,0.05205352161488694,0.05144950954613593,0.05084537019006413,0.050241577966281946,0.049638593193768635,0.049036864010654414,0.04843682833566666,0.047838915828823644,0.047243549808892005,0.04665114908570748,0.046062129666668054,0.045476906298545144,0.044895893808190326,0.04431950820872442,0.043748167541322956,0.0431822924267355,0.04262230630512018,0.0420686353475915,0.04152170802800035,0.04098195434881392,0.04044980472047305,0.03992568849919072,0.039410032193741965,0.0389032573573013,0.038405778185726505,0.037917998848790796,0.03744031058565603,0.0369730886002714,0.03651668879633057,0.03607144439483749,0.03563766248018437,0.035215620522870104,0.034805562928555286,0.03440769766402799,0.03402219301081708,0.03364917449663577,0.033288722053562494,0.0329408674498764,0.03260559203979123,0.032282824871997226,0.03197244119397416,0.031674261384522374,0.03138805034194654,0.031113517349871916,0.030850316436861074,0.030598047239908274,0.030356256375602346,0.03012443931636421,0.02990204276276238,0.029688467496595088,0.029483071693278514,0.029285174666199034,0.02909406101014886,0.028908985105855163,0.02872917594300524,0.02855384221512834,0.028382177636278774,0.02821336642672004,0.02804658891277202,0.027881027184682262,0.027715870755823827,0.027550322166717958,0.027383602478310627,0.02721495660058206,0.02704365840490221,0.02686901557152041,0.026690374127140586,0.026507122631622637,0.026318695977396292,0.026124578770104934,0.025924308264223535,0.025717476832847086,0.025503733956428316,0.02528278772087561,0.02505440582102096,0.024818416070951716,0.0245747064279927,0.02432322454215861,0.024063976847602166,0.023797027216913964,0.0235224952030255,0.023240553896904246,0.02295142743216629,0.022655388170160228,0.022352753600977857,0.02204388299723177,0.021729173858307395,0.021409058183173194,0.021083998609736882,0.0207544844582061,0.020421027714976572,0.0200841589922863,0.01974442349726954,0.01940237704218283,0.01905858212549201,0.0187136041112653,0.018368007531946586,0.018022352537145906,0.017677191508605326,0.01733306585903242,0.016990503030058862,0.016650013702220374,0.016312089227577122,0.015977199293428935,0.015645789823532173,0.015318281121308952,0.014995066257749205,0.01467650970505221,0.01436294621551621,0.01405467994377011,0.013751983809125816,0.013455099093612711,0.013164235270113062,0.012879570053947678,0.012601249670239692,0.012329389328412524,0.012064073894234745,0.011805358748913086,0.011553270823842587,0.011307809798754863,0.011068949450158648,0.010836639136151346,0.010610805402896285,0.010391353697328902,0.010178170169977576,0.009971123551186595,0.009770067083516933,0.009574840492700857,0.009385271979247371,0.009201180212662023,0.00902237631026492,0.008848665782786203,0.008679850429291414,0.008515730164557908,0.008356104762785114,0.008200775502482306,0.008049546698531505,0.007902227108767415,0.007758631203933447,0.007618580291555502,0.007481903486095033,0.0073484385196857715,0.007218032389789926,0.007090541842206051,0.006965833689988812,0.006843784970965343,0.006724282948624682,0.006607224963176738,0.00649251814149525,0.0063800789764423445,0.00626983278768908,0.006161713077572046,0.006055660796733855,0.005951623535267107,0.005849554655800679,0.00574941238542139,0.005651158883510009,0.005554759302483606,0.005460180858081923,0.00536739192522324,0.005276361174595858,0.005187056764066107,0.005099445597691667,0.0050134926636574055,0.00492916046082737,0.0048464085218618115,0.004765193039014784,0.004685466596839839,0.0046071780141209995,0.004530272295448665,0.004454690691006446,0.004380370861356121,0.004307247142332833,0.004235250903616326,0.004164310993149548,0.0040943542583518336,0.004025306134035888,0.003957091286096795,0.003889634299404486,0.0038228603979021604,0.0037566961846911503,0.0036910703898626342,0.0036259146140119533,0.003561164055729241,0.0034967582118883484,0.003432641540236854,0.0033687640746070217,0.003305081983998782,0.0032415580678132132,0.003178162180615119,0.003114871580956642,0.003051671199978273,0.0029885538267001356,0.0029255202081051083,0.0028625790632793345,0.002799747011998457,0.0027370484192163385,0.002674515157913439,0.002612186293686633,0.0025501076953008362,0.0024883315761715266,0.002426915972400631,0.0023659241635456893,0.0023054240427625105,0.0022454874433262537,0.0021861894288079903,0.002127607554366787,0.002069821106715475,0.00201291033033799,0.0019569556474820196,0.001902036879329803,0.0018482324755676452,0.0017956187593378221,0.0017442691942705113,0.0016942536799636272,0.0016456378819108167,0.0015984826014760437,0.0015528431910824675,0.0015087690193265383,0.0014663029902494292,0.0014254811204995658,0.0013863321776047674,0.0013488773820432632,0.0013131301752608731,0.0012790960552298942,0.0012467724805856856,0.0012161488438114528,0.0011872065133735133,0.0011599189441404592,0.001134251854853633,0.0011101634708563168,0.0010876048297389445,0.0010665201470215948,0.0010468472384773978,0.0010285179952060379,0.001011458907100483,0.0009955916299171593,0.0009808335907655922,0.000967098626482949,0.0009542976490569893,0.000942339332012351,0.0009311308114841184,0.0009205783955729847,0.0009105882755110902,0.0009010672321691528,0.0008919233315052831,0.0008830666026944386,0.0008744096928843799,0.0008658684927978517,0.0008573627277389364,0.000848816508960639,0.0008401588408061801,0.0008313240795427472,0.0008222523403570796,0.0008128898495701894,0.0008031892397457752,0.0007931097860051538,0.0007826175825119066,0.000771685658742992,0.0007602940358105304,0.0007484297237308798,0.0007360866611460919,0.0007232655995790707,0.0007099739348397983,0.0006962254886888138,0.0006820402442994505,0.0006674440394366848,0.0006524682215838052,0.0006371492694950559,0.0006215283858311408,0.0006056510656441197,0.0005895666455192582,0.0005733278381554049,0.0005569902570751877,0.0005406119360056171,0.0005242528472632773,0.0005079744232219761,0.0004918390846408111,0.0004759097792943503,0.00046024953398128473,0.0004449210226016141,0.0004299861525930216,0.0004155056716126751,0.00040153879594899476,0.00038814286175677424,0.0003753729998351544,0.00036328183431816574,0.00035191920532752084,0.0003413319153520447,0.0003315634988717798,0.0003226540145403897,0.00031463985907929774,0.00030755360192200975,0.0003014238395773662,0.0002962750686551683,0.0002921275765146035,0.00028899734855244416,0.00028689599124024707,0.0002858306701432851,0.00028580406230350645,0.0002868143225387311,0.00028885506339443865,0.0002919153486764415,0.00029597970068597645,0.0003010281214666778,0.00030703612854919994,0.0003139748058377799,0.0003218108704181018,0.0003305067561723317,0.00034002071516063494,0.00035030693776515637,0.0003613156925894718,0.00037299348706201774,0.0003852832496048229,0.0003981245340992101,0.0004114537472088702,0.0004252043989099612,0.0004393073763304475,0.000453691240720868,0.0004682825470705999,0.00048300618555323095,0.0004977857436375437,0.0005125438873439832,0.0005272027597669951,0.0005416843946287474,0.0005559111422868102,0.0005698061052946935,0.0005832935803169628,0.0005962995029366242,0.0006087518916679804,0.0006205812873087953,0.0006317211836363458,0.0006421084453768092,0.0006516837093593973,0.0006603917648079351,0.0006681819088240864,0.000675008273277968,0.0006808301195422321,0.0006856120977825478,0.0006893244678472113,0.0006919432791770297,0.0006934505075782167],\"yaxis\":\"y\",\"type\":\"scatter\"},{\"legendgroup\":\"Healthy\",\"marker\":{\"color\":\"#7EC0EE\"},\"mode\":\"lines\",\"name\":\"Healthy\",\"showlegend\":false,\"x\":[18.2,18.2782,18.3564,18.4346,18.5128,18.590999999999998,18.6692,18.7474,18.825599999999998,18.9038,18.982,19.0602,19.1384,19.2166,19.2948,19.372999999999998,19.4512,19.5294,19.607599999999998,19.6858,19.764,19.8422,19.9204,19.9986,20.0768,20.154999999999998,20.2332,20.3114,20.389599999999998,20.4678,20.546,20.6242,20.702399999999997,20.7806,20.8588,20.936999999999998,21.0152,21.0934,21.171599999999998,21.2498,21.328,21.4062,21.4844,21.5626,21.6408,21.718999999999998,21.7972,21.8754,21.953599999999998,22.031799999999997,22.11,22.1882,22.266399999999997,22.3446,22.4228,22.500999999999998,22.5792,22.6574,22.735599999999998,22.8138,22.892,22.9702,23.0484,23.1266,23.2048,23.282999999999998,23.361199999999997,23.4394,23.517599999999998,23.595799999999997,23.674,23.7522,23.830399999999997,23.9086,23.9868,24.064999999999998,24.1432,24.2214,24.299599999999998,24.3778,24.456,24.5342,24.612399999999997,24.6906,24.7688,24.846999999999998,24.925199999999997,25.0034,25.081599999999998,25.159799999999997,25.238,25.3162,25.394399999999997,25.4726,25.5508,25.628999999999998,25.7072,25.7854,25.863599999999998,25.9418,26.02,26.0982,26.176399999999997,26.254599999999996,26.3328,26.410999999999998,26.489199999999997,26.5674,26.645599999999998,26.723799999999997,26.802,26.8802,26.958399999999997,27.0366,27.1148,27.192999999999998,27.2712,27.349399999999996,27.427599999999998,27.5058,27.583999999999996,27.6622,27.740399999999998,27.818599999999996,27.8968,27.974999999999998,28.053199999999997,28.1314,28.2096,28.287799999999997,28.366,28.4442,28.522399999999998,28.6006,28.6788,28.756999999999998,28.8352,28.913399999999996,28.9916,29.0698,29.147999999999996,29.2262,29.304399999999998,29.382599999999996,29.4608,29.538999999999998,29.617199999999997,29.6954,29.7736,29.851799999999997,29.93,30.0082,30.086399999999998,30.1646,30.242799999999995,30.320999999999998,30.3992,30.477399999999996,30.5556,30.633799999999997,30.711999999999996,30.7902,30.868399999999998,30.946599999999997,31.0248,31.102999999999998,31.181199999999997,31.2594,31.3376,31.415799999999997,31.494,31.5722,31.650399999999998,31.7286,31.806799999999996,31.884999999999998,31.963199999999997,32.041399999999996,32.1196,32.1978,32.275999999999996,32.3542,32.4324,32.5106,32.5888,32.667,32.7452,32.8234,32.9016,32.9798,33.058,33.136199999999995,33.2144,33.2926,33.370799999999996,33.449,33.52719999999999,33.605399999999996,33.6836,33.761799999999994,33.839999999999996,33.9182,33.996399999999994,34.0746,34.1528,34.230999999999995,34.3092,34.3874,34.465599999999995,34.5438,34.622,34.700199999999995,34.7784,34.8566,34.934799999999996,35.01299999999999,35.0912,35.169399999999996,35.2476,35.3258,35.403999999999996,35.48219999999999,35.5604,35.6386,35.71679999999999,35.794999999999995,35.8732,35.95139999999999,36.0296,36.1078,36.18599999999999,36.264199999999995,36.3424,36.42059999999999,36.498799999999996,36.577,36.655199999999994,36.733399999999996,36.8116,36.889799999999994,36.967999999999996,37.0462,37.124399999999994,37.2026,37.2808,37.358999999999995,37.4372,37.5154,37.593599999999995,37.67179999999999,37.75,37.828199999999995,37.9064,37.9846,38.062799999999996,38.14099999999999,38.2192,38.297399999999996,38.3756,38.453799999999994,38.532,38.61019999999999,38.6884,38.7666,38.84479999999999,38.922999999999995,39.0012,39.07939999999999,39.1576,39.2358,39.31399999999999,39.392199999999995,39.4704,39.54859999999999,39.626799999999996,39.705,39.783199999999994,39.861399999999996,39.9396,40.017799999999994,40.096,40.1742,40.252399999999994,40.3306,40.4088,40.486999999999995,40.5652,40.6434,40.721599999999995,40.79979999999999,40.878,40.956199999999995,41.0344,41.11259999999999,41.190799999999996,41.26899999999999,41.3472,41.425399999999996,41.50359999999999,41.581799999999994,41.66,41.73819999999999,41.8164,41.8946,41.97279999999999,42.050999999999995,42.1292,42.20739999999999,42.285599999999995,42.3638,42.44199999999999,42.520199999999996,42.5984,42.67659999999999,42.754799999999996,42.833,42.911199999999994,42.989399999999996,43.0676,43.145799999999994,43.224,43.3022,43.380399999999995,43.45859999999999,43.5368,43.614999999999995,43.6932,43.7714,43.849599999999995,43.92779999999999,44.006,44.084199999999996,44.1624,44.24059999999999,44.318799999999996,44.39699999999999,44.4752,44.553399999999996,44.63159999999999,44.709799999999994,44.788,44.86619999999999,44.9444,45.0226,45.10079999999999,45.178999999999995,45.2572,45.33539999999999,45.413599999999995,45.4918,45.56999999999999,45.648199999999996,45.7264,45.80459999999999,45.882799999999996,45.961,46.039199999999994,46.11739999999999,46.1956,46.273799999999994,46.352,46.4302,46.508399999999995,46.58659999999999,46.6648,46.742999999999995,46.8212,46.89939999999999,46.977599999999995,47.05579999999999,47.134,47.212199999999996,47.29039999999999,47.368599999999994,47.446799999999996,47.52499999999999,47.6032,47.6814,47.75959999999999,47.837799999999994,47.916,47.99419999999999,48.072399999999995,48.1506,48.22879999999999,48.306999999999995,48.3852,48.46339999999999,48.541599999999995,48.6198,48.69799999999999,48.776199999999996,48.8544,48.932599999999994,49.010799999999996,49.089,49.167199999999994,49.24539999999999,49.3236,49.401799999999994,49.48,49.5582,49.636399999999995,49.71459999999999,49.7928,49.870999999999995,49.9492,50.02739999999999,50.105599999999995,50.18379999999999,50.262,50.340199999999996,50.41839999999999,50.4966,50.574799999999996,50.65299999999999,50.7312,50.8094,50.88759999999999,50.9658,51.044,51.12219999999999,51.20039999999999,51.2786,51.35679999999999,51.43499999999999,51.5132,51.59139999999999,51.6696,51.7478,51.82599999999999,51.9042,51.9824,52.060599999999994,52.13879999999999,52.217,52.295199999999994,52.37339999999999,52.4516,52.529799999999994,52.60799999999999,52.6862,52.764399999999995,52.842600000000004,52.9208,52.998999999999995,53.07719999999999,53.1554,53.233599999999996,53.31179999999999,53.389999999999986,53.468199999999996,53.54639999999999,53.62459999999999,53.702799999999996,53.78099999999999,53.8592,53.9374,54.01559999999999,54.0938,54.172,54.25019999999999,54.32839999999999,54.4066,54.48479999999999,54.56299999999999,54.6412,54.71939999999999,54.79759999999999,54.8758,54.95399999999999,55.0322,55.1104,55.188599999999994,55.26679999999999,55.345,55.423199999999994,55.50139999999999,55.579599999999985,55.657799999999995,55.73599999999999,55.8142,55.892399999999995,55.97059999999999,56.0488,56.126999999999995,56.20519999999999,56.2834,56.361599999999996,56.43979999999999,56.51799999999999,56.596199999999996,56.67439999999999,56.75259999999999,56.830799999999996,56.90899999999999,56.9872,57.0654,57.14359999999999,57.2218],\"xaxis\":\"x\",\"y\":[0.008435199280524053,0.00877575390135201,0.009123182847838751,0.009477403301656976,0.009838334379785724,0.010205897955826885,0.010580019419618338,0.01096062836581084,0.01134765920277828,0.011741051674021378,0.012140751285102976,0.012546709630094037,0.012958884612507859,0.013377240556736876,0.013801748207066073,0.014232384612407958,0.014669132895969572,0.015111981910109032,0.015560925777657402,0.0160159633219559,0.016477097388785545,0.016944334064233863,0.01741768179334583,0.01789715040514588,0.01838275005028455,0.01887449005816553,0.019372377720942236,0.01987641701224773,0.020386607248937812,0.020902941704493475,0.021425406183054392,0.021953977563344485,0.022488622322014592,0.023029295046171013,0.02357593694509276,0.024128474371366816,0.024686817361897064,0.025250858209468378,0.025820470075778406,0.02639550565707775,0.026975795913786505,0.027561148875670446,0.028151348534357818,0.028746153835145193,0.02934529778016365,0.029948486655041955,0.030555399391191295,0.031165687075733497,0.031778972620875805,0.03239485060419123,0.03301288729076621,0.03363262084752065,0.03425356175916645,0.034875193454240054,0.03549697314841982,0.03611833291090186,0.03673868095797139,0.037357403176063744,0.037973864874578746,0.038587412766494696,0.039197377172457706,0.03980307444151245,0.04040380957902423,0.04099887906965226,0.04158757388051321,0.04216918262695559,0.04274299488069979,0.043308304597534236,0.04386441363933308,0.04441063536293653,0.04494629824644549,0.04547074952178427,0.04598335878101024,0.046483521522846426,0.04697066260530702,0.04744423957011095,0.04790374580484781,0.048348713509601855,0.04877871643594172,0.04919337236785619,0.04959234531634981,0.04997534740197829,0.05034214040258347,0.05069253694684755,0.05102640133797304,0.05134364999577784,0.051644251509695815,0.051928226299559115,0.05219564588551922,0.052446631772993656,0.052681353963026,0.05290002910285021,0.053102918295696425,0.05329032459289113,0.05346259019503188,0.053620093392403825,0.05376324527779217,0.05389248626739084,0.054008282467583206,0.054111121926929934,0.054201510813741485,0.05427996956010328,0.05434702901318661,0.05440322663408495,0.05444910278332034,0.05448519713054805,0.05451204522391642,0.05453017525201785,0.05454010502846262,0.05454233922584839,0.05453736688235422,0.054525659200393095,0.05450766765279126,0.05448382240786079,0.05445453108057379,0.0544201778128713,0.054381122682018106,0.05433770143188707,0.054290225518184416,0.05423898245494676,0.05418423644620427,0.05412622928353371,0.05406518148737433,0.05400129366745166,0.053934748075491,0.05386571032160508,0.053794331224331325,0.05372074876327383,0.053645090102673695,0.05356747365399244,0.053488011145734524,0.05340680966924447,0.0533239736700845,0.053239606855806004,0.053153813992454356,0.05306670256397015,0.05297838427074886,0.05288897634595869,0.05279860267078359,0.0527073946724998,0.052615491992210744,0.05252304291209543,0.05243020453515807,0.052337142713661064,0.05224403172564685,0.05215105370217291,0.052058397811067116,0.051966259206125916,0.051874837753681624,0.05178433655134512,0.051694960256432256,0.05160691324409352,0.051520397617451315,0.05143561109407857,0.05135274479490314,0.051271980963082185,0.05119349064151483,0.05111743133847199,0.05104394471126042,0.05097315429794802,0.050905163326899136,0.05084005263325532,0.05077787871051086,0.0507186719240112,0.05066243491154182,0.050609141194209485,0.05055873401855518,0.05051112544831303,0.05046619572148271,0.05042379288541781,0.050383732719533066,0.050345798951989554,0.05030974377341323,0.050275288647346504,0.050242125413797946,0.05020991767895727,0.050178302480948664,0.05014689221842163,0.05011527682588713,0.050083026177010055,0.050049692694616656,0.0500148141439882,0.049977916584109314,0.049938517449952514,0.0498961287376091,0.04985026026314551,0.04980042296546344,0.049746132223181624,0.049686911155630356,0.049622293878441526,0.04955182868492095,0.04947508112538398,0.04939163695790191,0.04930110494542062,0.04920311947594784,0.049097342984439414,0.048983468157107905,0.048861219901118955,0.04873035706497431,0.04859067389731132,0.048442001234315975,0.04828420740844283,0.048117198873635914,0.0479409205447048,0.04775535585094273,0.047560526506421744,0.047356492001676846,0.047143348823661606,0.046921229412921574,0.04669030086886788,0.046450763415843574,0.046202848644342986,0.04594681754327124,0.045682958340509276,0.04541158417027842,0.04513303058687684,0.044847652945284575,0.04455582366990725,0.044257929433348143,0.043954368267570404,0.04364554663012509,0.04333187644829299,0.04301377216400489,0.042691647802275905,0.042365914085612605,0.04203697561642742,0.04170522814892631,0.04137105597122065,0.04103482941756031,0.04069690252958614,0.040357610884368976,0.04001726960573317,0.03967617157396735,0.039334585847505515,0.03899275630852535,0.038650900542667614,0.038309208961236525,0.037967844172311846,0.03762694060519791,0.03728660439056654,0.03694691349653796,0.036607918118801916,0.03626964132072153,0.03593207991721577,0.03559520559409006,0.03525896625240494,0.03492328756546049,0.03458807473404432,0.034253214423772584,0.03391857686665551,0.03358401810747409,0.03324938237416623,0.032914504550218784,0.032579212726055844,0.03224333080561683,0.0319066811437433,0.03156908718965554,0.031230376111694342,0.030890381378647205,0.030548945273367746,0.030205921315026907,0.029861176567212287,0.029514593810199666,0.029166073557055385,0.028815535894775063,0.028462922133410763,0.028108196248061323,0.02775134610068702,0.027392384430930495,0.027031349607464006,0.02666830613380168,0.026303344905002145,0.025936583214197364,0.02556816451040309,0.025198257911550795,0.024827057479120795,0.024454781263097913,0.02408167012820957,0.02370798637450364,0.02333401216725159,0.02296004779291173,0.02258640975942437,0.02221342876042378,0.02184144752402854,0.021470818567696556,0.021101901881196115,0.020735062560051695,0.020370668411863226,0.020009087557681063,0.019650686050149836,0.019295825529420177,0.018944860936890694,0.018598138305687097,0.01825599264544763,0.017918745937468762,0.017586705254615146,0.017260161018620986,0.016939385405555164,0.016624630908295808,0.016316129062912285,0.01601408934389665,0.015718698231258335,0.015430118450623207,0.0151484883856845,0.01487392166065813,0.014606506888832794,0.014346307581877328,0.014093362213303833,0.013847684428388284,0.01360926339193428,0.013378064264531607,0.013154028797413708,0.012937076035653793,0.012727103119250934,0.012523986171640219,0.01232758126529857,0.012137725454400077,0.01195423786488093,0.011776920832790612,0.011605561082406568,0.011439930936261085,0.01127978954994276,0.01112488416527491,0.010974951376215649,0.010829718402551036,0.010688904367145001,0.010552221573148097,0.01041937677814471,0.010290072462711174,0.010164008091268634,0.010040881363426906,0.009920389454233014,0.009802230241852993,0.009686103521236673,0.009571712202239476,0.009458763490517096,0.009346970049271706,0.009236051139628202,0.009125733737065227,0.009015753620936416,0.008905856433704321,0.008795798706092654,0.00868534884395382,0.008574288072269343,0.008462411331359387,0.008349528120096242,0.008235463280700715,0.008120057719567074,0.008003169058517674,0.007884672210941376,0.007764459877424223,0.007642442955741207,0.007518550860442438,0.007392731747735123,0.007264952641928787,0.007135199460370244,0.007003476934535562,0.006869808425760819,0.00673423563496804,0.006596818206663823,0.006457633228442498,0.006316774628196574,0.006174352472209498,0.0060304921682649325,0.005885333578834729,0.005739030050293183,0.00559174736492979,0.005443662623288931,0.005294963065035144,0.005145844837122745,0.004996511718525346,0.004847173811152475,0.004698046206837493,0.004549347640426474,0.004401299139026253,0.004254122677385217,0.004108039849186806,0.003963270563735371,0.003820031777115543,0.003678536266418424,0.0035389914550565224,0.0034015982965488103,0.0032665502234560705,0.003134032167396587,0.003004219655286447,0.0028772779861374652,0.0027533614919227406,0.0026326128851946315,0.0025151626953248247,0.0024011287944410084,0.0022906160133680546,0.0021837158471526242,0.002080506249065643,0.001981051511342698,0.00188540223034304,0.0017935953532875288,0.0017056543032751166,0.0016215891788793205,0.0015413970242889807,0.0014650621656803924,0.0013925566092889358,0.001323840496484701,0.0012588626110429835,0.0011975609337349982,0.0011398632393401587,0.0010856877311940347,0.0010349437084315033,0.0009875322611562173,0.0009433469888609053,0.0009022747375337812,0.000864196351008938,0.0008289874322506218,0.0007965191103977215,0.0007666588095340834,0.0007392710152892868,0.000714218035511936,0.0006913607513926263,0.0006705593555455273,0.0006516740736865505,0.0006345658666730597,0.0006190971097958447,0.0006051322463401653,0.0005925384125612753,0.0005811860313521669,0.0005709493720200998,0.0005617070737354463,0.0005533426303737271,0.0005457448346410876,0.0005388081795566282,0.0005324332155631793,0.0005265268617521291,0.0005210026699185073,0.0005157810404094062,0.0005107893889919499,0.0005059622642451979,0.0005012414152723669,0.0004965758098337946,0.0004919216033147929,0.00048724205926347936,0.0004825074225588037,0.0004776947465951277,0.00047278767619355076,0.0004677761882680491,0.0004626562925829112,0.0004574296952333928,0.00045210342776026127,0.00044668944506793043,0.00044120419555176835,0.0004356681670501651,0.0004301054124185068,0.0004245430586730037,0.0004190108037705817,0.0004135404051752988,0.00040816516441090475,0.0004029194118126557,0.0003978379956690417,0.00039295577988583734,0.00038830715421151997,0.0003839255609353096,0.000379843041808329,0.00037608980874602585,0.00037269384164795625,0.0003696805164212943,0.00036707226601929185,0.0003648882770077657,0.00036314422385417373,0.0003618520427976292,0.0003610197468071156,0.0003606512827721326,0.0003607464316979659,0.000361300752299761,0.000362305568008673,0.0003637479970226297,0.0003656110246568124,0.0003678736168779483,0.0003705108735450353,0.0003734942195302895,0.0003767916315610035,0.000380367898308636,0.0003841849109588127,0.000388201981227825,0.00039237618355048617,0.0003966627179533205,0.00040101528994858886,0.00040538650364059726,0.0004097282641281587,0.0004139921852175384,0.00041812999842994115,0.00042209395929758653,0.0004258372469930734,0.0004293143534280621,0.00043248145808894473,0.0004352967850480969,0.00043772093879810035,0.0004397172158010169,0.00044125188892292955,0.0004422944622325444,0.00044281789397828335,0.0004427987859170998,0.0004422175375459878],\"yaxis\":\"y\",\"type\":\"scatter\"},{\"legendgroup\":\"Diabetic\",\"marker\":{\"color\":\"#FFD700\",\"symbol\":\"line-ns-open\"},\"mode\":\"markers\",\"name\":\"Diabetic\",\"showlegend\":false,\"x\":[33.6,23.3,43.1,31.0,30.5,38.0,30.1,25.8,30.0,45.8,29.6,34.6,39.8,29.0,36.6,31.1,39.4,31.6,32.9,38.2,37.1,45.4,42.0,39.1,33.7,37.7,32.9,32.8,32.5,32.9,43.4,43.2,48.8,37.1,23.8,49.7,39.0,37.4,33.3,34.0,30.5,31.2,34.0,53.2,33.3,55.0,34.5,27.9,29.7,33.3,34.5,32.4,34.3,47.9,50.0,40.9,31.6,29.9,30.8,35.4,32.7,67.1,39.1,35.9,30.1,32.0,27.9,31.6,30.4,52.3,39.4,22.9,34.8,30.9,37.5,37.7,35.5,42.6,34.2,41.8,35.8,29.0,37.8,34.6,31.6,37.2,44.0,46.2,43.6,35.9,44.1,30.8,25.6,27.1,30.0,27.6,33.6,33.3,30.0,32.0,36.3,27.5,45.6,26.5,37.9,30.4,27.0,45.6,36.6,43.3,40.5,28.0,36.6,32.3,31.6,52.9,25.5,30.5,32.9,26.6,35.9,30.5,23.5,31.6,27.4,26.8,35.1,45.5,43.3,31.2,34.2,39.9,41.0,30.4,33.3,39.9,36.5,31.2,38.5,27.6,32.8,38.4,39.2,48.3,32.3,43.3,32.0,45.7,32.9,34.3,34.9,32.0,35.0,32.9,28.9,25.9,42.4,34.6,35.7,38.5,26.4,42.9,37.0,34.1,35.0,42.4,34.3,30.5,29.7,59.4,33.6,28.9,33.6,37.6,30.0,33.7,35.5,44.2,42.3,28.9,25.1,39.0,36.5,29.7,31.6,30.3,34.2,32.9,36.4,39.4,32.4,34.9,34.5,43.6,33.8,41.3,34.3,42.9,34.7,42.1,28.7,34.9,33.3,46.8,34.4,32.0,36.8,35.2,28.4,40.0,32.9,38.2,36.1,28.2,32.4,27.4,31.2,40.9,29.5,23.4,37.8,28.3,38.7,34.2,42.9,37.6,37.9,33.7,32.5,27.5,30.9,24.8,36.0,49.6,32.3,46.1,42.3,38.5,30.4,29.9,27.6,35.0,32.8,38.0,41.2,33.9,33.8,35.6,29.3,28.4,28.4,44.5,39.5,42.3,32.7,49.3,36.4,24.3,31.2,43.3,32.4,36.5,36.3,35.5,44.0,30.1],\"xaxis\":\"x\",\"y\":[\"Diabetic\",\"Diabetic\",\"Diabetic\",\"Diabetic\",\"Diabetic\",\"Diabetic\",\"Diabetic\",\"Diabetic\",\"Diabetic\",\"Diabetic\",\"Diabetic\",\"Diabetic\",\"Diabetic\",\"Diabetic\",\"Diabetic\",\"Diabetic\",\"Diabetic\",\"Diabetic\",\"Diabetic\",\"Diabetic\",\"Diabetic\",\"Diabetic\",\"Diabetic\",\"Diabetic\",\"Diabetic\",\"Diabetic\",\"Diabetic\",\"Diabetic\",\"Diabetic\",\"Diabetic\",\"Diabetic\",\"Diabetic\",\"Diabetic\",\"Diabetic\",\"Diabetic\",\"Diabetic\",\"Diabetic\",\"Diabetic\",\"Diabetic\",\"Diabetic\",\"Diabetic\",\"Diabetic\",\"Diabetic\",\"Diabetic\",\"Diabetic\",\"Diabetic\",\"Diabetic\",\"Diabetic\",\"Diabetic\",\"Diabetic\",\"Diabetic\",\"Diabetic\",\"Diabetic\",\"Diabetic\",\"Diabetic\",\"Diabetic\",\"Diabetic\",\"Diabetic\",\"Diabetic\",\"Diabetic\",\"Diabetic\",\"Diabetic\",\"Diabetic\",\"Diabetic\",\"Diabetic\",\"Diabetic\",\"Diabetic\",\"Diabetic\",\"Diabetic\",\"Diabetic\",\"Diabetic\",\"Diabetic\",\"Diabetic\",\"Diabetic\",\"Diabetic\",\"Diabetic\",\"Diabetic\",\"Diabetic\",\"Diabetic\",\"Diabetic\",\"Diabetic\",\"Diabetic\",\"Diabetic\",\"Diabetic\",\"Diabetic\",\"Diabetic\",\"Diabetic\",\"Diabetic\",\"Diabetic\",\"Diabetic\",\"Diabetic\",\"Diabetic\",\"Diabetic\",\"Diabetic\",\"Diabetic\",\"Diabetic\",\"Diabetic\",\"Diabetic\",\"Diabetic\",\"Diabetic\",\"Diabetic\",\"Diabetic\",\"Diabetic\",\"Diabetic\",\"Diabetic\",\"Diabetic\",\"Diabetic\",\"Diabetic\",\"Diabetic\",\"Diabetic\",\"Diabetic\",\"Diabetic\",\"Diabetic\",\"Diabetic\",\"Diabetic\",\"Diabetic\",\"Diabetic\",\"Diabetic\",\"Diabetic\",\"Diabetic\",\"Diabetic\",\"Diabetic\",\"Diabetic\",\"Diabetic\",\"Diabetic\",\"Diabetic\",\"Diabetic\",\"Diabetic\",\"Diabetic\",\"Diabetic\",\"Diabetic\",\"Diabetic\",\"Diabetic\",\"Diabetic\",\"Diabetic\",\"Diabetic\",\"Diabetic\",\"Diabetic\",\"Diabetic\",\"Diabetic\",\"Diabetic\",\"Diabetic\",\"Diabetic\",\"Diabetic\",\"Diabetic\",\"Diabetic\",\"Diabetic\",\"Diabetic\",\"Diabetic\",\"Diabetic\",\"Diabetic\",\"Diabetic\",\"Diabetic\",\"Diabetic\",\"Diabetic\",\"Diabetic\",\"Diabetic\",\"Diabetic\",\"Diabetic\",\"Diabetic\",\"Diabetic\",\"Diabetic\",\"Diabetic\",\"Diabetic\",\"Diabetic\",\"Diabetic\",\"Diabetic\",\"Diabetic\",\"Diabetic\",\"Diabetic\",\"Diabetic\",\"Diabetic\",\"Diabetic\",\"Diabetic\",\"Diabetic\",\"Diabetic\",\"Diabetic\",\"Diabetic\",\"Diabetic\",\"Diabetic\",\"Diabetic\",\"Diabetic\",\"Diabetic\",\"Diabetic\",\"Diabetic\",\"Diabetic\",\"Diabetic\",\"Diabetic\",\"Diabetic\",\"Diabetic\",\"Diabetic\",\"Diabetic\",\"Diabetic\",\"Diabetic\",\"Diabetic\",\"Diabetic\",\"Diabetic\",\"Diabetic\",\"Diabetic\",\"Diabetic\",\"Diabetic\",\"Diabetic\",\"Diabetic\",\"Diabetic\",\"Diabetic\",\"Diabetic\",\"Diabetic\",\"Diabetic\",\"Diabetic\",\"Diabetic\",\"Diabetic\",\"Diabetic\",\"Diabetic\",\"Diabetic\",\"Diabetic\",\"Diabetic\",\"Diabetic\",\"Diabetic\",\"Diabetic\",\"Diabetic\",\"Diabetic\",\"Diabetic\",\"Diabetic\",\"Diabetic\",\"Diabetic\",\"Diabetic\",\"Diabetic\",\"Diabetic\",\"Diabetic\",\"Diabetic\",\"Diabetic\",\"Diabetic\",\"Diabetic\",\"Diabetic\",\"Diabetic\",\"Diabetic\",\"Diabetic\",\"Diabetic\",\"Diabetic\",\"Diabetic\",\"Diabetic\",\"Diabetic\",\"Diabetic\",\"Diabetic\",\"Diabetic\",\"Diabetic\",\"Diabetic\",\"Diabetic\",\"Diabetic\",\"Diabetic\",\"Diabetic\",\"Diabetic\",\"Diabetic\",\"Diabetic\",\"Diabetic\",\"Diabetic\",\"Diabetic\",\"Diabetic\",\"Diabetic\",\"Diabetic\",\"Diabetic\",\"Diabetic\",\"Diabetic\",\"Diabetic\",\"Diabetic\",\"Diabetic\"],\"yaxis\":\"y2\",\"type\":\"scatter\"},{\"legendgroup\":\"Healthy\",\"marker\":{\"color\":\"#7EC0EE\",\"symbol\":\"line-ns-open\"},\"mode\":\"markers\",\"name\":\"Healthy\",\"showlegend\":false,\"x\":[26.6,28.1,25.6,35.3,37.6,27.1,43.3,39.3,35.4,23.2,22.2,34.1,36.0,24.8,19.9,27.6,24.0,33.2,34.0,40.2,22.7,27.4,29.7,28.0,19.4,24.2,24.4,34.7,23.0,46.8,40.5,41.5,25.0,25.4,29.0,42.7,19.6,28.9,28.6,35.1,32.0,24.7,32.6,37.7,25.0,22.4,29.3,24.6,32.4,36.6,38.5,26.5,19.1,32.0,46.7,24.7,33.9,31.6,20.4,28.7,26.1,22.5,26.6,39.6,28.7,22.4,29.5,34.3,31.2,34.0,33.7,28.2,23.2,34.2,33.6,26.8,42.9,33.3,38.3,21.1,33.8,30.8,28.7,31.2,36.9,21.1,39.5,32.5,32.8,32.8,30.5,33.7,27.3,37.4,21.9,40.6,24.6,25.2,29.0,29.7,37.2,44.2,29.7,32.5,29.6,31.9,28.4,28.9,43.5,29.7,31.2,45.0,23.2,34.9,27.7,26.8,27.6,22.6,33.1,24.4,24.3,31.0,40.1,27.3,20.4,37.7,23.9,33.2,27.7,42.8,34.2,30.0,25.2,28.8,23.6,34.6,35.7,36.7,45.2,25.4,35.0,29.7,18.4,29.2,33.1,38.2,31.2,52.3,35.4,30.1,31.2,28.0,24.4,35.8,30.1,28.7,25.9,30.9,32.1,32.4,33.6,40.0,25.1,25.2,23.0,33.2,34.2,40.5,27.8,24.9,25.3,35.9,32.4,26.0,38.7,20.8,36.1,36.9,21.9,35.5,30.7,23.6,35.8,21.0,39.7,24.8,26.2,39.4,29.5,34.1,19.3,38.1,27.5,35.7,25.6,35.1,30.8,23.1,32.7,23.6,23.9,47.9,33.8,25.9,25.9,32.0,34.7,36.8,38.5,28.7,23.5,21.8,42.2,31.2,34.4,27.2,42.7,35.3,29.8,39.2,34.9,34.0,21.0,27.5,35.8,34.9,36.2,25.2,37.2,43.4,30.8,20.0,25.4,25.1,24.3,22.3,31.6,32.0,23.7,22.1,27.7,24.7,21.1,24.2,31.6,42.1,21.9,35.7,34.4,42.4,26.2,27.2,18.2,45.3,26.0,40.6,30.8,40.6,22.2,30.4,30.0,25.6,24.5,37.4,29.9,18.2,36.8,32.2,33.2,25.3,36.5,30.5,21.2,39.9,19.6,37.8,26.7,30.2,25.9,20.8,21.8,35.3,27.6,24.0,21.8,27.8,36.8,46.1,41.3,33.2,38.8,29.9,28.9,27.3,23.8,25.9,28.0,35.2,27.8,38.2,40.7,46.5,25.6,26.1,36.8,33.5,32.8,26.6,26.0,30.1,29.3,25.2,37.2,33.3,37.3,33.3,28.6,30.4,25.0,22.1,24.2,27.3,25.6,37.6,32.8,19.6,25.0,33.2,31.6,21.8,18.2,26.3,30.8,24.6,29.8,45.3,41.3,29.8,33.3,29.6,21.7,36.3,39.5,32.0,33.1,32.8,28.5,27.4,31.9,27.8,29.9,36.9,25.5,38.1,27.8,46.2,30.1,37.6,26.9,32.4,26.1,38.6,32.0,31.3,32.5,22.6,29.5,34.7,30.1,35.5,24.0,27.0,25.0,26.5,38.7,22.5,24.3,21.1,39.4,28.5,33.6,45.3,27.8,23.1,27.1,23.7,27.8,35.8,19.5,41.5,24.0,30.9,32.5,25.8,28.7,20.1,38.4,24.2,40.8,43.5,30.8,37.7,24.7,32.4,34.6,24.7,34.5,26.2,27.5,25.9,28.8,31.6,19.5,29.3,34.3,28.0,27.6,39.4,26.4,25.2,33.8,34.1,26.8,34.2,21.8,38.9,39.0,27.7,34.8,34.0,30.9,33.6,25.4,35.5,57.3,35.6,35.3,24.2,24.2,44.6,33.2,23.1,28.3,24.1,24.6,39.1,23.5,25.0,34.5,44.5,35.9,38.5,28.4,39.8,34.4,31.2,29.6,26.4,29.5,23.1,35.5,29.3,38.1,39.1,32.8,39.4,36.1,32.4,22.9,30.1,29.0,23.3,35.4,27.4,32.0,36.6,30.8,28.5,40.6,30.0,46.3,39.0,26.0,32.0,37.5,28.4,22.5,32.9,36.8,26.2,30.4],\"xaxis\":\"x\",\"y\":[\"Healthy\",\"Healthy\",\"Healthy\",\"Healthy\",\"Healthy\",\"Healthy\",\"Healthy\",\"Healthy\",\"Healthy\",\"Healthy\",\"Healthy\",\"Healthy\",\"Healthy\",\"Healthy\",\"Healthy\",\"Healthy\",\"Healthy\",\"Healthy\",\"Healthy\",\"Healthy\",\"Healthy\",\"Healthy\",\"Healthy\",\"Healthy\",\"Healthy\",\"Healthy\",\"Healthy\",\"Healthy\",\"Healthy\",\"Healthy\",\"Healthy\",\"Healthy\",\"Healthy\",\"Healthy\",\"Healthy\",\"Healthy\",\"Healthy\",\"Healthy\",\"Healthy\",\"Healthy\",\"Healthy\",\"Healthy\",\"Healthy\",\"Healthy\",\"Healthy\",\"Healthy\",\"Healthy\",\"Healthy\",\"Healthy\",\"Healthy\",\"Healthy\",\"Healthy\",\"Healthy\",\"Healthy\",\"Healthy\",\"Healthy\",\"Healthy\",\"Healthy\",\"Healthy\",\"Healthy\",\"Healthy\",\"Healthy\",\"Healthy\",\"Healthy\",\"Healthy\",\"Healthy\",\"Healthy\",\"Healthy\",\"Healthy\",\"Healthy\",\"Healthy\",\"Healthy\",\"Healthy\",\"Healthy\",\"Healthy\",\"Healthy\",\"Healthy\",\"Healthy\",\"Healthy\",\"Healthy\",\"Healthy\",\"Healthy\",\"Healthy\",\"Healthy\",\"Healthy\",\"Healthy\",\"Healthy\",\"Healthy\",\"Healthy\",\"Healthy\",\"Healthy\",\"Healthy\",\"Healthy\",\"Healthy\",\"Healthy\",\"Healthy\",\"Healthy\",\"Healthy\",\"Healthy\",\"Healthy\",\"Healthy\",\"Healthy\",\"Healthy\",\"Healthy\",\"Healthy\",\"Healthy\",\"Healthy\",\"Healthy\",\"Healthy\",\"Healthy\",\"Healthy\",\"Healthy\",\"Healthy\",\"Healthy\",\"Healthy\",\"Healthy\",\"Healthy\",\"Healthy\",\"Healthy\",\"Healthy\",\"Healthy\",\"Healthy\",\"Healthy\",\"Healthy\",\"Healthy\",\"Healthy\",\"Healthy\",\"Healthy\",\"Healthy\",\"Healthy\",\"Healthy\",\"Healthy\",\"Healthy\",\"Healthy\",\"Healthy\",\"Healthy\",\"Healthy\",\"Healthy\",\"Healthy\",\"Healthy\",\"Healthy\",\"Healthy\",\"Healthy\",\"Healthy\",\"Healthy\",\"Healthy\",\"Healthy\",\"Healthy\",\"Healthy\",\"Healthy\",\"Healthy\",\"Healthy\",\"Healthy\",\"Healthy\",\"Healthy\",\"Healthy\",\"Healthy\",\"Healthy\",\"Healthy\",\"Healthy\",\"Healthy\",\"Healthy\",\"Healthy\",\"Healthy\",\"Healthy\",\"Healthy\",\"Healthy\",\"Healthy\",\"Healthy\",\"Healthy\",\"Healthy\",\"Healthy\",\"Healthy\",\"Healthy\",\"Healthy\",\"Healthy\",\"Healthy\",\"Healthy\",\"Healthy\",\"Healthy\",\"Healthy\",\"Healthy\",\"Healthy\",\"Healthy\",\"Healthy\",\"Healthy\",\"Healthy\",\"Healthy\",\"Healthy\",\"Healthy\",\"Healthy\",\"Healthy\",\"Healthy\",\"Healthy\",\"Healthy\",\"Healthy\",\"Healthy\",\"Healthy\",\"Healthy\",\"Healthy\",\"Healthy\",\"Healthy\",\"Healthy\",\"Healthy\",\"Healthy\",\"Healthy\",\"Healthy\",\"Healthy\",\"Healthy\",\"Healthy\",\"Healthy\",\"Healthy\",\"Healthy\",\"Healthy\",\"Healthy\",\"Healthy\",\"Healthy\",\"Healthy\",\"Healthy\",\"Healthy\",\"Healthy\",\"Healthy\",\"Healthy\",\"Healthy\",\"Healthy\",\"Healthy\",\"Healthy\",\"Healthy\",\"Healthy\",\"Healthy\",\"Healthy\",\"Healthy\",\"Healthy\",\"Healthy\",\"Healthy\",\"Healthy\",\"Healthy\",\"Healthy\",\"Healthy\",\"Healthy\",\"Healthy\",\"Healthy\",\"Healthy\",\"Healthy\",\"Healthy\",\"Healthy\",\"Healthy\",\"Healthy\",\"Healthy\",\"Healthy\",\"Healthy\",\"Healthy\",\"Healthy\",\"Healthy\",\"Healthy\",\"Healthy\",\"Healthy\",\"Healthy\",\"Healthy\",\"Healthy\",\"Healthy\",\"Healthy\",\"Healthy\",\"Healthy\",\"Healthy\",\"Healthy\",\"Healthy\",\"Healthy\",\"Healthy\",\"Healthy\",\"Healthy\",\"Healthy\",\"Healthy\",\"Healthy\",\"Healthy\",\"Healthy\",\"Healthy\",\"Healthy\",\"Healthy\",\"Healthy\",\"Healthy\",\"Healthy\",\"Healthy\",\"Healthy\",\"Healthy\",\"Healthy\",\"Healthy\",\"Healthy\",\"Healthy\",\"Healthy\",\"Healthy\",\"Healthy\",\"Healthy\",\"Healthy\",\"Healthy\",\"Healthy\",\"Healthy\",\"Healthy\",\"Healthy\",\"Healthy\",\"Healthy\",\"Healthy\",\"Healthy\",\"Healthy\",\"Healthy\",\"Healthy\",\"Healthy\",\"Healthy\",\"Healthy\",\"Healthy\",\"Healthy\",\"Healthy\",\"Healthy\",\"Healthy\",\"Healthy\",\"Healthy\",\"Healthy\",\"Healthy\",\"Healthy\",\"Healthy\",\"Healthy\",\"Healthy\",\"Healthy\",\"Healthy\",\"Healthy\",\"Healthy\",\"Healthy\",\"Healthy\",\"Healthy\",\"Healthy\",\"Healthy\",\"Healthy\",\"Healthy\",\"Healthy\",\"Healthy\",\"Healthy\",\"Healthy\",\"Healthy\",\"Healthy\",\"Healthy\",\"Healthy\",\"Healthy\",\"Healthy\",\"Healthy\",\"Healthy\",\"Healthy\",\"Healthy\",\"Healthy\",\"Healthy\",\"Healthy\",\"Healthy\",\"Healthy\",\"Healthy\",\"Healthy\",\"Healthy\",\"Healthy\",\"Healthy\",\"Healthy\",\"Healthy\",\"Healthy\",\"Healthy\",\"Healthy\",\"Healthy\",\"Healthy\",\"Healthy\",\"Healthy\",\"Healthy\",\"Healthy\",\"Healthy\",\"Healthy\",\"Healthy\",\"Healthy\",\"Healthy\",\"Healthy\",\"Healthy\",\"Healthy\",\"Healthy\",\"Healthy\",\"Healthy\",\"Healthy\",\"Healthy\",\"Healthy\",\"Healthy\",\"Healthy\",\"Healthy\",\"Healthy\",\"Healthy\",\"Healthy\",\"Healthy\",\"Healthy\",\"Healthy\",\"Healthy\",\"Healthy\",\"Healthy\",\"Healthy\",\"Healthy\",\"Healthy\",\"Healthy\",\"Healthy\",\"Healthy\",\"Healthy\",\"Healthy\",\"Healthy\",\"Healthy\",\"Healthy\",\"Healthy\",\"Healthy\",\"Healthy\",\"Healthy\",\"Healthy\",\"Healthy\",\"Healthy\",\"Healthy\",\"Healthy\",\"Healthy\",\"Healthy\",\"Healthy\",\"Healthy\",\"Healthy\",\"Healthy\",\"Healthy\",\"Healthy\",\"Healthy\",\"Healthy\",\"Healthy\",\"Healthy\",\"Healthy\",\"Healthy\",\"Healthy\",\"Healthy\",\"Healthy\",\"Healthy\",\"Healthy\",\"Healthy\",\"Healthy\",\"Healthy\",\"Healthy\",\"Healthy\",\"Healthy\",\"Healthy\",\"Healthy\",\"Healthy\",\"Healthy\",\"Healthy\",\"Healthy\",\"Healthy\",\"Healthy\",\"Healthy\",\"Healthy\",\"Healthy\",\"Healthy\",\"Healthy\",\"Healthy\",\"Healthy\",\"Healthy\",\"Healthy\",\"Healthy\",\"Healthy\",\"Healthy\",\"Healthy\",\"Healthy\",\"Healthy\",\"Healthy\",\"Healthy\",\"Healthy\",\"Healthy\",\"Healthy\",\"Healthy\",\"Healthy\",\"Healthy\",\"Healthy\",\"Healthy\",\"Healthy\",\"Healthy\",\"Healthy\",\"Healthy\",\"Healthy\",\"Healthy\",\"Healthy\",\"Healthy\",\"Healthy\",\"Healthy\",\"Healthy\",\"Healthy\",\"Healthy\",\"Healthy\",\"Healthy\",\"Healthy\",\"Healthy\",\"Healthy\",\"Healthy\"],\"yaxis\":\"y2\",\"type\":\"scatter\"}],                        {\"barmode\":\"overlay\",\"hovermode\":\"closest\",\"legend\":{\"traceorder\":\"reversed\"},\"template\":{\"data\":{\"barpolar\":[{\"marker\":{\"line\":{\"color\":\"#E5ECF6\",\"width\":0.5},\"pattern\":{\"fillmode\":\"overlay\",\"size\":10,\"solidity\":0.2}},\"type\":\"barpolar\"}],\"bar\":[{\"error_x\":{\"color\":\"#2a3f5f\"},\"error_y\":{\"color\":\"#2a3f5f\"},\"marker\":{\"line\":{\"color\":\"#E5ECF6\",\"width\":0.5},\"pattern\":{\"fillmode\":\"overlay\",\"size\":10,\"solidity\":0.2}},\"type\":\"bar\"}],\"carpet\":[{\"aaxis\":{\"endlinecolor\":\"#2a3f5f\",\"gridcolor\":\"white\",\"linecolor\":\"white\",\"minorgridcolor\":\"white\",\"startlinecolor\":\"#2a3f5f\"},\"baxis\":{\"endlinecolor\":\"#2a3f5f\",\"gridcolor\":\"white\",\"linecolor\":\"white\",\"minorgridcolor\":\"white\",\"startlinecolor\":\"#2a3f5f\"},\"type\":\"carpet\"}],\"choropleth\":[{\"colorbar\":{\"outlinewidth\":0,\"ticks\":\"\"},\"type\":\"choropleth\"}],\"contourcarpet\":[{\"colorbar\":{\"outlinewidth\":0,\"ticks\":\"\"},\"type\":\"contourcarpet\"}],\"contour\":[{\"colorbar\":{\"outlinewidth\":0,\"ticks\":\"\"},\"colorscale\":[[0.0,\"#0d0887\"],[0.1111111111111111,\"#46039f\"],[0.2222222222222222,\"#7201a8\"],[0.3333333333333333,\"#9c179e\"],[0.4444444444444444,\"#bd3786\"],[0.5555555555555556,\"#d8576b\"],[0.6666666666666666,\"#ed7953\"],[0.7777777777777778,\"#fb9f3a\"],[0.8888888888888888,\"#fdca26\"],[1.0,\"#f0f921\"]],\"type\":\"contour\"}],\"heatmapgl\":[{\"colorbar\":{\"outlinewidth\":0,\"ticks\":\"\"},\"colorscale\":[[0.0,\"#0d0887\"],[0.1111111111111111,\"#46039f\"],[0.2222222222222222,\"#7201a8\"],[0.3333333333333333,\"#9c179e\"],[0.4444444444444444,\"#bd3786\"],[0.5555555555555556,\"#d8576b\"],[0.6666666666666666,\"#ed7953\"],[0.7777777777777778,\"#fb9f3a\"],[0.8888888888888888,\"#fdca26\"],[1.0,\"#f0f921\"]],\"type\":\"heatmapgl\"}],\"heatmap\":[{\"colorbar\":{\"outlinewidth\":0,\"ticks\":\"\"},\"colorscale\":[[0.0,\"#0d0887\"],[0.1111111111111111,\"#46039f\"],[0.2222222222222222,\"#7201a8\"],[0.3333333333333333,\"#9c179e\"],[0.4444444444444444,\"#bd3786\"],[0.5555555555555556,\"#d8576b\"],[0.6666666666666666,\"#ed7953\"],[0.7777777777777778,\"#fb9f3a\"],[0.8888888888888888,\"#fdca26\"],[1.0,\"#f0f921\"]],\"type\":\"heatmap\"}],\"histogram2dcontour\":[{\"colorbar\":{\"outlinewidth\":0,\"ticks\":\"\"},\"colorscale\":[[0.0,\"#0d0887\"],[0.1111111111111111,\"#46039f\"],[0.2222222222222222,\"#7201a8\"],[0.3333333333333333,\"#9c179e\"],[0.4444444444444444,\"#bd3786\"],[0.5555555555555556,\"#d8576b\"],[0.6666666666666666,\"#ed7953\"],[0.7777777777777778,\"#fb9f3a\"],[0.8888888888888888,\"#fdca26\"],[1.0,\"#f0f921\"]],\"type\":\"histogram2dcontour\"}],\"histogram2d\":[{\"colorbar\":{\"outlinewidth\":0,\"ticks\":\"\"},\"colorscale\":[[0.0,\"#0d0887\"],[0.1111111111111111,\"#46039f\"],[0.2222222222222222,\"#7201a8\"],[0.3333333333333333,\"#9c179e\"],[0.4444444444444444,\"#bd3786\"],[0.5555555555555556,\"#d8576b\"],[0.6666666666666666,\"#ed7953\"],[0.7777777777777778,\"#fb9f3a\"],[0.8888888888888888,\"#fdca26\"],[1.0,\"#f0f921\"]],\"type\":\"histogram2d\"}],\"histogram\":[{\"marker\":{\"pattern\":{\"fillmode\":\"overlay\",\"size\":10,\"solidity\":0.2}},\"type\":\"histogram\"}],\"mesh3d\":[{\"colorbar\":{\"outlinewidth\":0,\"ticks\":\"\"},\"type\":\"mesh3d\"}],\"parcoords\":[{\"line\":{\"colorbar\":{\"outlinewidth\":0,\"ticks\":\"\"}},\"type\":\"parcoords\"}],\"pie\":[{\"automargin\":true,\"type\":\"pie\"}],\"scatter3d\":[{\"line\":{\"colorbar\":{\"outlinewidth\":0,\"ticks\":\"\"}},\"marker\":{\"colorbar\":{\"outlinewidth\":0,\"ticks\":\"\"}},\"type\":\"scatter3d\"}],\"scattercarpet\":[{\"marker\":{\"colorbar\":{\"outlinewidth\":0,\"ticks\":\"\"}},\"type\":\"scattercarpet\"}],\"scattergeo\":[{\"marker\":{\"colorbar\":{\"outlinewidth\":0,\"ticks\":\"\"}},\"type\":\"scattergeo\"}],\"scattergl\":[{\"marker\":{\"colorbar\":{\"outlinewidth\":0,\"ticks\":\"\"}},\"type\":\"scattergl\"}],\"scattermapbox\":[{\"marker\":{\"colorbar\":{\"outlinewidth\":0,\"ticks\":\"\"}},\"type\":\"scattermapbox\"}],\"scatterpolargl\":[{\"marker\":{\"colorbar\":{\"outlinewidth\":0,\"ticks\":\"\"}},\"type\":\"scatterpolargl\"}],\"scatterpolar\":[{\"marker\":{\"colorbar\":{\"outlinewidth\":0,\"ticks\":\"\"}},\"type\":\"scatterpolar\"}],\"scatter\":[{\"fillpattern\":{\"fillmode\":\"overlay\",\"size\":10,\"solidity\":0.2},\"type\":\"scatter\"}],\"scatterternary\":[{\"marker\":{\"colorbar\":{\"outlinewidth\":0,\"ticks\":\"\"}},\"type\":\"scatterternary\"}],\"surface\":[{\"colorbar\":{\"outlinewidth\":0,\"ticks\":\"\"},\"colorscale\":[[0.0,\"#0d0887\"],[0.1111111111111111,\"#46039f\"],[0.2222222222222222,\"#7201a8\"],[0.3333333333333333,\"#9c179e\"],[0.4444444444444444,\"#bd3786\"],[0.5555555555555556,\"#d8576b\"],[0.6666666666666666,\"#ed7953\"],[0.7777777777777778,\"#fb9f3a\"],[0.8888888888888888,\"#fdca26\"],[1.0,\"#f0f921\"]],\"type\":\"surface\"}],\"table\":[{\"cells\":{\"fill\":{\"color\":\"#EBF0F8\"},\"line\":{\"color\":\"white\"}},\"header\":{\"fill\":{\"color\":\"#C8D4E3\"},\"line\":{\"color\":\"white\"}},\"type\":\"table\"}]},\"layout\":{\"annotationdefaults\":{\"arrowcolor\":\"#2a3f5f\",\"arrowhead\":0,\"arrowwidth\":1},\"autotypenumbers\":\"strict\",\"coloraxis\":{\"colorbar\":{\"outlinewidth\":0,\"ticks\":\"\"}},\"colorscale\":{\"diverging\":[[0,\"#8e0152\"],[0.1,\"#c51b7d\"],[0.2,\"#de77ae\"],[0.3,\"#f1b6da\"],[0.4,\"#fde0ef\"],[0.5,\"#f7f7f7\"],[0.6,\"#e6f5d0\"],[0.7,\"#b8e186\"],[0.8,\"#7fbc41\"],[0.9,\"#4d9221\"],[1,\"#276419\"]],\"sequential\":[[0.0,\"#0d0887\"],[0.1111111111111111,\"#46039f\"],[0.2222222222222222,\"#7201a8\"],[0.3333333333333333,\"#9c179e\"],[0.4444444444444444,\"#bd3786\"],[0.5555555555555556,\"#d8576b\"],[0.6666666666666666,\"#ed7953\"],[0.7777777777777778,\"#fb9f3a\"],[0.8888888888888888,\"#fdca26\"],[1.0,\"#f0f921\"]],\"sequentialminus\":[[0.0,\"#0d0887\"],[0.1111111111111111,\"#46039f\"],[0.2222222222222222,\"#7201a8\"],[0.3333333333333333,\"#9c179e\"],[0.4444444444444444,\"#bd3786\"],[0.5555555555555556,\"#d8576b\"],[0.6666666666666666,\"#ed7953\"],[0.7777777777777778,\"#fb9f3a\"],[0.8888888888888888,\"#fdca26\"],[1.0,\"#f0f921\"]]},\"colorway\":[\"#636efa\",\"#EF553B\",\"#00cc96\",\"#ab63fa\",\"#FFA15A\",\"#19d3f3\",\"#FF6692\",\"#B6E880\",\"#FF97FF\",\"#FECB52\"],\"font\":{\"color\":\"#2a3f5f\"},\"geo\":{\"bgcolor\":\"white\",\"lakecolor\":\"white\",\"landcolor\":\"#E5ECF6\",\"showlakes\":true,\"showland\":true,\"subunitcolor\":\"white\"},\"hoverlabel\":{\"align\":\"left\"},\"hovermode\":\"closest\",\"mapbox\":{\"style\":\"light\"},\"paper_bgcolor\":\"white\",\"plot_bgcolor\":\"#E5ECF6\",\"polar\":{\"angularaxis\":{\"gridcolor\":\"white\",\"linecolor\":\"white\",\"ticks\":\"\"},\"bgcolor\":\"#E5ECF6\",\"radialaxis\":{\"gridcolor\":\"white\",\"linecolor\":\"white\",\"ticks\":\"\"}},\"scene\":{\"xaxis\":{\"backgroundcolor\":\"#E5ECF6\",\"gridcolor\":\"white\",\"gridwidth\":2,\"linecolor\":\"white\",\"showbackground\":true,\"ticks\":\"\",\"zerolinecolor\":\"white\"},\"yaxis\":{\"backgroundcolor\":\"#E5ECF6\",\"gridcolor\":\"white\",\"gridwidth\":2,\"linecolor\":\"white\",\"showbackground\":true,\"ticks\":\"\",\"zerolinecolor\":\"white\"},\"zaxis\":{\"backgroundcolor\":\"#E5ECF6\",\"gridcolor\":\"white\",\"gridwidth\":2,\"linecolor\":\"white\",\"showbackground\":true,\"ticks\":\"\",\"zerolinecolor\":\"white\"}},\"shapedefaults\":{\"line\":{\"color\":\"#2a3f5f\"}},\"ternary\":{\"aaxis\":{\"gridcolor\":\"white\",\"linecolor\":\"white\",\"ticks\":\"\"},\"baxis\":{\"gridcolor\":\"white\",\"linecolor\":\"white\",\"ticks\":\"\"},\"bgcolor\":\"#E5ECF6\",\"caxis\":{\"gridcolor\":\"white\",\"linecolor\":\"white\",\"ticks\":\"\"}},\"title\":{\"x\":0.05},\"xaxis\":{\"automargin\":true,\"gridcolor\":\"white\",\"linecolor\":\"white\",\"ticks\":\"\",\"title\":{\"standoff\":15},\"zerolinecolor\":\"white\",\"zerolinewidth\":2},\"yaxis\":{\"automargin\":true,\"gridcolor\":\"white\",\"linecolor\":\"white\",\"ticks\":\"\",\"title\":{\"standoff\":15},\"zerolinecolor\":\"white\",\"zerolinewidth\":2}}},\"title\":{\"text\":\"Distribution of BMI\",\"x\":0.5},\"xaxis\":{\"anchor\":\"y2\",\"domain\":[0.0,1.0],\"zeroline\":false},\"yaxis\":{\"anchor\":\"free\",\"domain\":[0.35,1],\"position\":0.0},\"yaxis2\":{\"anchor\":\"x\",\"domain\":[0,0.25],\"dtick\":1,\"showticklabels\":false}},                        {\"responsive\": true}                    ).then(function(){\n",
              "                            \n",
              "var gd = document.getElementById('a293a30e-08da-4892-bb6a-12d89794ddbe');\n",
              "var x = new MutationObserver(function (mutations, observer) {{\n",
              "        var display = window.getComputedStyle(gd).display;\n",
              "        if (!display || display === 'none') {{\n",
              "            console.log([gd, 'removed!']);\n",
              "            Plotly.purge(gd);\n",
              "            observer.disconnect();\n",
              "        }}\n",
              "}});\n",
              "\n",
              "// Listen for the removal of the full notebook cells\n",
              "var notebookContainer = gd.closest('#notebook-container');\n",
              "if (notebookContainer) {{\n",
              "    x.observe(notebookContainer, {childList: true});\n",
              "}}\n",
              "\n",
              "// Listen for the clearing of the current output cell\n",
              "var outputEl = gd.closest('.output');\n",
              "if (outputEl) {{\n",
              "    x.observe(outputEl, {childList: true});\n",
              "}}\n",
              "\n",
              "                        })                };                            </script>        </div>\n",
              "</body>\n",
              "</html>"
            ]
          },
          "metadata": {}
        }
      ],
      "source": [
        "plot_distribution('BMI', 0)"
      ]
    },
    {
      "cell_type": "code",
      "execution_count": null,
      "metadata": {
        "colab": {
          "base_uri": "https://localhost:8080/"
        },
        "id": "uLOitIIo1Zyw",
        "outputId": "3c3fb32b-b1e1-480a-b534-76cc36db891d"
      },
      "outputs": [
        {
          "output_type": "stream",
          "name": "stdout",
          "text": [
            "Median 'BMI' untuk setiap Outcome:\n",
            "Outcome\n",
            "0    30.1\n",
            "1    34.3\n",
            "Name: BMI, dtype: float64\n"
          ]
        }
      ],
      "source": [
        "median_target('BMI')"
      ]
    },
    {
      "cell_type": "code",
      "execution_count": null,
      "metadata": {
        "id": "_kiDmohE1dIQ"
      },
      "outputs": [],
      "source": [
        "df.loc[(df['Outcome'] == 0 ) & (df['BMI'].isnull()), 'BMI'] = 30.1\n",
        "df.loc[(df['Outcome'] == 1 ) & (df['BMI'].isnull()), 'BMI'] = 34.3"
      ]
    },
    {
      "cell_type": "code",
      "execution_count": null,
      "metadata": {
        "colab": {
          "base_uri": "https://localhost:8080/",
          "height": 366
        },
        "id": "Exp_GqiE1gRR",
        "outputId": "04f9d164-de79-454e-dece-14c5019830b9"
      },
      "outputs": [
        {
          "output_type": "execute_result",
          "data": {
            "text/plain": [
              "Pregnancies                 0\n",
              "Glucose                     0\n",
              "BloodPressure               0\n",
              "SkinThickness               0\n",
              "Insulin                     0\n",
              "BMI                         0\n",
              "DiabetesPedigreeFunction    0\n",
              "Age                         0\n",
              "Outcome                     0\n",
              "dtype: int64"
            ],
            "text/html": [
              "<div>\n",
              "<style scoped>\n",
              "    .dataframe tbody tr th:only-of-type {\n",
              "        vertical-align: middle;\n",
              "    }\n",
              "\n",
              "    .dataframe tbody tr th {\n",
              "        vertical-align: top;\n",
              "    }\n",
              "\n",
              "    .dataframe thead th {\n",
              "        text-align: right;\n",
              "    }\n",
              "</style>\n",
              "<table border=\"1\" class=\"dataframe\">\n",
              "  <thead>\n",
              "    <tr style=\"text-align: right;\">\n",
              "      <th></th>\n",
              "      <th>0</th>\n",
              "    </tr>\n",
              "  </thead>\n",
              "  <tbody>\n",
              "    <tr>\n",
              "      <th>Pregnancies</th>\n",
              "      <td>0</td>\n",
              "    </tr>\n",
              "    <tr>\n",
              "      <th>Glucose</th>\n",
              "      <td>0</td>\n",
              "    </tr>\n",
              "    <tr>\n",
              "      <th>BloodPressure</th>\n",
              "      <td>0</td>\n",
              "    </tr>\n",
              "    <tr>\n",
              "      <th>SkinThickness</th>\n",
              "      <td>0</td>\n",
              "    </tr>\n",
              "    <tr>\n",
              "      <th>Insulin</th>\n",
              "      <td>0</td>\n",
              "    </tr>\n",
              "    <tr>\n",
              "      <th>BMI</th>\n",
              "      <td>0</td>\n",
              "    </tr>\n",
              "    <tr>\n",
              "      <th>DiabetesPedigreeFunction</th>\n",
              "      <td>0</td>\n",
              "    </tr>\n",
              "    <tr>\n",
              "      <th>Age</th>\n",
              "      <td>0</td>\n",
              "    </tr>\n",
              "    <tr>\n",
              "      <th>Outcome</th>\n",
              "      <td>0</td>\n",
              "    </tr>\n",
              "  </tbody>\n",
              "</table>\n",
              "</div><br><label><b>dtype:</b> int64</label>"
            ]
          },
          "metadata": {},
          "execution_count": 342
        }
      ],
      "source": [
        "# Menghitung data null dalam dataset\n",
        "df.isnull().sum()"
      ]
    },
    {
      "cell_type": "code",
      "execution_count": null,
      "metadata": {
        "colab": {
          "base_uri": "https://localhost:8080/",
          "height": 648
        },
        "id": "F5dVs8tI1obK",
        "outputId": "c32334ac-21e4-4609-e213-47f6f639e4b8"
      },
      "outputs": [
        {
          "output_type": "display_data",
          "data": {
            "text/plain": [
              "<Figure size 1200x1200 with 9 Axes>"
            ],
            "image/png": "[encoded data removed]"
          },
          "metadata": {}
        }
      ],
      "source": [
        "# Membuat Histogram untuk masing-masing fitur dalam dataset yang telah dibersihkan\n",
        "df.hist(bins=50, figsize=(12,12))\n",
        "plt.show()"
      ]
    },
    {
      "cell_type": "markdown",
      "source": [
        "**Penjelasan**\n",
        "\n",
        "Pada Histogram ini menunjukkan data numerik untuk masing-masing fitur dalam dataset yang telah dibersihkan melalui proses penggantian data nol dengan median masing-masing outcome."
      ],
      "metadata": {
        "id": "9bX615TF-VVM"
      }
    },
    {
      "cell_type": "code",
      "execution_count": null,
      "metadata": {
        "colab": {
          "base_uri": "https://localhost:8080/",
          "height": 320
        },
        "id": "j2cPiRrL14CO",
        "outputId": "9958fa30-45aa-40a8-dd40-910f2d13f587"
      },
      "outputs": [
        {
          "output_type": "execute_result",
          "data": {
            "text/plain": [
              "       Pregnancies     Glucose  BloodPressure  SkinThickness     Insulin  \\\n",
              "count   768.000000  768.000000     768.000000     768.000000  768.000000   \n",
              "mean      3.845052  121.677083      72.389323      29.089844  141.753906   \n",
              "std       3.369578   30.464161      12.106039       8.890820   89.100847   \n",
              "min       0.000000   44.000000      24.000000       7.000000   14.000000   \n",
              "25%       1.000000   99.750000      64.000000      25.000000  102.500000   \n",
              "50%       3.000000  117.000000      72.000000      28.000000  102.500000   \n",
              "75%       6.000000  140.250000      80.000000      32.000000  169.500000   \n",
              "max      17.000000  199.000000     122.000000      99.000000  846.000000   \n",
              "\n",
              "              BMI  DiabetesPedigreeFunction         Age     Outcome  \n",
              "count  768.000000                768.000000  768.000000  768.000000  \n",
              "mean    32.434635                  0.471876   33.240885    0.348958  \n",
              "std      6.880498                  0.331329   11.760232    0.476951  \n",
              "min     18.200000                  0.078000   21.000000    0.000000  \n",
              "25%     27.500000                  0.243750   24.000000    0.000000  \n",
              "50%     32.050000                  0.372500   29.000000    0.000000  \n",
              "75%     36.600000                  0.626250   41.000000    1.000000  \n",
              "max     67.100000                  2.420000   81.000000    1.000000  "
            ],
            "text/html": [
              "\n",
              "  <div id=\"df-c0b6c6d3-df60-4b72-a50b-5d04ff0c279c\" class=\"colab-df-container\">\n",
              "    <div>\n",
              "<style scoped>\n",
              "    .dataframe tbody tr th:only-of-type {\n",
              "        vertical-align: middle;\n",
              "    }\n",
              "\n",
              "    .dataframe tbody tr th {\n",
              "        vertical-align: top;\n",
              "    }\n",
              "\n",
              "    .dataframe thead th {\n",
              "        text-align: right;\n",
              "    }\n",
              "</style>\n",
              "<table border=\"1\" class=\"dataframe\">\n",
              "  <thead>\n",
              "    <tr style=\"text-align: right;\">\n",
              "      <th></th>\n",
              "      <th>Pregnancies</th>\n",
              "      <th>Glucose</th>\n",
              "      <th>BloodPressure</th>\n",
              "      <th>SkinThickness</th>\n",
              "      <th>Insulin</th>\n",
              "      <th>BMI</th>\n",
              "      <th>DiabetesPedigreeFunction</th>\n",
              "      <th>Age</th>\n",
              "      <th>Outcome</th>\n",
              "    </tr>\n",
              "  </thead>\n",
              "  <tbody>\n",
              "    <tr>\n",
              "      <th>count</th>\n",
              "      <td>768.000000</td>\n",
              "      <td>768.000000</td>\n",
              "      <td>768.000000</td>\n",
              "      <td>768.000000</td>\n",
              "      <td>768.000000</td>\n",
              "      <td>768.000000</td>\n",
              "      <td>768.000000</td>\n",
              "      <td>768.000000</td>\n",
              "      <td>768.000000</td>\n",
              "    </tr>\n",
              "    <tr>\n",
              "      <th>mean</th>\n",
              "      <td>3.845052</td>\n",
              "      <td>121.677083</td>\n",
              "      <td>72.389323</td>\n",
              "      <td>29.089844</td>\n",
              "      <td>141.753906</td>\n",
              "      <td>32.434635</td>\n",
              "      <td>0.471876</td>\n",
              "      <td>33.240885</td>\n",
              "      <td>0.348958</td>\n",
              "    </tr>\n",
              "    <tr>\n",
              "      <th>std</th>\n",
              "      <td>3.369578</td>\n",
              "      <td>30.464161</td>\n",
              "      <td>12.106039</td>\n",
              "      <td>8.890820</td>\n",
              "      <td>89.100847</td>\n",
              "      <td>6.880498</td>\n",
              "      <td>0.331329</td>\n",
              "      <td>11.760232</td>\n",
              "      <td>0.476951</td>\n",
              "    </tr>\n",
              "    <tr>\n",
              "      <th>min</th>\n",
              "      <td>0.000000</td>\n",
              "      <td>44.000000</td>\n",
              "      <td>24.000000</td>\n",
              "      <td>7.000000</td>\n",
              "      <td>14.000000</td>\n",
              "      <td>18.200000</td>\n",
              "      <td>0.078000</td>\n",
              "      <td>21.000000</td>\n",
              "      <td>0.000000</td>\n",
              "    </tr>\n",
              "    <tr>\n",
              "      <th>25%</th>\n",
              "      <td>1.000000</td>\n",
              "      <td>99.750000</td>\n",
              "      <td>64.000000</td>\n",
              "      <td>25.000000</td>\n",
              "      <td>102.500000</td>\n",
              "      <td>27.500000</td>\n",
              "      <td>0.243750</td>\n",
              "      <td>24.000000</td>\n",
              "      <td>0.000000</td>\n",
              "    </tr>\n",
              "    <tr>\n",
              "      <th>50%</th>\n",
              "      <td>3.000000</td>\n",
              "      <td>117.000000</td>\n",
              "      <td>72.000000</td>\n",
              "      <td>28.000000</td>\n",
              "      <td>102.500000</td>\n",
              "      <td>32.050000</td>\n",
              "      <td>0.372500</td>\n",
              "      <td>29.000000</td>\n",
              "      <td>0.000000</td>\n",
              "    </tr>\n",
              "    <tr>\n",
              "      <th>75%</th>\n",
              "      <td>6.000000</td>\n",
              "      <td>140.250000</td>\n",
              "      <td>80.000000</td>\n",
              "      <td>32.000000</td>\n",
              "      <td>169.500000</td>\n",
              "      <td>36.600000</td>\n",
              "      <td>0.626250</td>\n",
              "      <td>41.000000</td>\n",
              "      <td>1.000000</td>\n",
              "    </tr>\n",
              "    <tr>\n",
              "      <th>max</th>\n",
              "      <td>17.000000</td>\n",
              "      <td>199.000000</td>\n",
              "      <td>122.000000</td>\n",
              "      <td>99.000000</td>\n",
              "      <td>846.000000</td>\n",
              "      <td>67.100000</td>\n",
              "      <td>2.420000</td>\n",
              "      <td>81.000000</td>\n",
              "      <td>1.000000</td>\n",
              "    </tr>\n",
              "  </tbody>\n",
              "</table>\n",
              "</div>\n",
              "    <div class=\"colab-df-buttons\">\n",
              "\n",
              "  <div class=\"colab-df-container\">\n",
              "    <button class=\"colab-df-convert\" onclick=\"convertToInteractive('df-c0b6c6d3-df60-4b72-a50b-5d04ff0c279c')\"\n",
              "            title=\"Convert this dataframe to an interactive table.\"\n",
              "            style=\"display:none;\">\n",
              "\n",
              "  <svg xmlns=\"http://www.w3.org/2000/svg\" height=\"24px\" viewBox=\"0 -960 960 960\">\n",
              "    <path d=\"M120-120v-720h720v720H120Zm60-500h600v-160H180v160Zm220 220h160v-160H400v160Zm0 220h160v-160H400v160ZM180-400h160v-160H180v160Zm440 0h160v-160H620v160ZM180-180h160v-160H180v160Zm440 0h160v-160H620v160Z\"/>\n",
              "  </svg>\n",
              "    </button>\n",
              "\n",
              "  <style>\n",
              "    .colab-df-container {\n",
              "      display:flex;\n",
              "      gap: 12px;\n",
              "    }\n",
              "\n",
              "    .colab-df-convert {\n",
              "      background-color: #E8F0FE;\n",
              "      border: none;\n",
              "      border-radius: 50%;\n",
              "      cursor: pointer;\n",
              "      display: none;\n",
              "      fill: #1967D2;\n",
              "      height: 32px;\n",
              "      padding: 0 0 0 0;\n",
              "      width: 32px;\n",
              "    }\n",
              "\n",
              "    .colab-df-convert:hover {\n",
              "      background-color: #E2EBFA;\n",
              "      box-shadow: 0px 1px 2px rgba(60, 64, 67, 0.3), 0px 1px 3px 1px rgba(60, 64, 67, 0.15);\n",
              "      fill: #174EA6;\n",
              "    }\n",
              "\n",
              "    .colab-df-buttons div {\n",
              "      margin-bottom: 4px;\n",
              "    }\n",
              "\n",
              "    [theme=dark] .colab-df-convert {\n",
              "      background-color: #3B4455;\n",
              "      fill: #D2E3FC;\n",
              "    }\n",
              "\n",
              "    [theme=dark] .colab-df-convert:hover {\n",
              "      background-color: #434B5C;\n",
              "      box-shadow: 0px 1px 3px 1px rgba(0, 0, 0, 0.15);\n",
              "      filter: drop-shadow(0px 1px 2px rgba(0, 0, 0, 0.3));\n",
              "      fill: #FFFFFF;\n",
              "    }\n",
              "  </style>\n",
              "\n",
              "    <script>\n",
              "      const buttonEl =\n",
              "        document.querySelector('#df-c0b6c6d3-df60-4b72-a50b-5d04ff0c279c button.colab-df-convert');\n",
              "      buttonEl.style.display =\n",
              "        google.colab.kernel.accessAllowed ? 'block' : 'none';\n",
              "\n",
              "      async function convertToInteractive(key) {\n",
              "        const element = document.querySelector('#df-c0b6c6d3-df60-4b72-a50b-5d04ff0c279c');\n",
              "        const dataTable =\n",
              "          await google.colab.kernel.invokeFunction('convertToInteractive',\n",
              "                                                    [key], {});\n",
              "        if (!dataTable) return;\n",
              "\n",
              "        const docLinkHtml = 'Like what you see? Visit the ' +\n",
              "          '<a target=\"_blank\" href=https://colab.research.google.com/notebooks/data_table.ipynb>data table notebook</a>'\n",
              "          + ' to learn more about interactive tables.';\n",
              "        element.innerHTML = '';\n",
              "        dataTable['output_type'] = 'display_data';\n",
              "        await google.colab.output.renderOutput(dataTable, element);\n",
              "        const docLink = document.createElement('div');\n",
              "        docLink.innerHTML = docLinkHtml;\n",
              "        element.appendChild(docLink);\n",
              "      }\n",
              "    </script>\n",
              "  </div>\n",
              "\n",
              "\n",
              "    <div id=\"df-0a781db0-260e-443c-ba83-d42cee96fcb4\">\n",
              "      <button class=\"colab-df-quickchart\" onclick=\"quickchart('df-0a781db0-260e-443c-ba83-d42cee96fcb4')\"\n",
              "                title=\"Suggest charts\"\n",
              "                style=\"display:none;\">\n",
              "\n",
              "<svg xmlns=\"http://www.w3.org/2000/svg\" height=\"24px\"viewBox=\"0 0 24 24\"\n",
              "     width=\"24px\">\n",
              "    <g>\n",
              "        <path d=\"M19 3H5c-1.1 0-2 .9-2 2v14c0 1.1.9 2 2 2h14c1.1 0 2-.9 2-2V5c0-1.1-.9-2-2-2zM9 17H7v-7h2v7zm4 0h-2V7h2v10zm4 0h-2v-4h2v4z\"/>\n",
              "    </g>\n",
              "</svg>\n",
              "      </button>\n",
              "\n",
              "<style>\n",
              "  .colab-df-quickchart {\n",
              "      --bg-color: #E8F0FE;\n",
              "      --fill-color: #1967D2;\n",
              "      --hover-bg-color: #E2EBFA;\n",
              "      --hover-fill-color: #174EA6;\n",
              "      --disabled-fill-color: #AAA;\n",
              "      --disabled-bg-color: #DDD;\n",
              "  }\n",
              "\n",
              "  [theme=dark] .colab-df-quickchart {\n",
              "      --bg-color: #3B4455;\n",
              "      --fill-color: #D2E3FC;\n",
              "      --hover-bg-color: #434B5C;\n",
              "      --hover-fill-color: #FFFFFF;\n",
              "      --disabled-bg-color: #3B4455;\n",
              "      --disabled-fill-color: #666;\n",
              "  }\n",
              "\n",
              "  .colab-df-quickchart {\n",
              "    background-color: var(--bg-color);\n",
              "    border: none;\n",
              "    border-radius: 50%;\n",
              "    cursor: pointer;\n",
              "    display: none;\n",
              "    fill: var(--fill-color);\n",
              "    height: 32px;\n",
              "    padding: 0;\n",
              "    width: 32px;\n",
              "  }\n",
              "\n",
              "  .colab-df-quickchart:hover {\n",
              "    background-color: var(--hover-bg-color);\n",
              "    box-shadow: 0 1px 2px rgba(60, 64, 67, 0.3), 0 1px 3px 1px rgba(60, 64, 67, 0.15);\n",
              "    fill: var(--button-hover-fill-color);\n",
              "  }\n",
              "\n",
              "  .colab-df-quickchart-complete:disabled,\n",
              "  .colab-df-quickchart-complete:disabled:hover {\n",
              "    background-color: var(--disabled-bg-color);\n",
              "    fill: var(--disabled-fill-color);\n",
              "    box-shadow: none;\n",
              "  }\n",
              "\n",
              "  .colab-df-spinner {\n",
              "    border: 2px solid var(--fill-color);\n",
              "    border-color: transparent;\n",
              "    border-bottom-color: var(--fill-color);\n",
              "    animation:\n",
              "      spin 1s steps(1) infinite;\n",
              "  }\n",
              "\n",
              "  @keyframes spin {\n",
              "    0% {\n",
              "      border-color: transparent;\n",
              "      border-bottom-color: var(--fill-color);\n",
              "      border-left-color: var(--fill-color);\n",
              "    }\n",
              "    20% {\n",
              "      border-color: transparent;\n",
              "      border-left-color: var(--fill-color);\n",
              "      border-top-color: var(--fill-color);\n",
              "    }\n",
              "    30% {\n",
              "      border-color: transparent;\n",
              "      border-left-color: var(--fill-color);\n",
              "      border-top-color: var(--fill-color);\n",
              "      border-right-color: var(--fill-color);\n",
              "    }\n",
              "    40% {\n",
              "      border-color: transparent;\n",
              "      border-right-color: var(--fill-color);\n",
              "      border-top-color: var(--fill-color);\n",
              "    }\n",
              "    60% {\n",
              "      border-color: transparent;\n",
              "      border-right-color: var(--fill-color);\n",
              "    }\n",
              "    80% {\n",
              "      border-color: transparent;\n",
              "      border-right-color: var(--fill-color);\n",
              "      border-bottom-color: var(--fill-color);\n",
              "    }\n",
              "    90% {\n",
              "      border-color: transparent;\n",
              "      border-bottom-color: var(--fill-color);\n",
              "    }\n",
              "  }\n",
              "</style>\n",
              "\n",
              "      <script>\n",
              "        async function quickchart(key) {\n",
              "          const quickchartButtonEl =\n",
              "            document.querySelector('#' + key + ' button');\n",
              "          quickchartButtonEl.disabled = true;  // To prevent multiple clicks.\n",
              "          quickchartButtonEl.classList.add('colab-df-spinner');\n",
              "          try {\n",
              "            const charts = await google.colab.kernel.invokeFunction(\n",
              "                'suggestCharts', [key], {});\n",
              "          } catch (error) {\n",
              "            console.error('Error during call to suggestCharts:', error);\n",
              "          }\n",
              "          quickchartButtonEl.classList.remove('colab-df-spinner');\n",
              "          quickchartButtonEl.classList.add('colab-df-quickchart-complete');\n",
              "        }\n",
              "        (() => {\n",
              "          let quickchartButtonEl =\n",
              "            document.querySelector('#df-0a781db0-260e-443c-ba83-d42cee96fcb4 button');\n",
              "          quickchartButtonEl.style.display =\n",
              "            google.colab.kernel.accessAllowed ? 'block' : 'none';\n",
              "        })();\n",
              "      </script>\n",
              "    </div>\n",
              "\n",
              "    </div>\n",
              "  </div>\n"
            ],
            "application/vnd.google.colaboratory.intrinsic+json": {
              "type": "dataframe",
              "summary": "{\n  \"name\": \"df\",\n  \"rows\": 8,\n  \"fields\": [\n    {\n      \"column\": \"Pregnancies\",\n      \"properties\": {\n        \"dtype\": \"number\",\n        \"std\": 269.85223453356366,\n        \"min\": 0.0,\n        \"max\": 768.0,\n        \"num_unique_values\": 8,\n        \"samples\": [\n          3.8450520833333335,\n          3.0,\n          768.0\n        ],\n        \"semantic_type\": \"\",\n        \"description\": \"\"\n      }\n    },\n    {\n      \"column\": \"Glucose\",\n      \"properties\": {\n        \"dtype\": \"number\",\n        \"std\": 239.50837369931736,\n        \"min\": 30.46416058912223,\n        \"max\": 768.0,\n        \"num_unique_values\": 8,\n        \"samples\": [\n          121.67708333333333,\n          117.0,\n          768.0\n        ],\n        \"semantic_type\": \"\",\n        \"description\": \"\"\n      }\n    },\n    {\n      \"column\": \"BloodPressure\",\n      \"properties\": {\n        \"dtype\": \"number\",\n        \"std\": 251.27557359689726,\n        \"min\": 12.10603911745372,\n        \"max\": 768.0,\n        \"num_unique_values\": 8,\n        \"samples\": [\n          72.38932291666667,\n          72.0,\n          768.0\n        ],\n        \"semantic_type\": \"\",\n        \"description\": \"\"\n      }\n    },\n    {\n      \"column\": \"SkinThickness\",\n      \"properties\": {\n        \"dtype\": \"number\",\n        \"std\": 261.53010213356566,\n        \"min\": 7.0,\n        \"max\": 768.0,\n        \"num_unique_values\": 8,\n        \"samples\": [\n          29.08984375,\n          28.0,\n          768.0\n        ],\n        \"semantic_type\": \"\",\n        \"description\": \"\"\n      }\n    },\n    {\n      \"column\": \"Insulin\",\n      \"properties\": {\n        \"dtype\": \"number\",\n        \"std\": 329.5077929445868,\n        \"min\": 14.0,\n        \"max\": 846.0,\n        \"num_unique_values\": 7,\n        \"samples\": [\n          768.0,\n          141.75390625,\n          169.5\n        ],\n        \"semantic_type\": \"\",\n        \"description\": \"\"\n      }\n    },\n    {\n      \"column\": \"BMI\",\n      \"properties\": {\n        \"dtype\": \"number\",\n        \"std\": 260.9523624402978,\n        \"min\": 6.880497796823625,\n        \"max\": 768.0,\n        \"num_unique_values\": 8,\n        \"samples\": [\n          32.434635416666666,\n          32.05,\n          768.0\n        ],\n        \"semantic_type\": \"\",\n        \"description\": \"\"\n      }\n    },\n    {\n      \"column\": \"DiabetesPedigreeFunction\",\n      \"properties\": {\n        \"dtype\": \"number\",\n        \"std\": 271.3005221658502,\n        \"min\": 0.078,\n        \"max\": 768.0,\n        \"num_unique_values\": 8,\n        \"samples\": [\n          0.47187630208333325,\n          0.3725,\n          768.0\n        ],\n        \"semantic_type\": \"\",\n        \"description\": \"\"\n      }\n    },\n    {\n      \"column\": \"Age\",\n      \"properties\": {\n        \"dtype\": \"number\",\n        \"std\": 260.1941178528413,\n        \"min\": 11.76023154067868,\n        \"max\": 768.0,\n        \"num_unique_values\": 8,\n        \"samples\": [\n          33.240885416666664,\n          29.0,\n          768.0\n        ],\n        \"semantic_type\": \"\",\n        \"description\": \"\"\n      }\n    },\n    {\n      \"column\": \"Outcome\",\n      \"properties\": {\n        \"dtype\": \"number\",\n        \"std\": 271.3865920388932,\n        \"min\": 0.0,\n        \"max\": 768.0,\n        \"num_unique_values\": 5,\n        \"samples\": [\n          0.3489583333333333,\n          1.0,\n          0.4769513772427971\n        ],\n        \"semantic_type\": \"\",\n        \"description\": \"\"\n      }\n    }\n  ]\n}"
            }
          },
          "metadata": {},
          "execution_count": 344
        }
      ],
      "source": [
        "# Describe Fitur Numerik\n",
        "df.describe()"
      ]
    },
    {
      "cell_type": "code",
      "execution_count": null,
      "metadata": {
        "colab": {
          "base_uri": "https://localhost:8080/",
          "height": 226
        },
        "id": "KhR4wL1nhCmA",
        "outputId": "77dd9bd3-ebb8-4256-ccb1-9033d6d3fec6"
      },
      "outputs": [
        {
          "output_type": "execute_result",
          "data": {
            "text/plain": [
              "   Pregnancies  Glucose  BloodPressure  SkinThickness  Insulin   BMI  \\\n",
              "0            6    148.0           72.0           35.0    169.5  33.6   \n",
              "1            1     85.0           66.0           29.0    102.5  26.6   \n",
              "2            8    183.0           64.0           32.0    169.5  23.3   \n",
              "3            1     89.0           66.0           23.0     94.0  28.1   \n",
              "4            0    137.0           40.0           35.0    168.0  43.1   \n",
              "\n",
              "   DiabetesPedigreeFunction  Age  Outcome  \n",
              "0                     0.627   50        1  \n",
              "1                     0.351   31        0  \n",
              "2                     0.672   32        1  \n",
              "3                     0.167   21        0  \n",
              "4                     2.288   33        1  "
            ],
            "text/html": [
              "\n",
              "  <div id=\"df-732b2a4a-2ddc-46b0-bec8-473e23b837b4\" class=\"colab-df-container\">\n",
              "    <div>\n",
              "<style scoped>\n",
              "    .dataframe tbody tr th:only-of-type {\n",
              "        vertical-align: middle;\n",
              "    }\n",
              "\n",
              "    .dataframe tbody tr th {\n",
              "        vertical-align: top;\n",
              "    }\n",
              "\n",
              "    .dataframe thead th {\n",
              "        text-align: right;\n",
              "    }\n",
              "</style>\n",
              "<table border=\"1\" class=\"dataframe\">\n",
              "  <thead>\n",
              "    <tr style=\"text-align: right;\">\n",
              "      <th></th>\n",
              "      <th>Pregnancies</th>\n",
              "      <th>Glucose</th>\n",
              "      <th>BloodPressure</th>\n",
              "      <th>SkinThickness</th>\n",
              "      <th>Insulin</th>\n",
              "      <th>BMI</th>\n",
              "      <th>DiabetesPedigreeFunction</th>\n",
              "      <th>Age</th>\n",
              "      <th>Outcome</th>\n",
              "    </tr>\n",
              "  </thead>\n",
              "  <tbody>\n",
              "    <tr>\n",
              "      <th>0</th>\n",
              "      <td>6</td>\n",
              "      <td>148.0</td>\n",
              "      <td>72.0</td>\n",
              "      <td>35.0</td>\n",
              "      <td>169.5</td>\n",
              "      <td>33.6</td>\n",
              "      <td>0.627</td>\n",
              "      <td>50</td>\n",
              "      <td>1</td>\n",
              "    </tr>\n",
              "    <tr>\n",
              "      <th>1</th>\n",
              "      <td>1</td>\n",
              "      <td>85.0</td>\n",
              "      <td>66.0</td>\n",
              "      <td>29.0</td>\n",
              "      <td>102.5</td>\n",
              "      <td>26.6</td>\n",
              "      <td>0.351</td>\n",
              "      <td>31</td>\n",
              "      <td>0</td>\n",
              "    </tr>\n",
              "    <tr>\n",
              "      <th>2</th>\n",
              "      <td>8</td>\n",
              "      <td>183.0</td>\n",
              "      <td>64.0</td>\n",
              "      <td>32.0</td>\n",
              "      <td>169.5</td>\n",
              "      <td>23.3</td>\n",
              "      <td>0.672</td>\n",
              "      <td>32</td>\n",
              "      <td>1</td>\n",
              "    </tr>\n",
              "    <tr>\n",
              "      <th>3</th>\n",
              "      <td>1</td>\n",
              "      <td>89.0</td>\n",
              "      <td>66.0</td>\n",
              "      <td>23.0</td>\n",
              "      <td>94.0</td>\n",
              "      <td>28.1</td>\n",
              "      <td>0.167</td>\n",
              "      <td>21</td>\n",
              "      <td>0</td>\n",
              "    </tr>\n",
              "    <tr>\n",
              "      <th>4</th>\n",
              "      <td>0</td>\n",
              "      <td>137.0</td>\n",
              "      <td>40.0</td>\n",
              "      <td>35.0</td>\n",
              "      <td>168.0</td>\n",
              "      <td>43.1</td>\n",
              "      <td>2.288</td>\n",
              "      <td>33</td>\n",
              "      <td>1</td>\n",
              "    </tr>\n",
              "  </tbody>\n",
              "</table>\n",
              "</div>\n",
              "    <div class=\"colab-df-buttons\">\n",
              "\n",
              "  <div class=\"colab-df-container\">\n",
              "    <button class=\"colab-df-convert\" onclick=\"convertToInteractive('df-732b2a4a-2ddc-46b0-bec8-473e23b837b4')\"\n",
              "            title=\"Convert this dataframe to an interactive table.\"\n",
              "            style=\"display:none;\">\n",
              "\n",
              "  <svg xmlns=\"http://www.w3.org/2000/svg\" height=\"24px\" viewBox=\"0 -960 960 960\">\n",
              "    <path d=\"M120-120v-720h720v720H120Zm60-500h600v-160H180v160Zm220 220h160v-160H400v160Zm0 220h160v-160H400v160ZM180-400h160v-160H180v160Zm440 0h160v-160H620v160ZM180-180h160v-160H180v160Zm440 0h160v-160H620v160Z\"/>\n",
              "  </svg>\n",
              "    </button>\n",
              "\n",
              "  <style>\n",
              "    .colab-df-container {\n",
              "      display:flex;\n",
              "      gap: 12px;\n",
              "    }\n",
              "\n",
              "    .colab-df-convert {\n",
              "      background-color: #E8F0FE;\n",
              "      border: none;\n",
              "      border-radius: 50%;\n",
              "      cursor: pointer;\n",
              "      display: none;\n",
              "      fill: #1967D2;\n",
              "      height: 32px;\n",
              "      padding: 0 0 0 0;\n",
              "      width: 32px;\n",
              "    }\n",
              "\n",
              "    .colab-df-convert:hover {\n",
              "      background-color: #E2EBFA;\n",
              "      box-shadow: 0px 1px 2px rgba(60, 64, 67, 0.3), 0px 1px 3px 1px rgba(60, 64, 67, 0.15);\n",
              "      fill: #174EA6;\n",
              "    }\n",
              "\n",
              "    .colab-df-buttons div {\n",
              "      margin-bottom: 4px;\n",
              "    }\n",
              "\n",
              "    [theme=dark] .colab-df-convert {\n",
              "      background-color: #3B4455;\n",
              "      fill: #D2E3FC;\n",
              "    }\n",
              "\n",
              "    [theme=dark] .colab-df-convert:hover {\n",
              "      background-color: #434B5C;\n",
              "      box-shadow: 0px 1px 3px 1px rgba(0, 0, 0, 0.15);\n",
              "      filter: drop-shadow(0px 1px 2px rgba(0, 0, 0, 0.3));\n",
              "      fill: #FFFFFF;\n",
              "    }\n",
              "  </style>\n",
              "\n",
              "    <script>\n",
              "      const buttonEl =\n",
              "        document.querySelector('#df-732b2a4a-2ddc-46b0-bec8-473e23b837b4 button.colab-df-convert');\n",
              "      buttonEl.style.display =\n",
              "        google.colab.kernel.accessAllowed ? 'block' : 'none';\n",
              "\n",
              "      async function convertToInteractive(key) {\n",
              "        const element = document.querySelector('#df-732b2a4a-2ddc-46b0-bec8-473e23b837b4');\n",
              "        const dataTable =\n",
              "          await google.colab.kernel.invokeFunction('convertToInteractive',\n",
              "                                                    [key], {});\n",
              "        if (!dataTable) return;\n",
              "\n",
              "        const docLinkHtml = 'Like what you see? Visit the ' +\n",
              "          '<a target=\"_blank\" href=https://colab.research.google.com/notebooks/data_table.ipynb>data table notebook</a>'\n",
              "          + ' to learn more about interactive tables.';\n",
              "        element.innerHTML = '';\n",
              "        dataTable['output_type'] = 'display_data';\n",
              "        await google.colab.output.renderOutput(dataTable, element);\n",
              "        const docLink = document.createElement('div');\n",
              "        docLink.innerHTML = docLinkHtml;\n",
              "        element.appendChild(docLink);\n",
              "      }\n",
              "    </script>\n",
              "  </div>\n",
              "\n",
              "\n",
              "    <div id=\"df-10a00822-612f-419d-aaf8-fc0d9d71e076\">\n",
              "      <button class=\"colab-df-quickchart\" onclick=\"quickchart('df-10a00822-612f-419d-aaf8-fc0d9d71e076')\"\n",
              "                title=\"Suggest charts\"\n",
              "                style=\"display:none;\">\n",
              "\n",
              "<svg xmlns=\"http://www.w3.org/2000/svg\" height=\"24px\"viewBox=\"0 0 24 24\"\n",
              "     width=\"24px\">\n",
              "    <g>\n",
              "        <path d=\"M19 3H5c-1.1 0-2 .9-2 2v14c0 1.1.9 2 2 2h14c1.1 0 2-.9 2-2V5c0-1.1-.9-2-2-2zM9 17H7v-7h2v7zm4 0h-2V7h2v10zm4 0h-2v-4h2v4z\"/>\n",
              "    </g>\n",
              "</svg>\n",
              "      </button>\n",
              "\n",
              "<style>\n",
              "  .colab-df-quickchart {\n",
              "      --bg-color: #E8F0FE;\n",
              "      --fill-color: #1967D2;\n",
              "      --hover-bg-color: #E2EBFA;\n",
              "      --hover-fill-color: #174EA6;\n",
              "      --disabled-fill-color: #AAA;\n",
              "      --disabled-bg-color: #DDD;\n",
              "  }\n",
              "\n",
              "  [theme=dark] .colab-df-quickchart {\n",
              "      --bg-color: #3B4455;\n",
              "      --fill-color: #D2E3FC;\n",
              "      --hover-bg-color: #434B5C;\n",
              "      --hover-fill-color: #FFFFFF;\n",
              "      --disabled-bg-color: #3B4455;\n",
              "      --disabled-fill-color: #666;\n",
              "  }\n",
              "\n",
              "  .colab-df-quickchart {\n",
              "    background-color: var(--bg-color);\n",
              "    border: none;\n",
              "    border-radius: 50%;\n",
              "    cursor: pointer;\n",
              "    display: none;\n",
              "    fill: var(--fill-color);\n",
              "    height: 32px;\n",
              "    padding: 0;\n",
              "    width: 32px;\n",
              "  }\n",
              "\n",
              "  .colab-df-quickchart:hover {\n",
              "    background-color: var(--hover-bg-color);\n",
              "    box-shadow: 0 1px 2px rgba(60, 64, 67, 0.3), 0 1px 3px 1px rgba(60, 64, 67, 0.15);\n",
              "    fill: var(--button-hover-fill-color);\n",
              "  }\n",
              "\n",
              "  .colab-df-quickchart-complete:disabled,\n",
              "  .colab-df-quickchart-complete:disabled:hover {\n",
              "    background-color: var(--disabled-bg-color);\n",
              "    fill: var(--disabled-fill-color);\n",
              "    box-shadow: none;\n",
              "  }\n",
              "\n",
              "  .colab-df-spinner {\n",
              "    border: 2px solid var(--fill-color);\n",
              "    border-color: transparent;\n",
              "    border-bottom-color: var(--fill-color);\n",
              "    animation:\n",
              "      spin 1s steps(1) infinite;\n",
              "  }\n",
              "\n",
              "  @keyframes spin {\n",
              "    0% {\n",
              "      border-color: transparent;\n",
              "      border-bottom-color: var(--fill-color);\n",
              "      border-left-color: var(--fill-color);\n",
              "    }\n",
              "    20% {\n",
              "      border-color: transparent;\n",
              "      border-left-color: var(--fill-color);\n",
              "      border-top-color: var(--fill-color);\n",
              "    }\n",
              "    30% {\n",
              "      border-color: transparent;\n",
              "      border-left-color: var(--fill-color);\n",
              "      border-top-color: var(--fill-color);\n",
              "      border-right-color: var(--fill-color);\n",
              "    }\n",
              "    40% {\n",
              "      border-color: transparent;\n",
              "      border-right-color: var(--fill-color);\n",
              "      border-top-color: var(--fill-color);\n",
              "    }\n",
              "    60% {\n",
              "      border-color: transparent;\n",
              "      border-right-color: var(--fill-color);\n",
              "    }\n",
              "    80% {\n",
              "      border-color: transparent;\n",
              "      border-right-color: var(--fill-color);\n",
              "      border-bottom-color: var(--fill-color);\n",
              "    }\n",
              "    90% {\n",
              "      border-color: transparent;\n",
              "      border-bottom-color: var(--fill-color);\n",
              "    }\n",
              "  }\n",
              "</style>\n",
              "\n",
              "      <script>\n",
              "        async function quickchart(key) {\n",
              "          const quickchartButtonEl =\n",
              "            document.querySelector('#' + key + ' button');\n",
              "          quickchartButtonEl.disabled = true;  // To prevent multiple clicks.\n",
              "          quickchartButtonEl.classList.add('colab-df-spinner');\n",
              "          try {\n",
              "            const charts = await google.colab.kernel.invokeFunction(\n",
              "                'suggestCharts', [key], {});\n",
              "          } catch (error) {\n",
              "            console.error('Error during call to suggestCharts:', error);\n",
              "          }\n",
              "          quickchartButtonEl.classList.remove('colab-df-spinner');\n",
              "          quickchartButtonEl.classList.add('colab-df-quickchart-complete');\n",
              "        }\n",
              "        (() => {\n",
              "          let quickchartButtonEl =\n",
              "            document.querySelector('#df-10a00822-612f-419d-aaf8-fc0d9d71e076 button');\n",
              "          quickchartButtonEl.style.display =\n",
              "            google.colab.kernel.accessAllowed ? 'block' : 'none';\n",
              "        })();\n",
              "      </script>\n",
              "    </div>\n",
              "\n",
              "    </div>\n",
              "  </div>\n"
            ],
            "application/vnd.google.colaboratory.intrinsic+json": {
              "type": "dataframe",
              "variable_name": "df",
              "summary": "{\n  \"name\": \"df\",\n  \"rows\": 768,\n  \"fields\": [\n    {\n      \"column\": \"Pregnancies\",\n      \"properties\": {\n        \"dtype\": \"number\",\n        \"std\": 3,\n        \"min\": 0,\n        \"max\": 17,\n        \"num_unique_values\": 17,\n        \"samples\": [\n          6,\n          1,\n          3\n        ],\n        \"semantic_type\": \"\",\n        \"description\": \"\"\n      }\n    },\n    {\n      \"column\": \"Glucose\",\n      \"properties\": {\n        \"dtype\": \"number\",\n        \"std\": 30.46416058912223,\n        \"min\": 44.0,\n        \"max\": 199.0,\n        \"num_unique_values\": 135,\n        \"samples\": [\n          135.0,\n          134.0,\n          86.0\n        ],\n        \"semantic_type\": \"\",\n        \"description\": \"\"\n      }\n    },\n    {\n      \"column\": \"BloodPressure\",\n      \"properties\": {\n        \"dtype\": \"number\",\n        \"std\": 12.10603911745372,\n        \"min\": 24.0,\n        \"max\": 122.0,\n        \"num_unique_values\": 47,\n        \"samples\": [\n          86.0,\n          46.0,\n          85.0\n        ],\n        \"semantic_type\": \"\",\n        \"description\": \"\"\n      }\n    },\n    {\n      \"column\": \"SkinThickness\",\n      \"properties\": {\n        \"dtype\": \"number\",\n        \"std\": 8.890819780938012,\n        \"min\": 7.0,\n        \"max\": 99.0,\n        \"num_unique_values\": 50,\n        \"samples\": [\n          15.0,\n          12.0,\n          28.0\n        ],\n        \"semantic_type\": \"\",\n        \"description\": \"\"\n      }\n    },\n    {\n      \"column\": \"Insulin\",\n      \"properties\": {\n        \"dtype\": \"number\",\n        \"std\": 89.10084663622659,\n        \"min\": 14.0,\n        \"max\": 846.0,\n        \"num_unique_values\": 187,\n        \"samples\": [\n          16.0,\n          271.0,\n          325.0\n        ],\n        \"semantic_type\": \"\",\n        \"description\": \"\"\n      }\n    },\n    {\n      \"column\": \"BMI\",\n      \"properties\": {\n        \"dtype\": \"number\",\n        \"std\": 6.880497796823625,\n        \"min\": 18.2,\n        \"max\": 67.1,\n        \"num_unique_values\": 247,\n        \"samples\": [\n          19.9,\n          31.0,\n          38.1\n        ],\n        \"semantic_type\": \"\",\n        \"description\": \"\"\n      }\n    },\n    {\n      \"column\": \"DiabetesPedigreeFunction\",\n      \"properties\": {\n        \"dtype\": \"number\",\n        \"std\": 0.33132859501277484,\n        \"min\": 0.078,\n        \"max\": 2.42,\n        \"num_unique_values\": 517,\n        \"samples\": [\n          1.731,\n          0.426,\n          0.138\n        ],\n        \"semantic_type\": \"\",\n        \"description\": \"\"\n      }\n    },\n    {\n      \"column\": \"Age\",\n      \"properties\": {\n        \"dtype\": \"number\",\n        \"std\": 11,\n        \"min\": 21,\n        \"max\": 81,\n        \"num_unique_values\": 52,\n        \"samples\": [\n          60,\n          47,\n          72\n        ],\n        \"semantic_type\": \"\",\n        \"description\": \"\"\n      }\n    },\n    {\n      \"column\": \"Outcome\",\n      \"properties\": {\n        \"dtype\": \"number\",\n        \"std\": 0,\n        \"min\": 0,\n        \"max\": 1,\n        \"num_unique_values\": 2,\n        \"samples\": [\n          0,\n          1\n        ],\n        \"semantic_type\": \"\",\n        \"description\": \"\"\n      }\n    }\n  ]\n}"
            }
          },
          "metadata": {},
          "execution_count": 345
        }
      ],
      "source": [
        "# Menampilkan 5 baris teratas dalam dataset\n",
        "df.head()"
      ]
    },
    {
      "cell_type": "markdown",
      "metadata": {
        "id": "nqBtGs4ynvPu"
      },
      "source": [
        "## Feature Selection\n",
        "\n",
        "**Insight**\n",
        "\n",
        "Pada bagian Feature Selection ini kami melakukan pemilihan fitur yang akan digunakan untuk pembuatan model berdasarkan korelasi antara fitur dengan outcome yang menjadi target. Kemudian kami memilih fitur yang korelasinya dengan outcome lebih dari 0.3, yaitu Glucose, Insulin, dan BMI."
      ]
    },
    {
      "cell_type": "code",
      "execution_count": null,
      "metadata": {
        "colab": {
          "base_uri": "https://localhost:8080/"
        },
        "id": "jJzhRN-S25xz",
        "outputId": "4b97cf06-648c-463e-8d6c-97f46118f84a"
      },
      "outputs": [
        {
          "output_type": "stream",
          "name": "stdout",
          "text": [
            "Dimensi X (fitur): (768, 8)\n",
            "Dimensi y (target): (768,)\n"
          ]
        }
      ],
      "source": [
        "# Menentukan X dan y\n",
        "X = df.drop(columns=['Outcome'])  # Menghapus kolom target\n",
        "y = df['Outcome']  # Kolom target yang ingin diprediksi\n",
        "\n",
        "# Menampilkan dimensi dataset\n",
        "print(\"Dimensi X (fitur):\", X.shape)\n",
        "print(\"Dimensi y (target):\", y.shape)"
      ]
    },
    {
      "cell_type": "markdown",
      "source": [
        "**Insight**\n",
        "\n",
        "Kode ini digunakan untuk menampilkan korelasi antara fitur numerik dengan variabel target (Outcome) dalam dataset menggunakan diagram batang (barplot) dari Seaborn."
      ],
      "metadata": {
        "id": "L937ogSA-FdS"
      }
    },
    {
      "cell_type": "code",
      "execution_count": null,
      "metadata": {
        "colab": {
          "base_uri": "https://localhost:8080/",
          "height": 495
        },
        "id": "KxOkFGyYDXOg",
        "outputId": "7450e7b1-1966-4863-c4c4-61feccc1afcf"
      },
      "outputs": [
        {
          "output_type": "stream",
          "name": "stderr",
          "text": [
            "<ipython-input-347-82244cfa282c>:11: FutureWarning:\n",
            "\n",
            "Series.__getitem__ treating keys as positions is deprecated. In a future version, integer keys will always be treated as labels (consistent with DataFrame behavior). To access a value by position, use `ser.iloc[pos]`\n",
            "\n"
          ]
        },
        {
          "output_type": "display_data",
          "data": {
            "text/plain": [
              "<Figure size 640x480 with 1 Axes>"
            ],
            "image/png": "[encoded data removed]"
          },
          "metadata": {}
        }
      ],
      "source": [
        "# Correlations\n",
        "limit = -1.0 #Menentukan batas korelasi (filter fitur berdasarkan nilai korelasi)\n",
        "\n",
        "data = df.corr()[\"Outcome\"].sort_values(ascending=False) #Menghitung korelasi seluruh fitur dengan Outcome\n",
        "indices = data.index # Menyimpan fitur dengan korelasi lebih besar dari limit\n",
        "labels = []\n",
        "corr = []\n",
        "for i in range(1, len(indices)):\n",
        "    if data[indices[i]]>limit:\n",
        "        labels.append(indices[i])\n",
        "        corr.append(data[i])\n",
        "sns.barplot(x=corr, y=labels) #Menampilkan diagram batang hubungan fitur dengan Outcome\n",
        "plt.title('Correlations with \"Outcome\"')\n",
        "plt.show()"
      ]
    },
    {
      "cell_type": "code",
      "execution_count": null,
      "metadata": {
        "colab": {
          "base_uri": "https://localhost:8080/"
        },
        "id": "6uUJLL4SJzP_",
        "outputId": "2742e140-854e-4c28-bafd-ffcf80723c90"
      },
      "outputs": [
        {
          "output_type": "stream",
          "name": "stdout",
          "text": [
            "Fitur terpilih berdasarkan korelasi (> 0.3): ['Glucose', 'Insulin', 'BMI']\n",
            "Dimensi dataset setelah seleksi: (768, 3)\n"
          ]
        }
      ],
      "source": [
        "# Hitung korelasi dengan Outcome\n",
        "data = df.corr()[\"Outcome\"].sort_values(ascending=False)\n",
        "\n",
        "# Tentukan threshold korelasi (misalnya, > 0.3)\n",
        "limit = 0.3\n",
        "\n",
        "# Pilih fitur berdasarkan threshold\n",
        "selected_features = data[abs(data) > limit].index.tolist()\n",
        "\n",
        "# Hilangkan 'Outcome' dari daftar fitur jika ada\n",
        "selected_features = [feature for feature in selected_features if feature != 'Outcome']\n",
        "\n",
        "# Tampilkan fitur yang dipilih\n",
        "print(\"Fitur terpilih berdasarkan korelasi (> 0.3):\", selected_features)\n",
        "\n",
        "# Buat dataset baru dengan fitur yang dipilih\n",
        "X_selected = df[selected_features]\n",
        "print(\"Dimensi dataset setelah seleksi:\", X_selected.shape)"
      ]
    },
    {
      "cell_type": "markdown",
      "metadata": {
        "id": "Up1P2faGWESi"
      },
      "source": [
        "### Normalisasi\n",
        "**Insight**\n",
        "\n",
        "Pada tahapan normalisasi data, kami menggunakan bantuan dari library scikit learn untuk melakukan normalisasi dengan StandardScaler. Proses ini penting untuk memastikan bahwa fitur-fitur dengan rentang nilai yang berbeda (misalnya, Glucose yang berkisar 0-199 dan BMI yang berkisar 0-67) tidak mendominasi model machine learning hanya karena perbedaan skala."
      ]
    },
    {
      "cell_type": "code",
      "execution_count": null,
      "metadata": {
        "colab": {
          "base_uri": "https://localhost:8080/"
        },
        "id": "NA04sOb1WBj2",
        "outputId": "d4532f2f-a9d2-4e21-c346-b84e3f15a7a7"
      },
      "outputs": [
        {
          "output_type": "stream",
          "name": "stdout",
          "text": [
            "Data setelah normalisasi (5 baris pertama):\n",
            "    Glucose   Insulin       BMI\n",
            "0  0.864625  0.311604  0.169483\n",
            "1 -1.204727 -0.440843 -0.848549\n",
            "2  2.014265  0.311604 -1.328478\n",
            "3 -1.073339 -0.536303 -0.630399\n",
            "4  0.503310  0.294758  1.551096\n",
            "\n",
            "Statistik setelah normalisasi:\n",
            "            Glucose       Insulin           BMI\n",
            "count  7.680000e+02  7.680000e+02  7.680000e+02\n",
            "mean   1.480297e-16 -3.469447e-18  1.318390e-16\n",
            "std    1.000652e+00  1.000652e+00  1.000652e+00\n",
            "min   -2.551447e+00 -1.434747e+00 -2.070186e+00\n",
            "25%   -7.202356e-01 -4.408430e-01 -7.176590e-01\n",
            "50%   -1.536274e-01 -4.408430e-01 -5.593870e-02\n",
            "75%    6.100618e-01  3.116039e-01  6.057816e-01\n",
            "max    2.539814e+00  7.909072e+00  5.041489e+00\n"
          ]
        }
      ],
      "source": [
        "# Import library untuk normalisasi\n",
        "from sklearn.preprocessing import StandardScaler\n",
        "\n",
        "# Dataset hasil seleksi fitur (dari kode sebelumnya)\n",
        "X_selected = X[selected_features]\n",
        "\n",
        "# Inisialisasi StandardScaler\n",
        "scaler = StandardScaler()\n",
        "\n",
        "# Lakukan normalisasi pada data yang sudah dipilih\n",
        "X_normalized = scaler.fit_transform(X_selected)\n",
        "\n",
        "# Konversi kembali ke DataFrame untuk memudahkan analisis (opsional)\n",
        "X_normalized_df = pd.DataFrame(X_normalized, columns=selected_features)\n",
        "\n",
        "# Tampilkan beberapa baris data setelah normalisasi\n",
        "print(\"Data setelah normalisasi (5 baris pertama):\")\n",
        "print(X_normalized_df.head())\n",
        "\n",
        "# Tampilkan statistik dasar untuk memastikan normalisasi berhasil (mean ~ 0, std ~ 1)\n",
        "print(\"\\nStatistik setelah normalisasi:\")\n",
        "print(X_normalized_df.describe())"
      ]
    },
    {
      "cell_type": "markdown",
      "metadata": {
        "id": "bax96uvwkR22"
      },
      "source": [
        "## Pembuatan Model"
      ]
    },
    {
      "cell_type": "markdown",
      "metadata": {
        "id": "0MI5kvMWkoJ5"
      },
      "source": [
        "### Train-Test Split Data\n",
        "**Insight**\n",
        "\n",
        "Pada langkah pembuatan model di bagian Train-Test Split Data ini kami melakukan pembagian dataset menjadi 70% untuk data latih, dan 30% untuk data uji. Total data uji adalah 231 data dengan 3 fitur"
      ]
    },
    {
      "cell_type": "code",
      "execution_count": null,
      "metadata": {
        "colab": {
          "base_uri": "https://localhost:8080/"
        },
        "id": "KhNKhVEWkwsa",
        "outputId": "1619be5b-8654-4071-d5e7-d56100aa0c84"
      },
      "outputs": [
        {
          "output_type": "stream",
          "name": "stdout",
          "text": [
            "Dimensi data pelatihan: (537, 3)\n",
            "Dimensi data pengujian: (231, 3)\n"
          ]
        }
      ],
      "source": [
        "# Data yang sudah dinormalisasi\n",
        "X_normalized = scaler.fit_transform(X_selected)\n",
        "\n",
        "# Pisahkan data menjadi train dan test (70% train, 30% test)\n",
        "X_train, X_test, y_train, y_test = train_test_split(X_normalized, y, test_size=0.3, random_state=42)\n",
        "\n",
        "print(\"Dimensi data pelatihan:\", X_train.shape)\n",
        "print(\"Dimensi data pengujian:\", X_test.shape)"
      ]
    },
    {
      "cell_type": "markdown",
      "metadata": {
        "id": "M3BEgKM9lcOp"
      },
      "source": [
        "### Cross-Validation\n",
        "**Insight**\n",
        "\n",
        "Pada bagian cross-validation ini kami melakukan pemeriksaan awal performa dan keandalan model untuk memastikan model tidak hanya jago mengklasifikasikan satu jenis outcome."
      ]
    },
    {
      "cell_type": "code",
      "execution_count": null,
      "metadata": {
        "colab": {
          "base_uri": "https://localhost:8080/"
        },
        "id": "ZzTAmPAxpj31",
        "outputId": "7600524a-0195-4a48-ee7b-071878833531"
      },
      "outputs": [
        {
          "output_type": "stream",
          "name": "stdout",
          "text": [
            "Skor Cross Validation (5-Fold): [0.86111111 0.85185185 0.81308411 0.85046729 0.89719626]\n",
            "Rata-rata skor CV: 0.8547421253028731\n",
            "Standar deviasi skor CV: 0.026851203457994317\n"
          ]
        }
      ],
      "source": [
        "# Inisialisasi model\n",
        "model = RandomForestClassifier(n_estimators=100, random_state=42)\n",
        "\n",
        "# Lakukan 5-Fold Cross Validation pada data pelatihan\n",
        "cv_scores = cross_val_score(model, X_train, y_train, cv=5, scoring='accuracy')\n",
        "\n",
        "# Tampilkan hasil\n",
        "print(\"Skor Cross Validation (5-Fold):\", cv_scores)\n",
        "print(\"Rata-rata skor CV:\", cv_scores.mean())\n",
        "print(\"Standar deviasi skor CV:\", cv_scores.std())"
      ]
    },
    {
      "cell_type": "markdown",
      "metadata": {
        "id": "_xAnBkabkU85"
      },
      "source": [
        "### Random Forest\n",
        "**Insight**\n",
        "\n",
        "Pada bagian ini, kami membuat kode untuk pembuatan model random forest classifier dengan bantuan library Scikit-Learn. Setelah itu kami melakuakn  pengukuran metrik evaluasi dengan Accuracy, Precision, Recall, dan F1-Score."
      ]
    },
    {
      "cell_type": "code",
      "execution_count": null,
      "metadata": {
        "id": "BrnSPgQMsotH"
      },
      "outputs": [],
      "source": [
        "# define models and parameters\n",
        "model = RandomForestClassifier()\n",
        "n_estimators = [1800]\n",
        "max_features = [2, 3]"
      ]
    },
    {
      "cell_type": "code",
      "source": [
        "# define grid search\n",
        "grid = dict(n_estimators=n_estimators,max_features=max_features)\n",
        "cv = RepeatedStratifiedKFold(n_splits=10, n_repeats=3, random_state=1)\n",
        "grid_search = GridSearchCV(estimator=model, param_grid=grid, n_jobs=-1, cv=cv, scoring='accuracy',error_score=0)"
      ],
      "metadata": {
        "id": "rUzD4QN8V43P"
      },
      "execution_count": null,
      "outputs": []
    },
    {
      "cell_type": "code",
      "source": [
        "best_model = grid_search.fit(X_train, y_train)"
      ],
      "metadata": {
        "id": "402Y5DpuWqeA"
      },
      "execution_count": null,
      "outputs": []
    },
    {
      "cell_type": "code",
      "source": [
        "rf_pred=best_model.predict(X_test)"
      ],
      "metadata": {
        "id": "bm95JtNyWsgt"
      },
      "execution_count": null,
      "outputs": []
    },
    {
      "cell_type": "code",
      "execution_count": null,
      "metadata": {
        "colab": {
          "base_uri": "https://localhost:8080/",
          "height": 919
        },
        "id": "_-Dsud2ytObe",
        "outputId": "d875bca3-dc85-4d74-e5aa-fcfb9f90ec2a"
      },
      "outputs": [
        {
          "output_type": "stream",
          "name": "stdout",
          "text": [
            "Classification Report is:\n",
            "               precision    recall  f1-score   support\n",
            "\n",
            "           0       0.88      0.90      0.89       151\n",
            "           1       0.80      0.76      0.78        80\n",
            "\n",
            "    accuracy                           0.85       231\n",
            "   macro avg       0.84      0.83      0.84       231\n",
            "weighted avg       0.85      0.85      0.85       231\n",
            "\n",
            "\n",
            " F1:\n",
            " 0.782051282051282\n",
            "\n",
            " Precision score is:\n",
            " 0.8026315789473685\n",
            "\n",
            " Recall score is:\n",
            " 0.7625\n",
            "\n",
            " Confusion Matrix:\n",
            "\n",
            "\n",
            "Confusion Matrix:\n",
            "\n"
          ]
        },
        {
          "output_type": "display_data",
          "data": {
            "text/plain": [
              "<Figure size 640x480 with 2 Axes>"
            ],
            "image/png": "[encoded data removed]"
          },
          "metadata": {}
        }
      ],
      "source": [
        "print(\"Classification Report is:\\n\",classification_report(y_test,rf_pred))\n",
        "print(\"\\n F1:\\n\",f1_score(y_test,rf_pred)) # Changed knn_pred to rf_pred\n",
        "print(\"\\n Precision score is:\\n\",precision_score(y_test,rf_pred)) # Changed knn_pred to rf_pred\n",
        "print(\"\\n Recall score is:\\n\",recall_score(y_test,rf_pred)) # Changed knn_pred to rf_pred\n",
        "print(\"\\n Confusion Matrix:\\n\")\n",
        "\n",
        "# Tampilkan Confusion Matrix sebagai heatmap\n",
        "print(\"\\nConfusion Matrix:\\n\")\n",
        "cm = confusion_matrix(y_test, rf_pred)\n",
        "sns.heatmap(cm, annot=True, fmt='d', cmap='Blues')\n",
        "plt.title('Confusion Matrix Random Forest')\n",
        "plt.ylabel('True Label')\n",
        "plt.xlabel('Predicted Label')\n",
        "plt.show()"
      ]
    },
    {
      "cell_type": "markdown",
      "metadata": {
        "id": "tfYXEs7Nggo9"
      },
      "source": [
        "### Naive Bayes\n",
        "**Insight**\n",
        "\n",
        "Pada bagian ini, kami membuat kode untuk pembuatan model Naive Bayes dengan bantuan library Scikit-Learn. Setelah itu kami melakuakn  pengukuran metrik evaluasi dengan Accuracy, Precision, Recall, dan F1-Score."
      ]
    },
    {
      "cell_type": "code",
      "execution_count": null,
      "metadata": {
        "colab": {
          "base_uri": "https://localhost:8080/",
          "height": 803
        },
        "id": "-_uDy7QJDc8F",
        "outputId": "9a68b24f-7c93-49cf-b987-1ef68eb4d34f"
      },
      "outputs": [
        {
          "output_type": "stream",
          "name": "stdout",
          "text": [
            "Classification Report untuk Naive Bayes:\n",
            "              precision    recall  f1-score   support\n",
            "\n",
            "           0       0.78      0.84      0.81       151\n",
            "           1       0.65      0.56      0.60        80\n",
            "\n",
            "    accuracy                           0.74       231\n",
            "   macro avg       0.72      0.70      0.71       231\n",
            "weighted avg       0.74      0.74      0.74       231\n",
            "\n",
            "\n",
            "F1 Score:\n",
            "0.6040268456375839\n",
            "\n",
            "Precision Score:\n",
            "0.6521739130434783\n",
            "\n",
            "Recall Score:\n",
            "0.5625\n",
            "\n",
            "Confusion Matrix:\n",
            "\n"
          ]
        },
        {
          "output_type": "display_data",
          "data": {
            "text/plain": [
              "<Figure size 600x400 with 2 Axes>"
            ],
            "image/png": "[encoded data removed]"
          },
          "metadata": {}
        }
      ],
      "source": [
        "# Inisialisasi model Naive Bayes (GaussianNB)\n",
        "nb_model = GaussianNB()\n",
        "\n",
        "# Latih model dengan data pelatihan\n",
        "nb_model.fit(X_train, y_train)\n",
        "\n",
        "# Lakukan prediksi pada data pengujian\n",
        "nb_pred = nb_model.predict(X_test)\n",
        "\n",
        "# Evaluasi model\n",
        "print(\"Classification Report untuk Naive Bayes:\")\n",
        "print(classification_report(y_test, nb_pred))\n",
        "print(\"\\nF1 Score:\")\n",
        "print(f1_score(y_test, nb_pred))\n",
        "print(\"\\nPrecision Score:\")\n",
        "print(precision_score(y_test, nb_pred))\n",
        "print(\"\\nRecall Score:\")\n",
        "print(recall_score(y_test, nb_pred))\n",
        "print(\"\\nConfusion Matrix:\\n\")\n",
        "\n",
        "# Visualisasi Confusion Matrix\n",
        "plt.figure(figsize=(6, 4))\n",
        "sns.heatmap(confusion_matrix(y_test, nb_pred), annot=True, fmt='d', cmap='Blues')\n",
        "plt.title('Confusion Matrix untuk Naive Bayes')\n",
        "plt.ylabel('True Label')\n",
        "plt.xlabel('Predicted Label')\n",
        "plt.show()"
      ]
    },
    {
      "cell_type": "markdown",
      "metadata": {
        "id": "Z1KoUFvl3UO3"
      },
      "source": [
        "### J48 Decision Tree\n",
        "\n",
        "**Insight**\n",
        "\n",
        "Pada bagian ini, kami membuat kode untuk pembuatan model J48 Decision Tree dengan bantuan library Scikit-Learn. Setelah itu kami melakuakn  pengukuran metrik evaluasi dengan Accuracy, Precision, Recall, dan F1-Score."
      ]
    },
    {
      "cell_type": "code",
      "execution_count": null,
      "metadata": {
        "colab": {
          "base_uri": "https://localhost:8080/",
          "height": 803
        },
        "id": "WfsptDh13TlT",
        "outputId": "3f0b22f6-aa0c-4eed-dcc0-54214cc40de2"
      },
      "outputs": [
        {
          "output_type": "stream",
          "name": "stdout",
          "text": [
            "Classification Report untuk J48 Decision Tree:\n",
            "              precision    recall  f1-score   support\n",
            "\n",
            "           0       0.88      0.89      0.89       151\n",
            "           1       0.79      0.76      0.78        80\n",
            "\n",
            "    accuracy                           0.85       231\n",
            "   macro avg       0.83      0.83      0.83       231\n",
            "weighted avg       0.85      0.85      0.85       231\n",
            "\n",
            "\n",
            "F1 Score:\n",
            "0.7770700636942676\n",
            "\n",
            "Precision Score:\n",
            "0.7922077922077922\n",
            "\n",
            "Recall Score:\n",
            "0.7625\n",
            "\n",
            "Confusion Matrix:\n",
            "\n"
          ]
        },
        {
          "output_type": "display_data",
          "data": {
            "text/plain": [
              "<Figure size 600x400 with 2 Axes>"
            ],
            "image/png": "[encoded data removed]"
          },
          "metadata": {}
        }
      ],
      "source": [
        "# Inisialisasi model Decision Tree (J48 / C4.5)\n",
        "j48_model = DecisionTreeClassifier(criterion='entropy')  # Menggunakan 'entropy' untuk mirip dengan J48\n",
        "\n",
        "# Latih model dengan data pelatihan\n",
        "j48_model.fit(X_train, y_train)\n",
        "\n",
        "# Lakukan prediksi pada data pengujian\n",
        "j48_pred = j48_model.predict(X_test)\n",
        "\n",
        "# Evaluasi model\n",
        "print(\"Classification Report untuk J48 Decision Tree:\")\n",
        "print(classification_report(y_test, j48_pred))\n",
        "print(\"\\nF1 Score:\")\n",
        "print(f1_score(y_test, j48_pred))\n",
        "print(\"\\nPrecision Score:\")\n",
        "print(precision_score(y_test, j48_pred))\n",
        "print(\"\\nRecall Score:\")\n",
        "print(recall_score(y_test, j48_pred))\n",
        "print(\"\\nConfusion Matrix:\\n\")\n",
        "\n",
        "# Visualisasi Confusion Matrix\n",
        "plt.figure(figsize=(6, 4))\n",
        "sns.heatmap(confusion_matrix(y_test, j48_pred), annot=True, fmt='d', cmap='Blues')\n",
        "plt.title('Confusion Matrix untuk J48 Decision Tree')\n",
        "plt.ylabel('True Label')\n",
        "plt.xlabel('Predicted Label')\n",
        "plt.show()\n"
      ]
    },
    {
      "cell_type": "markdown",
      "metadata": {
        "id": "yvvZmlhRZgz6"
      },
      "source": [
        "## Hasil dan Analisis\n",
        "\n",
        "**Insight**\n",
        "\n",
        "Untuk bagian ini kami menampilkan ROC Curve yang merupakan kurva yang bisa mengevaluasi kemampuan model dalam membedakan kelas.\n",
        "- Random Forest adalah model terbaik dalam membedakan diabetes dan non-diabetes (AUC tertinggi).\n",
        "- Naive Bayes memiliki performa terendah (AUC terendah).\n",
        "- J48 Decision Tree berada di tengah, lebih baik dari Naive Bayes tetapi kalah dari Random Forest."
      ]
    },
    {
      "cell_type": "code",
      "execution_count": 363,
      "metadata": {
        "colab": {
          "base_uri": "https://localhost:8080/",
          "height": 564
        },
        "id": "Aq_CQbc4aKjT",
        "outputId": "ab29a09d-807b-4a16-9680-11c33b409901"
      },
      "outputs": [
        {
          "output_type": "display_data",
          "data": {
            "text/plain": [
              "<Figure size 800x600 with 1 Axes>"
            ],
            "image/png": "[encoded data removed]"
          },
          "metadata": {}
        }
      ],
      "source": [
        "# Pastikan model Random Forest (best_model) sudah dilatih dan X_test, y_test tersedia\n",
        "# Menghitung probabilitas prediksi untuk kelas positif pada Random Forest\n",
        "y_probs_rf = best_model.predict_proba(X_test)[:, 1]\n",
        "\n",
        "# Menghitung ROC Curve untuk Random Forest\n",
        "fpr_rf, tpr_rf, _ = roc_curve(y_test, y_probs_rf)\n",
        "auc_score_rf = auc(fpr_rf, tpr_rf)\n",
        "\n",
        "# Melatih model Naive Bayes\n",
        "nb_model = GaussianNB()\n",
        "nb_model.fit(X_train, y_train)\n",
        "\n",
        "# Menghitung probabilitas prediksi untuk kelas positif pada Naive Bayes\n",
        "y_probs_nb = nb_model.predict_proba(X_test)[:, 1]\n",
        "\n",
        "# Menghitung ROC Curve untuk Naive Bayes\n",
        "fpr_nb, tpr_nb, _ = roc_curve(y_test, y_probs_nb)\n",
        "auc_score_nb = auc(fpr_nb, tpr_nb)\n",
        "\n",
        "# Inisialisasi dan melatih model J48 Decision Tree\n",
        "j48_model = DecisionTreeClassifier(criterion='entropy')  # Menggunakan 'entropy' untuk J48\n",
        "j48_model.fit(X_train, y_train)\n",
        "\n",
        "# Menghitung probabilitas prediksi untuk kelas positif pada J48 Decision Tree\n",
        "y_probs_j48 = j48_model.predict_proba(X_test)[:, 1]\n",
        "\n",
        "# Menghitung ROC Curve untuk J48 Decision Tree\n",
        "fpr_j48, tpr_j48, _ = roc_curve(y_test, y_probs_j48)\n",
        "auc_score_j48 = auc(fpr_j48, tpr_j48)\n",
        "\n",
        "# Plot ROC Curve untuk ketiga model\n",
        "plt.figure(figsize=(8, 6))\n",
        "plt.plot(fpr_rf, tpr_rf, label=f\"Random Forest (AUC = {auc_score_rf:.2f})\", color='blue')\n",
        "plt.plot(fpr_nb, tpr_nb, label=f\"Naive Bayes (AUC = {auc_score_nb:.2f})\", color='red')\n",
        "plt.plot(fpr_j48, tpr_j48, label=f\"J48 Decision Tree (AUC = {auc_score_j48:.2f})\", color='green')\n",
        "plt.plot([0, 1], [0, 1], linestyle=\"--\", color='gray')  # Garis diagonal sebagai referensi\n",
        "plt.xlabel(\"False Positive Rate\")\n",
        "plt.ylabel(\"True Positive Rate\")\n",
        "plt.title(\"ROC Curve - Random Forest, Naive Bayes, & J48 Decision Tree\")\n",
        "plt.legend()\n",
        "plt.show()"
      ]
    },
    {
      "cell_type": "code",
      "source": [],
      "metadata": {
        "id": "So2QDyywZYYG"
      },
      "execution_count": null,
      "outputs": []
    }
  ],
  "metadata": {
    "colab": {
      "provenance": []
    },
    "kernelspec": {
      "display_name": "Python 3",
      "name": "python3"
    },
    "language_info": {
      "name": "python"
    }
  },
  "nbformat": 4,
  "nbformat_minor": 0
}